{
  "cells": [
    {
      "cell_type": "markdown",
      "metadata": {
        "id": "view-in-github",
        "colab_type": "text"
      },
      "source": [
        "<a href=\"https://colab.research.google.com/github/DineshJoshi2/Hydrological-Residual-Error-Modelling/blob/main/GDM_GRU_for_3_Year_Training_and_3_year_testing_Data_(HYDROLOGICAL_RESIDUAL_ERROR_MODELLING).ipynb\" target=\"_parent\"><img src=\"https://colab.research.google.com/assets/colab-badge.svg\" alt=\"Open In Colab\"/></a>"
      ]
    },
    {
      "cell_type": "code",
      "execution_count": null,
      "metadata": {
        "id": "7jeFx63m0udd"
      },
      "outputs": [],
      "source": [
        "#For reproducibility of the code\n",
        "import os\n",
        "os.environ[\"PYTHONHASHSEED\"] = \"0\"\n",
        "import numpy as np\n",
        "import random as rn\n",
        "import tensorflow as tf\n",
        "# setting the seed for numpy generated random numbers\n",
        "np.random.seed(73)\n",
        "# setting the seed for python random number\n",
        "rn.seed(723)\n",
        "# setting the seed for tensorflow random number\n",
        "tf.random.set_seed(1)"
      ]
    },
    {
      "cell_type": "code",
      "execution_count": null,
      "metadata": {
        "id": "Zqf4nN2tgm-S"
      },
      "outputs": [],
      "source": [
        "# importing necessary libraries\n",
        "import pandas as pd\n",
        "from keras.models import Sequential\n",
        "from keras.layers import Dense\n",
        "from keras.layers import LSTM\n",
        "from keras import optimizers\n",
        "from tensorflow.keras.layers import Dropout\n",
        "from tensorflow.keras.constraints import MaxNorm\n",
        "from sklearn.model_selection import GridSearchCV\n"
      ]
    },
    {
      "cell_type": "markdown",
      "metadata": {
        "id": "gt8EEw3mkzbL"
      },
      "source": []
    },
    {
      "cell_type": "code",
      "execution_count": null,
      "metadata": {
        "id": "KoiJ8o9Ap-C8"
      },
      "outputs": [],
      "source": [
        "# importing data sets\n",
        "df= pd.read_csv(\"/content/drive/MyDrive/Data/FourYearResidualErrorModelling.csv\")\n",
        "df=df[365:].reset_index(drop=True)"
      ]
    },
    {
      "cell_type": "code",
      "execution_count": null,
      "metadata": {
        "id": "1ui5zm0okbdD"
      },
      "outputs": [],
      "source": [
        "# Retriving the necessary columns from the datasets.\n",
        " df=df[['Temperature (Deg C)', 'Precipitation (mm)',\n",
        "       'Precipitation0816 (mm)', 'Temperature0816 (Deg C)', 'Residual Error']]"
      ]
    },
    {
      "cell_type": "markdown",
      "metadata": {
        "id": "xMrLOJN6lNvg"
      },
      "source": []
    },
    {
      "cell_type": "code",
      "execution_count": null,
      "metadata": {
        "id": "gD9i34wfhLQq"
      },
      "outputs": [],
      "source": [
        "# Importing necessary libraries\n",
        "from sklearn.preprocessing import MinMaxScaler\n",
        "from sklearn.preprocessing import LabelEncoder\n",
        "from sklearn.metrics import mean_squared_error"
      ]
    },
    {
      "cell_type": "code",
      "execution_count": null,
      "metadata": {
        "id": "2GMJoi4mhMd4"
      },
      "outputs": [],
      "source": [
        "# extrating the vaules from the data frame\n",
        "values = df.values\n",
        "values\n",
        "# change all datatype to float\n",
        "values = values.astype('float32')"
      ]
    },
    {
      "cell_type": "code",
      "execution_count": null,
      "metadata": {
        "id": "5apZQ8eFhShR"
      },
      "outputs": [],
      "source": [
        "# normalization all features\n",
        "scaler = MinMaxScaler(feature_range=(0, 1))\n",
        "scaled = scaler.fit_transform(values)"
      ]
    },
    {
      "cell_type": "code",
      "execution_count": null,
      "metadata": {
        "id": "WcCjEAWqhTwl"
      },
      "outputs": [],
      "source": [
        "#converting the data into 3D array\n",
        "l=[]\n",
        "for i in range(len(df)-365):\n",
        "    l.append(scaled[i:366+i,:])\n",
        "Data=np.array(l)"
      ]
    },
    {
      "cell_type": "code",
      "execution_count": null,
      "metadata": {
        "colab": {
          "base_uri": "https://localhost:8080/"
        },
        "id": "oRfhHZv3_BkD",
        "outputId": "c9d9394f-6a95-4943-af19-05fa860a049d"
      },
      "outputs": [
        {
          "output_type": "execute_result",
          "data": {
            "text/plain": [
              "(2192, 366, 5)"
            ]
          },
          "metadata": {},
          "execution_count": 16
        }
      ],
      "source": [
        "# checking the shape of the data\n",
        "Data.shape"
      ]
    },
    {
      "cell_type": "code",
      "execution_count": null,
      "metadata": {
        "id": "eDZtStCWg91W"
      },
      "outputs": [],
      "source": [
        "# Test and Train data\n",
        "X=Data[:,:,:-1]\n",
        "y=Data[:,-1,-1]\n",
        "from sklearn.model_selection import train_test_split\n",
        "X_train, X_test, y_train, y_test = train_test_split(X, y, test_size=0.50, shuffle =False)\n"
      ]
    },
    {
      "cell_type": "code",
      "execution_count": null,
      "metadata": {
        "colab": {
          "base_uri": "https://localhost:8080/"
        },
        "id": "uvcqf1EUxBNG",
        "outputId": "36c55ffb-55e9-468c-b149-d68363f68ef8"
      },
      "outputs": [
        {
          "output_type": "stream",
          "name": "stdout",
          "text": [
            "(1096, 366, 4)\n",
            "(1096, 366, 4)\n",
            "(1096,)\n",
            "(1096,)\n"
          ]
        }
      ],
      "source": [
        "# Checking Shape of test and Training Data\n",
        "print(X_train.shape)\n",
        "print(X_test.shape)\n",
        "print(y_train.shape)\n",
        "print(y_test.shape)"
      ]
    },
    {
      "cell_type": "code",
      "execution_count": null,
      "metadata": {
        "id": "fFl6fXJX2OQv"
      },
      "outputs": [],
      "source": [
        "# Useful functions to undo normalization later\n",
        "def inv_yhat(yhat):\n",
        "  yhat=[i[0] for i in yhat]\n",
        "  A=np.zeros((len(yhat),5))\n",
        "  A[:,0]=yhat\n",
        "  A[:,1]=yhat\n",
        "  A[:,2]=yhat\n",
        "  A[:,3]=yhat\n",
        "  A[:,4]=yhat\n",
        "  inv_yhat= scaler.inverse_transform(A)\n",
        "  inv_yhat = [i[-1] for i in inv_yhat]\n",
        "  return inv_yhat\n",
        "def inv_y(y):\n",
        "  A=np.zeros((len(y),5))\n",
        "  A[:,0]=y\n",
        "  A[:,1]=y\n",
        "  A[:,2]=y\n",
        "  A[:,3]=y\n",
        "  A[:,4]=y\n",
        "  inv_y= scaler.inverse_transform(A)\n",
        "  inv_y = [i[-1] for i in inv_y]\n",
        "  return inv_y"
      ]
    },
    {
      "cell_type": "code",
      "execution_count": null,
      "metadata": {
        "id": "onOtGzrYhldO"
      },
      "outputs": [],
      "source": [
        "# Import necessary libraries\n",
        "from keras.models import Sequential\n",
        "from keras.layers import Dense\n",
        "from keras.layers import LSTM\n",
        "from keras.layers import GRU\n",
        "from keras import optimizers\n",
        "from tensorflow.keras.layers import Dropout\n",
        "from tensorflow.keras.constraints import MaxNorm\n",
        "from sklearn.model_selection import GridSearchCV"
      ]
    },
    {
      "cell_type": "markdown",
      "metadata": {
        "id": "vOQF1nmHZ1fi"
      },
      "source": []
    },
    {
      "cell_type": "code",
      "execution_count": null,
      "metadata": {
        "id": "UI5kb2CsvxmQ"
      },
      "outputs": [],
      "source": [
        "# Defining model parameters\n",
        "epochs=1000\n",
        "learning_rate1 = 0.01\n",
        "decay_rate = (learning_rate1*128)/epochs"
      ]
    },
    {
      "cell_type": "code",
      "execution_count": null,
      "metadata": {
        "id": "5-sAZbvHvchk"
      },
      "outputs": [],
      "source": [
        "# For reproducibility of the code\n",
        "import os\n",
        "os.environ[\"PYTHONHASHSEED\"] = \"0\"\n",
        "import numpy as np\n",
        "import random as rn\n",
        "import tensorflow as tf\n",
        "# setting the seed for numpy generated random numbers\n",
        "np.random.seed(73)\n",
        "# setting the seed for python random number\n",
        "rn.seed(723)\n",
        "# setting the seed for tensorflow random number\n",
        "tf.random.set_seed(1)"
      ]
    },
    {
      "cell_type": "code",
      "execution_count": null,
      "metadata": {
        "id": "HCuS4o7rNOeT"
      },
      "outputs": [],
      "source": [
        "# Building the Main Model\n",
        "model = Sequential()\n",
        "model.add(GRU(254,return_sequences=False,dropout=0.4,input_shape=(X_train.shape[1], X_train.shape[2]))) # main model\n",
        "model.add(Dense(1))\n",
        "Adam=tf.keras.optimizers.Adam(learning_rate = learning_rate1, beta_1 = 0.9, beta_2 = 0.999, amsgrad = False)\n",
        "model.compile(loss=\"mae\", optimizer=Adam, metrics=[tf.keras.metrics.MeanAbsoluteError()])"
      ]
    },
    {
      "cell_type": "code",
      "execution_count": null,
      "metadata": {
        "id": "3xpK7Bb2VYiK"
      },
      "outputs": [],
      "source": [
        "#Add Callbacks, e.g. ModelCheckpoints, earlystopping, csvlogger.\n",
        "from keras.callbacks import ModelCheckpoint, EarlyStopping, CSVLogger,LearningRateScheduler\n",
        "\n",
        "#ModelCheckpoint callback saves a model at some interval.\n",
        "filepath=\"saved_models/weights-improvement-{epoch:02d}-{val_acc:.2f}.hdf5\" #File name includes epoch and validation accuracy.\n",
        "#Use Mode = max for accuracy and min for loss.\n",
        "checkpoint = ModelCheckpoint(filepath, monitor='val_acc', verbose=1, save_best_only=True, mode='max')\n",
        "\n",
        "#https://www.tensorflow.org/api_docs/python/tf/keras/callbacks/EarlyStopping\n",
        "early_stop = EarlyStopping(monitor='val_loss',min_delta=0.0001, patience= 100,verbose=1,restore_best_weights=True)\n",
        "#This callback will stop the training when there is no improvement in\n",
        "# the validation loss for three consecutive epochs.\n",
        "\n",
        "#CSVLogger logs epoch, acc, loss, val_acc, val_loss\n",
        "log_csv = CSVLogger(\"/content/drive/MyDrive/Data/LSTMlogs.csv\", separator=',', append=False)\n",
        "\n",
        "#learning rate decay\n",
        "def exp_decay(epoch):\n",
        "  lrate = learning_rate1 * np.exp(-decay_rate*epoch)\n",
        "  return lrate\n",
        "\n",
        "# learning schedule callback\n",
        "lr_rate = LearningRateScheduler(exp_decay)\n",
        "\n",
        "callbacks_list = [early_stop]"
      ]
    },
    {
      "cell_type": "code",
      "execution_count": null,
      "metadata": {
        "colab": {
          "base_uri": "https://localhost:8080/"
        },
        "id": "VoQmBVag3cHx",
        "outputId": "1b470365-dd6b-4aa3-f60a-01690052977c"
      },
      "outputs": [
        {
          "output_type": "stream",
          "name": "stdout",
          "text": [
            "Epoch 1/1000\n",
            "1/1 - 10s - loss: 0.2845 - mean_absolute_error: 0.2845 - val_loss: 1.2940 - val_mean_absolute_error: 1.2940 - 10s/epoch - 10s/step\n",
            "Epoch 2/1000\n",
            "1/1 - 0s - loss: 1.3743 - mean_absolute_error: 1.3743 - val_loss: 0.1311 - val_mean_absolute_error: 0.1311 - 310ms/epoch - 310ms/step\n",
            "Epoch 3/1000\n",
            "1/1 - 0s - loss: 0.2025 - mean_absolute_error: 0.2025 - val_loss: 0.3421 - val_mean_absolute_error: 0.3421 - 420ms/epoch - 420ms/step\n",
            "Epoch 4/1000\n",
            "1/1 - 0s - loss: 0.3319 - mean_absolute_error: 0.3319 - val_loss: 0.2743 - val_mean_absolute_error: 0.2743 - 331ms/epoch - 331ms/step\n",
            "Epoch 5/1000\n",
            "1/1 - 0s - loss: 0.2674 - mean_absolute_error: 0.2674 - val_loss: 0.1471 - val_mean_absolute_error: 0.1471 - 339ms/epoch - 339ms/step\n",
            "Epoch 6/1000\n",
            "1/1 - 0s - loss: 0.1834 - mean_absolute_error: 0.1834 - val_loss: 0.1071 - val_mean_absolute_error: 0.1071 - 417ms/epoch - 417ms/step\n",
            "Epoch 7/1000\n",
            "1/1 - 0s - loss: 0.1603 - mean_absolute_error: 0.1603 - val_loss: 0.1364 - val_mean_absolute_error: 0.1364 - 378ms/epoch - 378ms/step\n",
            "Epoch 8/1000\n",
            "1/1 - 0s - loss: 0.1758 - mean_absolute_error: 0.1758 - val_loss: 0.1166 - val_mean_absolute_error: 0.1166 - 401ms/epoch - 401ms/step\n",
            "Epoch 9/1000\n",
            "1/1 - 0s - loss: 0.1483 - mean_absolute_error: 0.1483 - val_loss: 0.0961 - val_mean_absolute_error: 0.0961 - 411ms/epoch - 411ms/step\n",
            "Epoch 10/1000\n",
            "1/1 - 0s - loss: 0.1127 - mean_absolute_error: 0.1127 - val_loss: 0.1195 - val_mean_absolute_error: 0.1195 - 357ms/epoch - 357ms/step\n",
            "Epoch 11/1000\n",
            "1/1 - 0s - loss: 0.1088 - mean_absolute_error: 0.1088 - val_loss: 0.1412 - val_mean_absolute_error: 0.1412 - 359ms/epoch - 359ms/step\n",
            "Epoch 12/1000\n",
            "1/1 - 0s - loss: 0.1198 - mean_absolute_error: 0.1198 - val_loss: 0.1274 - val_mean_absolute_error: 0.1274 - 409ms/epoch - 409ms/step\n",
            "Epoch 13/1000\n",
            "1/1 - 0s - loss: 0.1075 - mean_absolute_error: 0.1075 - val_loss: 0.0958 - val_mean_absolute_error: 0.0958 - 318ms/epoch - 318ms/step\n",
            "Epoch 14/1000\n",
            "1/1 - 0s - loss: 0.0820 - mean_absolute_error: 0.0820 - val_loss: 0.0791 - val_mean_absolute_error: 0.0791 - 323ms/epoch - 323ms/step\n",
            "Epoch 15/1000\n",
            "1/1 - 0s - loss: 0.0779 - mean_absolute_error: 0.0779 - val_loss: 0.0788 - val_mean_absolute_error: 0.0788 - 391ms/epoch - 391ms/step\n",
            "Epoch 16/1000\n",
            "1/1 - 0s - loss: 0.0845 - mean_absolute_error: 0.0845 - val_loss: 0.0764 - val_mean_absolute_error: 0.0764 - 393ms/epoch - 393ms/step\n",
            "Epoch 17/1000\n",
            "1/1 - 0s - loss: 0.0839 - mean_absolute_error: 0.0839 - val_loss: 0.0707 - val_mean_absolute_error: 0.0707 - 330ms/epoch - 330ms/step\n",
            "Epoch 18/1000\n",
            "1/1 - 0s - loss: 0.0682 - mean_absolute_error: 0.0682 - val_loss: 0.0743 - val_mean_absolute_error: 0.0743 - 380ms/epoch - 380ms/step\n",
            "Epoch 19/1000\n",
            "1/1 - 0s - loss: 0.0604 - mean_absolute_error: 0.0604 - val_loss: 0.0865 - val_mean_absolute_error: 0.0865 - 369ms/epoch - 369ms/step\n",
            "Epoch 20/1000\n",
            "1/1 - 0s - loss: 0.0635 - mean_absolute_error: 0.0635 - val_loss: 0.0893 - val_mean_absolute_error: 0.0893 - 308ms/epoch - 308ms/step\n",
            "Epoch 21/1000\n",
            "1/1 - 0s - loss: 0.0645 - mean_absolute_error: 0.0645 - val_loss: 0.0779 - val_mean_absolute_error: 0.0779 - 346ms/epoch - 346ms/step\n",
            "Epoch 22/1000\n",
            "1/1 - 0s - loss: 0.0567 - mean_absolute_error: 0.0567 - val_loss: 0.0629 - val_mean_absolute_error: 0.0629 - 401ms/epoch - 401ms/step\n",
            "Epoch 23/1000\n",
            "1/1 - 0s - loss: 0.0511 - mean_absolute_error: 0.0511 - val_loss: 0.0595 - val_mean_absolute_error: 0.0595 - 314ms/epoch - 314ms/step\n",
            "Epoch 24/1000\n",
            "1/1 - 0s - loss: 0.0546 - mean_absolute_error: 0.0546 - val_loss: 0.0595 - val_mean_absolute_error: 0.0595 - 377ms/epoch - 377ms/step\n",
            "Epoch 25/1000\n",
            "1/1 - 0s - loss: 0.0539 - mean_absolute_error: 0.0539 - val_loss: 0.0587 - val_mean_absolute_error: 0.0587 - 317ms/epoch - 317ms/step\n",
            "Epoch 26/1000\n",
            "1/1 - 0s - loss: 0.0455 - mean_absolute_error: 0.0455 - val_loss: 0.0694 - val_mean_absolute_error: 0.0694 - 320ms/epoch - 320ms/step\n",
            "Epoch 27/1000\n",
            "1/1 - 0s - loss: 0.0505 - mean_absolute_error: 0.0505 - val_loss: 0.0713 - val_mean_absolute_error: 0.0713 - 352ms/epoch - 352ms/step\n",
            "Epoch 28/1000\n",
            "1/1 - 0s - loss: 0.0517 - mean_absolute_error: 0.0517 - val_loss: 0.0606 - val_mean_absolute_error: 0.0606 - 392ms/epoch - 392ms/step\n",
            "Epoch 29/1000\n",
            "1/1 - 0s - loss: 0.0450 - mean_absolute_error: 0.0450 - val_loss: 0.0601 - val_mean_absolute_error: 0.0601 - 378ms/epoch - 378ms/step\n",
            "Epoch 30/1000\n",
            "1/1 - 0s - loss: 0.0488 - mean_absolute_error: 0.0488 - val_loss: 0.0615 - val_mean_absolute_error: 0.0615 - 378ms/epoch - 378ms/step\n",
            "Epoch 31/1000\n",
            "1/1 - 0s - loss: 0.0489 - mean_absolute_error: 0.0489 - val_loss: 0.0591 - val_mean_absolute_error: 0.0591 - 383ms/epoch - 383ms/step\n",
            "Epoch 32/1000\n",
            "1/1 - 0s - loss: 0.0443 - mean_absolute_error: 0.0443 - val_loss: 0.0645 - val_mean_absolute_error: 0.0645 - 314ms/epoch - 314ms/step\n",
            "Epoch 33/1000\n",
            "1/1 - 0s - loss: 0.0471 - mean_absolute_error: 0.0471 - val_loss: 0.0646 - val_mean_absolute_error: 0.0646 - 399ms/epoch - 399ms/step\n",
            "Epoch 34/1000\n",
            "1/1 - 0s - loss: 0.0465 - mean_absolute_error: 0.0465 - val_loss: 0.0592 - val_mean_absolute_error: 0.0592 - 336ms/epoch - 336ms/step\n",
            "Epoch 35/1000\n",
            "1/1 - 0s - loss: 0.0425 - mean_absolute_error: 0.0425 - val_loss: 0.0597 - val_mean_absolute_error: 0.0597 - 381ms/epoch - 381ms/step\n",
            "Epoch 36/1000\n",
            "1/1 - 0s - loss: 0.0453 - mean_absolute_error: 0.0453 - val_loss: 0.0590 - val_mean_absolute_error: 0.0590 - 321ms/epoch - 321ms/step\n",
            "Epoch 37/1000\n",
            "1/1 - 0s - loss: 0.0448 - mean_absolute_error: 0.0448 - val_loss: 0.0590 - val_mean_absolute_error: 0.0590 - 318ms/epoch - 318ms/step\n",
            "Epoch 38/1000\n",
            "1/1 - 0s - loss: 0.0423 - mean_absolute_error: 0.0423 - val_loss: 0.0625 - val_mean_absolute_error: 0.0625 - 334ms/epoch - 334ms/step\n",
            "Epoch 39/1000\n",
            "1/1 - 0s - loss: 0.0443 - mean_absolute_error: 0.0443 - val_loss: 0.0612 - val_mean_absolute_error: 0.0612 - 342ms/epoch - 342ms/step\n",
            "Epoch 40/1000\n",
            "1/1 - 0s - loss: 0.0430 - mean_absolute_error: 0.0430 - val_loss: 0.0579 - val_mean_absolute_error: 0.0579 - 344ms/epoch - 344ms/step\n",
            "Epoch 41/1000\n",
            "1/1 - 0s - loss: 0.0417 - mean_absolute_error: 0.0417 - val_loss: 0.0579 - val_mean_absolute_error: 0.0579 - 329ms/epoch - 329ms/step\n",
            "Epoch 42/1000\n",
            "1/1 - 0s - loss: 0.0433 - mean_absolute_error: 0.0433 - val_loss: 0.0576 - val_mean_absolute_error: 0.0576 - 398ms/epoch - 398ms/step\n",
            "Epoch 43/1000\n",
            "1/1 - 0s - loss: 0.0424 - mean_absolute_error: 0.0424 - val_loss: 0.0589 - val_mean_absolute_error: 0.0589 - 320ms/epoch - 320ms/step\n",
            "Epoch 44/1000\n",
            "1/1 - 0s - loss: 0.0421 - mean_absolute_error: 0.0421 - val_loss: 0.0611 - val_mean_absolute_error: 0.0611 - 322ms/epoch - 322ms/step\n",
            "Epoch 45/1000\n",
            "1/1 - 0s - loss: 0.0428 - mean_absolute_error: 0.0428 - val_loss: 0.0601 - val_mean_absolute_error: 0.0601 - 425ms/epoch - 425ms/step\n",
            "Epoch 46/1000\n",
            "1/1 - 0s - loss: 0.0424 - mean_absolute_error: 0.0424 - val_loss: 0.0580 - val_mean_absolute_error: 0.0580 - 402ms/epoch - 402ms/step\n",
            "Epoch 47/1000\n",
            "1/1 - 0s - loss: 0.0417 - mean_absolute_error: 0.0417 - val_loss: 0.0580 - val_mean_absolute_error: 0.0580 - 381ms/epoch - 381ms/step\n",
            "Epoch 48/1000\n",
            "1/1 - 0s - loss: 0.0425 - mean_absolute_error: 0.0425 - val_loss: 0.0580 - val_mean_absolute_error: 0.0580 - 324ms/epoch - 324ms/step\n",
            "Epoch 49/1000\n",
            "1/1 - 0s - loss: 0.0420 - mean_absolute_error: 0.0420 - val_loss: 0.0592 - val_mean_absolute_error: 0.0592 - 324ms/epoch - 324ms/step\n",
            "Epoch 50/1000\n",
            "1/1 - 0s - loss: 0.0419 - mean_absolute_error: 0.0419 - val_loss: 0.0608 - val_mean_absolute_error: 0.0608 - 329ms/epoch - 329ms/step\n",
            "Epoch 51/1000\n",
            "1/1 - 0s - loss: 0.0426 - mean_absolute_error: 0.0426 - val_loss: 0.0592 - val_mean_absolute_error: 0.0592 - 400ms/epoch - 400ms/step\n",
            "Epoch 52/1000\n",
            "1/1 - 0s - loss: 0.0415 - mean_absolute_error: 0.0415 - val_loss: 0.0587 - val_mean_absolute_error: 0.0587 - 333ms/epoch - 333ms/step\n",
            "Epoch 53/1000\n",
            "1/1 - 0s - loss: 0.0421 - mean_absolute_error: 0.0421 - val_loss: 0.0588 - val_mean_absolute_error: 0.0588 - 388ms/epoch - 388ms/step\n",
            "Epoch 54/1000\n",
            "1/1 - 0s - loss: 0.0418 - mean_absolute_error: 0.0418 - val_loss: 0.0590 - val_mean_absolute_error: 0.0590 - 322ms/epoch - 322ms/step\n",
            "Epoch 55/1000\n",
            "1/1 - 0s - loss: 0.0415 - mean_absolute_error: 0.0415 - val_loss: 0.0602 - val_mean_absolute_error: 0.0602 - 323ms/epoch - 323ms/step\n",
            "Epoch 56/1000\n",
            "1/1 - 0s - loss: 0.0418 - mean_absolute_error: 0.0418 - val_loss: 0.0597 - val_mean_absolute_error: 0.0597 - 393ms/epoch - 393ms/step\n",
            "Epoch 57/1000\n",
            "1/1 - 0s - loss: 0.0409 - mean_absolute_error: 0.0409 - val_loss: 0.0587 - val_mean_absolute_error: 0.0587 - 343ms/epoch - 343ms/step\n",
            "Epoch 58/1000\n",
            "1/1 - 0s - loss: 0.0413 - mean_absolute_error: 0.0413 - val_loss: 0.0587 - val_mean_absolute_error: 0.0587 - 340ms/epoch - 340ms/step\n",
            "Epoch 59/1000\n",
            "1/1 - 0s - loss: 0.0414 - mean_absolute_error: 0.0414 - val_loss: 0.0586 - val_mean_absolute_error: 0.0586 - 344ms/epoch - 344ms/step\n",
            "Epoch 60/1000\n",
            "1/1 - 0s - loss: 0.0412 - mean_absolute_error: 0.0412 - val_loss: 0.0591 - val_mean_absolute_error: 0.0591 - 386ms/epoch - 386ms/step\n",
            "Epoch 61/1000\n",
            "1/1 - 0s - loss: 0.0416 - mean_absolute_error: 0.0416 - val_loss: 0.0589 - val_mean_absolute_error: 0.0589 - 320ms/epoch - 320ms/step\n",
            "Epoch 62/1000\n",
            "1/1 - 0s - loss: 0.0408 - mean_absolute_error: 0.0408 - val_loss: 0.0583 - val_mean_absolute_error: 0.0583 - 392ms/epoch - 392ms/step\n",
            "Epoch 63/1000\n",
            "1/1 - 0s - loss: 0.0413 - mean_absolute_error: 0.0413 - val_loss: 0.0583 - val_mean_absolute_error: 0.0583 - 339ms/epoch - 339ms/step\n",
            "Epoch 64/1000\n",
            "1/1 - 0s - loss: 0.0415 - mean_absolute_error: 0.0415 - val_loss: 0.0583 - val_mean_absolute_error: 0.0583 - 347ms/epoch - 347ms/step\n",
            "Epoch 65/1000\n",
            "1/1 - 0s - loss: 0.0410 - mean_absolute_error: 0.0410 - val_loss: 0.0586 - val_mean_absolute_error: 0.0586 - 344ms/epoch - 344ms/step\n",
            "Epoch 66/1000\n",
            "1/1 - 0s - loss: 0.0414 - mean_absolute_error: 0.0414 - val_loss: 0.0584 - val_mean_absolute_error: 0.0584 - 394ms/epoch - 394ms/step\n",
            "Epoch 67/1000\n",
            "1/1 - 0s - loss: 0.0409 - mean_absolute_error: 0.0409 - val_loss: 0.0582 - val_mean_absolute_error: 0.0582 - 321ms/epoch - 321ms/step\n",
            "Epoch 68/1000\n",
            "1/1 - 0s - loss: 0.0412 - mean_absolute_error: 0.0412 - val_loss: 0.0582 - val_mean_absolute_error: 0.0582 - 389ms/epoch - 389ms/step\n",
            "Epoch 69/1000\n",
            "1/1 - 0s - loss: 0.0411 - mean_absolute_error: 0.0411 - val_loss: 0.0584 - val_mean_absolute_error: 0.0584 - 341ms/epoch - 341ms/step\n",
            "Epoch 70/1000\n",
            "1/1 - 0s - loss: 0.0410 - mean_absolute_error: 0.0410 - val_loss: 0.0584 - val_mean_absolute_error: 0.0584 - 403ms/epoch - 403ms/step\n",
            "Epoch 71/1000\n",
            "1/1 - 0s - loss: 0.0408 - mean_absolute_error: 0.0408 - val_loss: 0.0583 - val_mean_absolute_error: 0.0583 - 324ms/epoch - 324ms/step\n",
            "Epoch 72/1000\n",
            "1/1 - 0s - loss: 0.0416 - mean_absolute_error: 0.0416 - val_loss: 0.0583 - val_mean_absolute_error: 0.0583 - 383ms/epoch - 383ms/step\n",
            "Epoch 73/1000\n",
            "1/1 - 0s - loss: 0.0417 - mean_absolute_error: 0.0417 - val_loss: 0.0584 - val_mean_absolute_error: 0.0584 - 325ms/epoch - 325ms/step\n",
            "Epoch 74/1000\n",
            "1/1 - 0s - loss: 0.0411 - mean_absolute_error: 0.0411 - val_loss: 0.0584 - val_mean_absolute_error: 0.0584 - 329ms/epoch - 329ms/step\n",
            "Epoch 75/1000\n",
            "1/1 - 0s - loss: 0.0403 - mean_absolute_error: 0.0403 - val_loss: 0.0584 - val_mean_absolute_error: 0.0584 - 419ms/epoch - 419ms/step\n",
            "Epoch 76/1000\n",
            "1/1 - 0s - loss: 0.0408 - mean_absolute_error: 0.0408 - val_loss: 0.0584 - val_mean_absolute_error: 0.0584 - 405ms/epoch - 405ms/step\n",
            "Epoch 77/1000\n",
            "1/1 - 0s - loss: 0.0408 - mean_absolute_error: 0.0408 - val_loss: 0.0584 - val_mean_absolute_error: 0.0584 - 320ms/epoch - 320ms/step\n",
            "Epoch 78/1000\n",
            "1/1 - 0s - loss: 0.0412 - mean_absolute_error: 0.0412 - val_loss: 0.0586 - val_mean_absolute_error: 0.0586 - 327ms/epoch - 327ms/step\n",
            "Epoch 79/1000\n",
            "1/1 - 0s - loss: 0.0410 - mean_absolute_error: 0.0410 - val_loss: 0.0585 - val_mean_absolute_error: 0.0585 - 340ms/epoch - 340ms/step\n",
            "Epoch 80/1000\n",
            "1/1 - 0s - loss: 0.0402 - mean_absolute_error: 0.0402 - val_loss: 0.0585 - val_mean_absolute_error: 0.0585 - 391ms/epoch - 391ms/step\n",
            "Epoch 81/1000\n",
            "1/1 - 0s - loss: 0.0409 - mean_absolute_error: 0.0409 - val_loss: 0.0585 - val_mean_absolute_error: 0.0585 - 347ms/epoch - 347ms/step\n",
            "Epoch 82/1000\n",
            "1/1 - 0s - loss: 0.0409 - mean_absolute_error: 0.0409 - val_loss: 0.0586 - val_mean_absolute_error: 0.0586 - 402ms/epoch - 402ms/step\n",
            "Epoch 83/1000\n",
            "1/1 - 0s - loss: 0.0410 - mean_absolute_error: 0.0410 - val_loss: 0.0586 - val_mean_absolute_error: 0.0586 - 387ms/epoch - 387ms/step\n",
            "Epoch 84/1000\n",
            "1/1 - 0s - loss: 0.0407 - mean_absolute_error: 0.0407 - val_loss: 0.0585 - val_mean_absolute_error: 0.0585 - 326ms/epoch - 326ms/step\n",
            "Epoch 85/1000\n",
            "1/1 - 0s - loss: 0.0408 - mean_absolute_error: 0.0408 - val_loss: 0.0584 - val_mean_absolute_error: 0.0584 - 388ms/epoch - 388ms/step\n",
            "Epoch 86/1000\n",
            "1/1 - 0s - loss: 0.0409 - mean_absolute_error: 0.0409 - val_loss: 0.0585 - val_mean_absolute_error: 0.0585 - 392ms/epoch - 392ms/step\n",
            "Epoch 87/1000\n",
            "1/1 - 0s - loss: 0.0409 - mean_absolute_error: 0.0409 - val_loss: 0.0584 - val_mean_absolute_error: 0.0584 - 336ms/epoch - 336ms/step\n",
            "Epoch 88/1000\n",
            "1/1 - 0s - loss: 0.0405 - mean_absolute_error: 0.0405 - val_loss: 0.0583 - val_mean_absolute_error: 0.0583 - 401ms/epoch - 401ms/step\n",
            "Epoch 89/1000\n",
            "1/1 - 0s - loss: 0.0409 - mean_absolute_error: 0.0409 - val_loss: 0.0583 - val_mean_absolute_error: 0.0583 - 321ms/epoch - 321ms/step\n",
            "Epoch 90/1000\n",
            "1/1 - 0s - loss: 0.0408 - mean_absolute_error: 0.0408 - val_loss: 0.0584 - val_mean_absolute_error: 0.0584 - 382ms/epoch - 382ms/step\n",
            "Epoch 91/1000\n",
            "1/1 - 0s - loss: 0.0405 - mean_absolute_error: 0.0405 - val_loss: 0.0582 - val_mean_absolute_error: 0.0582 - 384ms/epoch - 384ms/step\n",
            "Epoch 92/1000\n",
            "1/1 - 0s - loss: 0.0402 - mean_absolute_error: 0.0402 - val_loss: 0.0583 - val_mean_absolute_error: 0.0583 - 322ms/epoch - 322ms/step\n",
            "Epoch 93/1000\n",
            "1/1 - 0s - loss: 0.0412 - mean_absolute_error: 0.0412 - val_loss: 0.0582 - val_mean_absolute_error: 0.0582 - 345ms/epoch - 345ms/step\n",
            "Epoch 94/1000\n",
            "1/1 - 0s - loss: 0.0405 - mean_absolute_error: 0.0405 - val_loss: 0.0585 - val_mean_absolute_error: 0.0585 - 423ms/epoch - 423ms/step\n",
            "Epoch 95/1000\n",
            "1/1 - 0s - loss: 0.0409 - mean_absolute_error: 0.0409 - val_loss: 0.0583 - val_mean_absolute_error: 0.0583 - 320ms/epoch - 320ms/step\n",
            "Epoch 96/1000\n",
            "1/1 - 0s - loss: 0.0406 - mean_absolute_error: 0.0406 - val_loss: 0.0584 - val_mean_absolute_error: 0.0584 - 325ms/epoch - 325ms/step\n",
            "Epoch 97/1000\n",
            "1/1 - 0s - loss: 0.0404 - mean_absolute_error: 0.0404 - val_loss: 0.0583 - val_mean_absolute_error: 0.0583 - 333ms/epoch - 333ms/step\n",
            "Epoch 98/1000\n",
            "1/1 - 0s - loss: 0.0407 - mean_absolute_error: 0.0407 - val_loss: 0.0584 - val_mean_absolute_error: 0.0584 - 386ms/epoch - 386ms/step\n",
            "Epoch 99/1000\n",
            "1/1 - 0s - loss: 0.0410 - mean_absolute_error: 0.0410 - val_loss: 0.0585 - val_mean_absolute_error: 0.0585 - 337ms/epoch - 337ms/step\n",
            "Epoch 100/1000\n",
            "1/1 - 0s - loss: 0.0406 - mean_absolute_error: 0.0406 - val_loss: 0.0584 - val_mean_absolute_error: 0.0584 - 401ms/epoch - 401ms/step\n",
            "Epoch 101/1000\n",
            "1/1 - 0s - loss: 0.0404 - mean_absolute_error: 0.0404 - val_loss: 0.0583 - val_mean_absolute_error: 0.0583 - 321ms/epoch - 321ms/step\n",
            "Epoch 102/1000\n",
            "1/1 - 0s - loss: 0.0409 - mean_absolute_error: 0.0409 - val_loss: 0.0582 - val_mean_absolute_error: 0.0582 - 323ms/epoch - 323ms/step\n",
            "Epoch 103/1000\n",
            "1/1 - 0s - loss: 0.0406 - mean_absolute_error: 0.0406 - val_loss: 0.0585 - val_mean_absolute_error: 0.0585 - 392ms/epoch - 392ms/step\n",
            "Epoch 104/1000\n",
            "1/1 - 0s - loss: 0.0407 - mean_absolute_error: 0.0407 - val_loss: 0.0582 - val_mean_absolute_error: 0.0582 - 382ms/epoch - 382ms/step\n",
            "Epoch 105/1000\n",
            "1/1 - 0s - loss: 0.0410 - mean_absolute_error: 0.0410 - val_loss: 0.0580 - val_mean_absolute_error: 0.0580 - 396ms/epoch - 396ms/step\n",
            "Epoch 106/1000\n",
            "1/1 - 0s - loss: 0.0408 - mean_absolute_error: 0.0408 - val_loss: 0.0580 - val_mean_absolute_error: 0.0580 - 394ms/epoch - 394ms/step\n",
            "Epoch 107/1000\n",
            "1/1 - 0s - loss: 0.0409 - mean_absolute_error: 0.0409 - val_loss: 0.0581 - val_mean_absolute_error: 0.0581 - 381ms/epoch - 381ms/step\n",
            "Epoch 108/1000\n",
            "1/1 - 0s - loss: 0.0404 - mean_absolute_error: 0.0404 - val_loss: 0.0581 - val_mean_absolute_error: 0.0581 - 376ms/epoch - 376ms/step\n",
            "Epoch 109/1000\n",
            "1/1 - 0s - loss: 0.0402 - mean_absolute_error: 0.0402 - val_loss: 0.0580 - val_mean_absolute_error: 0.0580 - 381ms/epoch - 381ms/step\n",
            "Epoch 110/1000\n",
            "1/1 - 0s - loss: 0.0402 - mean_absolute_error: 0.0402 - val_loss: 0.0580 - val_mean_absolute_error: 0.0580 - 378ms/epoch - 378ms/step\n",
            "Epoch 111/1000\n",
            "1/1 - 0s - loss: 0.0401 - mean_absolute_error: 0.0401 - val_loss: 0.0581 - val_mean_absolute_error: 0.0581 - 335ms/epoch - 335ms/step\n",
            "Epoch 112/1000\n",
            "1/1 - 0s - loss: 0.0400 - mean_absolute_error: 0.0400 - val_loss: 0.0581 - val_mean_absolute_error: 0.0581 - 337ms/epoch - 337ms/step\n",
            "Epoch 113/1000\n",
            "1/1 - 0s - loss: 0.0398 - mean_absolute_error: 0.0398 - val_loss: 0.0580 - val_mean_absolute_error: 0.0580 - 408ms/epoch - 408ms/step\n",
            "Epoch 114/1000\n",
            "1/1 - 0s - loss: 0.0402 - mean_absolute_error: 0.0402 - val_loss: 0.0581 - val_mean_absolute_error: 0.0581 - 320ms/epoch - 320ms/step\n",
            "Epoch 115/1000\n",
            "1/1 - 0s - loss: 0.0400 - mean_absolute_error: 0.0400 - val_loss: 0.0582 - val_mean_absolute_error: 0.0582 - 320ms/epoch - 320ms/step\n",
            "Epoch 116/1000\n",
            "1/1 - 0s - loss: 0.0401 - mean_absolute_error: 0.0401 - val_loss: 0.0579 - val_mean_absolute_error: 0.0579 - 383ms/epoch - 383ms/step\n",
            "Epoch 117/1000\n",
            "1/1 - 0s - loss: 0.0402 - mean_absolute_error: 0.0402 - val_loss: 0.0579 - val_mean_absolute_error: 0.0579 - 392ms/epoch - 392ms/step\n",
            "Epoch 118/1000\n",
            "1/1 - 0s - loss: 0.0401 - mean_absolute_error: 0.0401 - val_loss: 0.0582 - val_mean_absolute_error: 0.0582 - 395ms/epoch - 395ms/step\n",
            "Epoch 119/1000\n",
            "1/1 - 0s - loss: 0.0401 - mean_absolute_error: 0.0401 - val_loss: 0.0581 - val_mean_absolute_error: 0.0581 - 381ms/epoch - 381ms/step\n",
            "Epoch 120/1000\n",
            "1/1 - 0s - loss: 0.0400 - mean_absolute_error: 0.0400 - val_loss: 0.0579 - val_mean_absolute_error: 0.0579 - 321ms/epoch - 321ms/step\n",
            "Epoch 121/1000\n",
            "1/1 - 0s - loss: 0.0404 - mean_absolute_error: 0.0404 - val_loss: 0.0582 - val_mean_absolute_error: 0.0582 - 380ms/epoch - 380ms/step\n",
            "Epoch 122/1000\n",
            "1/1 - 0s - loss: 0.0400 - mean_absolute_error: 0.0400 - val_loss: 0.0581 - val_mean_absolute_error: 0.0581 - 377ms/epoch - 377ms/step\n",
            "Epoch 123/1000\n",
            "1/1 - 0s - loss: 0.0398 - mean_absolute_error: 0.0398 - val_loss: 0.0579 - val_mean_absolute_error: 0.0579 - 393ms/epoch - 393ms/step\n",
            "Epoch 124/1000\n",
            "1/1 - 0s - loss: 0.0401 - mean_absolute_error: 0.0401 - val_loss: 0.0581 - val_mean_absolute_error: 0.0581 - 396ms/epoch - 396ms/step\n",
            "Epoch 125/1000\n",
            "1/1 - 0s - loss: 0.0393 - mean_absolute_error: 0.0393 - val_loss: 0.0580 - val_mean_absolute_error: 0.0580 - 375ms/epoch - 375ms/step\n",
            "Epoch 126/1000\n",
            "1/1 - 0s - loss: 0.0401 - mean_absolute_error: 0.0401 - val_loss: 0.0578 - val_mean_absolute_error: 0.0578 - 381ms/epoch - 381ms/step\n",
            "Epoch 127/1000\n",
            "1/1 - 0s - loss: 0.0396 - mean_absolute_error: 0.0396 - val_loss: 0.0581 - val_mean_absolute_error: 0.0581 - 376ms/epoch - 376ms/step\n",
            "Epoch 128/1000\n",
            "1/1 - 0s - loss: 0.0400 - mean_absolute_error: 0.0400 - val_loss: 0.0579 - val_mean_absolute_error: 0.0579 - 376ms/epoch - 376ms/step\n",
            "Epoch 129/1000\n",
            "1/1 - 0s - loss: 0.0397 - mean_absolute_error: 0.0397 - val_loss: 0.0579 - val_mean_absolute_error: 0.0579 - 397ms/epoch - 397ms/step\n",
            "Epoch 130/1000\n",
            "1/1 - 0s - loss: 0.0398 - mean_absolute_error: 0.0398 - val_loss: 0.0580 - val_mean_absolute_error: 0.0580 - 400ms/epoch - 400ms/step\n",
            "Epoch 131/1000\n",
            "1/1 - 0s - loss: 0.0402 - mean_absolute_error: 0.0402 - val_loss: 0.0578 - val_mean_absolute_error: 0.0578 - 312ms/epoch - 312ms/step\n",
            "Epoch 132/1000\n",
            "1/1 - 0s - loss: 0.0394 - mean_absolute_error: 0.0394 - val_loss: 0.0580 - val_mean_absolute_error: 0.0580 - 380ms/epoch - 380ms/step\n",
            "Epoch 133/1000\n",
            "1/1 - 0s - loss: 0.0396 - mean_absolute_error: 0.0396 - val_loss: 0.0579 - val_mean_absolute_error: 0.0579 - 316ms/epoch - 316ms/step\n",
            "Epoch 134/1000\n",
            "1/1 - 0s - loss: 0.0394 - mean_absolute_error: 0.0394 - val_loss: 0.0582 - val_mean_absolute_error: 0.0582 - 327ms/epoch - 327ms/step\n",
            "Epoch 135/1000\n",
            "1/1 - 0s - loss: 0.0399 - mean_absolute_error: 0.0399 - val_loss: 0.0579 - val_mean_absolute_error: 0.0579 - 408ms/epoch - 408ms/step\n",
            "Epoch 136/1000\n",
            "1/1 - 0s - loss: 0.0396 - mean_absolute_error: 0.0396 - val_loss: 0.0586 - val_mean_absolute_error: 0.0586 - 390ms/epoch - 390ms/step\n",
            "Epoch 137/1000\n",
            "1/1 - 0s - loss: 0.0400 - mean_absolute_error: 0.0400 - val_loss: 0.0579 - val_mean_absolute_error: 0.0579 - 315ms/epoch - 315ms/step\n",
            "Epoch 138/1000\n",
            "1/1 - 0s - loss: 0.0398 - mean_absolute_error: 0.0398 - val_loss: 0.0582 - val_mean_absolute_error: 0.0582 - 320ms/epoch - 320ms/step\n",
            "Epoch 139/1000\n",
            "1/1 - 0s - loss: 0.0398 - mean_absolute_error: 0.0398 - val_loss: 0.0583 - val_mean_absolute_error: 0.0583 - 383ms/epoch - 383ms/step\n",
            "Epoch 140/1000\n",
            "1/1 - 0s - loss: 0.0392 - mean_absolute_error: 0.0392 - val_loss: 0.0576 - val_mean_absolute_error: 0.0576 - 376ms/epoch - 376ms/step\n",
            "Epoch 141/1000\n",
            "1/1 - 0s - loss: 0.0395 - mean_absolute_error: 0.0395 - val_loss: 0.0586 - val_mean_absolute_error: 0.0586 - 394ms/epoch - 394ms/step\n",
            "Epoch 142/1000\n",
            "1/1 - 0s - loss: 0.0396 - mean_absolute_error: 0.0396 - val_loss: 0.0573 - val_mean_absolute_error: 0.0573 - 334ms/epoch - 334ms/step\n",
            "Epoch 143/1000\n",
            "1/1 - 0s - loss: 0.0400 - mean_absolute_error: 0.0400 - val_loss: 0.0583 - val_mean_absolute_error: 0.0583 - 379ms/epoch - 379ms/step\n",
            "Epoch 144/1000\n",
            "1/1 - 0s - loss: 0.0395 - mean_absolute_error: 0.0395 - val_loss: 0.0577 - val_mean_absolute_error: 0.0577 - 315ms/epoch - 315ms/step\n",
            "Epoch 145/1000\n",
            "1/1 - 0s - loss: 0.0393 - mean_absolute_error: 0.0393 - val_loss: 0.0573 - val_mean_absolute_error: 0.0573 - 376ms/epoch - 376ms/step\n",
            "Epoch 146/1000\n",
            "1/1 - 0s - loss: 0.0390 - mean_absolute_error: 0.0390 - val_loss: 0.0590 - val_mean_absolute_error: 0.0590 - 377ms/epoch - 377ms/step\n",
            "Epoch 147/1000\n",
            "1/1 - 0s - loss: 0.0400 - mean_absolute_error: 0.0400 - val_loss: 0.0569 - val_mean_absolute_error: 0.0569 - 330ms/epoch - 330ms/step\n",
            "Epoch 148/1000\n",
            "1/1 - 0s - loss: 0.0406 - mean_absolute_error: 0.0406 - val_loss: 0.0598 - val_mean_absolute_error: 0.0598 - 395ms/epoch - 395ms/step\n",
            "Epoch 149/1000\n",
            "1/1 - 0s - loss: 0.0404 - mean_absolute_error: 0.0404 - val_loss: 0.0568 - val_mean_absolute_error: 0.0568 - 376ms/epoch - 376ms/step\n",
            "Epoch 150/1000\n",
            "1/1 - 0s - loss: 0.0397 - mean_absolute_error: 0.0397 - val_loss: 0.0578 - val_mean_absolute_error: 0.0578 - 312ms/epoch - 312ms/step\n",
            "Epoch 151/1000\n",
            "1/1 - 0s - loss: 0.0387 - mean_absolute_error: 0.0387 - val_loss: 0.0589 - val_mean_absolute_error: 0.0589 - 381ms/epoch - 381ms/step\n",
            "Epoch 152/1000\n",
            "1/1 - 0s - loss: 0.0391 - mean_absolute_error: 0.0391 - val_loss: 0.0566 - val_mean_absolute_error: 0.0566 - 313ms/epoch - 313ms/step\n",
            "Epoch 153/1000\n",
            "1/1 - 0s - loss: 0.0412 - mean_absolute_error: 0.0412 - val_loss: 0.0624 - val_mean_absolute_error: 0.0624 - 333ms/epoch - 333ms/step\n",
            "Epoch 154/1000\n",
            "1/1 - 0s - loss: 0.0419 - mean_absolute_error: 0.0419 - val_loss: 0.0564 - val_mean_absolute_error: 0.0564 - 348ms/epoch - 348ms/step\n",
            "Epoch 155/1000\n",
            "1/1 - 0s - loss: 0.0410 - mean_absolute_error: 0.0410 - val_loss: 0.0586 - val_mean_absolute_error: 0.0586 - 313ms/epoch - 313ms/step\n",
            "Epoch 156/1000\n",
            "1/1 - 0s - loss: 0.0385 - mean_absolute_error: 0.0385 - val_loss: 0.0578 - val_mean_absolute_error: 0.0578 - 316ms/epoch - 316ms/step\n",
            "Epoch 157/1000\n",
            "1/1 - 0s - loss: 0.0386 - mean_absolute_error: 0.0386 - val_loss: 0.0559 - val_mean_absolute_error: 0.0559 - 389ms/epoch - 389ms/step\n",
            "Epoch 158/1000\n",
            "1/1 - 0s - loss: 0.0391 - mean_absolute_error: 0.0391 - val_loss: 0.0608 - val_mean_absolute_error: 0.0608 - 310ms/epoch - 310ms/step\n",
            "Epoch 159/1000\n",
            "1/1 - 0s - loss: 0.0407 - mean_absolute_error: 0.0407 - val_loss: 0.0565 - val_mean_absolute_error: 0.0565 - 396ms/epoch - 396ms/step\n",
            "Epoch 160/1000\n",
            "1/1 - 0s - loss: 0.0423 - mean_absolute_error: 0.0423 - val_loss: 0.0587 - val_mean_absolute_error: 0.0587 - 329ms/epoch - 329ms/step\n",
            "Epoch 161/1000\n",
            "1/1 - 0s - loss: 0.0383 - mean_absolute_error: 0.0383 - val_loss: 0.0561 - val_mean_absolute_error: 0.0561 - 313ms/epoch - 313ms/step\n",
            "Epoch 162/1000\n",
            "1/1 - 0s - loss: 0.0373 - mean_absolute_error: 0.0373 - val_loss: 0.0555 - val_mean_absolute_error: 0.0555 - 384ms/epoch - 384ms/step\n",
            "Epoch 163/1000\n",
            "1/1 - 0s - loss: 0.0372 - mean_absolute_error: 0.0372 - val_loss: 0.0593 - val_mean_absolute_error: 0.0593 - 374ms/epoch - 374ms/step\n",
            "Epoch 164/1000\n",
            "1/1 - 0s - loss: 0.0385 - mean_absolute_error: 0.0385 - val_loss: 0.0561 - val_mean_absolute_error: 0.0561 - 313ms/epoch - 313ms/step\n",
            "Epoch 165/1000\n",
            "1/1 - 0s - loss: 0.0423 - mean_absolute_error: 0.0423 - val_loss: 0.0593 - val_mean_absolute_error: 0.0593 - 336ms/epoch - 336ms/step\n",
            "Epoch 166/1000\n",
            "1/1 - 0s - loss: 0.0390 - mean_absolute_error: 0.0390 - val_loss: 0.0544 - val_mean_absolute_error: 0.0544 - 353ms/epoch - 353ms/step\n",
            "Epoch 167/1000\n",
            "1/1 - 0s - loss: 0.0378 - mean_absolute_error: 0.0378 - val_loss: 0.0568 - val_mean_absolute_error: 0.0568 - 376ms/epoch - 376ms/step\n",
            "Epoch 168/1000\n",
            "1/1 - 0s - loss: 0.0371 - mean_absolute_error: 0.0371 - val_loss: 0.0546 - val_mean_absolute_error: 0.0546 - 374ms/epoch - 374ms/step\n",
            "Epoch 169/1000\n",
            "1/1 - 0s - loss: 0.0381 - mean_absolute_error: 0.0381 - val_loss: 0.0569 - val_mean_absolute_error: 0.0569 - 309ms/epoch - 309ms/step\n",
            "Epoch 170/1000\n",
            "1/1 - 0s - loss: 0.0375 - mean_absolute_error: 0.0375 - val_loss: 0.0550 - val_mean_absolute_error: 0.0550 - 317ms/epoch - 317ms/step\n",
            "Epoch 171/1000\n",
            "1/1 - 0s - loss: 0.0394 - mean_absolute_error: 0.0394 - val_loss: 0.0582 - val_mean_absolute_error: 0.0582 - 411ms/epoch - 411ms/step\n",
            "Epoch 172/1000\n",
            "1/1 - 0s - loss: 0.0392 - mean_absolute_error: 0.0392 - val_loss: 0.0545 - val_mean_absolute_error: 0.0545 - 334ms/epoch - 334ms/step\n",
            "Epoch 173/1000\n",
            "1/1 - 0s - loss: 0.0389 - mean_absolute_error: 0.0389 - val_loss: 0.0561 - val_mean_absolute_error: 0.0561 - 314ms/epoch - 314ms/step\n",
            "Epoch 174/1000\n",
            "1/1 - 0s - loss: 0.0367 - mean_absolute_error: 0.0367 - val_loss: 0.0537 - val_mean_absolute_error: 0.0537 - 392ms/epoch - 392ms/step\n",
            "Epoch 175/1000\n",
            "1/1 - 0s - loss: 0.0368 - mean_absolute_error: 0.0368 - val_loss: 0.0551 - val_mean_absolute_error: 0.0551 - 311ms/epoch - 311ms/step\n",
            "Epoch 176/1000\n",
            "1/1 - 0s - loss: 0.0369 - mean_absolute_error: 0.0369 - val_loss: 0.0538 - val_mean_absolute_error: 0.0538 - 311ms/epoch - 311ms/step\n",
            "Epoch 177/1000\n",
            "1/1 - 0s - loss: 0.0369 - mean_absolute_error: 0.0369 - val_loss: 0.0556 - val_mean_absolute_error: 0.0556 - 400ms/epoch - 400ms/step\n",
            "Epoch 178/1000\n",
            "1/1 - 0s - loss: 0.0369 - mean_absolute_error: 0.0369 - val_loss: 0.0537 - val_mean_absolute_error: 0.0537 - 329ms/epoch - 329ms/step\n",
            "Epoch 179/1000\n",
            "1/1 - 0s - loss: 0.0356 - mean_absolute_error: 0.0356 - val_loss: 0.0537 - val_mean_absolute_error: 0.0537 - 377ms/epoch - 377ms/step\n",
            "Epoch 180/1000\n",
            "1/1 - 0s - loss: 0.0347 - mean_absolute_error: 0.0347 - val_loss: 0.0544 - val_mean_absolute_error: 0.0544 - 313ms/epoch - 313ms/step\n",
            "Epoch 181/1000\n",
            "1/1 - 0s - loss: 0.0354 - mean_absolute_error: 0.0354 - val_loss: 0.0538 - val_mean_absolute_error: 0.0538 - 313ms/epoch - 313ms/step\n",
            "Epoch 182/1000\n",
            "1/1 - 0s - loss: 0.0366 - mean_absolute_error: 0.0366 - val_loss: 0.0566 - val_mean_absolute_error: 0.0566 - 319ms/epoch - 319ms/step\n",
            "Epoch 183/1000\n",
            "1/1 - 0s - loss: 0.0375 - mean_absolute_error: 0.0375 - val_loss: 0.0539 - val_mean_absolute_error: 0.0539 - 334ms/epoch - 334ms/step\n",
            "Epoch 184/1000\n",
            "1/1 - 0s - loss: 0.0367 - mean_absolute_error: 0.0367 - val_loss: 0.0542 - val_mean_absolute_error: 0.0542 - 393ms/epoch - 393ms/step\n",
            "Epoch 185/1000\n",
            "1/1 - 0s - loss: 0.0350 - mean_absolute_error: 0.0350 - val_loss: 0.0551 - val_mean_absolute_error: 0.0551 - 375ms/epoch - 375ms/step\n",
            "Epoch 186/1000\n",
            "1/1 - 0s - loss: 0.0352 - mean_absolute_error: 0.0352 - val_loss: 0.0549 - val_mean_absolute_error: 0.0549 - 375ms/epoch - 375ms/step\n",
            "Epoch 187/1000\n",
            "1/1 - 0s - loss: 0.0375 - mean_absolute_error: 0.0375 - val_loss: 0.0563 - val_mean_absolute_error: 0.0563 - 373ms/epoch - 373ms/step\n",
            "Epoch 188/1000\n",
            "1/1 - 0s - loss: 0.0364 - mean_absolute_error: 0.0364 - val_loss: 0.0546 - val_mean_absolute_error: 0.0546 - 309ms/epoch - 309ms/step\n",
            "Epoch 189/1000\n",
            "1/1 - 0s - loss: 0.0353 - mean_absolute_error: 0.0353 - val_loss: 0.0548 - val_mean_absolute_error: 0.0548 - 397ms/epoch - 397ms/step\n",
            "Epoch 190/1000\n",
            "1/1 - 0s - loss: 0.0339 - mean_absolute_error: 0.0339 - val_loss: 0.0541 - val_mean_absolute_error: 0.0541 - 329ms/epoch - 329ms/step\n",
            "Epoch 191/1000\n",
            "1/1 - 0s - loss: 0.0343 - mean_absolute_error: 0.0343 - val_loss: 0.0547 - val_mean_absolute_error: 0.0547 - 311ms/epoch - 311ms/step\n",
            "Epoch 192/1000\n",
            "1/1 - 0s - loss: 0.0343 - mean_absolute_error: 0.0343 - val_loss: 0.0537 - val_mean_absolute_error: 0.0537 - 384ms/epoch - 384ms/step\n",
            "Epoch 193/1000\n",
            "1/1 - 0s - loss: 0.0347 - mean_absolute_error: 0.0347 - val_loss: 0.0567 - val_mean_absolute_error: 0.0567 - 310ms/epoch - 310ms/step\n",
            "Epoch 194/1000\n",
            "1/1 - 0s - loss: 0.0366 - mean_absolute_error: 0.0366 - val_loss: 0.0543 - val_mean_absolute_error: 0.0543 - 315ms/epoch - 315ms/step\n",
            "Epoch 195/1000\n",
            "1/1 - 0s - loss: 0.0377 - mean_absolute_error: 0.0377 - val_loss: 0.0549 - val_mean_absolute_error: 0.0549 - 339ms/epoch - 339ms/step\n",
            "Epoch 196/1000\n",
            "1/1 - 0s - loss: 0.0341 - mean_absolute_error: 0.0341 - val_loss: 0.0551 - val_mean_absolute_error: 0.0551 - 336ms/epoch - 336ms/step\n",
            "Epoch 197/1000\n",
            "1/1 - 0s - loss: 0.0345 - mean_absolute_error: 0.0345 - val_loss: 0.0542 - val_mean_absolute_error: 0.0542 - 313ms/epoch - 313ms/step\n",
            "Epoch 198/1000\n",
            "1/1 - 0s - loss: 0.0375 - mean_absolute_error: 0.0375 - val_loss: 0.0568 - val_mean_absolute_error: 0.0568 - 317ms/epoch - 317ms/step\n",
            "Epoch 199/1000\n",
            "1/1 - 0s - loss: 0.0357 - mean_absolute_error: 0.0357 - val_loss: 0.0536 - val_mean_absolute_error: 0.0536 - 383ms/epoch - 383ms/step\n",
            "Epoch 200/1000\n",
            "1/1 - 0s - loss: 0.0342 - mean_absolute_error: 0.0342 - val_loss: 0.0542 - val_mean_absolute_error: 0.0542 - 315ms/epoch - 315ms/step\n",
            "Epoch 201/1000\n",
            "1/1 - 0s - loss: 0.0327 - mean_absolute_error: 0.0327 - val_loss: 0.0547 - val_mean_absolute_error: 0.0547 - 397ms/epoch - 397ms/step\n",
            "Epoch 202/1000\n",
            "1/1 - 0s - loss: 0.0334 - mean_absolute_error: 0.0334 - val_loss: 0.0533 - val_mean_absolute_error: 0.0533 - 393ms/epoch - 393ms/step\n",
            "Epoch 203/1000\n",
            "1/1 - 0s - loss: 0.0348 - mean_absolute_error: 0.0348 - val_loss: 0.0578 - val_mean_absolute_error: 0.0578 - 315ms/epoch - 315ms/step\n",
            "Epoch 204/1000\n",
            "1/1 - 0s - loss: 0.0369 - mean_absolute_error: 0.0369 - val_loss: 0.0532 - val_mean_absolute_error: 0.0532 - 376ms/epoch - 376ms/step\n",
            "Epoch 205/1000\n",
            "1/1 - 0s - loss: 0.0351 - mean_absolute_error: 0.0351 - val_loss: 0.0537 - val_mean_absolute_error: 0.0537 - 377ms/epoch - 377ms/step\n",
            "Epoch 206/1000\n",
            "1/1 - 0s - loss: 0.0329 - mean_absolute_error: 0.0329 - val_loss: 0.0552 - val_mean_absolute_error: 0.0552 - 375ms/epoch - 375ms/step\n",
            "Epoch 207/1000\n",
            "1/1 - 0s - loss: 0.0335 - mean_absolute_error: 0.0335 - val_loss: 0.0537 - val_mean_absolute_error: 0.0537 - 327ms/epoch - 327ms/step\n",
            "Epoch 208/1000\n",
            "1/1 - 0s - loss: 0.0366 - mean_absolute_error: 0.0366 - val_loss: 0.0529 - val_mean_absolute_error: 0.0529 - 393ms/epoch - 393ms/step\n",
            "Epoch 209/1000\n",
            "1/1 - 0s - loss: 0.0325 - mean_absolute_error: 0.0325 - val_loss: 0.0567 - val_mean_absolute_error: 0.0567 - 373ms/epoch - 373ms/step\n",
            "Epoch 210/1000\n",
            "1/1 - 0s - loss: 0.0359 - mean_absolute_error: 0.0359 - val_loss: 0.0550 - val_mean_absolute_error: 0.0550 - 311ms/epoch - 311ms/step\n",
            "Epoch 211/1000\n",
            "1/1 - 0s - loss: 0.0400 - mean_absolute_error: 0.0400 - val_loss: 0.0556 - val_mean_absolute_error: 0.0556 - 382ms/epoch - 382ms/step\n",
            "Epoch 212/1000\n",
            "1/1 - 0s - loss: 0.0336 - mean_absolute_error: 0.0336 - val_loss: 0.0536 - val_mean_absolute_error: 0.0536 - 376ms/epoch - 376ms/step\n",
            "Epoch 213/1000\n",
            "1/1 - 0s - loss: 0.0341 - mean_absolute_error: 0.0341 - val_loss: 0.0531 - val_mean_absolute_error: 0.0531 - 390ms/epoch - 390ms/step\n",
            "Epoch 214/1000\n",
            "1/1 - 0s - loss: 0.0339 - mean_absolute_error: 0.0339 - val_loss: 0.0551 - val_mean_absolute_error: 0.0551 - 330ms/epoch - 330ms/step\n",
            "Epoch 215/1000\n",
            "1/1 - 0s - loss: 0.0335 - mean_absolute_error: 0.0335 - val_loss: 0.0542 - val_mean_absolute_error: 0.0542 - 384ms/epoch - 384ms/step\n",
            "Epoch 216/1000\n",
            "1/1 - 0s - loss: 0.0335 - mean_absolute_error: 0.0335 - val_loss: 0.0528 - val_mean_absolute_error: 0.0528 - 377ms/epoch - 377ms/step\n",
            "Epoch 217/1000\n",
            "1/1 - 0s - loss: 0.0324 - mean_absolute_error: 0.0324 - val_loss: 0.0529 - val_mean_absolute_error: 0.0529 - 311ms/epoch - 311ms/step\n",
            "Epoch 218/1000\n",
            "1/1 - 0s - loss: 0.0335 - mean_absolute_error: 0.0335 - val_loss: 0.0528 - val_mean_absolute_error: 0.0528 - 316ms/epoch - 316ms/step\n",
            "Epoch 219/1000\n",
            "1/1 - 0s - loss: 0.0336 - mean_absolute_error: 0.0336 - val_loss: 0.0548 - val_mean_absolute_error: 0.0548 - 342ms/epoch - 342ms/step\n",
            "Epoch 220/1000\n",
            "1/1 - 0s - loss: 0.0331 - mean_absolute_error: 0.0331 - val_loss: 0.0535 - val_mean_absolute_error: 0.0535 - 396ms/epoch - 396ms/step\n",
            "Epoch 221/1000\n",
            "1/1 - 0s - loss: 0.0329 - mean_absolute_error: 0.0329 - val_loss: 0.0537 - val_mean_absolute_error: 0.0537 - 377ms/epoch - 377ms/step\n",
            "Epoch 222/1000\n",
            "1/1 - 0s - loss: 0.0331 - mean_absolute_error: 0.0331 - val_loss: 0.0515 - val_mean_absolute_error: 0.0515 - 377ms/epoch - 377ms/step\n",
            "Epoch 223/1000\n",
            "1/1 - 0s - loss: 0.0333 - mean_absolute_error: 0.0333 - val_loss: 0.0523 - val_mean_absolute_error: 0.0523 - 375ms/epoch - 375ms/step\n",
            "Epoch 224/1000\n",
            "1/1 - 0s - loss: 0.0316 - mean_absolute_error: 0.0316 - val_loss: 0.0535 - val_mean_absolute_error: 0.0535 - 373ms/epoch - 373ms/step\n",
            "Epoch 225/1000\n",
            "1/1 - 0s - loss: 0.0320 - mean_absolute_error: 0.0320 - val_loss: 0.0539 - val_mean_absolute_error: 0.0539 - 325ms/epoch - 325ms/step\n",
            "Epoch 226/1000\n",
            "1/1 - 0s - loss: 0.0327 - mean_absolute_error: 0.0327 - val_loss: 0.0544 - val_mean_absolute_error: 0.0544 - 328ms/epoch - 328ms/step\n",
            "Epoch 227/1000\n",
            "1/1 - 0s - loss: 0.0335 - mean_absolute_error: 0.0335 - val_loss: 0.0531 - val_mean_absolute_error: 0.0531 - 403ms/epoch - 403ms/step\n",
            "Epoch 228/1000\n",
            "1/1 - 0s - loss: 0.0338 - mean_absolute_error: 0.0338 - val_loss: 0.0530 - val_mean_absolute_error: 0.0530 - 375ms/epoch - 375ms/step\n",
            "Epoch 229/1000\n",
            "1/1 - 0s - loss: 0.0327 - mean_absolute_error: 0.0327 - val_loss: 0.0535 - val_mean_absolute_error: 0.0535 - 311ms/epoch - 311ms/step\n",
            "Epoch 230/1000\n",
            "1/1 - 0s - loss: 0.0311 - mean_absolute_error: 0.0311 - val_loss: 0.0533 - val_mean_absolute_error: 0.0533 - 382ms/epoch - 382ms/step\n",
            "Epoch 231/1000\n",
            "1/1 - 0s - loss: 0.0334 - mean_absolute_error: 0.0334 - val_loss: 0.0576 - val_mean_absolute_error: 0.0576 - 395ms/epoch - 395ms/step\n",
            "Epoch 232/1000\n",
            "1/1 - 0s - loss: 0.0352 - mean_absolute_error: 0.0352 - val_loss: 0.0511 - val_mean_absolute_error: 0.0511 - 335ms/epoch - 335ms/step\n",
            "Epoch 233/1000\n",
            "1/1 - 0s - loss: 0.0325 - mean_absolute_error: 0.0325 - val_loss: 0.0511 - val_mean_absolute_error: 0.0511 - 316ms/epoch - 316ms/step\n",
            "Epoch 234/1000\n",
            "1/1 - 0s - loss: 0.0323 - mean_absolute_error: 0.0323 - val_loss: 0.0539 - val_mean_absolute_error: 0.0539 - 390ms/epoch - 390ms/step\n",
            "Epoch 235/1000\n",
            "1/1 - 0s - loss: 0.0326 - mean_absolute_error: 0.0326 - val_loss: 0.0545 - val_mean_absolute_error: 0.0545 - 372ms/epoch - 372ms/step\n",
            "Epoch 236/1000\n",
            "1/1 - 0s - loss: 0.0358 - mean_absolute_error: 0.0358 - val_loss: 0.0570 - val_mean_absolute_error: 0.0570 - 376ms/epoch - 376ms/step\n",
            "Epoch 237/1000\n",
            "1/1 - 0s - loss: 0.0346 - mean_absolute_error: 0.0346 - val_loss: 0.0525 - val_mean_absolute_error: 0.0525 - 334ms/epoch - 334ms/step\n",
            "Epoch 238/1000\n",
            "1/1 - 0s - loss: 0.0316 - mean_absolute_error: 0.0316 - val_loss: 0.0509 - val_mean_absolute_error: 0.0509 - 335ms/epoch - 335ms/step\n",
            "Epoch 239/1000\n",
            "1/1 - 0s - loss: 0.0326 - mean_absolute_error: 0.0326 - val_loss: 0.0516 - val_mean_absolute_error: 0.0516 - 337ms/epoch - 337ms/step\n",
            "Epoch 240/1000\n",
            "1/1 - 0s - loss: 0.0326 - mean_absolute_error: 0.0326 - val_loss: 0.0525 - val_mean_absolute_error: 0.0525 - 379ms/epoch - 379ms/step\n",
            "Epoch 241/1000\n",
            "1/1 - 0s - loss: 0.0334 - mean_absolute_error: 0.0334 - val_loss: 0.0569 - val_mean_absolute_error: 0.0569 - 373ms/epoch - 373ms/step\n",
            "Epoch 242/1000\n",
            "1/1 - 0s - loss: 0.0336 - mean_absolute_error: 0.0336 - val_loss: 0.0529 - val_mean_absolute_error: 0.0529 - 311ms/epoch - 311ms/step\n",
            "Epoch 243/1000\n",
            "1/1 - 0s - loss: 0.0313 - mean_absolute_error: 0.0313 - val_loss: 0.0519 - val_mean_absolute_error: 0.0519 - 336ms/epoch - 336ms/step\n",
            "Epoch 244/1000\n",
            "1/1 - 0s - loss: 0.0318 - mean_absolute_error: 0.0318 - val_loss: 0.0537 - val_mean_absolute_error: 0.0537 - 406ms/epoch - 406ms/step\n",
            "Epoch 245/1000\n",
            "1/1 - 0s - loss: 0.0334 - mean_absolute_error: 0.0334 - val_loss: 0.0523 - val_mean_absolute_error: 0.0523 - 313ms/epoch - 313ms/step\n",
            "Epoch 246/1000\n",
            "1/1 - 0s - loss: 0.0328 - mean_absolute_error: 0.0328 - val_loss: 0.0542 - val_mean_absolute_error: 0.0542 - 319ms/epoch - 319ms/step\n",
            "Epoch 247/1000\n",
            "1/1 - 0s - loss: 0.0309 - mean_absolute_error: 0.0309 - val_loss: 0.0525 - val_mean_absolute_error: 0.0525 - 377ms/epoch - 377ms/step\n",
            "Epoch 248/1000\n",
            "1/1 - 0s - loss: 0.0307 - mean_absolute_error: 0.0307 - val_loss: 0.0512 - val_mean_absolute_error: 0.0512 - 380ms/epoch - 380ms/step\n",
            "Epoch 249/1000\n",
            "1/1 - 0s - loss: 0.0312 - mean_absolute_error: 0.0312 - val_loss: 0.0535 - val_mean_absolute_error: 0.0535 - 335ms/epoch - 335ms/step\n",
            "Epoch 250/1000\n",
            "1/1 - 0s - loss: 0.0324 - mean_absolute_error: 0.0324 - val_loss: 0.0527 - val_mean_absolute_error: 0.0527 - 336ms/epoch - 336ms/step\n",
            "Epoch 251/1000\n",
            "1/1 - 0s - loss: 0.0319 - mean_absolute_error: 0.0319 - val_loss: 0.0553 - val_mean_absolute_error: 0.0553 - 391ms/epoch - 391ms/step\n",
            "Epoch 252/1000\n",
            "1/1 - 0s - loss: 0.0322 - mean_absolute_error: 0.0322 - val_loss: 0.0523 - val_mean_absolute_error: 0.0523 - 377ms/epoch - 377ms/step\n",
            "Epoch 253/1000\n",
            "1/1 - 0s - loss: 0.0309 - mean_absolute_error: 0.0309 - val_loss: 0.0518 - val_mean_absolute_error: 0.0518 - 378ms/epoch - 378ms/step\n",
            "Epoch 254/1000\n",
            "1/1 - 0s - loss: 0.0314 - mean_absolute_error: 0.0314 - val_loss: 0.0521 - val_mean_absolute_error: 0.0521 - 376ms/epoch - 376ms/step\n",
            "Epoch 255/1000\n",
            "1/1 - 0s - loss: 0.0298 - mean_absolute_error: 0.0298 - val_loss: 0.0535 - val_mean_absolute_error: 0.0535 - 330ms/epoch - 330ms/step\n",
            "Epoch 256/1000\n",
            "1/1 - 0s - loss: 0.0305 - mean_absolute_error: 0.0305 - val_loss: 0.0520 - val_mean_absolute_error: 0.0520 - 402ms/epoch - 402ms/step\n",
            "Epoch 257/1000\n",
            "1/1 - 0s - loss: 0.0310 - mean_absolute_error: 0.0310 - val_loss: 0.0528 - val_mean_absolute_error: 0.0528 - 376ms/epoch - 376ms/step\n",
            "Epoch 258/1000\n",
            "1/1 - 0s - loss: 0.0326 - mean_absolute_error: 0.0326 - val_loss: 0.0508 - val_mean_absolute_error: 0.0508 - 381ms/epoch - 381ms/step\n",
            "Epoch 259/1000\n",
            "1/1 - 0s - loss: 0.0328 - mean_absolute_error: 0.0328 - val_loss: 0.0526 - val_mean_absolute_error: 0.0526 - 380ms/epoch - 380ms/step\n",
            "Epoch 260/1000\n",
            "1/1 - 0s - loss: 0.0309 - mean_absolute_error: 0.0309 - val_loss: 0.0527 - val_mean_absolute_error: 0.0527 - 432ms/epoch - 432ms/step\n",
            "Epoch 261/1000\n",
            "1/1 - 0s - loss: 0.0304 - mean_absolute_error: 0.0304 - val_loss: 0.0522 - val_mean_absolute_error: 0.0522 - 338ms/epoch - 338ms/step\n",
            "Epoch 262/1000\n",
            "1/1 - 0s - loss: 0.0306 - mean_absolute_error: 0.0306 - val_loss: 0.0544 - val_mean_absolute_error: 0.0544 - 391ms/epoch - 391ms/step\n",
            "Epoch 263/1000\n",
            "1/1 - 0s - loss: 0.0329 - mean_absolute_error: 0.0329 - val_loss: 0.0507 - val_mean_absolute_error: 0.0507 - 433ms/epoch - 433ms/step\n",
            "Epoch 264/1000\n",
            "1/1 - 0s - loss: 0.0327 - mean_absolute_error: 0.0327 - val_loss: 0.0512 - val_mean_absolute_error: 0.0512 - 384ms/epoch - 384ms/step\n",
            "Epoch 265/1000\n",
            "1/1 - 0s - loss: 0.0308 - mean_absolute_error: 0.0308 - val_loss: 0.0525 - val_mean_absolute_error: 0.0525 - 394ms/epoch - 394ms/step\n",
            "Epoch 266/1000\n",
            "1/1 - 0s - loss: 0.0306 - mean_absolute_error: 0.0306 - val_loss: 0.0525 - val_mean_absolute_error: 0.0525 - 386ms/epoch - 386ms/step\n",
            "Epoch 267/1000\n",
            "1/1 - 0s - loss: 0.0316 - mean_absolute_error: 0.0316 - val_loss: 0.0556 - val_mean_absolute_error: 0.0556 - 335ms/epoch - 335ms/step\n",
            "Epoch 268/1000\n",
            "1/1 - 0s - loss: 0.0332 - mean_absolute_error: 0.0332 - val_loss: 0.0507 - val_mean_absolute_error: 0.0507 - 335ms/epoch - 335ms/step\n",
            "Epoch 269/1000\n",
            "1/1 - 0s - loss: 0.0330 - mean_absolute_error: 0.0330 - val_loss: 0.0495 - val_mean_absolute_error: 0.0495 - 388ms/epoch - 388ms/step\n",
            "Epoch 270/1000\n",
            "1/1 - 0s - loss: 0.0325 - mean_absolute_error: 0.0325 - val_loss: 0.0514 - val_mean_absolute_error: 0.0514 - 320ms/epoch - 320ms/step\n",
            "Epoch 271/1000\n",
            "1/1 - 0s - loss: 0.0300 - mean_absolute_error: 0.0300 - val_loss: 0.0537 - val_mean_absolute_error: 0.0537 - 321ms/epoch - 321ms/step\n",
            "Epoch 272/1000\n",
            "1/1 - 0s - loss: 0.0305 - mean_absolute_error: 0.0305 - val_loss: 0.0559 - val_mean_absolute_error: 0.0559 - 328ms/epoch - 328ms/step\n",
            "Epoch 273/1000\n",
            "1/1 - 0s - loss: 0.0325 - mean_absolute_error: 0.0325 - val_loss: 0.0534 - val_mean_absolute_error: 0.0534 - 340ms/epoch - 340ms/step\n",
            "Epoch 274/1000\n",
            "1/1 - 0s - loss: 0.0334 - mean_absolute_error: 0.0334 - val_loss: 0.0523 - val_mean_absolute_error: 0.0523 - 334ms/epoch - 334ms/step\n",
            "Epoch 275/1000\n",
            "1/1 - 0s - loss: 0.0309 - mean_absolute_error: 0.0309 - val_loss: 0.0536 - val_mean_absolute_error: 0.0536 - 388ms/epoch - 388ms/step\n",
            "Epoch 276/1000\n",
            "1/1 - 0s - loss: 0.0337 - mean_absolute_error: 0.0337 - val_loss: 0.0515 - val_mean_absolute_error: 0.0515 - 314ms/epoch - 314ms/step\n",
            "Epoch 277/1000\n",
            "1/1 - 0s - loss: 0.0334 - mean_absolute_error: 0.0334 - val_loss: 0.0530 - val_mean_absolute_error: 0.0530 - 314ms/epoch - 314ms/step\n",
            "Epoch 278/1000\n",
            "1/1 - 0s - loss: 0.0309 - mean_absolute_error: 0.0309 - val_loss: 0.0550 - val_mean_absolute_error: 0.0550 - 389ms/epoch - 389ms/step\n",
            "Epoch 279/1000\n",
            "1/1 - 0s - loss: 0.0327 - mean_absolute_error: 0.0327 - val_loss: 0.0517 - val_mean_absolute_error: 0.0517 - 393ms/epoch - 393ms/step\n",
            "Epoch 280/1000\n",
            "1/1 - 0s - loss: 0.0336 - mean_absolute_error: 0.0336 - val_loss: 0.0521 - val_mean_absolute_error: 0.0521 - 395ms/epoch - 395ms/step\n",
            "Epoch 281/1000\n",
            "1/1 - 0s - loss: 0.0308 - mean_absolute_error: 0.0308 - val_loss: 0.0599 - val_mean_absolute_error: 0.0599 - 380ms/epoch - 380ms/step\n",
            "Epoch 282/1000\n",
            "1/1 - 0s - loss: 0.0388 - mean_absolute_error: 0.0388 - val_loss: 0.0512 - val_mean_absolute_error: 0.0512 - 319ms/epoch - 319ms/step\n",
            "Epoch 283/1000\n",
            "1/1 - 0s - loss: 0.0303 - mean_absolute_error: 0.0303 - val_loss: 0.0507 - val_mean_absolute_error: 0.0507 - 319ms/epoch - 319ms/step\n",
            "Epoch 284/1000\n",
            "1/1 - 0s - loss: 0.0319 - mean_absolute_error: 0.0319 - val_loss: 0.0544 - val_mean_absolute_error: 0.0544 - 383ms/epoch - 383ms/step\n",
            "Epoch 285/1000\n",
            "1/1 - 0s - loss: 0.0347 - mean_absolute_error: 0.0347 - val_loss: 0.0530 - val_mean_absolute_error: 0.0530 - 399ms/epoch - 399ms/step\n",
            "Epoch 286/1000\n",
            "1/1 - 0s - loss: 0.0309 - mean_absolute_error: 0.0309 - val_loss: 0.0536 - val_mean_absolute_error: 0.0536 - 331ms/epoch - 331ms/step\n",
            "Epoch 287/1000\n",
            "1/1 - 0s - loss: 0.0356 - mean_absolute_error: 0.0356 - val_loss: 0.0528 - val_mean_absolute_error: 0.0528 - 383ms/epoch - 383ms/step\n",
            "Epoch 288/1000\n",
            "1/1 - 0s - loss: 0.0308 - mean_absolute_error: 0.0308 - val_loss: 0.0552 - val_mean_absolute_error: 0.0552 - 316ms/epoch - 316ms/step\n",
            "Epoch 289/1000\n",
            "1/1 - 0s - loss: 0.0351 - mean_absolute_error: 0.0351 - val_loss: 0.0525 - val_mean_absolute_error: 0.0525 - 321ms/epoch - 321ms/step\n",
            "Epoch 290/1000\n",
            "1/1 - 0s - loss: 0.0340 - mean_absolute_error: 0.0340 - val_loss: 0.0520 - val_mean_absolute_error: 0.0520 - 329ms/epoch - 329ms/step\n",
            "Epoch 291/1000\n",
            "1/1 - 0s - loss: 0.0336 - mean_absolute_error: 0.0336 - val_loss: 0.0551 - val_mean_absolute_error: 0.0551 - 335ms/epoch - 335ms/step\n",
            "Epoch 292/1000\n",
            "1/1 - 0s - loss: 0.0322 - mean_absolute_error: 0.0322 - val_loss: 0.0537 - val_mean_absolute_error: 0.0537 - 405ms/epoch - 405ms/step\n",
            "Epoch 293/1000\n",
            "1/1 - 0s - loss: 0.0320 - mean_absolute_error: 0.0320 - val_loss: 0.0514 - val_mean_absolute_error: 0.0514 - 375ms/epoch - 375ms/step\n",
            "Epoch 294/1000\n",
            "1/1 - 0s - loss: 0.0347 - mean_absolute_error: 0.0347 - val_loss: 0.0509 - val_mean_absolute_error: 0.0509 - 381ms/epoch - 381ms/step\n",
            "Epoch 295/1000\n",
            "1/1 - 0s - loss: 0.0304 - mean_absolute_error: 0.0304 - val_loss: 0.0539 - val_mean_absolute_error: 0.0539 - 316ms/epoch - 316ms/step\n",
            "Epoch 296/1000\n",
            "1/1 - 0s - loss: 0.0323 - mean_absolute_error: 0.0323 - val_loss: 0.0518 - val_mean_absolute_error: 0.0518 - 384ms/epoch - 384ms/step\n",
            "Epoch 297/1000\n",
            "1/1 - 0s - loss: 0.0321 - mean_absolute_error: 0.0321 - val_loss: 0.0525 - val_mean_absolute_error: 0.0525 - 398ms/epoch - 398ms/step\n",
            "Epoch 298/1000\n",
            "1/1 - 0s - loss: 0.0310 - mean_absolute_error: 0.0310 - val_loss: 0.0545 - val_mean_absolute_error: 0.0545 - 336ms/epoch - 336ms/step\n",
            "Epoch 299/1000\n",
            "1/1 - 0s - loss: 0.0322 - mean_absolute_error: 0.0322 - val_loss: 0.0506 - val_mean_absolute_error: 0.0506 - 319ms/epoch - 319ms/step\n",
            "Epoch 300/1000\n",
            "1/1 - 0s - loss: 0.0305 - mean_absolute_error: 0.0305 - val_loss: 0.0503 - val_mean_absolute_error: 0.0503 - 328ms/epoch - 328ms/step\n",
            "Epoch 301/1000\n",
            "1/1 - 0s - loss: 0.0305 - mean_absolute_error: 0.0305 - val_loss: 0.0523 - val_mean_absolute_error: 0.0523 - 319ms/epoch - 319ms/step\n",
            "Epoch 302/1000\n",
            "1/1 - 0s - loss: 0.0303 - mean_absolute_error: 0.0303 - val_loss: 0.0527 - val_mean_absolute_error: 0.0527 - 383ms/epoch - 383ms/step\n",
            "Epoch 303/1000\n",
            "1/1 - 0s - loss: 0.0303 - mean_absolute_error: 0.0303 - val_loss: 0.0534 - val_mean_absolute_error: 0.0534 - 395ms/epoch - 395ms/step\n",
            "Epoch 304/1000\n",
            "1/1 - 0s - loss: 0.0295 - mean_absolute_error: 0.0295 - val_loss: 0.0544 - val_mean_absolute_error: 0.0544 - 397ms/epoch - 397ms/step\n",
            "Epoch 305/1000\n",
            "1/1 - 0s - loss: 0.0312 - mean_absolute_error: 0.0312 - val_loss: 0.0520 - val_mean_absolute_error: 0.0520 - 379ms/epoch - 379ms/step\n",
            "Epoch 306/1000\n",
            "1/1 - 0s - loss: 0.0309 - mean_absolute_error: 0.0309 - val_loss: 0.0512 - val_mean_absolute_error: 0.0512 - 380ms/epoch - 380ms/step\n",
            "Epoch 307/1000\n",
            "1/1 - 0s - loss: 0.0311 - mean_absolute_error: 0.0311 - val_loss: 0.0543 - val_mean_absolute_error: 0.0543 - 313ms/epoch - 313ms/step\n",
            "Epoch 308/1000\n",
            "1/1 - 0s - loss: 0.0308 - mean_absolute_error: 0.0308 - val_loss: 0.0531 - val_mean_absolute_error: 0.0531 - 384ms/epoch - 384ms/step\n",
            "Epoch 309/1000\n",
            "1/1 - 0s - loss: 0.0320 - mean_absolute_error: 0.0320 - val_loss: 0.0517 - val_mean_absolute_error: 0.0517 - 335ms/epoch - 335ms/step\n",
            "Epoch 310/1000\n",
            "1/1 - 0s - loss: 0.0304 - mean_absolute_error: 0.0304 - val_loss: 0.0516 - val_mean_absolute_error: 0.0516 - 339ms/epoch - 339ms/step\n",
            "Epoch 311/1000\n",
            "1/1 - 0s - loss: 0.0314 - mean_absolute_error: 0.0314 - val_loss: 0.0518 - val_mean_absolute_error: 0.0518 - 345ms/epoch - 345ms/step\n",
            "Epoch 312/1000\n",
            "1/1 - 0s - loss: 0.0320 - mean_absolute_error: 0.0320 - val_loss: 0.0532 - val_mean_absolute_error: 0.0532 - 320ms/epoch - 320ms/step\n",
            "Epoch 313/1000\n",
            "1/1 - 0s - loss: 0.0314 - mean_absolute_error: 0.0314 - val_loss: 0.0568 - val_mean_absolute_error: 0.0568 - 317ms/epoch - 317ms/step\n",
            "Epoch 314/1000\n",
            "1/1 - 0s - loss: 0.0312 - mean_absolute_error: 0.0312 - val_loss: 0.0535 - val_mean_absolute_error: 0.0535 - 393ms/epoch - 393ms/step\n",
            "Epoch 315/1000\n",
            "1/1 - 0s - loss: 0.0301 - mean_absolute_error: 0.0301 - val_loss: 0.0520 - val_mean_absolute_error: 0.0520 - 333ms/epoch - 333ms/step\n",
            "Epoch 316/1000\n",
            "1/1 - 0s - loss: 0.0300 - mean_absolute_error: 0.0300 - val_loss: 0.0512 - val_mean_absolute_error: 0.0512 - 336ms/epoch - 336ms/step\n",
            "Epoch 317/1000\n",
            "1/1 - 0s - loss: 0.0308 - mean_absolute_error: 0.0308 - val_loss: 0.0512 - val_mean_absolute_error: 0.0512 - 405ms/epoch - 405ms/step\n",
            "Epoch 318/1000\n",
            "1/1 - 0s - loss: 0.0299 - mean_absolute_error: 0.0299 - val_loss: 0.0529 - val_mean_absolute_error: 0.0529 - 316ms/epoch - 316ms/step\n",
            "Epoch 319/1000\n",
            "1/1 - 0s - loss: 0.0293 - mean_absolute_error: 0.0293 - val_loss: 0.0535 - val_mean_absolute_error: 0.0535 - 378ms/epoch - 378ms/step\n",
            "Epoch 320/1000\n",
            "1/1 - 0s - loss: 0.0304 - mean_absolute_error: 0.0304 - val_loss: 0.0525 - val_mean_absolute_error: 0.0525 - 383ms/epoch - 383ms/step\n",
            "Epoch 321/1000\n",
            "1/1 - 0s - loss: 0.0306 - mean_absolute_error: 0.0306 - val_loss: 0.0531 - val_mean_absolute_error: 0.0531 - 396ms/epoch - 396ms/step\n",
            "Epoch 322/1000\n",
            "1/1 - 0s - loss: 0.0302 - mean_absolute_error: 0.0302 - val_loss: 0.0510 - val_mean_absolute_error: 0.0510 - 395ms/epoch - 395ms/step\n",
            "Epoch 323/1000\n",
            "1/1 - 0s - loss: 0.0291 - mean_absolute_error: 0.0291 - val_loss: 0.0510 - val_mean_absolute_error: 0.0510 - 311ms/epoch - 311ms/step\n",
            "Epoch 324/1000\n",
            "1/1 - 0s - loss: 0.0302 - mean_absolute_error: 0.0302 - val_loss: 0.0519 - val_mean_absolute_error: 0.0519 - 321ms/epoch - 321ms/step\n",
            "Epoch 325/1000\n",
            "1/1 - 0s - loss: 0.0302 - mean_absolute_error: 0.0302 - val_loss: 0.0530 - val_mean_absolute_error: 0.0530 - 326ms/epoch - 326ms/step\n",
            "Epoch 326/1000\n",
            "1/1 - 0s - loss: 0.0295 - mean_absolute_error: 0.0295 - val_loss: 0.0547 - val_mean_absolute_error: 0.0547 - 383ms/epoch - 383ms/step\n",
            "Epoch 327/1000\n",
            "1/1 - 0s - loss: 0.0294 - mean_absolute_error: 0.0294 - val_loss: 0.0526 - val_mean_absolute_error: 0.0526 - 335ms/epoch - 335ms/step\n",
            "Epoch 328/1000\n",
            "1/1 - 0s - loss: 0.0297 - mean_absolute_error: 0.0297 - val_loss: 0.0529 - val_mean_absolute_error: 0.0529 - 339ms/epoch - 339ms/step\n",
            "Epoch 329/1000\n",
            "1/1 - 0s - loss: 0.0296 - mean_absolute_error: 0.0296 - val_loss: 0.0509 - val_mean_absolute_error: 0.0509 - 336ms/epoch - 336ms/step\n",
            "Epoch 330/1000\n",
            "1/1 - 0s - loss: 0.0295 - mean_absolute_error: 0.0295 - val_loss: 0.0522 - val_mean_absolute_error: 0.0522 - 322ms/epoch - 322ms/step\n",
            "Epoch 331/1000\n",
            "1/1 - 0s - loss: 0.0286 - mean_absolute_error: 0.0286 - val_loss: 0.0513 - val_mean_absolute_error: 0.0513 - 320ms/epoch - 320ms/step\n",
            "Epoch 332/1000\n",
            "1/1 - 0s - loss: 0.0302 - mean_absolute_error: 0.0302 - val_loss: 0.0514 - val_mean_absolute_error: 0.0514 - 322ms/epoch - 322ms/step\n",
            "Epoch 333/1000\n",
            "1/1 - 0s - loss: 0.0288 - mean_absolute_error: 0.0288 - val_loss: 0.0529 - val_mean_absolute_error: 0.0529 - 340ms/epoch - 340ms/step\n",
            "Epoch 334/1000\n",
            "1/1 - 0s - loss: 0.0294 - mean_absolute_error: 0.0294 - val_loss: 0.0518 - val_mean_absolute_error: 0.0518 - 339ms/epoch - 339ms/step\n",
            "Epoch 335/1000\n",
            "1/1 - 0s - loss: 0.0299 - mean_absolute_error: 0.0299 - val_loss: 0.0526 - val_mean_absolute_error: 0.0526 - 390ms/epoch - 390ms/step\n",
            "Epoch 336/1000\n",
            "1/1 - 0s - loss: 0.0294 - mean_absolute_error: 0.0294 - val_loss: 0.0535 - val_mean_absolute_error: 0.0535 - 315ms/epoch - 315ms/step\n",
            "Epoch 337/1000\n",
            "1/1 - 0s - loss: 0.0304 - mean_absolute_error: 0.0304 - val_loss: 0.0510 - val_mean_absolute_error: 0.0510 - 381ms/epoch - 381ms/step\n",
            "Epoch 338/1000\n",
            "1/1 - 0s - loss: 0.0301 - mean_absolute_error: 0.0301 - val_loss: 0.0518 - val_mean_absolute_error: 0.0518 - 314ms/epoch - 314ms/step\n",
            "Epoch 339/1000\n",
            "1/1 - 0s - loss: 0.0295 - mean_absolute_error: 0.0295 - val_loss: 0.0509 - val_mean_absolute_error: 0.0509 - 337ms/epoch - 337ms/step\n",
            "Epoch 340/1000\n",
            "1/1 - 0s - loss: 0.0290 - mean_absolute_error: 0.0290 - val_loss: 0.0525 - val_mean_absolute_error: 0.0525 - 351ms/epoch - 351ms/step\n",
            "Epoch 341/1000\n",
            "1/1 - 0s - loss: 0.0287 - mean_absolute_error: 0.0287 - val_loss: 0.0553 - val_mean_absolute_error: 0.0553 - 387ms/epoch - 387ms/step\n",
            "Epoch 342/1000\n",
            "1/1 - 0s - loss: 0.0297 - mean_absolute_error: 0.0297 - val_loss: 0.0521 - val_mean_absolute_error: 0.0521 - 378ms/epoch - 378ms/step\n",
            "Epoch 343/1000\n",
            "1/1 - 0s - loss: 0.0312 - mean_absolute_error: 0.0312 - val_loss: 0.0526 - val_mean_absolute_error: 0.0526 - 378ms/epoch - 378ms/step\n",
            "Epoch 344/1000\n",
            "1/1 - 0s - loss: 0.0298 - mean_absolute_error: 0.0298 - val_loss: 0.0510 - val_mean_absolute_error: 0.0510 - 319ms/epoch - 319ms/step\n",
            "Epoch 345/1000\n",
            "1/1 - 0s - loss: 0.0288 - mean_absolute_error: 0.0288 - val_loss: 0.0518 - val_mean_absolute_error: 0.0518 - 335ms/epoch - 335ms/step\n",
            "Epoch 346/1000\n",
            "1/1 - 0s - loss: 0.0282 - mean_absolute_error: 0.0282 - val_loss: 0.0535 - val_mean_absolute_error: 0.0535 - 363ms/epoch - 363ms/step\n",
            "Epoch 347/1000\n",
            "1/1 - 0s - loss: 0.0303 - mean_absolute_error: 0.0303 - val_loss: 0.0504 - val_mean_absolute_error: 0.0504 - 319ms/epoch - 319ms/step\n",
            "Epoch 348/1000\n",
            "1/1 - 0s - loss: 0.0293 - mean_absolute_error: 0.0293 - val_loss: 0.0515 - val_mean_absolute_error: 0.0515 - 381ms/epoch - 381ms/step\n",
            "Epoch 349/1000\n",
            "1/1 - 0s - loss: 0.0308 - mean_absolute_error: 0.0308 - val_loss: 0.0511 - val_mean_absolute_error: 0.0511 - 377ms/epoch - 377ms/step\n",
            "Epoch 350/1000\n",
            "1/1 - 0s - loss: 0.0286 - mean_absolute_error: 0.0286 - val_loss: 0.0535 - val_mean_absolute_error: 0.0535 - 315ms/epoch - 315ms/step\n",
            "Epoch 351/1000\n",
            "1/1 - 0s - loss: 0.0285 - mean_absolute_error: 0.0285 - val_loss: 0.0531 - val_mean_absolute_error: 0.0531 - 397ms/epoch - 397ms/step\n",
            "Epoch 352/1000\n",
            "1/1 - 0s - loss: 0.0289 - mean_absolute_error: 0.0289 - val_loss: 0.0522 - val_mean_absolute_error: 0.0522 - 335ms/epoch - 335ms/step\n",
            "Epoch 353/1000\n",
            "1/1 - 0s - loss: 0.0276 - mean_absolute_error: 0.0276 - val_loss: 0.0513 - val_mean_absolute_error: 0.0513 - 384ms/epoch - 384ms/step\n",
            "Epoch 354/1000\n",
            "1/1 - 0s - loss: 0.0278 - mean_absolute_error: 0.0278 - val_loss: 0.0507 - val_mean_absolute_error: 0.0507 - 380ms/epoch - 380ms/step\n",
            "Epoch 355/1000\n",
            "1/1 - 0s - loss: 0.0286 - mean_absolute_error: 0.0286 - val_loss: 0.0518 - val_mean_absolute_error: 0.0518 - 373ms/epoch - 373ms/step\n",
            "Epoch 356/1000\n",
            "1/1 - 0s - loss: 0.0290 - mean_absolute_error: 0.0290 - val_loss: 0.0508 - val_mean_absolute_error: 0.0508 - 313ms/epoch - 313ms/step\n",
            "Epoch 357/1000\n",
            "1/1 - 0s - loss: 0.0286 - mean_absolute_error: 0.0286 - val_loss: 0.0517 - val_mean_absolute_error: 0.0517 - 399ms/epoch - 399ms/step\n",
            "Epoch 358/1000\n",
            "1/1 - 0s - loss: 0.0288 - mean_absolute_error: 0.0288 - val_loss: 0.0508 - val_mean_absolute_error: 0.0508 - 334ms/epoch - 334ms/step\n",
            "Epoch 359/1000\n",
            "1/1 - 0s - loss: 0.0302 - mean_absolute_error: 0.0302 - val_loss: 0.0523 - val_mean_absolute_error: 0.0523 - 317ms/epoch - 317ms/step\n",
            "Epoch 360/1000\n",
            "1/1 - 0s - loss: 0.0276 - mean_absolute_error: 0.0276 - val_loss: 0.0523 - val_mean_absolute_error: 0.0523 - 390ms/epoch - 390ms/step\n",
            "Epoch 361/1000\n",
            "1/1 - 0s - loss: 0.0285 - mean_absolute_error: 0.0285 - val_loss: 0.0513 - val_mean_absolute_error: 0.0513 - 381ms/epoch - 381ms/step\n",
            "Epoch 362/1000\n",
            "1/1 - 0s - loss: 0.0290 - mean_absolute_error: 0.0290 - val_loss: 0.0541 - val_mean_absolute_error: 0.0541 - 314ms/epoch - 314ms/step\n",
            "Epoch 363/1000\n",
            "1/1 - 0s - loss: 0.0298 - mean_absolute_error: 0.0298 - val_loss: 0.0502 - val_mean_absolute_error: 0.0502 - 396ms/epoch - 396ms/step\n",
            "Epoch 364/1000\n",
            "1/1 - 0s - loss: 0.0283 - mean_absolute_error: 0.0283 - val_loss: 0.0507 - val_mean_absolute_error: 0.0507 - 332ms/epoch - 332ms/step\n",
            "Epoch 365/1000\n",
            "1/1 - 0s - loss: 0.0281 - mean_absolute_error: 0.0281 - val_loss: 0.0525 - val_mean_absolute_error: 0.0525 - 382ms/epoch - 382ms/step\n",
            "Epoch 366/1000\n",
            "1/1 - 0s - loss: 0.0282 - mean_absolute_error: 0.0282 - val_loss: 0.0512 - val_mean_absolute_error: 0.0512 - 316ms/epoch - 316ms/step\n",
            "Epoch 367/1000\n",
            "1/1 - 0s - loss: 0.0303 - mean_absolute_error: 0.0303 - val_loss: 0.0515 - val_mean_absolute_error: 0.0515 - 380ms/epoch - 380ms/step\n",
            "Epoch 368/1000\n",
            "1/1 - 0s - loss: 0.0271 - mean_absolute_error: 0.0271 - val_loss: 0.0529 - val_mean_absolute_error: 0.0529 - 377ms/epoch - 377ms/step\n",
            "Epoch 369/1000\n",
            "Restoring model weights from the end of the best epoch: 269.\n",
            "1/1 - 0s - loss: 0.0294 - mean_absolute_error: 0.0294 - val_loss: 0.0508 - val_mean_absolute_error: 0.0508 - 339ms/epoch - 339ms/step\n",
            "Epoch 369: early stopping\n"
          ]
        }
      ],
      "source": [
        "# Training the Model\n",
        "history = model.fit(X_train, y_train, validation_data=(X_test, y_test), epochs =epochs ,callbacks=callbacks_list, batch_size=len(X_train), verbose = 2, shuffle = True)"
      ]
    },
    {
      "cell_type": "code",
      "execution_count": null,
      "metadata": {
        "colab": {
          "base_uri": "https://localhost:8080/",
          "height": 265
        },
        "id": "WE5GRJL2hwPS",
        "outputId": "8e496d2b-e6e2-46b7-9820-1309e68e7c2f"
      },
      "outputs": [
        {
          "output_type": "display_data",
          "data": {
            "text/plain": [
              "<Figure size 432x288 with 1 Axes>"
            ],
            "image/png": "[encoded data removed]"
          },
          "metadata": {
            "needs_background": "light"
          }
        }
      ],
      "source": [
        "# Loss Curve\n",
        "import matplotlib.pyplot as plt\n",
        "from matplotlib import pyplot\n",
        "pyplot.plot(history.history['loss'][:], label='train')\n",
        "pyplot.plot(history.history['val_loss'][:], label='test')\n",
        "pyplot.legend()\n",
        "pyplot.show()"
      ]
    },
    {
      "cell_type": "code",
      "execution_count": null,
      "metadata": {
        "colab": {
          "base_uri": "https://localhost:8080/"
        },
        "id": "1spiBSH7hxFf",
        "outputId": "14f00d1b-f08a-404b-d528-4885b3faa8e1"
      },
      "outputs": [
        {
          "output_type": "stream",
          "name": "stdout",
          "text": [
            "35/35 [==============================] - 1s 8ms/step\n",
            "35/35 [==============================] - 0s 8ms/step\n"
          ]
        }
      ],
      "source": [
        "# prediction\n",
        "yhat_test = model.predict(X_test)\n",
        "yhat_train = model.predict(X_train)"
      ]
    },
    {
      "cell_type": "code",
      "execution_count": null,
      "metadata": {
        "id": "XrqgMWFTnMY3"
      },
      "outputs": [],
      "source": [
        "# Defining The Nash-Sutcliffe Function\n",
        "def nse(predictions, targets):\n",
        "    return (1-(np.sum((predictions-targets)**2)/np.sum((targets-np.mean(targets))**2)))"
      ]
    },
    {
      "cell_type": "code",
      "execution_count": null,
      "metadata": {
        "colab": {
          "base_uri": "https://localhost:8080/"
        },
        "id": "DCbYI4U92Rn4",
        "outputId": "7cd9bd90-3ebc-42e9-c696-73929152aa3d"
      },
      "outputs": [
        {
          "output_type": "stream",
          "name": "stdout",
          "text": [
            "train 0.15448417052321817\n",
            "test 0.18918751354399233\n"
          ]
        }
      ],
      "source": [
        "# Evaluating the residual error using Nash-Sutcliffe and denormalization\n",
        "inv_yhat_train = inv_yhat(yhat_train)\n",
        "inv_yhat_test = inv_yhat(yhat_test)\n",
        "inv_y_train = inv_y(y_train)\n",
        "inv_y_test = inv_y(y_test)\n",
        "print(\"train\",nse(np.array(inv_yhat_train),np.array(inv_y_train)))\n",
        "print(\"test\",nse(np.array(inv_yhat_test),np.array(inv_y_test)))"
      ]
    },
    {
      "cell_type": "code",
      "execution_count": null,
      "metadata": {
        "id": "IcnocrJT3XnT"
      },
      "outputs": [],
      "source": [
        "# Adding Simulated residual error in the data frame\n",
        "df= pd.read_csv(\"/content/drive/MyDrive/Data/FourYearResidualErrorModelling.csv\",index_col=0)\n",
        "df=df[365:].reset_index(drop=True)\n",
        "df.loc[:,\"SimulatedResidualError\"]=df.loc[:,\"Residual Error\"]\n",
        "df.loc[365:,\"SimulatedResidualError\"]=inv_yhat_train+inv_yhat_test"
      ]
    },
    {
      "cell_type": "code",
      "execution_count": null,
      "metadata": {
        "colab": {
          "base_uri": "https://localhost:8080/",
          "height": 283
        },
        "id": "fPeJUGPTK_ZG",
        "outputId": "296c2be6-fd19-41ea-a45c-f39e80c97c1a"
      },
      "outputs": [
        {
          "output_type": "execute_result",
          "data": {
            "text/plain": [
              "[<matplotlib.lines.Line2D at 0x7fe66cf544f0>]"
            ]
          },
          "metadata": {},
          "execution_count": 40
        },
        {
          "output_type": "display_data",
          "data": {
            "text/plain": [
              "<Figure size 432x288 with 1 Axes>"
            ],
            "image/png": "[encoded data removed]"
          },
          "metadata": {
            "needs_background": "light"
          }
        }
      ],
      "source": [
        "# Training Plot\n",
        "import matplotlib.pyplot as plt\n",
        "plt.plot(inv_y_train[:])\n",
        "plt.plot(inv_yhat_train[:])"
      ]
    },
    {
      "cell_type": "code",
      "execution_count": null,
      "metadata": {
        "colab": {
          "base_uri": "https://localhost:8080/",
          "height": 286
        },
        "id": "bjDRZrgkNFF5",
        "outputId": "9161b02f-39e9-4114-e0c7-32e7d79d6999"
      },
      "outputs": [
        {
          "output_type": "execute_result",
          "data": {
            "text/plain": [
              "[<matplotlib.lines.Line2D at 0x7fe66ce99670>]"
            ]
          },
          "metadata": {},
          "execution_count": 41
        },
        {
          "output_type": "display_data",
          "data": {
            "text/plain": [
              "<Figure size 432x288 with 1 Axes>"
            ],
            "image/png": "[encoded data removed]"
          },
          "metadata": {
            "needs_background": "light"
          }
        }
      ],
      "source": [
        "# Testing Plot\n",
        "import matplotlib.pyplot as plt\n",
        "plt.plot(inv_y_test[:])\n",
        "plt.plot(inv_yhat_test[:])"
      ]
    },
    {
      "cell_type": "code",
      "execution_count": null,
      "metadata": {
        "id": "K8cY7hpYDw2c"
      },
      "outputs": [],
      "source": []
    }
  ],
  "metadata": {
    "accelerator": "GPU",
    "colab": {
      "provenance": [],
      "mount_file_id": "1jCXhY7dFejuxeCe1cc_lKBh624zu-3JY",
      "authorship_tag": "ABX9TyN+bbCjFvsT36T2Qwd8/KOS",
      "include_colab_link": true
    },
    "gpuClass": "standard",
    "kernelspec": {
      "display_name": "Python 3",
      "name": "python3"
    },
    "language_info": {
      "name": "python"
    }
  },
  "nbformat": 4,
  "nbformat_minor": 0
}