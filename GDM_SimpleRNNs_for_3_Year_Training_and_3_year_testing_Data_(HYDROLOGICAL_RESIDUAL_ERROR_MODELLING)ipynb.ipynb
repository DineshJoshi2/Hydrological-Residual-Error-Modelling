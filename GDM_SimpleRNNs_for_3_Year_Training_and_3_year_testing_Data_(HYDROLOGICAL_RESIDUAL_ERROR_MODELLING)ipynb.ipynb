{
  "cells": [
    {
      "cell_type": "markdown",
      "metadata": {
        "id": "view-in-github",
        "colab_type": "text"
      },
      "source": [
        "<a href=\"https://colab.research.google.com/github/DineshJoshi2/Hydrological-Residual-Error-Modelling/blob/main/GDM_SimpleRNNs_for_3_Year_Training_and_3_year_testing_Data_(HYDROLOGICAL_RESIDUAL_ERROR_MODELLING)ipynb.ipynb\" target=\"_parent\"><img src=\"https://colab.research.google.com/assets/colab-badge.svg\" alt=\"Open In Colab\"/></a>"
      ]
    },
    {
      "cell_type": "code",
      "execution_count": null,
      "metadata": {
        "id": "7jeFx63m0udd"
      },
      "outputs": [],
      "source": [
        "#For reproducibility of the code\n",
        "import os\n",
        "os.environ[\"PYTHONHASHSEED\"] = \"0\"\n",
        "#os.environ[\"CUDA_VISIBLE_DEVICES\"] = \"\"\n",
        "import numpy as np\n",
        "import random as rn\n",
        "import tensorflow as tf\n",
        "# setting the seed for numpy generated random numbers\n",
        "np.random.seed(73)\n",
        "# setting the seed for python random number\n",
        "rn.seed(723)\n",
        "# setting the seed for tensorflow random number\n",
        "tf.random.set_seed(1)"
      ]
    },
    {
      "cell_type": "code",
      "execution_count": null,
      "metadata": {
        "id": "Zqf4nN2tgm-S"
      },
      "outputs": [],
      "source": [
        "# importing necessary libraries\n",
        "import pandas as pd\n",
        "from keras.models import Sequential\n",
        "from keras.layers import Dense\n",
        "from keras.layers import LSTM\n",
        "from keras import optimizers\n",
        "from tensorflow.keras.layers import Dropout\n",
        "from tensorflow.keras.constraints import MaxNorm\n",
        "from sklearn.model_selection import GridSearchCV"
      ]
    },
    {
      "cell_type": "markdown",
      "metadata": {
        "id": "gt8EEw3mkzbL"
      },
      "source": []
    },
    {
      "cell_type": "code",
      "execution_count": null,
      "metadata": {
        "id": "KoiJ8o9Ap-C8"
      },
      "outputs": [],
      "source": [
        "# importing data sets\n",
        "df= pd.read_csv(\"/content/drive/MyDrive/Data/FourYearResidualErrorModelling.csv\")"
      ]
    },
    {
      "cell_type": "code",
      "execution_count": null,
      "metadata": {
        "id": "1ui5zm0okbdD"
      },
      "outputs": [],
      "source": [
        " # Retriving the necessary columns from the datasets.\n",
        " df=df[['Temperature (Deg C)', 'Precipitation (mm)',\n",
        "       'Precipitation0816 (mm)', 'Temperature0816 (Deg C)', 'Residual Error']]"
      ]
    },
    {
      "cell_type": "markdown",
      "metadata": {
        "id": "xMrLOJN6lNvg"
      },
      "source": []
    },
    {
      "cell_type": "code",
      "execution_count": null,
      "metadata": {
        "id": "gD9i34wfhLQq"
      },
      "outputs": [],
      "source": [
        "# Importing necessary libraries\n",
        "from sklearn.preprocessing import MinMaxScaler\n",
        "from sklearn.preprocessing import LabelEncoder\n",
        "from sklearn.metrics import mean_squared_error"
      ]
    },
    {
      "cell_type": "code",
      "execution_count": null,
      "metadata": {
        "id": "2GMJoi4mhMd4"
      },
      "outputs": [],
      "source": [
        "# extrating the vaules from the data frame\n",
        "values = df.values\n",
        "values\n",
        "# change all datatype to float\n",
        "values = values.astype('float32')"
      ]
    },
    {
      "cell_type": "code",
      "execution_count": null,
      "metadata": {
        "id": "5apZQ8eFhShR"
      },
      "outputs": [],
      "source": [
        "# normalization all features\n",
        "scaler = MinMaxScaler(feature_range=(0, 1))\n",
        "scaled = scaler.fit_transform(values)"
      ]
    },
    {
      "cell_type": "code",
      "execution_count": null,
      "metadata": {
        "id": "WcCjEAWqhTwl"
      },
      "outputs": [],
      "source": [
        "#converting the data into 3D array\n",
        "l=[]\n",
        "for i in range(len(df)-365):\n",
        "    l.append(scaled[i:366+i,:])\n",
        "Data=np.array(l)"
      ]
    },
    {
      "cell_type": "code",
      "execution_count": null,
      "metadata": {
        "colab": {
          "base_uri": "https://localhost:8080/"
        },
        "id": "oRfhHZv3_BkD",
        "outputId": "f7c934c0-e58c-4b9d-d13a-9abf1da7e488"
      },
      "outputs": [
        {
          "output_type": "execute_result",
          "data": {
            "text/plain": [
              "(2192, 366, 5)"
            ]
          },
          "metadata": {},
          "execution_count": 148
        }
      ],
      "source": [
        "# checking the shape of the data\n",
        "Data.shape"
      ]
    },
    {
      "cell_type": "code",
      "execution_count": null,
      "metadata": {
        "id": "eDZtStCWg91W"
      },
      "outputs": [],
      "source": [
        "# Test and Train data\n",
        "X=Data[:,:,:-1]\n",
        "y=Data[:,-1,-1]\n",
        "from sklearn.model_selection import train_test_split\n",
        "X_train, X_test, y_train, y_test = train_test_split(X, y, test_size=0.50, shuffle =False)\n"
      ]
    },
    {
      "cell_type": "code",
      "execution_count": null,
      "metadata": {
        "colab": {
          "base_uri": "https://localhost:8080/"
        },
        "id": "uvcqf1EUxBNG",
        "outputId": "aa23fa80-4a12-4175-bf57-561f491f8830"
      },
      "outputs": [
        {
          "output_type": "stream",
          "name": "stdout",
          "text": [
            "(1096, 366, 4)\n",
            "(1096, 366, 4)\n",
            "(1096,)\n",
            "(1096,)\n"
          ]
        }
      ],
      "source": [
        "# Checking Shape of test and Training Data\n",
        "print(X_train.shape)\n",
        "print(X_test.shape)\n",
        "print(y_train.shape)\n",
        "print(y_test.shape)"
      ]
    },
    {
      "cell_type": "code",
      "execution_count": null,
      "metadata": {
        "id": "fFl6fXJX2OQv"
      },
      "outputs": [],
      "source": [
        "# Useful functions to undo normalization later\n",
        "def inv_yhat(yhat):\n",
        "  yhat=[i[0] for i in yhat]\n",
        "  A=np.zeros((len(yhat),5))\n",
        "  A[:,0]=yhat\n",
        "  A[:,1]=yhat\n",
        "  A[:,2]=yhat\n",
        "  A[:,3]=yhat\n",
        "  A[:,4]=yhat\n",
        "  inv_yhat= scaler.inverse_transform(A)\n",
        "  inv_yhat = [i[-1] for i in inv_yhat]\n",
        "  return inv_yhat\n",
        "def inv_y(y):\n",
        "  A=np.zeros((len(y),5))\n",
        "  A[:,0]=y\n",
        "  A[:,1]=y\n",
        "  A[:,2]=y\n",
        "  A[:,3]=y\n",
        "  A[:,4]=y\n",
        "  inv_y= scaler.inverse_transform(A)\n",
        "  inv_y = [i[-1] for i in inv_y]\n",
        "  return inv_y"
      ]
    },
    {
      "cell_type": "code",
      "execution_count": null,
      "metadata": {
        "id": "onOtGzrYhldO"
      },
      "outputs": [],
      "source": [
        "# Import necessary libraries\n",
        "from keras.models import Sequential\n",
        "from keras.layers import Dense\n",
        "from keras.layers import LSTM\n",
        "from keras.layers import GRU,SimpleRNN\n",
        "from keras import optimizers\n",
        "from tensorflow.keras.layers import Dropout\n",
        "from tensorflow.keras.constraints import MaxNorm\n",
        "from sklearn.model_selection import GridSearchCV"
      ]
    },
    {
      "cell_type": "markdown",
      "metadata": {
        "id": "vOQF1nmHZ1fi"
      },
      "source": []
    },
    {
      "cell_type": "code",
      "execution_count": null,
      "metadata": {
        "id": "UI5kb2CsvxmQ"
      },
      "outputs": [],
      "source": [
        "# Defining model parameters\n",
        "epochs=1000\n",
        "learning_rate1 = 0.001\n",
        "decay_rate = (learning_rate1*64)/epochs"
      ]
    },
    {
      "cell_type": "code",
      "execution_count": null,
      "metadata": {
        "id": "5-sAZbvHvchk"
      },
      "outputs": [],
      "source": [
        "# For reproducibility of the code\n",
        "import os\n",
        "os.environ[\"PYTHONHASHSEED\"] = \"0\"\n",
        "#os.environ[\"CUDA_VISIBLE_DEVICES\"] = \"\"\n",
        "import numpy as np\n",
        "import random as rn\n",
        "import tensorflow as tf\n",
        "# setting the seed for numpy generated random numbers\n",
        "np.random.seed(73)\n",
        "# setting the seed for python random number\n",
        "rn.seed(723)\n",
        "# setting the seed for tensorflow random number\n",
        "tf.random.set_seed(1)"
      ]
    },
    {
      "cell_type": "code",
      "execution_count": null,
      "metadata": {
        "id": "HCuS4o7rNOeT"
      },
      "outputs": [],
      "source": [
        "# Building the Main model\n",
        "model = Sequential()\n",
        "model.add(SimpleRNN(128,kernel_initializer=\"GlorotUniform\",dropout=0.2,return_sequences=False,input_shape=(X_train.shape[1], X_train.shape[2]))) # main model\n",
        "model.add(Dense(1))\n",
        "Adam=tf.keras.optimizers.Adam(learning_rate = learning_rate1, beta_1 = 0.9, beta_2 = 0.999, amsgrad = False)\n",
        "model.compile(loss=\"mae\", optimizer=Adam, metrics=[tf.keras.metrics.MeanAbsoluteError()])"
      ]
    },
    {
      "cell_type": "code",
      "execution_count": null,
      "metadata": {
        "id": "3xpK7Bb2VYiK"
      },
      "outputs": [],
      "source": [
        "#Add Callbacks, e.g. ModelCheckpoints, earlystopping, csvlogger.\n",
        "from keras.callbacks import ModelCheckpoint, EarlyStopping, CSVLogger,LearningRateScheduler\n",
        "\n",
        "#ModelCheckpoint callback saves a model at some interval.\n",
        "filepath=\"saved_models/weights-improvement-{epoch:02d}-{val_acc:.2f}.hdf5\" #File name includes epoch and validation accuracy.\n",
        "#Use Mode = max for accuracy and min for loss.\n",
        "checkpoint = ModelCheckpoint(filepath, monitor='val_acc', verbose=1, save_best_only=True, mode='max')\n",
        "\n",
        "#https://www.tensorflow.org/api_docs/python/tf/keras/callbacks/EarlyStopping\n",
        "early_stop = EarlyStopping(monitor='val_loss',min_delta=0.0001, patience= 100,verbose=1,restore_best_weights=True)\n",
        "#This callback will stop the training when there is no improvement in\n",
        "# the validation loss for three consecutive epochs.\n",
        "\n",
        "#CSVLogger logs epoch, acc, loss, val_acc, val_loss\n",
        "log_csv = CSVLogger(\"/content/drive/MyDrive/Data/LSTMlogs.csv\", separator=',', append=False)\n",
        "\n",
        "#learning rate decay\n",
        "def exp_decay(epoch):\n",
        "  lrate = learning_rate1 * np.exp(-decay_rate*epoch)\n",
        "  return lrate\n",
        "\n",
        "# learning schedule callback\n",
        "lr_rate = LearningRateScheduler(exp_decay)\n",
        "\n",
        "callbacks_list = [early_stop]"
      ]
    },
    {
      "cell_type": "code",
      "execution_count": null,
      "metadata": {
        "colab": {
          "base_uri": "https://localhost:8080/"
        },
        "id": "VoQmBVag3cHx",
        "outputId": "f60cc1cd-7d43-4577-831d-314f50f09ca4"
      },
      "outputs": [
        {
          "output_type": "stream",
          "name": "stdout",
          "text": [
            "Epoch 1/1000\n",
            "1/1 - 3s - loss: 0.4034 - mean_absolute_error: 0.4034 - val_loss: 0.1064 - val_mean_absolute_error: 0.1064 - 3s/epoch - 3s/step\n",
            "Epoch 2/1000\n",
            "1/1 - 2s - loss: 0.1708 - mean_absolute_error: 0.1708 - val_loss: 0.1747 - val_mean_absolute_error: 0.1747 - 2s/epoch - 2s/step\n",
            "Epoch 3/1000\n",
            "1/1 - 1s - loss: 0.2003 - mean_absolute_error: 0.2003 - val_loss: 0.1125 - val_mean_absolute_error: 0.1125 - 1s/epoch - 1s/step\n",
            "Epoch 4/1000\n",
            "1/1 - 1s - loss: 0.1567 - mean_absolute_error: 0.1567 - val_loss: 0.1465 - val_mean_absolute_error: 0.1465 - 1s/epoch - 1s/step\n",
            "Epoch 5/1000\n",
            "1/1 - 1s - loss: 0.1695 - mean_absolute_error: 0.1695 - val_loss: 0.1060 - val_mean_absolute_error: 0.1060 - 1s/epoch - 1s/step\n",
            "Epoch 6/1000\n",
            "1/1 - 1s - loss: 0.1310 - mean_absolute_error: 0.1310 - val_loss: 0.0930 - val_mean_absolute_error: 0.0930 - 1s/epoch - 1s/step\n",
            "Epoch 7/1000\n",
            "1/1 - 1s - loss: 0.1167 - mean_absolute_error: 0.1167 - val_loss: 0.0860 - val_mean_absolute_error: 0.0860 - 1s/epoch - 1s/step\n",
            "Epoch 8/1000\n",
            "1/1 - 1s - loss: 0.1130 - mean_absolute_error: 0.1130 - val_loss: 0.0931 - val_mean_absolute_error: 0.0931 - 1s/epoch - 1s/step\n",
            "Epoch 9/1000\n",
            "1/1 - 1s - loss: 0.1055 - mean_absolute_error: 0.1055 - val_loss: 0.0871 - val_mean_absolute_error: 0.0871 - 1s/epoch - 1s/step\n",
            "Epoch 10/1000\n",
            "1/1 - 2s - loss: 0.0982 - mean_absolute_error: 0.0982 - val_loss: 0.0793 - val_mean_absolute_error: 0.0793 - 2s/epoch - 2s/step\n",
            "Epoch 11/1000\n",
            "1/1 - 2s - loss: 0.0938 - mean_absolute_error: 0.0938 - val_loss: 0.0693 - val_mean_absolute_error: 0.0693 - 2s/epoch - 2s/step\n",
            "Epoch 12/1000\n",
            "1/1 - 1s - loss: 0.0897 - mean_absolute_error: 0.0897 - val_loss: 0.0937 - val_mean_absolute_error: 0.0937 - 1s/epoch - 1s/step\n",
            "Epoch 13/1000\n",
            "1/1 - 1s - loss: 0.0977 - mean_absolute_error: 0.0977 - val_loss: 0.0744 - val_mean_absolute_error: 0.0744 - 1s/epoch - 1s/step\n",
            "Epoch 14/1000\n",
            "1/1 - 1s - loss: 0.0830 - mean_absolute_error: 0.0830 - val_loss: 0.0858 - val_mean_absolute_error: 0.0858 - 1s/epoch - 1s/step\n",
            "Epoch 15/1000\n",
            "1/1 - 1s - loss: 0.0891 - mean_absolute_error: 0.0891 - val_loss: 0.0668 - val_mean_absolute_error: 0.0668 - 1s/epoch - 1s/step\n",
            "Epoch 16/1000\n",
            "1/1 - 1s - loss: 0.0724 - mean_absolute_error: 0.0724 - val_loss: 0.0897 - val_mean_absolute_error: 0.0897 - 1s/epoch - 1s/step\n",
            "Epoch 17/1000\n",
            "1/1 - 1s - loss: 0.0862 - mean_absolute_error: 0.0862 - val_loss: 0.0820 - val_mean_absolute_error: 0.0820 - 1s/epoch - 1s/step\n",
            "Epoch 18/1000\n",
            "1/1 - 1s - loss: 0.0768 - mean_absolute_error: 0.0768 - val_loss: 0.0706 - val_mean_absolute_error: 0.0706 - 1s/epoch - 1s/step\n",
            "Epoch 19/1000\n",
            "1/1 - 2s - loss: 0.0734 - mean_absolute_error: 0.0734 - val_loss: 0.0628 - val_mean_absolute_error: 0.0628 - 2s/epoch - 2s/step\n",
            "Epoch 20/1000\n",
            "1/1 - 2s - loss: 0.0684 - mean_absolute_error: 0.0684 - val_loss: 0.0861 - val_mean_absolute_error: 0.0861 - 2s/epoch - 2s/step\n",
            "Epoch 21/1000\n",
            "1/1 - 1s - loss: 0.0756 - mean_absolute_error: 0.0756 - val_loss: 0.0864 - val_mean_absolute_error: 0.0864 - 1s/epoch - 1s/step\n",
            "Epoch 22/1000\n",
            "1/1 - 1s - loss: 0.0729 - mean_absolute_error: 0.0729 - val_loss: 0.0595 - val_mean_absolute_error: 0.0595 - 1s/epoch - 1s/step\n",
            "Epoch 23/1000\n",
            "1/1 - 1s - loss: 0.0607 - mean_absolute_error: 0.0607 - val_loss: 0.0716 - val_mean_absolute_error: 0.0716 - 1s/epoch - 1s/step\n",
            "Epoch 24/1000\n",
            "1/1 - 1s - loss: 0.0752 - mean_absolute_error: 0.0752 - val_loss: 0.0684 - val_mean_absolute_error: 0.0684 - 1s/epoch - 1s/step\n",
            "Epoch 25/1000\n",
            "1/1 - 1s - loss: 0.0578 - mean_absolute_error: 0.0578 - val_loss: 0.0841 - val_mean_absolute_error: 0.0841 - 1s/epoch - 1s/step\n",
            "Epoch 26/1000\n",
            "1/1 - 1s - loss: 0.0688 - mean_absolute_error: 0.0688 - val_loss: 0.0593 - val_mean_absolute_error: 0.0593 - 1s/epoch - 1s/step\n",
            "Epoch 27/1000\n",
            "1/1 - 1s - loss: 0.0539 - mean_absolute_error: 0.0539 - val_loss: 0.0695 - val_mean_absolute_error: 0.0695 - 1s/epoch - 1s/step\n",
            "Epoch 28/1000\n",
            "1/1 - 2s - loss: 0.0706 - mean_absolute_error: 0.0706 - val_loss: 0.0581 - val_mean_absolute_error: 0.0581 - 2s/epoch - 2s/step\n",
            "Epoch 29/1000\n",
            "1/1 - 2s - loss: 0.0507 - mean_absolute_error: 0.0507 - val_loss: 0.0827 - val_mean_absolute_error: 0.0827 - 2s/epoch - 2s/step\n",
            "Epoch 30/1000\n",
            "1/1 - 1s - loss: 0.0634 - mean_absolute_error: 0.0634 - val_loss: 0.0637 - val_mean_absolute_error: 0.0637 - 1s/epoch - 1s/step\n",
            "Epoch 31/1000\n",
            "1/1 - 1s - loss: 0.0507 - mean_absolute_error: 0.0507 - val_loss: 0.0680 - val_mean_absolute_error: 0.0680 - 1s/epoch - 1s/step\n",
            "Epoch 32/1000\n",
            "1/1 - 1s - loss: 0.0646 - mean_absolute_error: 0.0646 - val_loss: 0.0560 - val_mean_absolute_error: 0.0560 - 1s/epoch - 1s/step\n",
            "Epoch 33/1000\n",
            "1/1 - 1s - loss: 0.0477 - mean_absolute_error: 0.0477 - val_loss: 0.0872 - val_mean_absolute_error: 0.0872 - 1s/epoch - 1s/step\n",
            "Epoch 34/1000\n",
            "1/1 - 1s - loss: 0.0662 - mean_absolute_error: 0.0662 - val_loss: 0.0665 - val_mean_absolute_error: 0.0665 - 1s/epoch - 1s/step\n",
            "Epoch 35/1000\n",
            "1/1 - 1s - loss: 0.0495 - mean_absolute_error: 0.0495 - val_loss: 0.0734 - val_mean_absolute_error: 0.0734 - 1s/epoch - 1s/step\n",
            "Epoch 36/1000\n",
            "1/1 - 1s - loss: 0.0695 - mean_absolute_error: 0.0695 - val_loss: 0.0617 - val_mean_absolute_error: 0.0617 - 1s/epoch - 1s/step\n",
            "Epoch 37/1000\n",
            "1/1 - 2s - loss: 0.0541 - mean_absolute_error: 0.0541 - val_loss: 0.0943 - val_mean_absolute_error: 0.0943 - 2s/epoch - 2s/step\n",
            "Epoch 38/1000\n",
            "1/1 - 2s - loss: 0.0716 - mean_absolute_error: 0.0716 - val_loss: 0.0886 - val_mean_absolute_error: 0.0886 - 2s/epoch - 2s/step\n",
            "Epoch 39/1000\n",
            "1/1 - 2s - loss: 0.0679 - mean_absolute_error: 0.0679 - val_loss: 0.0620 - val_mean_absolute_error: 0.0620 - 2s/epoch - 2s/step\n",
            "Epoch 40/1000\n",
            "1/1 - 1s - loss: 0.0543 - mean_absolute_error: 0.0543 - val_loss: 0.0664 - val_mean_absolute_error: 0.0664 - 1s/epoch - 1s/step\n",
            "Epoch 41/1000\n",
            "1/1 - 1s - loss: 0.0609 - mean_absolute_error: 0.0609 - val_loss: 0.0667 - val_mean_absolute_error: 0.0667 - 1s/epoch - 1s/step\n",
            "Epoch 42/1000\n",
            "1/1 - 1s - loss: 0.0482 - mean_absolute_error: 0.0482 - val_loss: 0.0785 - val_mean_absolute_error: 0.0785 - 1s/epoch - 1s/step\n",
            "Epoch 43/1000\n",
            "1/1 - 1s - loss: 0.0568 - mean_absolute_error: 0.0568 - val_loss: 0.0576 - val_mean_absolute_error: 0.0576 - 1s/epoch - 1s/step\n",
            "Epoch 44/1000\n",
            "1/1 - 1s - loss: 0.0442 - mean_absolute_error: 0.0442 - val_loss: 0.0672 - val_mean_absolute_error: 0.0672 - 1s/epoch - 1s/step\n",
            "Epoch 45/1000\n",
            "1/1 - 1s - loss: 0.0612 - mean_absolute_error: 0.0612 - val_loss: 0.0563 - val_mean_absolute_error: 0.0563 - 1s/epoch - 1s/step\n",
            "Epoch 46/1000\n",
            "1/1 - 2s - loss: 0.0452 - mean_absolute_error: 0.0452 - val_loss: 0.0794 - val_mean_absolute_error: 0.0794 - 2s/epoch - 2s/step\n",
            "Epoch 47/1000\n",
            "1/1 - 3s - loss: 0.0590 - mean_absolute_error: 0.0590 - val_loss: 0.0745 - val_mean_absolute_error: 0.0745 - 3s/epoch - 3s/step\n",
            "Epoch 48/1000\n",
            "1/1 - 2s - loss: 0.0545 - mean_absolute_error: 0.0545 - val_loss: 0.0578 - val_mean_absolute_error: 0.0578 - 2s/epoch - 2s/step\n",
            "Epoch 49/1000\n",
            "1/1 - 1s - loss: 0.0478 - mean_absolute_error: 0.0478 - val_loss: 0.0599 - val_mean_absolute_error: 0.0599 - 1s/epoch - 1s/step\n",
            "Epoch 50/1000\n",
            "1/1 - 1s - loss: 0.0508 - mean_absolute_error: 0.0508 - val_loss: 0.0648 - val_mean_absolute_error: 0.0648 - 1s/epoch - 1s/step\n",
            "Epoch 51/1000\n",
            "1/1 - 1s - loss: 0.0476 - mean_absolute_error: 0.0476 - val_loss: 0.0709 - val_mean_absolute_error: 0.0709 - 1s/epoch - 1s/step\n",
            "Epoch 52/1000\n",
            "1/1 - 1s - loss: 0.0522 - mean_absolute_error: 0.0522 - val_loss: 0.0567 - val_mean_absolute_error: 0.0567 - 1s/epoch - 1s/step\n",
            "Epoch 53/1000\n",
            "1/1 - 1s - loss: 0.0434 - mean_absolute_error: 0.0434 - val_loss: 0.0607 - val_mean_absolute_error: 0.0607 - 1s/epoch - 1s/step\n",
            "Epoch 54/1000\n",
            "1/1 - 1s - loss: 0.0498 - mean_absolute_error: 0.0498 - val_loss: 0.0569 - val_mean_absolute_error: 0.0569 - 1s/epoch - 1s/step\n",
            "Epoch 55/1000\n",
            "1/1 - 2s - loss: 0.0431 - mean_absolute_error: 0.0431 - val_loss: 0.0662 - val_mean_absolute_error: 0.0662 - 2s/epoch - 2s/step\n",
            "Epoch 56/1000\n",
            "1/1 - 3s - loss: 0.0484 - mean_absolute_error: 0.0484 - val_loss: 0.0579 - val_mean_absolute_error: 0.0579 - 3s/epoch - 3s/step\n",
            "Epoch 57/1000\n",
            "1/1 - 2s - loss: 0.0429 - mean_absolute_error: 0.0429 - val_loss: 0.0609 - val_mean_absolute_error: 0.0609 - 2s/epoch - 2s/step\n",
            "Epoch 58/1000\n",
            "1/1 - 1s - loss: 0.0493 - mean_absolute_error: 0.0493 - val_loss: 0.0566 - val_mean_absolute_error: 0.0566 - 1s/epoch - 1s/step\n",
            "Epoch 59/1000\n",
            "1/1 - 1s - loss: 0.0430 - mean_absolute_error: 0.0430 - val_loss: 0.0649 - val_mean_absolute_error: 0.0649 - 1s/epoch - 1s/step\n",
            "Epoch 60/1000\n",
            "1/1 - 1s - loss: 0.0475 - mean_absolute_error: 0.0475 - val_loss: 0.0593 - val_mean_absolute_error: 0.0593 - 1s/epoch - 1s/step\n",
            "Epoch 61/1000\n",
            "1/1 - 1s - loss: 0.0440 - mean_absolute_error: 0.0440 - val_loss: 0.0600 - val_mean_absolute_error: 0.0600 - 1s/epoch - 1s/step\n",
            "Epoch 62/1000\n",
            "1/1 - 1s - loss: 0.0481 - mean_absolute_error: 0.0481 - val_loss: 0.0566 - val_mean_absolute_error: 0.0566 - 1s/epoch - 1s/step\n",
            "Epoch 63/1000\n",
            "1/1 - 1s - loss: 0.0413 - mean_absolute_error: 0.0413 - val_loss: 0.0639 - val_mean_absolute_error: 0.0639 - 1s/epoch - 1s/step\n",
            "Epoch 64/1000\n",
            "1/1 - 2s - loss: 0.0455 - mean_absolute_error: 0.0455 - val_loss: 0.0592 - val_mean_absolute_error: 0.0592 - 2s/epoch - 2s/step\n",
            "Epoch 65/1000\n",
            "1/1 - 2s - loss: 0.0437 - mean_absolute_error: 0.0437 - val_loss: 0.0593 - val_mean_absolute_error: 0.0593 - 2s/epoch - 2s/step\n",
            "Epoch 66/1000\n",
            "1/1 - 2s - loss: 0.0468 - mean_absolute_error: 0.0468 - val_loss: 0.0566 - val_mean_absolute_error: 0.0566 - 2s/epoch - 2s/step\n",
            "Epoch 67/1000\n",
            "1/1 - 1s - loss: 0.0429 - mean_absolute_error: 0.0429 - val_loss: 0.0644 - val_mean_absolute_error: 0.0644 - 1s/epoch - 1s/step\n",
            "Epoch 68/1000\n",
            "1/1 - 1s - loss: 0.0469 - mean_absolute_error: 0.0469 - val_loss: 0.0604 - val_mean_absolute_error: 0.0604 - 1s/epoch - 1s/step\n",
            "Epoch 69/1000\n",
            "1/1 - 1s - loss: 0.0439 - mean_absolute_error: 0.0439 - val_loss: 0.0583 - val_mean_absolute_error: 0.0583 - 1s/epoch - 1s/step\n",
            "Epoch 70/1000\n",
            "1/1 - 1s - loss: 0.0459 - mean_absolute_error: 0.0459 - val_loss: 0.0567 - val_mean_absolute_error: 0.0567 - 1s/epoch - 1s/step\n",
            "Epoch 71/1000\n",
            "1/1 - 1s - loss: 0.0427 - mean_absolute_error: 0.0427 - val_loss: 0.0618 - val_mean_absolute_error: 0.0618 - 1s/epoch - 1s/step\n",
            "Epoch 72/1000\n",
            "1/1 - 1s - loss: 0.0447 - mean_absolute_error: 0.0447 - val_loss: 0.0588 - val_mean_absolute_error: 0.0588 - 1s/epoch - 1s/step\n",
            "Epoch 73/1000\n",
            "1/1 - 2s - loss: 0.0436 - mean_absolute_error: 0.0436 - val_loss: 0.0577 - val_mean_absolute_error: 0.0577 - 2s/epoch - 2s/step\n",
            "Epoch 74/1000\n",
            "1/1 - 2s - loss: 0.0448 - mean_absolute_error: 0.0448 - val_loss: 0.0566 - val_mean_absolute_error: 0.0566 - 2s/epoch - 2s/step\n",
            "Epoch 75/1000\n",
            "1/1 - 2s - loss: 0.0420 - mean_absolute_error: 0.0420 - val_loss: 0.0605 - val_mean_absolute_error: 0.0605 - 2s/epoch - 2s/step\n",
            "Epoch 76/1000\n",
            "1/1 - 1s - loss: 0.0444 - mean_absolute_error: 0.0444 - val_loss: 0.0570 - val_mean_absolute_error: 0.0570 - 1s/epoch - 1s/step\n",
            "Epoch 77/1000\n",
            "1/1 - 1s - loss: 0.0424 - mean_absolute_error: 0.0424 - val_loss: 0.0582 - val_mean_absolute_error: 0.0582 - 1s/epoch - 1s/step\n",
            "Epoch 78/1000\n",
            "1/1 - 1s - loss: 0.0447 - mean_absolute_error: 0.0447 - val_loss: 0.0568 - val_mean_absolute_error: 0.0568 - 1s/epoch - 1s/step\n",
            "Epoch 79/1000\n",
            "1/1 - 1s - loss: 0.0415 - mean_absolute_error: 0.0415 - val_loss: 0.0600 - val_mean_absolute_error: 0.0600 - 1s/epoch - 1s/step\n",
            "Epoch 80/1000\n",
            "1/1 - 1s - loss: 0.0438 - mean_absolute_error: 0.0438 - val_loss: 0.0567 - val_mean_absolute_error: 0.0567 - 1s/epoch - 1s/step\n",
            "Epoch 81/1000\n",
            "1/1 - 1s - loss: 0.0421 - mean_absolute_error: 0.0421 - val_loss: 0.0575 - val_mean_absolute_error: 0.0575 - 1s/epoch - 1s/step\n",
            "Epoch 82/1000\n",
            "1/1 - 2s - loss: 0.0439 - mean_absolute_error: 0.0439 - val_loss: 0.0587 - val_mean_absolute_error: 0.0587 - 2s/epoch - 2s/step\n",
            "Epoch 83/1000\n",
            "1/1 - 2s - loss: 0.0423 - mean_absolute_error: 0.0423 - val_loss: 0.0579 - val_mean_absolute_error: 0.0579 - 2s/epoch - 2s/step\n",
            "Epoch 84/1000\n",
            "1/1 - 2s - loss: 0.0422 - mean_absolute_error: 0.0422 - val_loss: 0.0582 - val_mean_absolute_error: 0.0582 - 2s/epoch - 2s/step\n",
            "Epoch 85/1000\n",
            "1/1 - 1s - loss: 0.0442 - mean_absolute_error: 0.0442 - val_loss: 0.0571 - val_mean_absolute_error: 0.0571 - 1s/epoch - 1s/step\n",
            "Epoch 86/1000\n",
            "1/1 - 1s - loss: 0.0408 - mean_absolute_error: 0.0408 - val_loss: 0.0585 - val_mean_absolute_error: 0.0585 - 1s/epoch - 1s/step\n",
            "Epoch 87/1000\n",
            "1/1 - 1s - loss: 0.0426 - mean_absolute_error: 0.0426 - val_loss: 0.0567 - val_mean_absolute_error: 0.0567 - 1s/epoch - 1s/step\n",
            "Epoch 88/1000\n",
            "1/1 - 1s - loss: 0.0412 - mean_absolute_error: 0.0412 - val_loss: 0.0566 - val_mean_absolute_error: 0.0566 - 1s/epoch - 1s/step\n",
            "Epoch 89/1000\n",
            "1/1 - 1s - loss: 0.0411 - mean_absolute_error: 0.0411 - val_loss: 0.0582 - val_mean_absolute_error: 0.0582 - 1s/epoch - 1s/step\n",
            "Epoch 90/1000\n",
            "1/1 - 1s - loss: 0.0420 - mean_absolute_error: 0.0420 - val_loss: 0.0567 - val_mean_absolute_error: 0.0567 - 1s/epoch - 1s/step\n",
            "Epoch 91/1000\n",
            "1/1 - 2s - loss: 0.0414 - mean_absolute_error: 0.0414 - val_loss: 0.0568 - val_mean_absolute_error: 0.0568 - 2s/epoch - 2s/step\n",
            "Epoch 92/1000\n",
            "1/1 - 3s - loss: 0.0417 - mean_absolute_error: 0.0417 - val_loss: 0.0586 - val_mean_absolute_error: 0.0586 - 3s/epoch - 3s/step\n",
            "Epoch 93/1000\n",
            "1/1 - 2s - loss: 0.0424 - mean_absolute_error: 0.0424 - val_loss: 0.0568 - val_mean_absolute_error: 0.0568 - 2s/epoch - 2s/step\n",
            "Epoch 94/1000\n",
            "1/1 - 1s - loss: 0.0408 - mean_absolute_error: 0.0408 - val_loss: 0.0571 - val_mean_absolute_error: 0.0571 - 1s/epoch - 1s/step\n",
            "Epoch 95/1000\n",
            "1/1 - 1s - loss: 0.0419 - mean_absolute_error: 0.0419 - val_loss: 0.0579 - val_mean_absolute_error: 0.0579 - 1s/epoch - 1s/step\n",
            "Epoch 96/1000\n",
            "1/1 - 1s - loss: 0.0420 - mean_absolute_error: 0.0420 - val_loss: 0.0569 - val_mean_absolute_error: 0.0569 - 1s/epoch - 1s/step\n",
            "Epoch 97/1000\n",
            "1/1 - 1s - loss: 0.0407 - mean_absolute_error: 0.0407 - val_loss: 0.0570 - val_mean_absolute_error: 0.0570 - 1s/epoch - 1s/step\n",
            "Epoch 98/1000\n",
            "1/1 - 1s - loss: 0.0419 - mean_absolute_error: 0.0419 - val_loss: 0.0576 - val_mean_absolute_error: 0.0576 - 1s/epoch - 1s/step\n",
            "Epoch 99/1000\n",
            "1/1 - 1s - loss: 0.0414 - mean_absolute_error: 0.0414 - val_loss: 0.0570 - val_mean_absolute_error: 0.0570 - 1s/epoch - 1s/step\n",
            "Epoch 100/1000\n",
            "1/1 - 2s - loss: 0.0404 - mean_absolute_error: 0.0404 - val_loss: 0.0570 - val_mean_absolute_error: 0.0570 - 2s/epoch - 2s/step\n",
            "Epoch 101/1000\n",
            "1/1 - 2s - loss: 0.0413 - mean_absolute_error: 0.0413 - val_loss: 0.0585 - val_mean_absolute_error: 0.0585 - 2s/epoch - 2s/step\n",
            "Epoch 102/1000\n",
            "1/1 - 2s - loss: 0.0421 - mean_absolute_error: 0.0421 - val_loss: 0.0567 - val_mean_absolute_error: 0.0567 - 2s/epoch - 2s/step\n",
            "Epoch 103/1000\n",
            "1/1 - 1s - loss: 0.0406 - mean_absolute_error: 0.0406 - val_loss: 0.0576 - val_mean_absolute_error: 0.0576 - 1s/epoch - 1s/step\n",
            "Epoch 104/1000\n",
            "1/1 - 1s - loss: 0.0418 - mean_absolute_error: 0.0418 - val_loss: 0.0597 - val_mean_absolute_error: 0.0597 - 1s/epoch - 1s/step\n",
            "Epoch 105/1000\n",
            "1/1 - 1s - loss: 0.0424 - mean_absolute_error: 0.0424 - val_loss: 0.0567 - val_mean_absolute_error: 0.0567 - 1s/epoch - 1s/step\n",
            "Epoch 106/1000\n",
            "1/1 - 1s - loss: 0.0406 - mean_absolute_error: 0.0406 - val_loss: 0.0584 - val_mean_absolute_error: 0.0584 - 1s/epoch - 1s/step\n",
            "Epoch 107/1000\n",
            "1/1 - 1s - loss: 0.0437 - mean_absolute_error: 0.0437 - val_loss: 0.0596 - val_mean_absolute_error: 0.0596 - 1s/epoch - 1s/step\n",
            "Epoch 108/1000\n",
            "1/1 - 1s - loss: 0.0423 - mean_absolute_error: 0.0423 - val_loss: 0.0574 - val_mean_absolute_error: 0.0574 - 1s/epoch - 1s/step\n",
            "Epoch 109/1000\n",
            "1/1 - 2s - loss: 0.0404 - mean_absolute_error: 0.0404 - val_loss: 0.0576 - val_mean_absolute_error: 0.0576 - 2s/epoch - 2s/step\n",
            "Epoch 110/1000\n",
            "1/1 - 3s - loss: 0.0420 - mean_absolute_error: 0.0420 - val_loss: 0.0592 - val_mean_absolute_error: 0.0592 - 3s/epoch - 3s/step\n",
            "Epoch 111/1000\n",
            "1/1 - 2s - loss: 0.0419 - mean_absolute_error: 0.0419 - val_loss: 0.0568 - val_mean_absolute_error: 0.0568 - 2s/epoch - 2s/step\n",
            "Epoch 112/1000\n",
            "1/1 - 1s - loss: 0.0399 - mean_absolute_error: 0.0399 - val_loss: 0.0582 - val_mean_absolute_error: 0.0582 - 1s/epoch - 1s/step\n",
            "Epoch 113/1000\n",
            "1/1 - 1s - loss: 0.0425 - mean_absolute_error: 0.0425 - val_loss: 0.0624 - val_mean_absolute_error: 0.0624 - 1s/epoch - 1s/step\n",
            "Epoch 114/1000\n",
            "1/1 - 1s - loss: 0.0453 - mean_absolute_error: 0.0453 - val_loss: 0.0568 - val_mean_absolute_error: 0.0568 - 1s/epoch - 1s/step\n",
            "Epoch 115/1000\n",
            "1/1 - 1s - loss: 0.0391 - mean_absolute_error: 0.0391 - val_loss: 0.0601 - val_mean_absolute_error: 0.0601 - 1s/epoch - 1s/step\n",
            "Epoch 116/1000\n",
            "1/1 - 1s - loss: 0.0448 - mean_absolute_error: 0.0448 - val_loss: 0.0624 - val_mean_absolute_error: 0.0624 - 1s/epoch - 1s/step\n",
            "Epoch 117/1000\n",
            "1/1 - 1s - loss: 0.0437 - mean_absolute_error: 0.0437 - val_loss: 0.0576 - val_mean_absolute_error: 0.0576 - 1s/epoch - 1s/step\n",
            "Epoch 118/1000\n",
            "1/1 - 1s - loss: 0.0399 - mean_absolute_error: 0.0399 - val_loss: 0.0624 - val_mean_absolute_error: 0.0624 - 1s/epoch - 1s/step\n",
            "Epoch 119/1000\n",
            "1/1 - 2s - loss: 0.0489 - mean_absolute_error: 0.0489 - val_loss: 0.0606 - val_mean_absolute_error: 0.0606 - 2s/epoch - 2s/step\n",
            "Epoch 120/1000\n",
            "1/1 - 2s - loss: 0.0429 - mean_absolute_error: 0.0429 - val_loss: 0.0596 - val_mean_absolute_error: 0.0596 - 2s/epoch - 2s/step\n",
            "Epoch 121/1000\n",
            "1/1 - 1s - loss: 0.0424 - mean_absolute_error: 0.0424 - val_loss: 0.0619 - val_mean_absolute_error: 0.0619 - 1s/epoch - 1s/step\n",
            "Epoch 122/1000\n",
            "1/1 - 1s - loss: 0.0474 - mean_absolute_error: 0.0474 - val_loss: 0.0571 - val_mean_absolute_error: 0.0571 - 1s/epoch - 1s/step\n",
            "Epoch 123/1000\n",
            "1/1 - 1s - loss: 0.0400 - mean_absolute_error: 0.0400 - val_loss: 0.0619 - val_mean_absolute_error: 0.0619 - 1s/epoch - 1s/step\n",
            "Epoch 124/1000\n",
            "1/1 - 1s - loss: 0.0439 - mean_absolute_error: 0.0439 - val_loss: 0.0585 - val_mean_absolute_error: 0.0585 - 1s/epoch - 1s/step\n",
            "Epoch 125/1000\n",
            "1/1 - 1s - loss: 0.0425 - mean_absolute_error: 0.0425 - val_loss: 0.0571 - val_mean_absolute_error: 0.0571 - 1s/epoch - 1s/step\n",
            "Epoch 126/1000\n",
            "1/1 - 1s - loss: 0.0403 - mean_absolute_error: 0.0403 - val_loss: 0.0589 - val_mean_absolute_error: 0.0589 - 1s/epoch - 1s/step\n",
            "Epoch 127/1000\n",
            "1/1 - 1s - loss: 0.0407 - mean_absolute_error: 0.0407 - val_loss: 0.0580 - val_mean_absolute_error: 0.0580 - 1s/epoch - 1s/step\n",
            "Epoch 128/1000\n",
            "1/1 - 3s - loss: 0.0412 - mean_absolute_error: 0.0412 - val_loss: 0.0582 - val_mean_absolute_error: 0.0582 - 3s/epoch - 3s/step\n",
            "Epoch 129/1000\n",
            "1/1 - 3s - loss: 0.0394 - mean_absolute_error: 0.0394 - val_loss: 0.0576 - val_mean_absolute_error: 0.0576 - 3s/epoch - 3s/step\n",
            "Epoch 130/1000\n",
            "1/1 - 3s - loss: 0.0399 - mean_absolute_error: 0.0399 - val_loss: 0.0577 - val_mean_absolute_error: 0.0577 - 3s/epoch - 3s/step\n",
            "Epoch 131/1000\n",
            "1/1 - 1s - loss: 0.0407 - mean_absolute_error: 0.0407 - val_loss: 0.0589 - val_mean_absolute_error: 0.0589 - 1s/epoch - 1s/step\n",
            "Epoch 132/1000\n",
            "Restoring model weights from the end of the best epoch: 32.\n",
            "1/1 - 1s - loss: 0.0418 - mean_absolute_error: 0.0418 - val_loss: 0.0575 - val_mean_absolute_error: 0.0575 - 1s/epoch - 1s/step\n",
            "Epoch 132: early stopping\n"
          ]
        }
      ],
      "source": [
        "# Training the main Model\n",
        "history = model.fit(X_train, y_train, validation_data=(X_test, y_test), epochs =epochs ,callbacks=callbacks_list, batch_size=len(X_train), verbose = 2, shuffle = True)"
      ]
    },
    {
      "cell_type": "code",
      "execution_count": null,
      "metadata": {
        "colab": {
          "base_uri": "https://localhost:8080/",
          "height": 265
        },
        "id": "WE5GRJL2hwPS",
        "outputId": "17ef9bee-88c3-476c-be61-66283db15123"
      },
      "outputs": [
        {
          "output_type": "display_data",
          "data": {
            "text/plain": [
              "<Figure size 432x288 with 1 Axes>"
            ],
            "image/png": "[encoded data removed]"
          },
          "metadata": {
            "needs_background": "light"
          }
        }
      ],
      "source": [
        "# Loss Curve\n",
        "import matplotlib.pyplot as plt\n",
        "from matplotlib import pyplot\n",
        "pyplot.plot(history.history['loss'][:], label='train')\n",
        "pyplot.plot(history.history['val_loss'][:], label='test')\n",
        "pyplot.legend()\n",
        "pyplot.show()"
      ]
    },
    {
      "cell_type": "code",
      "execution_count": null,
      "metadata": {
        "id": "1spiBSH7hxFf",
        "colab": {
          "base_uri": "https://localhost:8080/"
        },
        "outputId": "6aa84663-9255-4d8e-fc0c-72f6f4f8f286"
      },
      "outputs": [
        {
          "output_type": "stream",
          "name": "stdout",
          "text": [
            "35/35 [==============================] - 1s 27ms/step\n",
            "35/35 [==============================] - 1s 27ms/step\n"
          ]
        }
      ],
      "source": [
        "# prediction\n",
        "yhat_test = model.predict(X_test)\n",
        "yhat_train = model.predict(X_train)"
      ]
    },
    {
      "cell_type": "code",
      "execution_count": null,
      "metadata": {
        "id": "XrqgMWFTnMY3"
      },
      "outputs": [],
      "source": [
        "# Defining the Nash-Sutcliffe Function\n",
        "def nse(predictions, targets):\n",
        "    return (1-(np.sum((predictions-targets)**2)/np.sum((targets-np.mean(targets))**2)))"
      ]
    },
    {
      "cell_type": "code",
      "execution_count": null,
      "metadata": {
        "id": "DCbYI4U92Rn4",
        "colab": {
          "base_uri": "https://localhost:8080/"
        },
        "outputId": "91a0648b-ec66-4aa8-8efb-0c9085a06ad1"
      },
      "outputs": [
        {
          "output_type": "stream",
          "name": "stdout",
          "text": [
            "train 0.11262081148811298\n",
            "test 0.01919400685374184\n"
          ]
        }
      ],
      "source": [
        "# Evaluating the residual error using Nash-Sutcliffe and denormalization\n",
        "inv_yhat_train = inv_yhat(yhat_train)\n",
        "inv_yhat_test = inv_yhat(yhat_test)\n",
        "inv_y_train = inv_y(y_train)\n",
        "inv_y_test = inv_y(y_test)\n",
        "print(\"train\",nse(np.array(inv_yhat_train),np.array(inv_y_train)))\n",
        "print(\"test\",nse(np.array(inv_yhat_test),np.array(inv_y_test)))"
      ]
    },
    {
      "cell_type": "code",
      "execution_count": null,
      "metadata": {
        "id": "JCLMsTuPbu_j"
      },
      "outputs": [],
      "source": [
        "# Adding Simulated residual error in the data frame\n",
        "df= pd.read_csv(\"/content/drive/MyDrive/Data/FourYearResidualErrorModelling.csv\",index_col=0)\n",
        "df=df[365:].reset_index(drop=True)\n",
        "df.loc[:,\"SimulatedResidualError\"]=df.loc[:,\"Residual Error\"]\n",
        "df.loc[365:,\"SimulatedResidualError\"]=inv_yhat_train+inv_yhat_test"
      ]
    },
    {
      "cell_type": "code",
      "source": [
        "# Data Frame\n",
        "df"
      ],
      "metadata": {
        "id": "JNwvRX-ons1v"
      },
      "execution_count": null,
      "outputs": []
    },
    {
      "cell_type": "code",
      "execution_count": null,
      "metadata": {
        "id": "fPeJUGPTK_ZG",
        "colab": {
          "base_uri": "https://localhost:8080/",
          "height": 282
        },
        "outputId": "1d25eb2c-c47f-40ba-a5f9-1cf2fc6b015d"
      },
      "outputs": [
        {
          "output_type": "execute_result",
          "data": {
            "text/plain": [
              "[<matplotlib.lines.Line2D at 0x7f13b6b93a90>]"
            ]
          },
          "metadata": {},
          "execution_count": 172
        },
        {
          "output_type": "display_data",
          "data": {
            "text/plain": [
              "<Figure size 432x288 with 1 Axes>"
            ],
            "image/png": "[encoded data removed]"
          },
          "metadata": {
            "needs_background": "light"
          }
        }
      ],
      "source": [
        "# Training Plot\n",
        "import matplotlib.pyplot as plt\n",
        "plt.plot(inv_y_train[:])\n",
        "plt.plot(inv_yhat_train[:])"
      ]
    },
    {
      "cell_type": "code",
      "execution_count": null,
      "metadata": {
        "id": "bjDRZrgkNFF5",
        "colab": {
          "base_uri": "https://localhost:8080/",
          "height": 285
        },
        "outputId": "5b898eb4-bc63-41a4-b93e-bf19fe5b7f3b"
      },
      "outputs": [
        {
          "output_type": "execute_result",
          "data": {
            "text/plain": [
              "[<matplotlib.lines.Line2D at 0x7f13b7457880>]"
            ]
          },
          "metadata": {},
          "execution_count": 173
        },
        {
          "output_type": "display_data",
          "data": {
            "text/plain": [
              "<Figure size 432x288 with 1 Axes>"
            ],
            "image/png": "[encoded data removed]"
          },
          "metadata": {
            "needs_background": "light"
          }
        }
      ],
      "source": [
        "# Testing plot\n",
        "import matplotlib.pyplot as plt\n",
        "plt.plot(inv_y_test[:])\n",
        "plt.plot(inv_yhat_test[:])"
      ]
    }
  ],
  "metadata": {
    "colab": {
      "provenance": [],
      "mount_file_id": "13ZRwo81e2dTHp1eV1wFSsl7YhqybgELD",
      "authorship_tag": "ABX9TyN5pdeMP1eMeDfrAV3pJrjA",
      "include_colab_link": true
    },
    "gpuClass": "standard",
    "kernelspec": {
      "display_name": "Python 3",
      "name": "python3"
    },
    "language_info": {
      "name": "python"
    },
    "accelerator": "GPU"
  },
  "nbformat": 4,
  "nbformat_minor": 0
}