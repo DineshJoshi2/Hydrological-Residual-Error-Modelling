{
  "cells": [
    {
      "cell_type": "markdown",
      "metadata": {
        "id": "view-in-github",
        "colab_type": "text"
      },
      "source": [
        "<a href=\"https://colab.research.google.com/github/DineshJoshi2/Hydrological-Residual-Error-Modelling/blob/main/GRU_ONLY_for_3_Year_Training_and_3_year_testing_Data_(HYDROLOGICAL_RESIDUAL_ERROR_MODELLING).ipynb\" target=\"_parent\"><img src=\"https://colab.research.google.com/assets/colab-badge.svg\" alt=\"Open In Colab\"/></a>"
      ]
    },
    {
      "cell_type": "code",
      "execution_count": null,
      "metadata": {
        "id": "7jeFx63m0udd"
      },
      "outputs": [],
      "source": [
        "# for reproducibility of the code\n",
        "import os\n",
        "os.environ[\"PYTHONHASHSEED\"] = \"0\"\n",
        "import numpy as np\n",
        "import random as rn\n",
        "import tensorflow as tf\n",
        "# setting the seed for numpy generated random numbers\n",
        "np.random.seed(73)\n",
        "# setting the seed for python random number\n",
        "rn.seed(723)\n",
        "# setting the seed for tensorflow random number\n",
        "tf.random.set_seed(1)"
      ]
    },
    {
      "cell_type": "code",
      "execution_count": null,
      "metadata": {
        "id": "Zqf4nN2tgm-S"
      },
      "outputs": [],
      "source": [
        "# importing necessary libraries\n",
        "import pandas as pd\n",
        "from keras.models import Sequential\n",
        "from keras.layers import Dense\n",
        "from keras.layers import LSTM\n",
        "from keras import optimizers\n",
        "from tensorflow.keras.layers import Dropout\n",
        "from tensorflow.keras.constraints import MaxNorm\n",
        "from sklearn.model_selection import GridSearchCV\n"
      ]
    },
    {
      "cell_type": "markdown",
      "metadata": {
        "id": "gt8EEw3mkzbL"
      },
      "source": []
    },
    {
      "cell_type": "code",
      "execution_count": null,
      "metadata": {
        "id": "KoiJ8o9Ap-C8"
      },
      "outputs": [],
      "source": [
        "# loading data set\n",
        "df= pd.read_csv(\"/content/drive/MyDrive/Data/FourYearResidualErrorModelling.csv\")\n",
        "df=df[365:].reset_index(drop=True)"
      ]
    },
    {
      "cell_type": "code",
      "execution_count": null,
      "metadata": {
        "id": "1ui5zm0okbdD"
      },
      "outputs": [],
      "source": [
        "# Retriving the necessary columns from the datasets.\n",
        " df=df[['Temperature (Deg C)', 'Precipitation (mm)',\n",
        "       'Precipitation0816 (mm)', 'Temperature0816 (Deg C)', 'Observed Discharge (m3/s)']]"
      ]
    },
    {
      "cell_type": "markdown",
      "metadata": {
        "id": "xMrLOJN6lNvg"
      },
      "source": []
    },
    {
      "cell_type": "code",
      "execution_count": null,
      "metadata": {
        "id": "gD9i34wfhLQq"
      },
      "outputs": [],
      "source": [
        "from sklearn.preprocessing import MinMaxScaler\n",
        "from sklearn.preprocessing import LabelEncoder\n",
        "from sklearn.metrics import mean_squared_error"
      ]
    },
    {
      "cell_type": "code",
      "execution_count": null,
      "metadata": {
        "id": "2GMJoi4mhMd4"
      },
      "outputs": [],
      "source": [
        "# extrating the vaules from the data frame\n",
        "values = df.values\n",
        "values\n",
        "# change all datatype to float\n",
        "values = values.astype('float32')"
      ]
    },
    {
      "cell_type": "code",
      "execution_count": null,
      "metadata": {
        "id": "5apZQ8eFhShR"
      },
      "outputs": [],
      "source": [
        "# normalization all features\n",
        "scaler = MinMaxScaler(feature_range=(0, 1))\n",
        "scaled = scaler.fit_transform(values)"
      ]
    },
    {
      "cell_type": "code",
      "execution_count": null,
      "metadata": {
        "id": "WcCjEAWqhTwl"
      },
      "outputs": [],
      "source": [
        "#converting the data into 3D array\n",
        "l=[]\n",
        "for i in range(len(df)-365):\n",
        "    l.append(scaled[i:366+i,:])\n",
        "Data=np.array(l)"
      ]
    },
    {
      "cell_type": "code",
      "execution_count": null,
      "metadata": {
        "colab": {
          "base_uri": "https://localhost:8080/"
        },
        "id": "oRfhHZv3_BkD",
        "outputId": "f2a4f371-155e-49d8-b275-89e8dd072bd8"
      },
      "outputs": [
        {
          "output_type": "execute_result",
          "data": {
            "text/plain": [
              "(2192, 366, 5)"
            ]
          },
          "metadata": {},
          "execution_count": 61
        }
      ],
      "source": [
        "# checking the shape of the data\n",
        "Data.shape"
      ]
    },
    {
      "cell_type": "code",
      "execution_count": null,
      "metadata": {
        "id": "eDZtStCWg91W"
      },
      "outputs": [],
      "source": [
        "## test and train data\n",
        "X=Data[:,:,:-1]\n",
        "y=Data[:,-1,-1]\n",
        "from sklearn.model_selection import train_test_split\n",
        "X_train, X_test, y_train, y_test = train_test_split(X, y, test_size=0.50, shuffle =False)\n",
        "#one year Train size 0.833\n",
        "# three year Train size 0.50"
      ]
    },
    {
      "cell_type": "code",
      "execution_count": null,
      "metadata": {
        "colab": {
          "base_uri": "https://localhost:8080/"
        },
        "id": "uvcqf1EUxBNG",
        "outputId": "3d7ed9ac-cfc0-405a-ef8b-f32b4d265998"
      },
      "outputs": [
        {
          "output_type": "stream",
          "name": "stdout",
          "text": [
            "(1096, 366, 4)\n",
            "(1096, 366, 4)\n",
            "(1096,)\n",
            "(1096,)\n"
          ]
        }
      ],
      "source": [
        "print(X_train.shape)\n",
        "print(X_test.shape)\n",
        "print(y_train.shape)\n",
        "print(y_test.shape)"
      ]
    },
    {
      "cell_type": "code",
      "execution_count": null,
      "metadata": {
        "id": "fFl6fXJX2OQv"
      },
      "outputs": [],
      "source": [
        "# Useful functions to undo normalization later\n",
        "def inv_yhat(yhat):\n",
        "  yhat=[i[0] for i in yhat]\n",
        "  A=np.zeros((len(yhat),5))\n",
        "  A[:,0]=yhat\n",
        "  A[:,1]=yhat\n",
        "  A[:,2]=yhat\n",
        "  A[:,3]=yhat\n",
        "  A[:,4]=yhat\n",
        "  inv_yhat= scaler.inverse_transform(A)\n",
        "  inv_yhat = [i[-1] for i in inv_yhat]\n",
        "  return inv_yhat\n",
        "def inv_y(y):\n",
        "  A=np.zeros((len(y),5))\n",
        "  A[:,0]=y\n",
        "  A[:,1]=y\n",
        "  A[:,2]=y\n",
        "  A[:,3]=y\n",
        "  A[:,4]=y\n",
        "  inv_y= scaler.inverse_transform(A)\n",
        "  inv_y = [i[-1] for i in inv_y]\n",
        "  return inv_y"
      ]
    },
    {
      "cell_type": "code",
      "execution_count": null,
      "metadata": {
        "id": "onOtGzrYhldO"
      },
      "outputs": [],
      "source": [
        "#import scikeras\n",
        "from keras.models import Sequential\n",
        "from keras.layers import Dense\n",
        "from keras.layers import LSTM\n",
        "from keras.layers import GRU\n",
        "from keras import optimizers\n",
        "from tensorflow.keras.layers import Dropout\n",
        "from tensorflow.keras.constraints import MaxNorm\n",
        "from sklearn.model_selection import GridSearchCV\n",
        "#from scikeras.wrappers import KerasRegressor"
      ]
    },
    {
      "cell_type": "markdown",
      "metadata": {
        "id": "vOQF1nmHZ1fi"
      },
      "source": []
    },
    {
      "cell_type": "code",
      "execution_count": null,
      "metadata": {
        "id": "UI5kb2CsvxmQ"
      },
      "outputs": [],
      "source": [
        "# Defining Some model parameters\n",
        "epochs=1000\n",
        "learning_rate1 = 0.01\n",
        "#decay_rate = (learning_rate1*32)/epochs\n",
        "decay_rate = (learning_rate1*128)/epochs"
      ]
    },
    {
      "cell_type": "code",
      "execution_count": null,
      "metadata": {
        "id": "5-sAZbvHvchk"
      },
      "outputs": [],
      "source": [
        "# for reproducibility of the code\n",
        "import os\n",
        "os.environ[\"PYTHONHASHSEED\"] = \"0\"\n",
        "import numpy as np\n",
        "import random as rn\n",
        "import tensorflow as tf\n",
        "# setting the seed for numpy generated random numbers\n",
        "np.random.seed(73)\n",
        "# setting the seed for python random number\n",
        "rn.seed(723)\n",
        "# setting the seed for tensorflow random number\n",
        "tf.random.set_seed(1)"
      ]
    },
    {
      "cell_type": "code",
      "execution_count": null,
      "metadata": {
        "id": "HCuS4o7rNOeT"
      },
      "outputs": [],
      "source": [
        "# Building The Main Model\n",
        "model = Sequential()\n",
        "model.add(GRU(128,kernel_initializer=\"GlorotUniform\",return_sequences=False,input_shape=(X_train.shape[1], X_train.shape[2]))) # main model\n",
        "model.add(Dense(1))\n",
        "Adam=tf.keras.optimizers.Adam(learning_rate = learning_rate1, beta_1 = 0.9, beta_2 = 0.999, amsgrad = False)\n",
        "model.compile(loss=\"mae\", optimizer=Adam, metrics=[tf.keras.metrics.MeanAbsoluteError()])"
      ]
    },
    {
      "cell_type": "code",
      "execution_count": null,
      "metadata": {
        "id": "3xpK7Bb2VYiK"
      },
      "outputs": [],
      "source": [
        "#Add Callbacks, e.g. ModelCheckpoints, earlystopping, csvlogger.\n",
        "from keras.callbacks import ModelCheckpoint, EarlyStopping, CSVLogger,LearningRateScheduler\n",
        "\n",
        "#ModelCheckpoint callback saves a model at some interval.\n",
        "filepath=\"saved_models/weights-improvement-{epoch:02d}-{val_acc:.2f}.hdf5\" #File name includes epoch and validation accuracy.\n",
        "#Use Mode = max for accuracy and min for loss.\n",
        "checkpoint = ModelCheckpoint(filepath, monitor='val_acc', verbose=1, save_best_only=True, mode='max')\n",
        "\n",
        "#https://www.tensorflow.org/api_docs/python/tf/keras/callbacks/EarlyStopping\n",
        "early_stop = EarlyStopping(monitor='val_loss',min_delta=0.0001, patience= 100,verbose=1,restore_best_weights=True)\n",
        "#This callback will stop the training when there is no improvement in\n",
        "# the validation loss for three consecutive epochs.\n",
        "\n",
        "#CSVLogger logs epoch, acc, loss, val_acc, val_loss\n",
        "log_csv = CSVLogger(\"/content/drive/MyDrive/Data/LSTMlogs.csv\", separator=',', append=False)\n",
        "\n",
        "#learning rate decay\n",
        "def exp_decay(epoch):\n",
        "  lrate = learning_rate1 * np.exp(-decay_rate*epoch)\n",
        "  return lrate\n",
        "\n",
        "# learning schedule callback\n",
        "lr_rate = LearningRateScheduler(exp_decay)\n",
        "\n",
        "callbacks_list = [early_stop]"
      ]
    },
    {
      "cell_type": "code",
      "execution_count": null,
      "metadata": {
        "colab": {
          "base_uri": "https://localhost:8080/"
        },
        "id": "VoQmBVag3cHx",
        "outputId": "9f8ca6c6-e048-4b11-8658-65943bfd018c"
      },
      "outputs": [
        {
          "output_type": "stream",
          "name": "stdout",
          "text": [
            "Epoch 1/1000\n",
            "1/1 - 2s - loss: 0.2504 - mean_absolute_error: 0.2504 - val_loss: 0.5889 - val_mean_absolute_error: 0.5889 - 2s/epoch - 2s/step\n",
            "Epoch 2/1000\n",
            "1/1 - 0s - loss: 0.6462 - mean_absolute_error: 0.6462 - val_loss: 0.2320 - val_mean_absolute_error: 0.2320 - 215ms/epoch - 215ms/step\n",
            "Epoch 3/1000\n",
            "1/1 - 0s - loss: 0.2504 - mean_absolute_error: 0.2504 - val_loss: 0.1338 - val_mean_absolute_error: 0.1338 - 188ms/epoch - 188ms/step\n",
            "Epoch 4/1000\n",
            "1/1 - 0s - loss: 0.1052 - mean_absolute_error: 0.1052 - val_loss: 0.2530 - val_mean_absolute_error: 0.2530 - 146ms/epoch - 146ms/step\n",
            "Epoch 5/1000\n",
            "1/1 - 0s - loss: 0.2184 - mean_absolute_error: 0.2184 - val_loss: 0.1999 - val_mean_absolute_error: 0.1999 - 172ms/epoch - 172ms/step\n",
            "Epoch 6/1000\n",
            "1/1 - 0s - loss: 0.1642 - mean_absolute_error: 0.1642 - val_loss: 0.1327 - val_mean_absolute_error: 0.1327 - 174ms/epoch - 174ms/step\n",
            "Epoch 7/1000\n",
            "1/1 - 0s - loss: 0.1037 - mean_absolute_error: 0.1037 - val_loss: 0.1448 - val_mean_absolute_error: 0.1448 - 146ms/epoch - 146ms/step\n",
            "Epoch 8/1000\n",
            "1/1 - 0s - loss: 0.1234 - mean_absolute_error: 0.1234 - val_loss: 0.1532 - val_mean_absolute_error: 0.1532 - 176ms/epoch - 176ms/step\n",
            "Epoch 9/1000\n",
            "1/1 - 0s - loss: 0.1355 - mean_absolute_error: 0.1355 - val_loss: 0.1471 - val_mean_absolute_error: 0.1471 - 170ms/epoch - 170ms/step\n",
            "Epoch 10/1000\n",
            "1/1 - 0s - loss: 0.1286 - mean_absolute_error: 0.1286 - val_loss: 0.1323 - val_mean_absolute_error: 0.1323 - 170ms/epoch - 170ms/step\n",
            "Epoch 11/1000\n",
            "1/1 - 0s - loss: 0.1091 - mean_absolute_error: 0.1091 - val_loss: 0.1211 - val_mean_absolute_error: 0.1211 - 168ms/epoch - 168ms/step\n",
            "Epoch 12/1000\n",
            "1/1 - 0s - loss: 0.0900 - mean_absolute_error: 0.0900 - val_loss: 0.1320 - val_mean_absolute_error: 0.1320 - 139ms/epoch - 139ms/step\n",
            "Epoch 13/1000\n",
            "1/1 - 0s - loss: 0.0967 - mean_absolute_error: 0.0967 - val_loss: 0.1472 - val_mean_absolute_error: 0.1472 - 163ms/epoch - 163ms/step\n",
            "Epoch 14/1000\n",
            "1/1 - 0s - loss: 0.1105 - mean_absolute_error: 0.1105 - val_loss: 0.1422 - val_mean_absolute_error: 0.1422 - 138ms/epoch - 138ms/step\n",
            "Epoch 15/1000\n",
            "1/1 - 0s - loss: 0.1054 - mean_absolute_error: 0.1054 - val_loss: 0.1265 - val_mean_absolute_error: 0.1265 - 138ms/epoch - 138ms/step\n",
            "Epoch 16/1000\n",
            "1/1 - 0s - loss: 0.0906 - mean_absolute_error: 0.0906 - val_loss: 0.1145 - val_mean_absolute_error: 0.1145 - 142ms/epoch - 142ms/step\n",
            "Epoch 17/1000\n",
            "1/1 - 0s - loss: 0.0815 - mean_absolute_error: 0.0815 - val_loss: 0.1138 - val_mean_absolute_error: 0.1138 - 140ms/epoch - 140ms/step\n",
            "Epoch 18/1000\n",
            "1/1 - 0s - loss: 0.0857 - mean_absolute_error: 0.0857 - val_loss: 0.1160 - val_mean_absolute_error: 0.1160 - 165ms/epoch - 165ms/step\n",
            "Epoch 19/1000\n",
            "1/1 - 0s - loss: 0.0918 - mean_absolute_error: 0.0918 - val_loss: 0.1138 - val_mean_absolute_error: 0.1138 - 173ms/epoch - 173ms/step\n",
            "Epoch 20/1000\n",
            "1/1 - 0s - loss: 0.0896 - mean_absolute_error: 0.0896 - val_loss: 0.1082 - val_mean_absolute_error: 0.1082 - 157ms/epoch - 157ms/step\n",
            "Epoch 21/1000\n",
            "1/1 - 0s - loss: 0.0800 - mean_absolute_error: 0.0800 - val_loss: 0.1079 - val_mean_absolute_error: 0.1079 - 172ms/epoch - 172ms/step\n",
            "Epoch 22/1000\n",
            "1/1 - 0s - loss: 0.0754 - mean_absolute_error: 0.0754 - val_loss: 0.1127 - val_mean_absolute_error: 0.1127 - 169ms/epoch - 169ms/step\n",
            "Epoch 23/1000\n",
            "1/1 - 0s - loss: 0.0770 - mean_absolute_error: 0.0770 - val_loss: 0.1169 - val_mean_absolute_error: 0.1169 - 170ms/epoch - 170ms/step\n",
            "Epoch 24/1000\n",
            "1/1 - 0s - loss: 0.0794 - mean_absolute_error: 0.0794 - val_loss: 0.1172 - val_mean_absolute_error: 0.1172 - 146ms/epoch - 146ms/step\n",
            "Epoch 25/1000\n",
            "1/1 - 0s - loss: 0.0791 - mean_absolute_error: 0.0791 - val_loss: 0.1128 - val_mean_absolute_error: 0.1128 - 150ms/epoch - 150ms/step\n",
            "Epoch 26/1000\n",
            "1/1 - 0s - loss: 0.0754 - mean_absolute_error: 0.0754 - val_loss: 0.1053 - val_mean_absolute_error: 0.1053 - 182ms/epoch - 182ms/step\n",
            "Epoch 27/1000\n",
            "1/1 - 0s - loss: 0.0704 - mean_absolute_error: 0.0704 - val_loss: 0.0987 - val_mean_absolute_error: 0.0987 - 176ms/epoch - 176ms/step\n",
            "Epoch 28/1000\n",
            "1/1 - 0s - loss: 0.0689 - mean_absolute_error: 0.0689 - val_loss: 0.0952 - val_mean_absolute_error: 0.0952 - 176ms/epoch - 176ms/step\n",
            "Epoch 29/1000\n",
            "1/1 - 0s - loss: 0.0731 - mean_absolute_error: 0.0731 - val_loss: 0.0942 - val_mean_absolute_error: 0.0942 - 172ms/epoch - 172ms/step\n",
            "Epoch 30/1000\n",
            "1/1 - 0s - loss: 0.0714 - mean_absolute_error: 0.0714 - val_loss: 0.0959 - val_mean_absolute_error: 0.0959 - 170ms/epoch - 170ms/step\n",
            "Epoch 31/1000\n",
            "1/1 - 0s - loss: 0.0653 - mean_absolute_error: 0.0653 - val_loss: 0.1002 - val_mean_absolute_error: 0.1002 - 150ms/epoch - 150ms/step\n",
            "Epoch 32/1000\n",
            "1/1 - 0s - loss: 0.0646 - mean_absolute_error: 0.0646 - val_loss: 0.1037 - val_mean_absolute_error: 0.1037 - 178ms/epoch - 178ms/step\n",
            "Epoch 33/1000\n",
            "1/1 - 0s - loss: 0.0663 - mean_absolute_error: 0.0663 - val_loss: 0.1020 - val_mean_absolute_error: 0.1020 - 174ms/epoch - 174ms/step\n",
            "Epoch 34/1000\n",
            "1/1 - 0s - loss: 0.0648 - mean_absolute_error: 0.0648 - val_loss: 0.0956 - val_mean_absolute_error: 0.0956 - 172ms/epoch - 172ms/step\n",
            "Epoch 35/1000\n",
            "1/1 - 0s - loss: 0.0603 - mean_absolute_error: 0.0603 - val_loss: 0.0890 - val_mean_absolute_error: 0.0890 - 174ms/epoch - 174ms/step\n",
            "Epoch 36/1000\n",
            "1/1 - 0s - loss: 0.0585 - mean_absolute_error: 0.0585 - val_loss: 0.0858 - val_mean_absolute_error: 0.0858 - 148ms/epoch - 148ms/step\n",
            "Epoch 37/1000\n",
            "1/1 - 0s - loss: 0.0618 - mean_absolute_error: 0.0618 - val_loss: 0.0862 - val_mean_absolute_error: 0.0862 - 143ms/epoch - 143ms/step\n",
            "Epoch 38/1000\n",
            "1/1 - 0s - loss: 0.0572 - mean_absolute_error: 0.0572 - val_loss: 0.0909 - val_mean_absolute_error: 0.0909 - 167ms/epoch - 167ms/step\n",
            "Epoch 39/1000\n",
            "1/1 - 0s - loss: 0.0560 - mean_absolute_error: 0.0560 - val_loss: 0.0938 - val_mean_absolute_error: 0.0938 - 138ms/epoch - 138ms/step\n",
            "Epoch 40/1000\n",
            "1/1 - 0s - loss: 0.0586 - mean_absolute_error: 0.0586 - val_loss: 0.0902 - val_mean_absolute_error: 0.0902 - 142ms/epoch - 142ms/step\n",
            "Epoch 41/1000\n",
            "1/1 - 0s - loss: 0.0555 - mean_absolute_error: 0.0555 - val_loss: 0.0834 - val_mean_absolute_error: 0.0834 - 168ms/epoch - 168ms/step\n",
            "Epoch 42/1000\n",
            "1/1 - 0s - loss: 0.0542 - mean_absolute_error: 0.0542 - val_loss: 0.0818 - val_mean_absolute_error: 0.0818 - 141ms/epoch - 141ms/step\n",
            "Epoch 43/1000\n",
            "1/1 - 0s - loss: 0.0560 - mean_absolute_error: 0.0560 - val_loss: 0.0850 - val_mean_absolute_error: 0.0850 - 139ms/epoch - 139ms/step\n",
            "Epoch 44/1000\n",
            "1/1 - 0s - loss: 0.0521 - mean_absolute_error: 0.0521 - val_loss: 0.0883 - val_mean_absolute_error: 0.0883 - 140ms/epoch - 140ms/step\n",
            "Epoch 45/1000\n",
            "1/1 - 0s - loss: 0.0540 - mean_absolute_error: 0.0540 - val_loss: 0.0851 - val_mean_absolute_error: 0.0851 - 165ms/epoch - 165ms/step\n",
            "Epoch 46/1000\n",
            "1/1 - 0s - loss: 0.0514 - mean_absolute_error: 0.0514 - val_loss: 0.0800 - val_mean_absolute_error: 0.0800 - 171ms/epoch - 171ms/step\n",
            "Epoch 47/1000\n",
            "1/1 - 0s - loss: 0.0516 - mean_absolute_error: 0.0516 - val_loss: 0.0799 - val_mean_absolute_error: 0.0799 - 169ms/epoch - 169ms/step\n",
            "Epoch 48/1000\n",
            "1/1 - 0s - loss: 0.0502 - mean_absolute_error: 0.0502 - val_loss: 0.0837 - val_mean_absolute_error: 0.0837 - 131ms/epoch - 131ms/step\n",
            "Epoch 49/1000\n",
            "1/1 - 0s - loss: 0.0498 - mean_absolute_error: 0.0498 - val_loss: 0.0835 - val_mean_absolute_error: 0.0835 - 141ms/epoch - 141ms/step\n",
            "Epoch 50/1000\n",
            "1/1 - 0s - loss: 0.0496 - mean_absolute_error: 0.0496 - val_loss: 0.0785 - val_mean_absolute_error: 0.0785 - 142ms/epoch - 142ms/step\n",
            "Epoch 51/1000\n",
            "1/1 - 0s - loss: 0.0477 - mean_absolute_error: 0.0477 - val_loss: 0.0764 - val_mean_absolute_error: 0.0764 - 167ms/epoch - 167ms/step\n",
            "Epoch 52/1000\n",
            "1/1 - 0s - loss: 0.0482 - mean_absolute_error: 0.0482 - val_loss: 0.0781 - val_mean_absolute_error: 0.0781 - 164ms/epoch - 164ms/step\n",
            "Epoch 53/1000\n",
            "1/1 - 0s - loss: 0.0463 - mean_absolute_error: 0.0463 - val_loss: 0.0780 - val_mean_absolute_error: 0.0780 - 138ms/epoch - 138ms/step\n",
            "Epoch 54/1000\n",
            "1/1 - 0s - loss: 0.0462 - mean_absolute_error: 0.0462 - val_loss: 0.0731 - val_mean_absolute_error: 0.0731 - 168ms/epoch - 168ms/step\n",
            "Epoch 55/1000\n",
            "1/1 - 0s - loss: 0.0446 - mean_absolute_error: 0.0446 - val_loss: 0.0701 - val_mean_absolute_error: 0.0701 - 141ms/epoch - 141ms/step\n",
            "Epoch 56/1000\n",
            "1/1 - 0s - loss: 0.0443 - mean_absolute_error: 0.0443 - val_loss: 0.0719 - val_mean_absolute_error: 0.0719 - 139ms/epoch - 139ms/step\n",
            "Epoch 57/1000\n",
            "1/1 - 0s - loss: 0.0431 - mean_absolute_error: 0.0431 - val_loss: 0.0688 - val_mean_absolute_error: 0.0688 - 141ms/epoch - 141ms/step\n",
            "Epoch 58/1000\n",
            "1/1 - 0s - loss: 0.0418 - mean_absolute_error: 0.0418 - val_loss: 0.0630 - val_mean_absolute_error: 0.0630 - 144ms/epoch - 144ms/step\n",
            "Epoch 59/1000\n",
            "1/1 - 0s - loss: 0.0421 - mean_absolute_error: 0.0421 - val_loss: 0.0673 - val_mean_absolute_error: 0.0673 - 166ms/epoch - 166ms/step\n",
            "Epoch 60/1000\n",
            "1/1 - 0s - loss: 0.0411 - mean_absolute_error: 0.0411 - val_loss: 0.0600 - val_mean_absolute_error: 0.0600 - 142ms/epoch - 142ms/step\n",
            "Epoch 61/1000\n",
            "1/1 - 0s - loss: 0.0392 - mean_absolute_error: 0.0392 - val_loss: 0.0610 - val_mean_absolute_error: 0.0610 - 165ms/epoch - 165ms/step\n",
            "Epoch 62/1000\n",
            "1/1 - 0s - loss: 0.0380 - mean_absolute_error: 0.0380 - val_loss: 0.0570 - val_mean_absolute_error: 0.0570 - 168ms/epoch - 168ms/step\n",
            "Epoch 63/1000\n",
            "1/1 - 0s - loss: 0.0373 - mean_absolute_error: 0.0373 - val_loss: 0.0666 - val_mean_absolute_error: 0.0666 - 164ms/epoch - 164ms/step\n",
            "Epoch 64/1000\n",
            "1/1 - 0s - loss: 0.0419 - mean_absolute_error: 0.0419 - val_loss: 0.0590 - val_mean_absolute_error: 0.0590 - 170ms/epoch - 170ms/step\n",
            "Epoch 65/1000\n",
            "1/1 - 0s - loss: 0.0627 - mean_absolute_error: 0.0627 - val_loss: 0.0910 - val_mean_absolute_error: 0.0910 - 140ms/epoch - 140ms/step\n",
            "Epoch 66/1000\n",
            "1/1 - 0s - loss: 0.0642 - mean_absolute_error: 0.0642 - val_loss: 0.0829 - val_mean_absolute_error: 0.0829 - 168ms/epoch - 168ms/step\n",
            "Epoch 67/1000\n",
            "1/1 - 0s - loss: 0.0557 - mean_absolute_error: 0.0557 - val_loss: 0.0730 - val_mean_absolute_error: 0.0730 - 167ms/epoch - 167ms/step\n",
            "Epoch 68/1000\n",
            "1/1 - 0s - loss: 0.0550 - mean_absolute_error: 0.0550 - val_loss: 0.0760 - val_mean_absolute_error: 0.0760 - 167ms/epoch - 167ms/step\n",
            "Epoch 69/1000\n",
            "1/1 - 0s - loss: 0.0626 - mean_absolute_error: 0.0626 - val_loss: 0.0678 - val_mean_absolute_error: 0.0678 - 139ms/epoch - 139ms/step\n",
            "Epoch 70/1000\n",
            "1/1 - 0s - loss: 0.0477 - mean_absolute_error: 0.0477 - val_loss: 0.0780 - val_mean_absolute_error: 0.0780 - 139ms/epoch - 139ms/step\n",
            "Epoch 71/1000\n",
            "1/1 - 0s - loss: 0.0472 - mean_absolute_error: 0.0472 - val_loss: 0.0837 - val_mean_absolute_error: 0.0837 - 144ms/epoch - 144ms/step\n",
            "Epoch 72/1000\n",
            "1/1 - 0s - loss: 0.0512 - mean_absolute_error: 0.0512 - val_loss: 0.0636 - val_mean_absolute_error: 0.0636 - 175ms/epoch - 175ms/step\n",
            "Epoch 73/1000\n",
            "1/1 - 0s - loss: 0.0410 - mean_absolute_error: 0.0410 - val_loss: 0.0544 - val_mean_absolute_error: 0.0544 - 176ms/epoch - 176ms/step\n",
            "Epoch 74/1000\n",
            "1/1 - 0s - loss: 0.0530 - mean_absolute_error: 0.0530 - val_loss: 0.0572 - val_mean_absolute_error: 0.0572 - 170ms/epoch - 170ms/step\n",
            "Epoch 75/1000\n",
            "1/1 - 0s - loss: 0.0413 - mean_absolute_error: 0.0413 - val_loss: 0.0738 - val_mean_absolute_error: 0.0738 - 174ms/epoch - 174ms/step\n",
            "Epoch 76/1000\n",
            "1/1 - 0s - loss: 0.0419 - mean_absolute_error: 0.0419 - val_loss: 0.0735 - val_mean_absolute_error: 0.0735 - 149ms/epoch - 149ms/step\n",
            "Epoch 77/1000\n",
            "1/1 - 0s - loss: 0.0420 - mean_absolute_error: 0.0420 - val_loss: 0.0636 - val_mean_absolute_error: 0.0636 - 178ms/epoch - 178ms/step\n",
            "Epoch 78/1000\n",
            "1/1 - 0s - loss: 0.0415 - mean_absolute_error: 0.0415 - val_loss: 0.0651 - val_mean_absolute_error: 0.0651 - 172ms/epoch - 172ms/step\n",
            "Epoch 79/1000\n",
            "1/1 - 0s - loss: 0.0465 - mean_absolute_error: 0.0465 - val_loss: 0.0632 - val_mean_absolute_error: 0.0632 - 170ms/epoch - 170ms/step\n",
            "Epoch 80/1000\n",
            "1/1 - 0s - loss: 0.0423 - mean_absolute_error: 0.0423 - val_loss: 0.0675 - val_mean_absolute_error: 0.0675 - 174ms/epoch - 174ms/step\n",
            "Epoch 81/1000\n",
            "1/1 - 0s - loss: 0.0379 - mean_absolute_error: 0.0379 - val_loss: 0.0731 - val_mean_absolute_error: 0.0731 - 175ms/epoch - 175ms/step\n",
            "Epoch 82/1000\n",
            "1/1 - 0s - loss: 0.0406 - mean_absolute_error: 0.0406 - val_loss: 0.0618 - val_mean_absolute_error: 0.0618 - 176ms/epoch - 176ms/step\n",
            "Epoch 83/1000\n",
            "1/1 - 0s - loss: 0.0357 - mean_absolute_error: 0.0357 - val_loss: 0.0543 - val_mean_absolute_error: 0.0543 - 172ms/epoch - 172ms/step\n",
            "Epoch 84/1000\n",
            "1/1 - 0s - loss: 0.0404 - mean_absolute_error: 0.0404 - val_loss: 0.0553 - val_mean_absolute_error: 0.0553 - 147ms/epoch - 147ms/step\n",
            "Epoch 85/1000\n",
            "1/1 - 0s - loss: 0.0384 - mean_absolute_error: 0.0384 - val_loss: 0.0653 - val_mean_absolute_error: 0.0653 - 153ms/epoch - 153ms/step\n",
            "Epoch 86/1000\n",
            "1/1 - 0s - loss: 0.0372 - mean_absolute_error: 0.0372 - val_loss: 0.0684 - val_mean_absolute_error: 0.0684 - 147ms/epoch - 147ms/step\n",
            "Epoch 87/1000\n",
            "1/1 - 0s - loss: 0.0375 - mean_absolute_error: 0.0375 - val_loss: 0.0589 - val_mean_absolute_error: 0.0589 - 148ms/epoch - 148ms/step\n",
            "Epoch 88/1000\n",
            "1/1 - 0s - loss: 0.0341 - mean_absolute_error: 0.0341 - val_loss: 0.0580 - val_mean_absolute_error: 0.0580 - 177ms/epoch - 177ms/step\n",
            "Epoch 89/1000\n",
            "1/1 - 0s - loss: 0.0368 - mean_absolute_error: 0.0368 - val_loss: 0.0600 - val_mean_absolute_error: 0.0600 - 173ms/epoch - 173ms/step\n",
            "Epoch 90/1000\n",
            "1/1 - 0s - loss: 0.0345 - mean_absolute_error: 0.0345 - val_loss: 0.0668 - val_mean_absolute_error: 0.0668 - 147ms/epoch - 147ms/step\n",
            "Epoch 91/1000\n",
            "1/1 - 0s - loss: 0.0356 - mean_absolute_error: 0.0356 - val_loss: 0.0614 - val_mean_absolute_error: 0.0614 - 166ms/epoch - 166ms/step\n",
            "Epoch 92/1000\n",
            "1/1 - 0s - loss: 0.0332 - mean_absolute_error: 0.0332 - val_loss: 0.0527 - val_mean_absolute_error: 0.0527 - 167ms/epoch - 167ms/step\n",
            "Epoch 93/1000\n",
            "1/1 - 0s - loss: 0.0341 - mean_absolute_error: 0.0341 - val_loss: 0.0521 - val_mean_absolute_error: 0.0521 - 166ms/epoch - 166ms/step\n",
            "Epoch 94/1000\n",
            "1/1 - 0s - loss: 0.0336 - mean_absolute_error: 0.0336 - val_loss: 0.0608 - val_mean_absolute_error: 0.0608 - 139ms/epoch - 139ms/step\n",
            "Epoch 95/1000\n",
            "1/1 - 0s - loss: 0.0340 - mean_absolute_error: 0.0340 - val_loss: 0.0603 - val_mean_absolute_error: 0.0603 - 164ms/epoch - 164ms/step\n",
            "Epoch 96/1000\n",
            "1/1 - 0s - loss: 0.0331 - mean_absolute_error: 0.0331 - val_loss: 0.0529 - val_mean_absolute_error: 0.0529 - 165ms/epoch - 165ms/step\n",
            "Epoch 97/1000\n",
            "1/1 - 0s - loss: 0.0328 - mean_absolute_error: 0.0328 - val_loss: 0.0540 - val_mean_absolute_error: 0.0540 - 166ms/epoch - 166ms/step\n",
            "Epoch 98/1000\n",
            "1/1 - 0s - loss: 0.0327 - mean_absolute_error: 0.0327 - val_loss: 0.0615 - val_mean_absolute_error: 0.0615 - 164ms/epoch - 164ms/step\n",
            "Epoch 99/1000\n",
            "1/1 - 0s - loss: 0.0321 - mean_absolute_error: 0.0321 - val_loss: 0.0617 - val_mean_absolute_error: 0.0617 - 143ms/epoch - 143ms/step\n",
            "Epoch 100/1000\n",
            "1/1 - 0s - loss: 0.0321 - mean_absolute_error: 0.0321 - val_loss: 0.0532 - val_mean_absolute_error: 0.0532 - 168ms/epoch - 168ms/step\n",
            "Epoch 101/1000\n",
            "1/1 - 0s - loss: 0.0316 - mean_absolute_error: 0.0316 - val_loss: 0.0518 - val_mean_absolute_error: 0.0518 - 143ms/epoch - 143ms/step\n",
            "Epoch 102/1000\n",
            "1/1 - 0s - loss: 0.0314 - mean_absolute_error: 0.0314 - val_loss: 0.0577 - val_mean_absolute_error: 0.0577 - 166ms/epoch - 166ms/step\n",
            "Epoch 103/1000\n",
            "1/1 - 0s - loss: 0.0311 - mean_absolute_error: 0.0311 - val_loss: 0.0566 - val_mean_absolute_error: 0.0566 - 166ms/epoch - 166ms/step\n",
            "Epoch 104/1000\n",
            "1/1 - 0s - loss: 0.0305 - mean_absolute_error: 0.0305 - val_loss: 0.0512 - val_mean_absolute_error: 0.0512 - 143ms/epoch - 143ms/step\n",
            "Epoch 105/1000\n",
            "1/1 - 0s - loss: 0.0305 - mean_absolute_error: 0.0305 - val_loss: 0.0528 - val_mean_absolute_error: 0.0528 - 167ms/epoch - 167ms/step\n",
            "Epoch 106/1000\n",
            "1/1 - 0s - loss: 0.0298 - mean_absolute_error: 0.0298 - val_loss: 0.0587 - val_mean_absolute_error: 0.0587 - 139ms/epoch - 139ms/step\n",
            "Epoch 107/1000\n",
            "1/1 - 0s - loss: 0.0305 - mean_absolute_error: 0.0305 - val_loss: 0.0537 - val_mean_absolute_error: 0.0537 - 146ms/epoch - 146ms/step\n",
            "Epoch 108/1000\n",
            "1/1 - 0s - loss: 0.0289 - mean_absolute_error: 0.0289 - val_loss: 0.0495 - val_mean_absolute_error: 0.0495 - 168ms/epoch - 168ms/step\n",
            "Epoch 109/1000\n",
            "1/1 - 0s - loss: 0.0296 - mean_absolute_error: 0.0296 - val_loss: 0.0531 - val_mean_absolute_error: 0.0531 - 165ms/epoch - 165ms/step\n",
            "Epoch 110/1000\n",
            "1/1 - 0s - loss: 0.0288 - mean_absolute_error: 0.0288 - val_loss: 0.0538 - val_mean_absolute_error: 0.0538 - 145ms/epoch - 145ms/step\n",
            "Epoch 111/1000\n",
            "1/1 - 0s - loss: 0.0286 - mean_absolute_error: 0.0286 - val_loss: 0.0498 - val_mean_absolute_error: 0.0498 - 139ms/epoch - 139ms/step\n",
            "Epoch 112/1000\n",
            "1/1 - 0s - loss: 0.0287 - mean_absolute_error: 0.0287 - val_loss: 0.0516 - val_mean_absolute_error: 0.0516 - 142ms/epoch - 142ms/step\n",
            "Epoch 113/1000\n",
            "1/1 - 0s - loss: 0.0277 - mean_absolute_error: 0.0277 - val_loss: 0.0542 - val_mean_absolute_error: 0.0542 - 141ms/epoch - 141ms/step\n",
            "Epoch 114/1000\n",
            "1/1 - 0s - loss: 0.0281 - mean_absolute_error: 0.0281 - val_loss: 0.0493 - val_mean_absolute_error: 0.0493 - 155ms/epoch - 155ms/step\n",
            "Epoch 115/1000\n",
            "1/1 - 0s - loss: 0.0274 - mean_absolute_error: 0.0274 - val_loss: 0.0489 - val_mean_absolute_error: 0.0489 - 144ms/epoch - 144ms/step\n",
            "Epoch 116/1000\n",
            "1/1 - 0s - loss: 0.0272 - mean_absolute_error: 0.0272 - val_loss: 0.0528 - val_mean_absolute_error: 0.0528 - 166ms/epoch - 166ms/step\n",
            "Epoch 117/1000\n",
            "1/1 - 0s - loss: 0.0270 - mean_absolute_error: 0.0270 - val_loss: 0.0516 - val_mean_absolute_error: 0.0516 - 166ms/epoch - 166ms/step\n",
            "Epoch 118/1000\n",
            "1/1 - 0s - loss: 0.0265 - mean_absolute_error: 0.0265 - val_loss: 0.0488 - val_mean_absolute_error: 0.0488 - 148ms/epoch - 148ms/step\n",
            "Epoch 119/1000\n",
            "1/1 - 0s - loss: 0.0265 - mean_absolute_error: 0.0265 - val_loss: 0.0510 - val_mean_absolute_error: 0.0510 - 167ms/epoch - 167ms/step\n",
            "Epoch 120/1000\n",
            "1/1 - 0s - loss: 0.0261 - mean_absolute_error: 0.0261 - val_loss: 0.0511 - val_mean_absolute_error: 0.0511 - 139ms/epoch - 139ms/step\n",
            "Epoch 121/1000\n",
            "1/1 - 0s - loss: 0.0258 - mean_absolute_error: 0.0258 - val_loss: 0.0493 - val_mean_absolute_error: 0.0493 - 142ms/epoch - 142ms/step\n",
            "Epoch 122/1000\n",
            "1/1 - 0s - loss: 0.0261 - mean_absolute_error: 0.0261 - val_loss: 0.0526 - val_mean_absolute_error: 0.0526 - 167ms/epoch - 167ms/step\n",
            "Epoch 123/1000\n",
            "1/1 - 0s - loss: 0.0261 - mean_absolute_error: 0.0261 - val_loss: 0.0493 - val_mean_absolute_error: 0.0493 - 165ms/epoch - 165ms/step\n",
            "Epoch 124/1000\n",
            "1/1 - 0s - loss: 0.0254 - mean_absolute_error: 0.0254 - val_loss: 0.0511 - val_mean_absolute_error: 0.0511 - 171ms/epoch - 171ms/step\n",
            "Epoch 125/1000\n",
            "1/1 - 0s - loss: 0.0251 - mean_absolute_error: 0.0251 - val_loss: 0.0518 - val_mean_absolute_error: 0.0518 - 164ms/epoch - 164ms/step\n",
            "Epoch 126/1000\n",
            "1/1 - 0s - loss: 0.0250 - mean_absolute_error: 0.0250 - val_loss: 0.0493 - val_mean_absolute_error: 0.0493 - 141ms/epoch - 141ms/step\n",
            "Epoch 127/1000\n",
            "1/1 - 0s - loss: 0.0254 - mean_absolute_error: 0.0254 - val_loss: 0.0538 - val_mean_absolute_error: 0.0538 - 168ms/epoch - 168ms/step\n",
            "Epoch 128/1000\n",
            "1/1 - 0s - loss: 0.0258 - mean_absolute_error: 0.0258 - val_loss: 0.0492 - val_mean_absolute_error: 0.0492 - 167ms/epoch - 167ms/step\n",
            "Epoch 129/1000\n",
            "1/1 - 0s - loss: 0.0259 - mean_absolute_error: 0.0259 - val_loss: 0.0526 - val_mean_absolute_error: 0.0526 - 141ms/epoch - 141ms/step\n",
            "Epoch 130/1000\n",
            "1/1 - 0s - loss: 0.0246 - mean_absolute_error: 0.0246 - val_loss: 0.0511 - val_mean_absolute_error: 0.0511 - 140ms/epoch - 140ms/step\n",
            "Epoch 131/1000\n",
            "1/1 - 0s - loss: 0.0244 - mean_absolute_error: 0.0244 - val_loss: 0.0507 - val_mean_absolute_error: 0.0507 - 166ms/epoch - 166ms/step\n",
            "Epoch 132/1000\n",
            "1/1 - 0s - loss: 0.0243 - mean_absolute_error: 0.0243 - val_loss: 0.0538 - val_mean_absolute_error: 0.0538 - 165ms/epoch - 165ms/step\n",
            "Epoch 133/1000\n",
            "1/1 - 0s - loss: 0.0248 - mean_absolute_error: 0.0248 - val_loss: 0.0496 - val_mean_absolute_error: 0.0496 - 165ms/epoch - 165ms/step\n",
            "Epoch 134/1000\n",
            "1/1 - 0s - loss: 0.0267 - mean_absolute_error: 0.0267 - val_loss: 0.0524 - val_mean_absolute_error: 0.0524 - 165ms/epoch - 165ms/step\n",
            "Epoch 135/1000\n",
            "1/1 - 0s - loss: 0.0240 - mean_absolute_error: 0.0240 - val_loss: 0.0540 - val_mean_absolute_error: 0.0540 - 138ms/epoch - 138ms/step\n",
            "Epoch 136/1000\n",
            "1/1 - 0s - loss: 0.0245 - mean_absolute_error: 0.0245 - val_loss: 0.0491 - val_mean_absolute_error: 0.0491 - 146ms/epoch - 146ms/step\n",
            "Epoch 137/1000\n",
            "1/1 - 0s - loss: 0.0273 - mean_absolute_error: 0.0273 - val_loss: 0.0520 - val_mean_absolute_error: 0.0520 - 168ms/epoch - 168ms/step\n",
            "Epoch 138/1000\n",
            "1/1 - 0s - loss: 0.0237 - mean_absolute_error: 0.0237 - val_loss: 0.0590 - val_mean_absolute_error: 0.0590 - 144ms/epoch - 144ms/step\n",
            "Epoch 139/1000\n",
            "1/1 - 0s - loss: 0.0286 - mean_absolute_error: 0.0286 - val_loss: 0.0521 - val_mean_absolute_error: 0.0521 - 142ms/epoch - 142ms/step\n",
            "Epoch 140/1000\n",
            "1/1 - 0s - loss: 0.0249 - mean_absolute_error: 0.0249 - val_loss: 0.0527 - val_mean_absolute_error: 0.0527 - 168ms/epoch - 168ms/step\n",
            "Epoch 141/1000\n",
            "1/1 - 0s - loss: 0.0301 - mean_absolute_error: 0.0301 - val_loss: 0.0532 - val_mean_absolute_error: 0.0532 - 165ms/epoch - 165ms/step\n",
            "Epoch 142/1000\n",
            "1/1 - 0s - loss: 0.0277 - mean_absolute_error: 0.0277 - val_loss: 0.0577 - val_mean_absolute_error: 0.0577 - 138ms/epoch - 138ms/step\n",
            "Epoch 143/1000\n",
            "1/1 - 0s - loss: 0.0286 - mean_absolute_error: 0.0286 - val_loss: 0.0581 - val_mean_absolute_error: 0.0581 - 167ms/epoch - 167ms/step\n",
            "Epoch 144/1000\n",
            "1/1 - 0s - loss: 0.0296 - mean_absolute_error: 0.0296 - val_loss: 0.0543 - val_mean_absolute_error: 0.0543 - 139ms/epoch - 139ms/step\n",
            "Epoch 145/1000\n",
            "1/1 - 0s - loss: 0.0240 - mean_absolute_error: 0.0240 - val_loss: 0.0521 - val_mean_absolute_error: 0.0521 - 140ms/epoch - 140ms/step\n",
            "Epoch 146/1000\n",
            "1/1 - 0s - loss: 0.0302 - mean_absolute_error: 0.0302 - val_loss: 0.0506 - val_mean_absolute_error: 0.0506 - 169ms/epoch - 169ms/step\n",
            "Epoch 147/1000\n",
            "1/1 - 0s - loss: 0.0274 - mean_absolute_error: 0.0274 - val_loss: 0.0590 - val_mean_absolute_error: 0.0590 - 166ms/epoch - 166ms/step\n",
            "Epoch 148/1000\n",
            "1/1 - 0s - loss: 0.0271 - mean_absolute_error: 0.0271 - val_loss: 0.0553 - val_mean_absolute_error: 0.0553 - 165ms/epoch - 165ms/step\n",
            "Epoch 149/1000\n",
            "1/1 - 0s - loss: 0.0281 - mean_absolute_error: 0.0281 - val_loss: 0.0518 - val_mean_absolute_error: 0.0518 - 139ms/epoch - 139ms/step\n",
            "Epoch 150/1000\n",
            "1/1 - 0s - loss: 0.0237 - mean_absolute_error: 0.0237 - val_loss: 0.0545 - val_mean_absolute_error: 0.0545 - 167ms/epoch - 167ms/step\n",
            "Epoch 151/1000\n",
            "1/1 - 0s - loss: 0.0259 - mean_absolute_error: 0.0259 - val_loss: 0.0513 - val_mean_absolute_error: 0.0513 - 142ms/epoch - 142ms/step\n",
            "Epoch 152/1000\n",
            "1/1 - 0s - loss: 0.0237 - mean_absolute_error: 0.0237 - val_loss: 0.0559 - val_mean_absolute_error: 0.0559 - 169ms/epoch - 169ms/step\n",
            "Epoch 153/1000\n",
            "1/1 - 0s - loss: 0.0248 - mean_absolute_error: 0.0248 - val_loss: 0.0530 - val_mean_absolute_error: 0.0530 - 180ms/epoch - 180ms/step\n",
            "Epoch 154/1000\n",
            "1/1 - 0s - loss: 0.0231 - mean_absolute_error: 0.0231 - val_loss: 0.0521 - val_mean_absolute_error: 0.0521 - 182ms/epoch - 182ms/step\n",
            "Epoch 155/1000\n",
            "1/1 - 0s - loss: 0.0237 - mean_absolute_error: 0.0237 - val_loss: 0.0539 - val_mean_absolute_error: 0.0539 - 172ms/epoch - 172ms/step\n",
            "Epoch 156/1000\n",
            "1/1 - 0s - loss: 0.0234 - mean_absolute_error: 0.0234 - val_loss: 0.0525 - val_mean_absolute_error: 0.0525 - 152ms/epoch - 152ms/step\n",
            "Epoch 157/1000\n",
            "1/1 - 0s - loss: 0.0228 - mean_absolute_error: 0.0228 - val_loss: 0.0523 - val_mean_absolute_error: 0.0523 - 179ms/epoch - 179ms/step\n",
            "Epoch 158/1000\n",
            "1/1 - 0s - loss: 0.0237 - mean_absolute_error: 0.0237 - val_loss: 0.0522 - val_mean_absolute_error: 0.0522 - 152ms/epoch - 152ms/step\n",
            "Epoch 159/1000\n",
            "1/1 - 0s - loss: 0.0225 - mean_absolute_error: 0.0225 - val_loss: 0.0553 - val_mean_absolute_error: 0.0553 - 172ms/epoch - 172ms/step\n",
            "Epoch 160/1000\n",
            "1/1 - 0s - loss: 0.0239 - mean_absolute_error: 0.0239 - val_loss: 0.0513 - val_mean_absolute_error: 0.0513 - 176ms/epoch - 176ms/step\n",
            "Epoch 161/1000\n",
            "1/1 - 0s - loss: 0.0228 - mean_absolute_error: 0.0228 - val_loss: 0.0551 - val_mean_absolute_error: 0.0551 - 147ms/epoch - 147ms/step\n",
            "Epoch 162/1000\n",
            "1/1 - 0s - loss: 0.0243 - mean_absolute_error: 0.0243 - val_loss: 0.0490 - val_mean_absolute_error: 0.0490 - 150ms/epoch - 150ms/step\n",
            "Epoch 163/1000\n",
            "1/1 - 0s - loss: 0.0232 - mean_absolute_error: 0.0232 - val_loss: 0.0545 - val_mean_absolute_error: 0.0545 - 173ms/epoch - 173ms/step\n",
            "Epoch 164/1000\n",
            "1/1 - 0s - loss: 0.0235 - mean_absolute_error: 0.0235 - val_loss: 0.0546 - val_mean_absolute_error: 0.0546 - 260ms/epoch - 260ms/step\n",
            "Epoch 165/1000\n",
            "1/1 - 0s - loss: 0.0235 - mean_absolute_error: 0.0235 - val_loss: 0.0461 - val_mean_absolute_error: 0.0461 - 275ms/epoch - 275ms/step\n",
            "Epoch 166/1000\n",
            "1/1 - 0s - loss: 0.0251 - mean_absolute_error: 0.0251 - val_loss: 0.0576 - val_mean_absolute_error: 0.0576 - 173ms/epoch - 173ms/step\n",
            "Epoch 167/1000\n",
            "1/1 - 0s - loss: 0.0236 - mean_absolute_error: 0.0236 - val_loss: 0.0510 - val_mean_absolute_error: 0.0510 - 173ms/epoch - 173ms/step\n",
            "Epoch 168/1000\n",
            "1/1 - 0s - loss: 0.0223 - mean_absolute_error: 0.0223 - val_loss: 0.0507 - val_mean_absolute_error: 0.0507 - 266ms/epoch - 266ms/step\n",
            "Epoch 169/1000\n",
            "1/1 - 0s - loss: 0.0219 - mean_absolute_error: 0.0219 - val_loss: 0.0582 - val_mean_absolute_error: 0.0582 - 299ms/epoch - 299ms/step\n",
            "Epoch 170/1000\n",
            "1/1 - 0s - loss: 0.0239 - mean_absolute_error: 0.0239 - val_loss: 0.0454 - val_mean_absolute_error: 0.0454 - 170ms/epoch - 170ms/step\n",
            "Epoch 171/1000\n",
            "1/1 - 0s - loss: 0.0243 - mean_absolute_error: 0.0243 - val_loss: 0.0539 - val_mean_absolute_error: 0.0539 - 167ms/epoch - 167ms/step\n",
            "Epoch 172/1000\n",
            "1/1 - 0s - loss: 0.0218 - mean_absolute_error: 0.0218 - val_loss: 0.0550 - val_mean_absolute_error: 0.0550 - 143ms/epoch - 143ms/step\n",
            "Epoch 173/1000\n",
            "1/1 - 0s - loss: 0.0221 - mean_absolute_error: 0.0221 - val_loss: 0.0444 - val_mean_absolute_error: 0.0444 - 219ms/epoch - 219ms/step\n",
            "Epoch 174/1000\n",
            "1/1 - 0s - loss: 0.0250 - mean_absolute_error: 0.0250 - val_loss: 0.0556 - val_mean_absolute_error: 0.0556 - 189ms/epoch - 189ms/step\n",
            "Epoch 175/1000\n",
            "1/1 - 0s - loss: 0.0227 - mean_absolute_error: 0.0227 - val_loss: 0.0549 - val_mean_absolute_error: 0.0549 - 169ms/epoch - 169ms/step\n",
            "Epoch 176/1000\n",
            "1/1 - 0s - loss: 0.0225 - mean_absolute_error: 0.0225 - val_loss: 0.0442 - val_mean_absolute_error: 0.0442 - 167ms/epoch - 167ms/step\n",
            "Epoch 177/1000\n",
            "1/1 - 0s - loss: 0.0246 - mean_absolute_error: 0.0246 - val_loss: 0.0552 - val_mean_absolute_error: 0.0552 - 167ms/epoch - 167ms/step\n",
            "Epoch 178/1000\n",
            "1/1 - 0s - loss: 0.0220 - mean_absolute_error: 0.0220 - val_loss: 0.0545 - val_mean_absolute_error: 0.0545 - 144ms/epoch - 144ms/step\n",
            "Epoch 179/1000\n",
            "1/1 - 0s - loss: 0.0223 - mean_absolute_error: 0.0223 - val_loss: 0.0471 - val_mean_absolute_error: 0.0471 - 151ms/epoch - 151ms/step\n",
            "Epoch 180/1000\n",
            "1/1 - 0s - loss: 0.0226 - mean_absolute_error: 0.0226 - val_loss: 0.0547 - val_mean_absolute_error: 0.0547 - 169ms/epoch - 169ms/step\n",
            "Epoch 181/1000\n",
            "1/1 - 0s - loss: 0.0220 - mean_absolute_error: 0.0220 - val_loss: 0.0542 - val_mean_absolute_error: 0.0542 - 167ms/epoch - 167ms/step\n",
            "Epoch 182/1000\n",
            "1/1 - 0s - loss: 0.0221 - mean_absolute_error: 0.0221 - val_loss: 0.0478 - val_mean_absolute_error: 0.0478 - 140ms/epoch - 140ms/step\n",
            "Epoch 183/1000\n",
            "1/1 - 0s - loss: 0.0223 - mean_absolute_error: 0.0223 - val_loss: 0.0551 - val_mean_absolute_error: 0.0551 - 167ms/epoch - 167ms/step\n",
            "Epoch 184/1000\n",
            "1/1 - 0s - loss: 0.0220 - mean_absolute_error: 0.0220 - val_loss: 0.0529 - val_mean_absolute_error: 0.0529 - 141ms/epoch - 141ms/step\n",
            "Epoch 185/1000\n",
            "1/1 - 0s - loss: 0.0222 - mean_absolute_error: 0.0222 - val_loss: 0.0484 - val_mean_absolute_error: 0.0484 - 166ms/epoch - 166ms/step\n",
            "Epoch 186/1000\n",
            "1/1 - 0s - loss: 0.0217 - mean_absolute_error: 0.0217 - val_loss: 0.0566 - val_mean_absolute_error: 0.0566 - 168ms/epoch - 168ms/step\n",
            "Epoch 187/1000\n",
            "1/1 - 0s - loss: 0.0224 - mean_absolute_error: 0.0224 - val_loss: 0.0524 - val_mean_absolute_error: 0.0524 - 167ms/epoch - 167ms/step\n",
            "Epoch 188/1000\n",
            "1/1 - 0s - loss: 0.0216 - mean_absolute_error: 0.0216 - val_loss: 0.0484 - val_mean_absolute_error: 0.0484 - 142ms/epoch - 142ms/step\n",
            "Epoch 189/1000\n",
            "1/1 - 0s - loss: 0.0212 - mean_absolute_error: 0.0212 - val_loss: 0.0567 - val_mean_absolute_error: 0.0567 - 141ms/epoch - 141ms/step\n",
            "Epoch 190/1000\n",
            "1/1 - 0s - loss: 0.0223 - mean_absolute_error: 0.0223 - val_loss: 0.0512 - val_mean_absolute_error: 0.0512 - 165ms/epoch - 165ms/step\n",
            "Epoch 191/1000\n",
            "1/1 - 0s - loss: 0.0213 - mean_absolute_error: 0.0213 - val_loss: 0.0466 - val_mean_absolute_error: 0.0466 - 170ms/epoch - 170ms/step\n",
            "Epoch 192/1000\n",
            "1/1 - 0s - loss: 0.0218 - mean_absolute_error: 0.0218 - val_loss: 0.0579 - val_mean_absolute_error: 0.0579 - 147ms/epoch - 147ms/step\n",
            "Epoch 193/1000\n",
            "1/1 - 0s - loss: 0.0225 - mean_absolute_error: 0.0225 - val_loss: 0.0487 - val_mean_absolute_error: 0.0487 - 170ms/epoch - 170ms/step\n",
            "Epoch 194/1000\n",
            "1/1 - 0s - loss: 0.0212 - mean_absolute_error: 0.0212 - val_loss: 0.0495 - val_mean_absolute_error: 0.0495 - 140ms/epoch - 140ms/step\n",
            "Epoch 195/1000\n",
            "1/1 - 0s - loss: 0.0211 - mean_absolute_error: 0.0211 - val_loss: 0.0543 - val_mean_absolute_error: 0.0543 - 167ms/epoch - 167ms/step\n",
            "Epoch 196/1000\n",
            "1/1 - 0s - loss: 0.0219 - mean_absolute_error: 0.0219 - val_loss: 0.0502 - val_mean_absolute_error: 0.0502 - 167ms/epoch - 167ms/step\n",
            "Epoch 197/1000\n",
            "1/1 - 0s - loss: 0.0206 - mean_absolute_error: 0.0206 - val_loss: 0.0478 - val_mean_absolute_error: 0.0478 - 171ms/epoch - 171ms/step\n",
            "Epoch 198/1000\n",
            "1/1 - 0s - loss: 0.0208 - mean_absolute_error: 0.0208 - val_loss: 0.0549 - val_mean_absolute_error: 0.0549 - 144ms/epoch - 144ms/step\n",
            "Epoch 199/1000\n",
            "1/1 - 0s - loss: 0.0209 - mean_absolute_error: 0.0209 - val_loss: 0.0472 - val_mean_absolute_error: 0.0472 - 167ms/epoch - 167ms/step\n",
            "Epoch 200/1000\n",
            "1/1 - 0s - loss: 0.0206 - mean_absolute_error: 0.0206 - val_loss: 0.0518 - val_mean_absolute_error: 0.0518 - 140ms/epoch - 140ms/step\n",
            "Epoch 201/1000\n",
            "1/1 - 0s - loss: 0.0223 - mean_absolute_error: 0.0223 - val_loss: 0.0512 - val_mean_absolute_error: 0.0512 - 144ms/epoch - 144ms/step\n",
            "Epoch 202/1000\n",
            "1/1 - 0s - loss: 0.0207 - mean_absolute_error: 0.0207 - val_loss: 0.0497 - val_mean_absolute_error: 0.0497 - 139ms/epoch - 139ms/step\n",
            "Epoch 203/1000\n",
            "1/1 - 0s - loss: 0.0199 - mean_absolute_error: 0.0199 - val_loss: 0.0510 - val_mean_absolute_error: 0.0510 - 142ms/epoch - 142ms/step\n",
            "Epoch 204/1000\n",
            "1/1 - 0s - loss: 0.0201 - mean_absolute_error: 0.0201 - val_loss: 0.0485 - val_mean_absolute_error: 0.0485 - 144ms/epoch - 144ms/step\n",
            "Epoch 205/1000\n",
            "1/1 - 0s - loss: 0.0202 - mean_absolute_error: 0.0202 - val_loss: 0.0528 - val_mean_absolute_error: 0.0528 - 168ms/epoch - 168ms/step\n",
            "Epoch 206/1000\n",
            "1/1 - 0s - loss: 0.0208 - mean_absolute_error: 0.0208 - val_loss: 0.0472 - val_mean_absolute_error: 0.0472 - 141ms/epoch - 141ms/step\n",
            "Epoch 207/1000\n",
            "1/1 - 0s - loss: 0.0206 - mean_absolute_error: 0.0206 - val_loss: 0.0510 - val_mean_absolute_error: 0.0510 - 172ms/epoch - 172ms/step\n",
            "Epoch 208/1000\n",
            "1/1 - 0s - loss: 0.0195 - mean_absolute_error: 0.0195 - val_loss: 0.0508 - val_mean_absolute_error: 0.0508 - 140ms/epoch - 140ms/step\n",
            "Epoch 209/1000\n",
            "1/1 - 0s - loss: 0.0215 - mean_absolute_error: 0.0215 - val_loss: 0.0508 - val_mean_absolute_error: 0.0508 - 142ms/epoch - 142ms/step\n",
            "Epoch 210/1000\n",
            "1/1 - 0s - loss: 0.0204 - mean_absolute_error: 0.0204 - val_loss: 0.0470 - val_mean_absolute_error: 0.0470 - 172ms/epoch - 172ms/step\n",
            "Epoch 211/1000\n",
            "1/1 - 0s - loss: 0.0196 - mean_absolute_error: 0.0196 - val_loss: 0.0530 - val_mean_absolute_error: 0.0530 - 179ms/epoch - 179ms/step\n",
            "Epoch 212/1000\n",
            "1/1 - 0s - loss: 0.0212 - mean_absolute_error: 0.0212 - val_loss: 0.0487 - val_mean_absolute_error: 0.0487 - 140ms/epoch - 140ms/step\n",
            "Epoch 213/1000\n",
            "1/1 - 0s - loss: 0.0195 - mean_absolute_error: 0.0195 - val_loss: 0.0459 - val_mean_absolute_error: 0.0459 - 170ms/epoch - 170ms/step\n",
            "Epoch 214/1000\n",
            "1/1 - 0s - loss: 0.0202 - mean_absolute_error: 0.0202 - val_loss: 0.0558 - val_mean_absolute_error: 0.0558 - 168ms/epoch - 168ms/step\n",
            "Epoch 215/1000\n",
            "1/1 - 0s - loss: 0.0224 - mean_absolute_error: 0.0224 - val_loss: 0.0486 - val_mean_absolute_error: 0.0486 - 142ms/epoch - 142ms/step\n",
            "Epoch 216/1000\n",
            "1/1 - 0s - loss: 0.0191 - mean_absolute_error: 0.0191 - val_loss: 0.0468 - val_mean_absolute_error: 0.0468 - 143ms/epoch - 143ms/step\n",
            "Epoch 217/1000\n",
            "1/1 - 0s - loss: 0.0213 - mean_absolute_error: 0.0213 - val_loss: 0.0514 - val_mean_absolute_error: 0.0514 - 168ms/epoch - 168ms/step\n",
            "Epoch 218/1000\n",
            "1/1 - 0s - loss: 0.0221 - mean_absolute_error: 0.0221 - val_loss: 0.0529 - val_mean_absolute_error: 0.0529 - 146ms/epoch - 146ms/step\n",
            "Epoch 219/1000\n",
            "1/1 - 0s - loss: 0.0220 - mean_absolute_error: 0.0220 - val_loss: 0.0443 - val_mean_absolute_error: 0.0443 - 167ms/epoch - 167ms/step\n",
            "Epoch 220/1000\n",
            "1/1 - 0s - loss: 0.0221 - mean_absolute_error: 0.0221 - val_loss: 0.0579 - val_mean_absolute_error: 0.0579 - 141ms/epoch - 141ms/step\n",
            "Epoch 221/1000\n",
            "1/1 - 0s - loss: 0.0233 - mean_absolute_error: 0.0233 - val_loss: 0.0539 - val_mean_absolute_error: 0.0539 - 141ms/epoch - 141ms/step\n",
            "Epoch 222/1000\n",
            "1/1 - 0s - loss: 0.0201 - mean_absolute_error: 0.0201 - val_loss: 0.0387 - val_mean_absolute_error: 0.0387 - 142ms/epoch - 142ms/step\n",
            "Epoch 223/1000\n",
            "1/1 - 0s - loss: 0.0286 - mean_absolute_error: 0.0286 - val_loss: 0.0522 - val_mean_absolute_error: 0.0522 - 142ms/epoch - 142ms/step\n",
            "Epoch 224/1000\n",
            "1/1 - 0s - loss: 0.0236 - mean_absolute_error: 0.0236 - val_loss: 0.0586 - val_mean_absolute_error: 0.0586 - 142ms/epoch - 142ms/step\n",
            "Epoch 225/1000\n",
            "1/1 - 0s - loss: 0.0244 - mean_absolute_error: 0.0244 - val_loss: 0.0513 - val_mean_absolute_error: 0.0513 - 165ms/epoch - 165ms/step\n",
            "Epoch 226/1000\n",
            "1/1 - 0s - loss: 0.0242 - mean_absolute_error: 0.0242 - val_loss: 0.0459 - val_mean_absolute_error: 0.0459 - 178ms/epoch - 178ms/step\n",
            "Epoch 227/1000\n",
            "1/1 - 0s - loss: 0.0208 - mean_absolute_error: 0.0208 - val_loss: 0.0554 - val_mean_absolute_error: 0.0554 - 143ms/epoch - 143ms/step\n",
            "Epoch 228/1000\n",
            "1/1 - 0s - loss: 0.0247 - mean_absolute_error: 0.0247 - val_loss: 0.0542 - val_mean_absolute_error: 0.0542 - 144ms/epoch - 144ms/step\n",
            "Epoch 229/1000\n",
            "1/1 - 0s - loss: 0.0217 - mean_absolute_error: 0.0217 - val_loss: 0.0436 - val_mean_absolute_error: 0.0436 - 142ms/epoch - 142ms/step\n",
            "Epoch 230/1000\n",
            "1/1 - 0s - loss: 0.0245 - mean_absolute_error: 0.0245 - val_loss: 0.0526 - val_mean_absolute_error: 0.0526 - 166ms/epoch - 166ms/step\n",
            "Epoch 231/1000\n",
            "1/1 - 0s - loss: 0.0230 - mean_absolute_error: 0.0230 - val_loss: 0.0583 - val_mean_absolute_error: 0.0583 - 143ms/epoch - 143ms/step\n",
            "Epoch 232/1000\n",
            "1/1 - 0s - loss: 0.0234 - mean_absolute_error: 0.0234 - val_loss: 0.0498 - val_mean_absolute_error: 0.0498 - 177ms/epoch - 177ms/step\n",
            "Epoch 233/1000\n",
            "1/1 - 0s - loss: 0.0199 - mean_absolute_error: 0.0199 - val_loss: 0.0425 - val_mean_absolute_error: 0.0425 - 175ms/epoch - 175ms/step\n",
            "Epoch 234/1000\n",
            "1/1 - 0s - loss: 0.0244 - mean_absolute_error: 0.0244 - val_loss: 0.0483 - val_mean_absolute_error: 0.0483 - 171ms/epoch - 171ms/step\n",
            "Epoch 235/1000\n",
            "1/1 - 0s - loss: 0.0208 - mean_absolute_error: 0.0208 - val_loss: 0.0536 - val_mean_absolute_error: 0.0536 - 172ms/epoch - 172ms/step\n",
            "Epoch 236/1000\n",
            "1/1 - 0s - loss: 0.0207 - mean_absolute_error: 0.0207 - val_loss: 0.0497 - val_mean_absolute_error: 0.0497 - 174ms/epoch - 174ms/step\n",
            "Epoch 237/1000\n",
            "1/1 - 0s - loss: 0.0225 - mean_absolute_error: 0.0225 - val_loss: 0.0461 - val_mean_absolute_error: 0.0461 - 175ms/epoch - 175ms/step\n",
            "Epoch 238/1000\n",
            "1/1 - 0s - loss: 0.0210 - mean_absolute_error: 0.0210 - val_loss: 0.0526 - val_mean_absolute_error: 0.0526 - 175ms/epoch - 175ms/step\n",
            "Epoch 239/1000\n",
            "1/1 - 0s - loss: 0.0225 - mean_absolute_error: 0.0225 - val_loss: 0.0500 - val_mean_absolute_error: 0.0500 - 180ms/epoch - 180ms/step\n",
            "Epoch 240/1000\n",
            "1/1 - 0s - loss: 0.0212 - mean_absolute_error: 0.0212 - val_loss: 0.0429 - val_mean_absolute_error: 0.0429 - 170ms/epoch - 170ms/step\n",
            "Epoch 241/1000\n",
            "1/1 - 0s - loss: 0.0239 - mean_absolute_error: 0.0239 - val_loss: 0.0444 - val_mean_absolute_error: 0.0444 - 184ms/epoch - 184ms/step\n",
            "Epoch 242/1000\n",
            "1/1 - 0s - loss: 0.0230 - mean_absolute_error: 0.0230 - val_loss: 0.0513 - val_mean_absolute_error: 0.0513 - 173ms/epoch - 173ms/step\n",
            "Epoch 243/1000\n",
            "1/1 - 0s - loss: 0.0204 - mean_absolute_error: 0.0204 - val_loss: 0.0508 - val_mean_absolute_error: 0.0508 - 175ms/epoch - 175ms/step\n",
            "Epoch 244/1000\n",
            "1/1 - 0s - loss: 0.0207 - mean_absolute_error: 0.0207 - val_loss: 0.0423 - val_mean_absolute_error: 0.0423 - 174ms/epoch - 174ms/step\n",
            "Epoch 245/1000\n",
            "1/1 - 0s - loss: 0.0205 - mean_absolute_error: 0.0205 - val_loss: 0.0443 - val_mean_absolute_error: 0.0443 - 148ms/epoch - 148ms/step\n",
            "Epoch 246/1000\n",
            "1/1 - 0s - loss: 0.0208 - mean_absolute_error: 0.0208 - val_loss: 0.0506 - val_mean_absolute_error: 0.0506 - 178ms/epoch - 178ms/step\n",
            "Epoch 247/1000\n",
            "1/1 - 0s - loss: 0.0213 - mean_absolute_error: 0.0213 - val_loss: 0.0493 - val_mean_absolute_error: 0.0493 - 182ms/epoch - 182ms/step\n",
            "Epoch 248/1000\n",
            "1/1 - 0s - loss: 0.0210 - mean_absolute_error: 0.0210 - val_loss: 0.0472 - val_mean_absolute_error: 0.0472 - 156ms/epoch - 156ms/step\n",
            "Epoch 249/1000\n",
            "1/1 - 0s - loss: 0.0201 - mean_absolute_error: 0.0201 - val_loss: 0.0464 - val_mean_absolute_error: 0.0464 - 158ms/epoch - 158ms/step\n",
            "Epoch 250/1000\n",
            "1/1 - 0s - loss: 0.0199 - mean_absolute_error: 0.0199 - val_loss: 0.0482 - val_mean_absolute_error: 0.0482 - 167ms/epoch - 167ms/step\n",
            "Epoch 251/1000\n",
            "1/1 - 0s - loss: 0.0207 - mean_absolute_error: 0.0207 - val_loss: 0.0523 - val_mean_absolute_error: 0.0523 - 171ms/epoch - 171ms/step\n",
            "Epoch 252/1000\n",
            "1/1 - 0s - loss: 0.0203 - mean_absolute_error: 0.0203 - val_loss: 0.0457 - val_mean_absolute_error: 0.0457 - 139ms/epoch - 139ms/step\n",
            "Epoch 253/1000\n",
            "1/1 - 0s - loss: 0.0197 - mean_absolute_error: 0.0197 - val_loss: 0.0495 - val_mean_absolute_error: 0.0495 - 141ms/epoch - 141ms/step\n",
            "Epoch 254/1000\n",
            "1/1 - 0s - loss: 0.0199 - mean_absolute_error: 0.0199 - val_loss: 0.0535 - val_mean_absolute_error: 0.0535 - 148ms/epoch - 148ms/step\n",
            "Epoch 255/1000\n",
            "1/1 - 0s - loss: 0.0199 - mean_absolute_error: 0.0199 - val_loss: 0.0442 - val_mean_absolute_error: 0.0442 - 166ms/epoch - 166ms/step\n",
            "Epoch 256/1000\n",
            "1/1 - 0s - loss: 0.0198 - mean_absolute_error: 0.0198 - val_loss: 0.0439 - val_mean_absolute_error: 0.0439 - 168ms/epoch - 168ms/step\n",
            "Epoch 257/1000\n",
            "1/1 - 0s - loss: 0.0195 - mean_absolute_error: 0.0195 - val_loss: 0.0534 - val_mean_absolute_error: 0.0534 - 142ms/epoch - 142ms/step\n",
            "Epoch 258/1000\n",
            "1/1 - 0s - loss: 0.0202 - mean_absolute_error: 0.0202 - val_loss: 0.0491 - val_mean_absolute_error: 0.0491 - 166ms/epoch - 166ms/step\n",
            "Epoch 259/1000\n",
            "1/1 - 0s - loss: 0.0192 - mean_absolute_error: 0.0192 - val_loss: 0.0440 - val_mean_absolute_error: 0.0440 - 167ms/epoch - 167ms/step\n",
            "Epoch 260/1000\n",
            "1/1 - 0s - loss: 0.0196 - mean_absolute_error: 0.0196 - val_loss: 0.0504 - val_mean_absolute_error: 0.0504 - 142ms/epoch - 142ms/step\n",
            "Epoch 261/1000\n",
            "1/1 - 0s - loss: 0.0188 - mean_absolute_error: 0.0188 - val_loss: 0.0476 - val_mean_absolute_error: 0.0476 - 165ms/epoch - 165ms/step\n",
            "Epoch 262/1000\n",
            "1/1 - 0s - loss: 0.0181 - mean_absolute_error: 0.0181 - val_loss: 0.0473 - val_mean_absolute_error: 0.0473 - 169ms/epoch - 169ms/step\n",
            "Epoch 263/1000\n",
            "1/1 - 0s - loss: 0.0180 - mean_absolute_error: 0.0180 - val_loss: 0.0520 - val_mean_absolute_error: 0.0520 - 145ms/epoch - 145ms/step\n",
            "Epoch 264/1000\n",
            "1/1 - 0s - loss: 0.0177 - mean_absolute_error: 0.0177 - val_loss: 0.0506 - val_mean_absolute_error: 0.0506 - 168ms/epoch - 168ms/step\n",
            "Epoch 265/1000\n",
            "1/1 - 0s - loss: 0.0176 - mean_absolute_error: 0.0176 - val_loss: 0.0473 - val_mean_absolute_error: 0.0473 - 142ms/epoch - 142ms/step\n",
            "Epoch 266/1000\n",
            "1/1 - 0s - loss: 0.0189 - mean_absolute_error: 0.0189 - val_loss: 0.0480 - val_mean_absolute_error: 0.0480 - 165ms/epoch - 165ms/step\n",
            "Epoch 267/1000\n",
            "1/1 - 0s - loss: 0.0171 - mean_absolute_error: 0.0171 - val_loss: 0.0528 - val_mean_absolute_error: 0.0528 - 176ms/epoch - 176ms/step\n",
            "Epoch 268/1000\n",
            "1/1 - 0s - loss: 0.0183 - mean_absolute_error: 0.0183 - val_loss: 0.0478 - val_mean_absolute_error: 0.0478 - 140ms/epoch - 140ms/step\n",
            "Epoch 269/1000\n",
            "1/1 - 0s - loss: 0.0179 - mean_absolute_error: 0.0179 - val_loss: 0.0469 - val_mean_absolute_error: 0.0469 - 169ms/epoch - 169ms/step\n",
            "Epoch 270/1000\n",
            "1/1 - 0s - loss: 0.0174 - mean_absolute_error: 0.0174 - val_loss: 0.0523 - val_mean_absolute_error: 0.0523 - 168ms/epoch - 168ms/step\n",
            "Epoch 271/1000\n",
            "1/1 - 0s - loss: 0.0196 - mean_absolute_error: 0.0196 - val_loss: 0.0461 - val_mean_absolute_error: 0.0461 - 165ms/epoch - 165ms/step\n",
            "Epoch 272/1000\n",
            "1/1 - 0s - loss: 0.0173 - mean_absolute_error: 0.0173 - val_loss: 0.0485 - val_mean_absolute_error: 0.0485 - 168ms/epoch - 168ms/step\n",
            "Epoch 273/1000\n",
            "1/1 - 0s - loss: 0.0174 - mean_absolute_error: 0.0174 - val_loss: 0.0503 - val_mean_absolute_error: 0.0503 - 169ms/epoch - 169ms/step\n",
            "Epoch 274/1000\n",
            "1/1 - 0s - loss: 0.0173 - mean_absolute_error: 0.0173 - val_loss: 0.0502 - val_mean_absolute_error: 0.0502 - 141ms/epoch - 141ms/step\n",
            "Epoch 275/1000\n",
            "1/1 - 0s - loss: 0.0169 - mean_absolute_error: 0.0169 - val_loss: 0.0448 - val_mean_absolute_error: 0.0448 - 167ms/epoch - 167ms/step\n",
            "Epoch 276/1000\n",
            "1/1 - 0s - loss: 0.0185 - mean_absolute_error: 0.0185 - val_loss: 0.0528 - val_mean_absolute_error: 0.0528 - 142ms/epoch - 142ms/step\n",
            "Epoch 277/1000\n",
            "1/1 - 0s - loss: 0.0177 - mean_absolute_error: 0.0177 - val_loss: 0.0484 - val_mean_absolute_error: 0.0484 - 144ms/epoch - 144ms/step\n",
            "Epoch 278/1000\n",
            "1/1 - 0s - loss: 0.0169 - mean_absolute_error: 0.0169 - val_loss: 0.0482 - val_mean_absolute_error: 0.0482 - 142ms/epoch - 142ms/step\n",
            "Epoch 279/1000\n",
            "1/1 - 0s - loss: 0.0182 - mean_absolute_error: 0.0182 - val_loss: 0.0485 - val_mean_absolute_error: 0.0485 - 141ms/epoch - 141ms/step\n",
            "Epoch 280/1000\n",
            "1/1 - 0s - loss: 0.0172 - mean_absolute_error: 0.0172 - val_loss: 0.0512 - val_mean_absolute_error: 0.0512 - 147ms/epoch - 147ms/step\n",
            "Epoch 281/1000\n",
            "1/1 - 0s - loss: 0.0172 - mean_absolute_error: 0.0172 - val_loss: 0.0449 - val_mean_absolute_error: 0.0449 - 169ms/epoch - 169ms/step\n",
            "Epoch 282/1000\n",
            "1/1 - 0s - loss: 0.0174 - mean_absolute_error: 0.0174 - val_loss: 0.0496 - val_mean_absolute_error: 0.0496 - 177ms/epoch - 177ms/step\n",
            "Epoch 283/1000\n",
            "1/1 - 0s - loss: 0.0164 - mean_absolute_error: 0.0164 - val_loss: 0.0481 - val_mean_absolute_error: 0.0481 - 140ms/epoch - 140ms/step\n",
            "Epoch 284/1000\n",
            "1/1 - 0s - loss: 0.0158 - mean_absolute_error: 0.0158 - val_loss: 0.0441 - val_mean_absolute_error: 0.0441 - 169ms/epoch - 169ms/step\n",
            "Epoch 285/1000\n",
            "1/1 - 0s - loss: 0.0173 - mean_absolute_error: 0.0173 - val_loss: 0.0521 - val_mean_absolute_error: 0.0521 - 167ms/epoch - 167ms/step\n",
            "Epoch 286/1000\n",
            "1/1 - 0s - loss: 0.0177 - mean_absolute_error: 0.0177 - val_loss: 0.0466 - val_mean_absolute_error: 0.0466 - 170ms/epoch - 170ms/step\n",
            "Epoch 287/1000\n",
            "1/1 - 0s - loss: 0.0163 - mean_absolute_error: 0.0163 - val_loss: 0.0486 - val_mean_absolute_error: 0.0486 - 147ms/epoch - 147ms/step\n",
            "Epoch 288/1000\n",
            "1/1 - 0s - loss: 0.0156 - mean_absolute_error: 0.0156 - val_loss: 0.0472 - val_mean_absolute_error: 0.0472 - 146ms/epoch - 146ms/step\n",
            "Epoch 289/1000\n",
            "1/1 - 0s - loss: 0.0158 - mean_absolute_error: 0.0158 - val_loss: 0.0503 - val_mean_absolute_error: 0.0503 - 170ms/epoch - 170ms/step\n",
            "Epoch 290/1000\n",
            "1/1 - 0s - loss: 0.0174 - mean_absolute_error: 0.0174 - val_loss: 0.0499 - val_mean_absolute_error: 0.0499 - 144ms/epoch - 144ms/step\n",
            "Epoch 291/1000\n",
            "1/1 - 0s - loss: 0.0181 - mean_absolute_error: 0.0181 - val_loss: 0.0498 - val_mean_absolute_error: 0.0498 - 171ms/epoch - 171ms/step\n",
            "Epoch 292/1000\n",
            "1/1 - 0s - loss: 0.0164 - mean_absolute_error: 0.0164 - val_loss: 0.0498 - val_mean_absolute_error: 0.0498 - 166ms/epoch - 166ms/step\n",
            "Epoch 293/1000\n",
            "1/1 - 0s - loss: 0.0154 - mean_absolute_error: 0.0154 - val_loss: 0.0516 - val_mean_absolute_error: 0.0516 - 167ms/epoch - 167ms/step\n",
            "Epoch 294/1000\n",
            "1/1 - 0s - loss: 0.0161 - mean_absolute_error: 0.0161 - val_loss: 0.0500 - val_mean_absolute_error: 0.0500 - 168ms/epoch - 168ms/step\n",
            "Epoch 295/1000\n",
            "1/1 - 0s - loss: 0.0168 - mean_absolute_error: 0.0168 - val_loss: 0.0488 - val_mean_absolute_error: 0.0488 - 171ms/epoch - 171ms/step\n",
            "Epoch 296/1000\n",
            "1/1 - 0s - loss: 0.0162 - mean_absolute_error: 0.0162 - val_loss: 0.0524 - val_mean_absolute_error: 0.0524 - 167ms/epoch - 167ms/step\n",
            "Epoch 297/1000\n",
            "1/1 - 0s - loss: 0.0161 - mean_absolute_error: 0.0161 - val_loss: 0.0471 - val_mean_absolute_error: 0.0471 - 166ms/epoch - 166ms/step\n",
            "Epoch 298/1000\n",
            "1/1 - 0s - loss: 0.0161 - mean_absolute_error: 0.0161 - val_loss: 0.0531 - val_mean_absolute_error: 0.0531 - 173ms/epoch - 173ms/step\n",
            "Epoch 299/1000\n",
            "1/1 - 0s - loss: 0.0155 - mean_absolute_error: 0.0155 - val_loss: 0.0481 - val_mean_absolute_error: 0.0481 - 169ms/epoch - 169ms/step\n",
            "Epoch 300/1000\n",
            "1/1 - 0s - loss: 0.0150 - mean_absolute_error: 0.0150 - val_loss: 0.0513 - val_mean_absolute_error: 0.0513 - 170ms/epoch - 170ms/step\n",
            "Epoch 301/1000\n",
            "1/1 - 0s - loss: 0.0168 - mean_absolute_error: 0.0168 - val_loss: 0.0510 - val_mean_absolute_error: 0.0510 - 168ms/epoch - 168ms/step\n",
            "Epoch 302/1000\n",
            "1/1 - 0s - loss: 0.0181 - mean_absolute_error: 0.0181 - val_loss: 0.0509 - val_mean_absolute_error: 0.0509 - 167ms/epoch - 167ms/step\n",
            "Epoch 303/1000\n",
            "1/1 - 0s - loss: 0.0164 - mean_absolute_error: 0.0164 - val_loss: 0.0485 - val_mean_absolute_error: 0.0485 - 169ms/epoch - 169ms/step\n",
            "Epoch 304/1000\n",
            "1/1 - 0s - loss: 0.0151 - mean_absolute_error: 0.0151 - val_loss: 0.0533 - val_mean_absolute_error: 0.0533 - 142ms/epoch - 142ms/step\n",
            "Epoch 305/1000\n",
            "1/1 - 0s - loss: 0.0172 - mean_absolute_error: 0.0172 - val_loss: 0.0462 - val_mean_absolute_error: 0.0462 - 170ms/epoch - 170ms/step\n",
            "Epoch 306/1000\n",
            "1/1 - 0s - loss: 0.0160 - mean_absolute_error: 0.0160 - val_loss: 0.0523 - val_mean_absolute_error: 0.0523 - 140ms/epoch - 140ms/step\n",
            "Epoch 307/1000\n",
            "1/1 - 0s - loss: 0.0156 - mean_absolute_error: 0.0156 - val_loss: 0.0504 - val_mean_absolute_error: 0.0504 - 145ms/epoch - 145ms/step\n",
            "Epoch 308/1000\n",
            "1/1 - 0s - loss: 0.0158 - mean_absolute_error: 0.0158 - val_loss: 0.0486 - val_mean_absolute_error: 0.0486 - 168ms/epoch - 168ms/step\n",
            "Epoch 309/1000\n",
            "1/1 - 0s - loss: 0.0162 - mean_absolute_error: 0.0162 - val_loss: 0.0498 - val_mean_absolute_error: 0.0498 - 165ms/epoch - 165ms/step\n",
            "Epoch 310/1000\n",
            "1/1 - 0s - loss: 0.0149 - mean_absolute_error: 0.0149 - val_loss: 0.0527 - val_mean_absolute_error: 0.0527 - 142ms/epoch - 142ms/step\n",
            "Epoch 311/1000\n",
            "1/1 - 0s - loss: 0.0147 - mean_absolute_error: 0.0147 - val_loss: 0.0470 - val_mean_absolute_error: 0.0470 - 174ms/epoch - 174ms/step\n",
            "Epoch 312/1000\n",
            "1/1 - 0s - loss: 0.0150 - mean_absolute_error: 0.0150 - val_loss: 0.0518 - val_mean_absolute_error: 0.0518 - 175ms/epoch - 175ms/step\n",
            "Epoch 313/1000\n",
            "1/1 - 0s - loss: 0.0149 - mean_absolute_error: 0.0149 - val_loss: 0.0504 - val_mean_absolute_error: 0.0504 - 175ms/epoch - 175ms/step\n",
            "Epoch 314/1000\n",
            "1/1 - 0s - loss: 0.0152 - mean_absolute_error: 0.0152 - val_loss: 0.0512 - val_mean_absolute_error: 0.0512 - 173ms/epoch - 173ms/step\n",
            "Epoch 315/1000\n",
            "1/1 - 0s - loss: 0.0152 - mean_absolute_error: 0.0152 - val_loss: 0.0485 - val_mean_absolute_error: 0.0485 - 176ms/epoch - 176ms/step\n",
            "Epoch 316/1000\n",
            "1/1 - 0s - loss: 0.0159 - mean_absolute_error: 0.0159 - val_loss: 0.0495 - val_mean_absolute_error: 0.0495 - 192ms/epoch - 192ms/step\n",
            "Epoch 317/1000\n",
            "1/1 - 0s - loss: 0.0151 - mean_absolute_error: 0.0151 - val_loss: 0.0536 - val_mean_absolute_error: 0.0536 - 180ms/epoch - 180ms/step\n",
            "Epoch 318/1000\n",
            "1/1 - 0s - loss: 0.0154 - mean_absolute_error: 0.0154 - val_loss: 0.0501 - val_mean_absolute_error: 0.0501 - 182ms/epoch - 182ms/step\n",
            "Epoch 319/1000\n",
            "1/1 - 0s - loss: 0.0142 - mean_absolute_error: 0.0142 - val_loss: 0.0507 - val_mean_absolute_error: 0.0507 - 175ms/epoch - 175ms/step\n",
            "Epoch 320/1000\n",
            "1/1 - 0s - loss: 0.0137 - mean_absolute_error: 0.0137 - val_loss: 0.0491 - val_mean_absolute_error: 0.0491 - 175ms/epoch - 175ms/step\n",
            "Epoch 321/1000\n",
            "1/1 - 0s - loss: 0.0141 - mean_absolute_error: 0.0141 - val_loss: 0.0515 - val_mean_absolute_error: 0.0515 - 173ms/epoch - 173ms/step\n",
            "Epoch 322/1000\n",
            "Restoring model weights from the end of the best epoch: 222.\n",
            "1/1 - 0s - loss: 0.0138 - mean_absolute_error: 0.0138 - val_loss: 0.0483 - val_mean_absolute_error: 0.0483 - 179ms/epoch - 179ms/step\n",
            "Epoch 322: early stopping\n"
          ]
        }
      ],
      "source": [
        "# Training The Model\n",
        "history = model.fit(X_train, y_train, validation_data=(X_test, y_test), epochs =epochs ,callbacks=callbacks_list, batch_size=len(X_train), verbose = 2, shuffle = True)"
      ]
    },
    {
      "cell_type": "code",
      "execution_count": null,
      "metadata": {
        "id": "WE5GRJL2hwPS",
        "colab": {
          "base_uri": "https://localhost:8080/"
        },
        "outputId": "d3755e43-3e5e-46d8-df29-15705b815496"
      },
      "outputs": [
        {
          "output_type": "display_data",
          "data": {
            "text/plain": [
              "<Figure size 432x288 with 1 Axes>"
            ],
            "image/png": "[encoded data removed]"
          },
          "metadata": {
            "needs_background": "light"
          }
        }
      ],
      "source": [
        "# Loss Curve\n",
        "import matplotlib.pyplot as plt\n",
        "from matplotlib import pyplot\n",
        "pyplot.plot(history.history['loss'][:], label='train')\n",
        "pyplot.plot(history.history['val_loss'][:], label='test')\n",
        "pyplot.legend()\n",
        "pyplot.show()"
      ]
    },
    {
      "cell_type": "code",
      "execution_count": null,
      "metadata": {
        "id": "1spiBSH7hxFf",
        "colab": {
          "base_uri": "https://localhost:8080/"
        },
        "outputId": "d7f51153-4bc9-40f4-e56a-87b6347d6ab5"
      },
      "outputs": [
        {
          "output_type": "stream",
          "name": "stdout",
          "text": [
            "35/35 [==============================] - 1s 7ms/step\n",
            "35/35 [==============================] - 0s 6ms/step\n"
          ]
        }
      ],
      "source": [
        "# prediction\n",
        "yhat_test = model.predict(X_test)\n",
        "yhat_train = model.predict(X_train)"
      ]
    },
    {
      "cell_type": "code",
      "execution_count": null,
      "metadata": {
        "id": "XrqgMWFTnMY3"
      },
      "outputs": [],
      "source": [
        "# Defining Function for Nash-Sutcliffe\n",
        "def nse(predictions, targets):\n",
        "    return (1-(np.sum((predictions-targets)**2)/np.sum((targets-np.mean(targets))**2)))"
      ]
    },
    {
      "cell_type": "code",
      "execution_count": null,
      "metadata": {
        "id": "DCbYI4U92Rn4",
        "colab": {
          "base_uri": "https://localhost:8080/"
        },
        "outputId": "f6d926de-f40a-4449-d9de-dac6d348b668"
      },
      "outputs": [
        {
          "output_type": "stream",
          "name": "stdout",
          "text": [
            "train 0.9197398552770858\n",
            "test 0.8743171011439392\n"
          ]
        }
      ],
      "source": [
        "#Evaluating the perfomance of the model for Training data set and Testing data set using Nash-Sutcliffe\n",
        "inv_yhat_train = inv_yhat(yhat_train)\n",
        "inv_yhat_test = inv_yhat(yhat_test)\n",
        "inv_y_train = inv_y(y_train)\n",
        "inv_y_test = inv_y(y_test)\n",
        "print(\"train\",nse(np.array(inv_yhat_train),np.array(inv_y_train)))\n",
        "print(\"test\",nse(np.array(inv_yhat_test),np.array(inv_y_test)))"
      ]
    },
    {
      "cell_type": "code",
      "execution_count": null,
      "metadata": {
        "id": "fPeJUGPTK_ZG",
        "colab": {
          "base_uri": "https://localhost:8080/"
        },
        "outputId": "4f24fb4d-fd0b-4e94-9778-61e166f8d3f7"
      },
      "outputs": [
        {
          "output_type": "execute_result",
          "data": {
            "text/plain": [
              "[<matplotlib.lines.Line2D at 0x7f6de58ba310>]"
            ]
          },
          "metadata": {},
          "execution_count": 86
        },
        {
          "output_type": "display_data",
          "data": {
            "text/plain": [
              "<Figure size 432x288 with 1 Axes>"
            ],
            "image/png": "[encoded data removed]"
          },
          "metadata": {
            "needs_background": "light"
          }
        }
      ],
      "source": [
        "# Train Plot\n",
        "import matplotlib.pyplot as plt\n",
        "plt.plot(inv_y_train[:])\n",
        "plt.plot(inv_yhat_train[:])"
      ]
    },
    {
      "cell_type": "code",
      "execution_count": null,
      "metadata": {
        "id": "bjDRZrgkNFF5",
        "colab": {
          "base_uri": "https://localhost:8080/"
        },
        "outputId": "12d53cd9-f1b5-435c-f0d9-16899f8cd95a"
      },
      "outputs": [
        {
          "output_type": "execute_result",
          "data": {
            "text/plain": [
              "[<matplotlib.lines.Line2D at 0x7f6de583a6a0>]"
            ]
          },
          "metadata": {},
          "execution_count": 87
        },
        {
          "output_type": "display_data",
          "data": {
            "text/plain": [
              "<Figure size 432x288 with 1 Axes>"
            ],
            "image/png": "[encoded data removed]"
          },
          "metadata": {
            "needs_background": "light"
          }
        }
      ],
      "source": [
        "# Test plot\n",
        "import matplotlib.pyplot as plt\n",
        "plt.plot(inv_y_test[:])\n",
        "plt.plot(inv_yhat_test[:])"
      ]
    },
    {
      "cell_type": "code",
      "execution_count": null,
      "metadata": {
        "id": "HBPIVTIDjWZZ",
        "colab": {
          "base_uri": "https://localhost:8080/",
          "height": 542
        },
        "outputId": "b93ca0ce-ec2e-4d20-a779-175ca5e6cd25"
      },
      "outputs": [
        {
          "output_type": "display_data",
          "data": {
            "text/html": [
              "<html>\n",
              "<head><meta charset=\"utf-8\" /></head>\n",
              "<body>\n",
              "    <div>            <script src=\"https://cdnjs.cloudflare.com/ajax/libs/mathjax/2.7.5/MathJax.js?config=TeX-AMS-MML_SVG\"></script><script type=\"text/javascript\">if (window.MathJax) {MathJax.Hub.Config({SVG: {font: \"STIX-Web\"}});}</script>                <script type=\"text/javascript\">window.PlotlyConfig = {MathJaxConfig: 'local'};</script>\n",
              "        <script src=\"https://cdn.plot.ly/plotly-2.8.3.min.js\"></script>                <div id=\"12553696-47b7-4d1b-b8a0-710de85d6da3\" class=\"plotly-graph-div\" style=\"height:525px; width:100%;\"></div>            <script type=\"text/javascript\">                                    window.PLOTLYENV=window.PLOTLYENV || {};                                    if (document.getElementById(\"12553696-47b7-4d1b-b8a0-710de85d6da3\")) {                    Plotly.newPlot(                        \"12553696-47b7-4d1b-b8a0-710de85d6da3\",                        [{\"hovertemplate\":\"x=%{x}<br>y=%{y}<extra></extra>\",\"legendgroup\":\"\",\"marker\":{\"color\":\"#636efa\",\"symbol\":\"circle\"},\"mode\":\"markers\",\"name\":\"\",\"showlegend\":false,\"x\":[56.82587217542516,55.35965794109865,54.592862010060735,54.38850085482338,53.13184332195024,51.81400406423067,50.965523602376805,50.98547891583528,50.256146793331574,49.80833622123429,49.42276180400472,48.782197819126665,48.41343344973651,48.36102287034496,47.12192790588198,46.735751922806934,46.50361059200866,46.186228282128184,46.190680319995856,45.958091757660775,45.835095199344025,45.556793265391505,44.88855161898239,44.77770015688308,43.38605192420101,43.39203491334959,43.35926647268797,42.70999217485627,42.03513893678588,42.80143694253596,43.67620155103164,41.897999948461354,40.3641219483242,39.504457318466734,38.19997530087797,37.407061386048824,36.445502879897916,36.57795156972496,36.529835314309004,36.71567860556136,36.243967056384264,35.80993166623178,36.66951800240711,36.1375135588182,35.674757342391366,34.964438192841,35.34611820346416,36.228725698507084,36.423920297031586,38.859490862944234,36.910656347484256,35.8207373208944,34.13223042506569,33.818335281991736,34.32584732140556,33.585658850488215,33.96413219972718,33.23575142995102,33.17918846908674,33.223449746369305,34.30168104702874,32.286448983005904,33.30529199107734,33.016662050249614,33.377547484202914,32.462049320232005,32.45769866986638,33.267817480529025,33.10566168933828,32.95320755556563,33.757655988544336,33.964765308351076,34.80342301104828,34.300428911378454,34.86746780629974,35.77609584047916,36.05323801406104,35.79549295941247,38.36173004817174,41.48452143761282,37.221846134045265,37.90958741341754,39.1542451721595,39.31180979929921,40.886216890115804,40.959176463116705,41.371510421719904,41.975414938913325,45.01427324804861,45.71134837351212,43.1114213443504,43.31141382477733,44.66879984093428,45.731821889758834,45.587072079613975,44.60028554663424,48.76966181776244,46.93731252993219,45.383986153846806,45.80666614377001,45.4132454604098,45.388094600735315,47.433617870786414,48.87516339933707,48.32662997659498,46.84569653002682,49.302419345186,51.858601046797794,49.56771664220928,47.838327489235674,48.96395857362993,49.11650170309881,49.36319777307985,49.518897433445794,49.80887695457854,50.21669128364604,52.60066068039181,53.30803226995211,55.29292468725124,54.207749469229384,54.60845766093119,55.6421280279131,55.66072249578855,54.47176252456006,55.221446498308026,55.667774559819826,54.90411713523417,62.40935401093887,60.88581753601052,58.23522153943685,61.42320283963863,60.09047989661855,58.98214101396233,59.17871560904247,60.964163038425724,60.820008034959535,59.39857328070383,60.56286229310085,60.87306298825299,62.400051144362145,64.64803061113993,65.7648747786901,63.02758570869934,63.23727984654438,64.11876081378678,66.28192400246316,67.58177937037516,68.55430180834468,67.93799422006748,68.90074966200646,67.18438992957371,66.43378220302932,69.9224202548572,68.84806871594277,69.60064336002688,73.36259282765096,72.59634664217971,71.4968329783128,85.99589915717415,101.3519105277825,124.76488928273552,141.36732255462147,165.49577263402054,279.17023229144064,228.03524285897547,248.377072511919,493.7070698209257,379.80389798333215,348.60783778900895,477.26372931114093,450.3733124437528,368.44013441166453,336.07846942047325,449.0938652534751,461.8044513901142,436.1351906584935,452.57207841703695,550.7681362174886,520.0066453874953,637.1377789969312,533.0893642116481,516.6919860361246,539.2141066064237,569.8496065672065,567.893269376595,566.1338672699599,598.6011555077282,630.114806419575,614.6246706490364,560.671523221892,590.0033511385747,588.3719586389685,522.0498243531935,537.6062540317374,704.9169012543465,637.3010083691158,610.2445142672634,628.1678419402639,674.6456392742514,624.5605377029844,637.2571729193419,638.2573854106482,612.0480402147895,608.513446587867,575.4421952534597,573.9027274223763,560.5614299130025,621.5866124562714,853.0364534539132,755.331345481152,628.3758079844629,732.7227796735519,674.7969004150832,676.4532026974144,719.6597435431299,713.4015842078827,723.3403351730002,768.1775835894189,680.6764743115754,635.9762116757003,672.5537222097913,635.7925786319926,642.540498181573,592.9218331930572,679.784048000223,720.1942764783671,723.9423516295999,691.830865932349,702.4968671965947,649.4893542418771,584.9003784710961,639.0141957992623,672.711400052975,649.8421286756666,758.0616162829455,650.0124236302162,607.2923265009891,615.3763620953248,665.9905892683864,654.2219245685434,804.4150088988655,922.5555835153497,716.2327198028238,727.7869657072264,691.7160141700299,642.2063970726049,602.5309891604087,626.5780498592756,584.8213953539458,538.7048439428079,528.6314503749718,515.9313905141008,477.0303848486517,456.5687827599565,461.9493318774839,453.1633162556413,433.88714585310333,434.23822598908083,491.12312146208666,458.3872329477839,445.87433892180303,432.25593359794533,423.57485629377703,422.83152818987963,431.46981546207286,409.5900861047443,369.0670966998791,346.6507435717155,333.03053580337695,342.3430815069619,328.72303595862655,305.60672154077463,306.3408571778197,296.85365460404165,279.01980027506994,267.76919416790923,261.66431471131244,253.97723146499166,255.30691278295035,256.7110170335228,263.7960117254646,274.78228934951045,255.6851918061437,241.07030505105493,232.3249706011448,224.64156434156493,216.01180263176607,208.2229894189468,201.80617892049628,195.9627620602898,190.610186881105,185.53345780526755,179.61381556796644,173.90417613712773,168.70547564327202,163.91631757212983,159.81224161148674,156.165040265624,152.69823657562586,149.14244620160878,144.97415815633587,141.36167189117404,141.17325335736967,138.35401389600204,136.01710857770655,133.01737232602784,129.31686368464432,126.77532684443932,124.2433880210948,121.26241521646162,118.52949482128129,116.11911285372445,114.4468679499602,112.90346177768622,110.5353110843154,108.45725481791297,106.69710469681827,104.5354285248386,102.68309238077147,101.17333784695472,99.4947077836171,97.72072840724319,95.83980999982117,94.38773368939123,92.90929212231782,91.37349226575297,90.21825603076097,88.51491445359106,87.26126474994533,85.81605575298738,84.65326276950945,83.81575243537708,83.08750628567309,81.62803094064931,79.89638647901906,78.83987012824252,77.38672586945768,76.64909799623092,75.8149176782769,74.92834029926493,73.76771475527521,72.33882689309124,71.06181750897385,70.09447709888676,69.4048393099623,68.63481700330368,67.61656654885533,67.03016376757084,66.39432669334379,65.04176108964528,63.91175231821819,63.05680108067812,62.337411692541835,62.09784429048251,62.01268780098535,61.336201097604196,60.14179323793239,59.830326325532454,59.428493859085734,58.92662572395253,58.27975543644715,57.64853487314663,56.78660366935451,56.401394247132316,56.628901042559235,56.27194493757417,54.91134268454673,54.97782359616682,54.677732361496574,53.90615094036204,53.83818075898966,53.149205368411906,52.32111055363631,51.59690187956939,51.58120484119689,51.97688871890836,51.340238291609325,51.17066882096333,50.628993699470826,49.843357717496964,49.72220415866187,50.052580966721386,49.80808613206257,49.4139027893814,48.92117980693285,49.042117072430244,49.120406248455424,48.882776474213,48.84071868530826,48.53378717383324,48.07582883930883,47.53196149471651,47.559302324435215,47.34266201617215,47.2110655446262,47.19369673899773,46.4182625927854,45.74448180918112,45.16761170614466,44.66472293682418,43.99922438560934,44.00512964433968,43.415901531331485,43.11081076628252,42.305718522665806,41.63126520196461,41.89836043735752,41.67039063900459,41.582607086676596,42.36468549385641,42.36182523977088,41.53644648352235,40.82378133982739,40.827359192121854,40.54180917830077,40.28596119646828,39.616693283232884,39.746478298075594,39.48797846980067,40.1900125706421,39.77244307408596,40.13410524895772,40.97334818284729,41.05833794622998,40.91861695618666,40.89785279576741,40.78426725069623,40.12827659411781,40.15795158943919,40.52730851245243,40.081011993719045,39.31031546017182,39.65877078637414,39.94939975078389,40.614972652833565,40.15635642607366,39.80538837961227,39.4434732992493,41.753554300822636,41.91246005930887,40.319223056306534,39.46401440716404,38.84073135874602,38.24876690971035,37.54719581179494,37.20498144960752,37.42294993414741,37.19082437473835,37.205794802679506,38.328801077298536,34.632266825995245,38.28961931386853,40.71212666340631,39.65504085282661,40.526596546882494,43.12194086095169,45.17929379943609,42.446330596199346,40.827742211574034,45.53730658749805,46.34583812048975,45.28644461771068,44.15668368239971,52.31259625651995,52.171070568940195,50.48400055932105,51.93774187784017,50.674117897048596,50.75710469400196,51.71868178786158,52.40131257386678,52.95609597284617,55.73330242892067,56.67518781682714,56.74213060484545,56.07481834387177,55.59530727946775,55.37665048644175,58.76413535400503,59.10293633695686,58.592272272757164,58.07147396446396,57.986349017745205,57.76547521800777,57.59979452132919,57.787426738728776,58.06297093262561,58.46144859928237,68.65196726253885,71.92830213813568,67.20411317830528,66.52187893008585,64.44799757571218,63.766856059459265,64.00050243139903,64.20351851244257,67.44027396029581,72.3230284672167,71.31403356517745,67.43392034350086,65.2888356729673,67.32743417662857,69.95806359446577,68.89773056750106,68.4196727239597,72.03613337920179,70.98180699846947,75.87527253171774,75.50083271526854,71.39748223852902,79.36395789771325,79.38226172141616,92.48347813205356,87.918242244877,84.42927749998698,83.32224764263496,84.65591236289629,81.72105059419412,81.501265020312,81.49670934188669,82.04278242791243,84.48040834379714,87.66345319917701,86.14180253178674,84.49480987519902,92.20234185415492,90.50126685091968,87.44540698421889,86.27133069829092,100.11464504446758,95.64408705975822,92.59768101435942,91.91142731494774,92.6518489771198,92.70484985707883,92.76173951100526,92.67542495092916,104.83489115699615,109.98133878535238,105.40559915296375,112.28653009300754,109.34176839799439,108.2455306769714,131.75111001712744,129.86051698895454,137.00639825545906,134.1100772558684,249.13981294287504,395.38851789355635,311.34817411670014,366.7221164303094,337.56364762379377,488.7839090148557,438.00904798966184,424.13109066056353,508.73873581331856,485.93200925949526,545.601969846512,493.9638100127762,505.2273216224197,486.4739682659935,496.21852386274554,504.91001929601305,487.6636537211255,503.5363763571668,547.9657676364616,498.77608443438515,456.18857512116864,489.9758655500335,503.3289149974224,463.6348337604047,462.39965460657635,529.3322047402319,554.446925402878,727.9599282796075,568.1955393160315,610.1472183141877,566.1623819416467,577.5593465406514,546.3991910403864,481.8293932788817,470.37312825645745,522.6389713562,592.963325465006,597.1238720112337,530.8448882463299,548.6297881832021,579.0744813712435,548.8156923069557,532.0581136263817,579.4316537695662,547.507550200543,517.8033372541195,508.7975315522835,580.7100915909347,500.32777283904863,464.85126749163237,502.7722480439605,557.4521771346681,487.75817390970064,468.65258685282913,610.1112775712398,652.9327441780691,547.2967362940643,536.3351341349611,536.077420623091,524.6486609034444,558.3232625033672,593.0292228352255,541.6769667450401,527.8105811095088,507.23809263635246,462.91230586581617,426.3594888211126,496.1851065420708,487.6831922192978,412.6641551668127,408.4389729615022,418.3148546631281,391.99235200276223,364.05197517639664,341.46478636033936,325.03334198412807,310.4697167500743,297.8388887817123,286.80854139010995,278.57654312834234,277.8350535178154,320.29722084183453,303.8805024370317,279.3849935513324,267.21081489219057,258.77497818408506,258.8643794303346,245.94164557830092,234.8613344256898,234.69273376895225,227.66244326700385,219.43149042303511,214.05350077667052,209.01395613047276,203.76790542010545,198.82053778465774,203.37722557888392,241.44022073185724,367.60275475475703,369.21929511184095,314.63594099641665,318.463828389261,286.460327140857,259.46513417579774,240.0684703597158,224.80282904926545,212.9737644348696,204.2965263374455,196.89316587685335,189.95537682566152,184.1162137344298,184.28777040011593,177.76060523832612,171.56127769093342,165.59898961721572,161.4451121155671,157.99268292030365,154.31633604718576,149.11458040993503,146.556208738279,144.47784605631483,139.54888137901648,135.8706870003057,132.85106978600336,132.14972061406468,129.73232713747737,126.46791993823248,124.31156548358247,122.26499792226029,119.66633260423515,116.4663447707354,114.43170037965395,112.89496325195907,110.41534939189326,108.91122749707912,107.40205875771865,105.8522809442049,103.62053474303268,102.40543932683205,101.01751652158632,99.04825580404724,97.89050966511567,96.30067252301531,94.81837372475293,93.49725852418943,92.30736128183092,91.18575415474014,89.5916317008866,88.5567131411017,86.81943604046882,85.208807701282,84.50623286709633,83.25982448415236,81.55747425144692,81.3258736539929,80.27604887835147,78.79712515737945,78.16120472009516,76.98970592977479,76.27211222695254,75.56883443941935,74.77724137843632,74.21623954599804,73.68873614423612,72.25558550085496,71.37883144426355,70.66655945877099,69.89322966649004,68.56310224352237,67.78149021885197,67.24422432717071,66.99397744156242,65.69002151245651,65.09377963736225,63.97122622691903,63.488432460504285,62.858989558073,62.45664114189364,61.050941727955646,60.358622802865945,59.8207305617276,59.04054922736387,57.95815653300931,57.44120193757149,56.6789639380145,56.34071495368492,54.93161567884495,53.584022568857954,53.006843797204155,52.60806647415245,51.25028054062632,50.55336087599928,49.91544648450806,49.635477289410765,49.32293792254474,48.41838566594761,46.93466969571217,46.654378313663926,45.772223682796806,45.29425370842391,44.4984215233275,44.26670489351003,43.44569143248852,43.10206553096705,43.04466893953038,42.61164742439837,42.12866327478534,41.84180310913224,41.42375314846918,41.25494633714414,41.63916666795748,40.75559711817291,39.64070691309274,40.42563036623278,41.81500639234119,38.72070770729484,37.2326895273892,36.092006341788256,35.62614766779878,34.51076517006979,34.02179127214138,33.27331268313998,32.95156676782417,25.45781540630971,38.06945860622883,46.039388762913354,38.39078601646674,33.136633881421965,34.308868857659974,31.945721637515177,30.002037043895296,28.899865900946946,28.385016222704408,28.44347118700967,28.482263171820694,28.248007348340842,28.39830080179208,28.287655494280266,28.026673925260795,28.67305417317295,31.300636333309722,29.458723950980833,28.13555959634819,27.622443081126757,25.797076012604155,29.639829066304188,28.396611010091295,28.278885475353192,27.511342093119634,27.58641784859382,29.90131194019489,27.81927227148982,26.523385661019056,25.88012702164215,25.489394233613986,25.032624385919135,25.9297325468104,25.01195598036293,25.139671563636078,25.090387098890975,25.10262006427686,25.294895829270207,25.34601653433016,27.320377043222198,26.61145422488058,26.354886391783555,26.145935762286864,25.9161781643145,26.035846959508508,26.462638775903628,25.513930009109384,25.930135843762987,28.568434099602236,31.407060541152976,28.324774022043613,26.462075512003366,27.36150657321931,26.639990300595638,25.654720074035406,25.118045609449428,25.105543403919217,25.109949254147065,25.35688414802181,27.606749422337668,29.021024529157145,27.62191023347711,26.664693928733318,27.27392354283981,28.307888496841567,26.886822680440535,32.86369027695264,32.354211319999095,34.597112399452115,41.983758003804006,51.72851862861575,44.245967769757996,40.8786792926025,41.04470921289925,41.49602103340057,42.85700405282458,43.52218267014407,44.12097500417872,47.25420254716385,47.47247406768207,45.45560403223728,46.120737588444754,40.89053261811961,33.92775661704828,35.59625806893139,37.8748565613274,40.21505978975893,41.38533517088793,42.327245342406016,43.62158297715106,46.166382241866366,52.132230143433745,48.54139348954237,47.46990107818568,48.89660347643663,48.43313642096767,48.32507311517465,59.23883389164521,62.82220842538591,76.8074697805397,73.02598181474335,68.02720846270215,71.11252477833101,70.63230400141266,79.16283213031899,70.38744642480209,74.39669578130828,84.2160483179039,76.60649271481512,74.29491174147539,76.16073918248159,80.0081695796094,80.18784625768168,81.55254005968062,87.86039729537573,121.19796881404926,105.86123458716347,97.90095483088213,96.81205756500734,97.56455109908981,98.18353757047663,98.02745939676971,108.19955933048763,105.44496454042523,102.27196831302602,105.97243189329754,104.76532130614703,112.71113193935845,110.67085490927438,127.30005448170076,144.93253070105092,168.14168002188845,153.49315965278723,154.34690550558074,240.55495012509388,336.5672563147868,384.0137954594452,336.3596147105943,379.8713454558051,414.6677164028221,371.1207658924557,375.45957419783826,517.8904313714336,533.7060525663219,405.1524317440326,599.2585430587793,613.0505958839209,591.0161086434676,520.6073640840689,551.5947733052903,647.9832316336892,648.4167555802203,620.6661761576869,624.999468982958,628.4058727584033,638.5364038162819,628.9112781908301,593.6670718881043,562.8408733012488,595.4658033333113,628.8174068822681,621.6967418140505,678.7232733743606,671.6388734890974,687.9863960502809,648.0568434662866,630.9139021557095,734.2830477139441,666.4171197303318,766.6886202526887,835.9240455528414,803.3832896780341,700.6173501897566,736.1443960804155,702.1728597767194,682.4533961785643,770.1522696648453,706.5771689145355,705.0457399858367,672.9928697831026,682.1524600480436,675.9760595944472,631.3505623556372,591.4691710881709,590.5011863041819,541.7754883603627,562.7504266372005,734.2568762200824,780.2828728205031,697.7610524698629,656.0529918677366,606.3917170916939,560.2811858451219,524.9313923447085,527.914221667157,524.1728876582824,497.42410687819853,489.315702234482,507.05774004159986,584.0341236536057,611.0042806648261,683.6874938657041,710.3236579146253,605.8720002500892,595.441181941703,691.8258190878025,739.486344441226,649.4714018948479,612.1613779237445,681.4753177054826,738.2039412419997,652.0901374321672,624.0205253365256,646.2693953235296,742.5405505651156,691.415294332847,707.705859648436,681.5198741330488,727.1044160312229,681.3640708321252,644.1883650237338,641.3838335093299,633.6428391485872,590.092391895928,585.2868586166774,631.1279965111434,624.1769775174622,554.2502066122394,496.6570586049333,459.2446557873183,436.4962202880053,401.7958114851481,392.7008929281795,379.38136894813425,352.9368047475261,336.9051786060542,326.4309213856799,314.36818786878825,303.85543043430323,294.5667851445342,285.9942870958916,309.9800466579652,300.3485764279409,275.90366215881875,264.57005348331546,258.3644714535743,249.96776581514777,241.68306407676047,234.12227811521197,234.2617873180288,234.43929205050168,222.941210316122,213.60215065422398,209.89158437263737,204.0546563125619,198.07775041410457,195.93882559758427,189.252315331466,183.36531536371288,178.41775847159468,173.77892427015433,169.16745117593308,165.33699529970357,161.96680263387833,158.0087246761831,154.15563910949666,150.79802750614766,147.6176232319322,144.6507365309168,141.809173794654,139.1017399644327,136.31794557378075,133.14245296077556,130.4135069556755,127.84866450833327,125.3077945725862,123.04087817348162,120.76149787079206,118.47168141455843,115.9804237631464,113.87589859954288,111.8372888306036,109.69290260730635,107.81521508161623,106.0005320027538,104.00703741916988,101.97494348702881,100.39615983570718,98.78513495873459,97.33368950387293,95.41778564907786,94.0455215802594,92.22355662569439,90.60203701573211,89.6344848184185,88.12915979191342,86.33801663797072,85.2785352660232,83.97845008643989,83.20777889976817,82.31569505286724,81.14096988692619,80.17244436959292,79.0044918887886,78.17984650213822,77.19166983385264,76.2733108525323,75.14798167758859,74.11928155126257,73.09069407771662,71.95056683358523,70.84076571784394,70.08378860311538,69.01152789979874,68.19968662812909,66.94580035364524,66.32552738751022,65.04311968217272,64.0122746469145,63.187581946096486,62.027479111006215,61.08603081588635,60.00114624203703,59.14726745896306,59.05621246990235],\"xaxis\":\"x\",\"y\":[55.500000774487866,55.500000774487866,54.79999892979859,54.099997085109315,53.79999822571872,53.09999638102944,52.70000240795317,52.40000354856257,52.0000005632639,50.99999985918402,49.60000067591668,48.90000333733861,48.5999999718368,48.3000011124462,47.90000263325874,47.90000263325874,48.90000333733861,48.90000333733861,50.299998014494754,48.5999999718368,46.900001929178856,46.20000008448959,45.59999785959718,45.59999785959718,45.59999785959718,44.099999056532965,46.20000008448959,44.099999056532965,43.7000005773455,44.400002422034774,45.00000014081598,43.40000171795489,42.50000063367189,43.09999835245309,42.50000063367189,41.00000183060767,42.20000177428128,41.30000068999828,41.00000183060767,41.00000183060767,40.700002971217074,39.799997380822866,38.49999781735239,38.80000118285419,38.80000118285419,39.49999852143226,40.39999960571527,38.80000118285419,36.99999901428817,43.09999835245309,40.099996240213464,38.19999895796178,38.19999895796178,40.099996240213464,38.80000118285419,38.49999781735239,38.19999895796178,37.900000098571184,38.49999781735239,38.19999895796178,38.19999895796178,38.19999895796178,36.99999901428817,39.49999852143226,37.59999898612498,36.99999901428817,36.99999901428817,37.59999898612498,37.59999898612498,37.900000098571184,38.80000118285419,38.80000118285419,39.100000042244794,39.49999852143226,39.799997380822866,38.19999895796178,37.900000098571184,37.59999898612498,41.900002914890685,39.799997380822866,37.59999898612498,36.40000129550697,35.29999871857463,36.40000129550697,36.40000129550697,36.19999980285763,35.900000943467035,36.19999980285763,36.70000015489757,35.900000943467035,36.40000129550697,36.40000129550697,37.900000098571184,37.300000126734375,37.900000098571184,41.400000309795146,55.09999778918919,41.00000183060767,41.900002914890685,41.59999954938888,41.900002914890685,45.90000122509898,61.09999750755724,54.40000045061112,47.90000263325874,46.499998943880186,53.09999638102944,123.9999949306249,55.500000774487866,48.3000011124462,46.39999932408332,50.299998014494754,53.09999638102944,59.499999084696164,62.99999929592013,75.79999794408677,78.80000456243759,79.19999402940266,72.40000185877086,120.0000011265278,75.79999794408677,79.59999250859012,75.29999984510243,62.200002337545186,102.99999366328112,68.8999971414357,64.900001084283,62.200002337545186,67.19999684572215,64.09999961979686,72.6000010983646,71.19999740898606,72.0000033795834,65.00000070407988,63.700001140609395,72.0000033795834,80.39999847918747,81.30000406958168,88.80000259101394,82.99999760612842,80.49999809898434,82.30000026755036,80.49999809898434,81.69999353654674,78.19999783143399,81.59999391674988,87.9999966204166,87.00000042244793,88.80000259101394,91.09999384634189,87.89999700061973,83.90000319652263,79.09999440960578,81.30000406958168,88.80000259101394,92.49999753572044,102.99999366328112,127.9999977469444,361.00000408366327,213.00000802651059,268.0000152081253,234.00000028163194,408.000005632639,464.0000090122224,299.000005491823,345.99998901635394,575.0000195734206,665.9999619796868,422.0000245019797,299.000005491823,523.9999971836805,571.9999949306249,524.9999933816491,437.99999971836803,580.0000005632639,473.0000108428301,418.999999859184,369.00000971630226,465.0000052101911,472.0000146448614,492.0000107020141,425.00001309588566,466.99999760612843,462.00001661628505,487.9999898612498,460.0000242203477,530.0000104203822,561.9999969020486,471.00001844689274,422.0000245019797,362.9999964796006,395.0000190101566,513.9999991551042,500.0000163346531,603.0000212632123,510.00001436322947,544.9999894388019,563.9999892979858,683.9999656409021,585.0000176019969,590.999994789809,580.9999967612325,593.0000232346359,579.0000043652952,582.9999891571699,570.9999987326562,610.9999908469616,693.0000035203993,773.9999839469789,883.0000021122396,653.9999355062835,778.9999649368222,761.9999574735755,769.9999991551042,707.9999464899295,721.9999653592702,773.9999839469789,796.9999685980375,650.9999469123774,699.9999769061801,808.9999950714408,645.999965922534,709.9999388858669,627.9999983102083,779.9999611347909,836.999960712343,1007.9999594449991,939.000005491823,932.9999562062318,818.9999570511276,782.999949728697,985.9999709919091,834.9999683164056,821.9999456450337,791.9999876081941,705.9999540939921,655.0000038020313,801.9999495878809,806.0000064775348,812.9999798633156,1005.9999670490619,913.9999563470477,1150.9999925367533,717.9999805673955,623.0000173203649,558.0000121101739,517.0000237978998,485.99999746531245,428.9999978877604,397.00001140609396,376.0000191509726,700.9999731041488,347.00002126321226,341.00000802651056,359.00001168772593,359.00001168772593,392.99999056532965,434.00001492649335,418.999999859184,359.00001168772593,352.0000022530556,410.999994226545,371.0000021122396,645.999965922534,406.00001323670165,343.9999966204166,318.00002337545186,295.00000267550354,298.00000929385436,309.0000215448442,274.0000104203822,257.99999915510415,285.00000464692715,261.000005773455,237.00000689998276,229.00000126734378,222.00000985711824,219.00000323876742,221.00001365914957,229.00000126734378,233.00000408366327,234.00000028163194,218.00000704079875,202.00001379996556,197.0000147856774,191.9999977469444,197.0000147856774,175.9999954938888,170.9999964796006,170.00000028163194,165.99999746531245,159.0000060550869,155.9999994367361,152.99999281838527,148.99999901428816,142.9999947898089,140.99999338164918,137.99999577552074,136.99999957755207,134.9999981693923,130.99999535307282,127.00000154897573,125.00000014081597,125.00000014081597,122.99999873265622,121.99999352246515,115.00000211223963,115.9999983102083,115.9999983102083,115.00000211223963,109.99999408572904,110.99999929592012,103.9999988734722,104.99999507144088,103.9999988734722,104.99999507144088,101.99999746531245,99.79999681755896,99.9999960571527,92.79999639511104,89.69999916918574,89.69999916918574,88.3000044920296,87.89999700061973,87.00000042244793,86.09999483205371,84.3000016757101,83.59999532490963,89.69999916918574,77.79999935224652,77.79999935224652,76.99999338164918,76.5999949024617,76.5999949024617,77.79999935224652,72.99999957755207,72.99999957755207,67.80000357672577,69.30000463284559,68.5999982820451,67.4000005914271,70.59999969020485,68.8999971414357,72.0000033795834,67.59999983102082,65.59999842286108,70.00000197142366,68.8999971414357,67.9999983102083,65.19999543756241,67.90000319652263,64.900001084283,66.39999988734722,64.49999809898434,62.99999929592013,64.09999961979686,59.499999084696164,58.79999724000689,56.999999577552074,55.60000039428473,56.599996592253405,55.900003759786536,57.70000142224135,56.599996592253405,52.40000354856257,52.70000240795317,61.09999750755724,63.700001140609395,130.99999535307282,64.09999961979686,63.700001140609395,57.09999919734894,55.9999988734722,52.70000240795317,53.39999974653124,54.599999690204854,53.79999822571872,53.39999974653124,52.100000183060764,48.09999736674126,60.0000016897917,53.39999974653124,53.79999822571872,54.599999690204854,48.40000073224307,46.79999780327079,47.4000000281632,50.80000061959029,50.09999877490102,51.4000028444827,48.40000073224307,47.799998507350665,45.19999938040971,45.79999709919091,47.49999964796006,41.99999802857635,47.09999666266139,49.400001436322945,45.79999709919091,84.40000129550697,83.39999608531589,49.099998070821144,84.50000091530384,41.79999878898261,42.09999764837322,46.499998943880186,80.39999847918747,45.90000122509898,42.30000139407815,82.30000026755036,49.500001056119814,121.99999352246515,80.2999988593906,121.99999352246515,77.89999897204338,41.499999929592015,42.90000361897056,38.80000118285419,37.300000126734375,39.100000042244794,76.99999338164918,82.39999988734722,80.89999657817181,41.00000183060767,73.30000744916508,106.99999647960063,104.99999507144088,104.99999507144088,61.60000011265278,101.99999746531245,62.50000119693579,62.50000119693579,120.99999732449648,115.9999983102083,69.30000463284559,111.9999954938888,79.699992128387,117.99999971836804,117.99999971836804,70.40000045061112,60.09999680347737,39.299999281838524,65.59999842286108,66.19999614164229,64.69999733857807,43.09999835245309,85.29999787367878,42.20000177428128,42.20000177428128,106.00000028163196,59.20000022530556,39.90000150673093,77.30000125326218,37.59999898612498,51.09999947898089,56.09999849326907,39.799997380822866,44.199998676329834,58.70000212632122,53.90000235162678,53.09999638102944,44.80000090122224,58.70000212632122,47.90000263325874,45.49999823980031,48.79999921143054,47.30000040836633,44.099999056532965,45.49999823980031,53.00000126734378,44.199998676329834,62.80000005632639,63.59999701470133,73.09999919734894,70.89999854959545,72.300002238974,78.89999517001206,132.0000005632639,66.00000140815975,66.19999614164229,63.59999701470133,72.99999957755207,72.99999957755207,63.400002281218796,61.40000087305904,72.300002238974,101.00000126734378,85.49999711327251,89.49999992959201,78.29999745123085,76.30000505529351,67.4000005914271,58.70000212632122,69.90000235162678,51.499997958168365,51.499997958168365,81.69999353654674,73.69999691613015,68.09999793000517,47.799998507350665,47.09999666266139,46.79999780327079,101.00000126734378,74.90000136591496,90.29999688796696,101.00000126734378,84.99999901428818,96.79999921143055,140.99999338164918,111.9999954938888,120.0000011265278,113.00000070407988,294.00000647753484,169.00000408366327,106.00000028163196,68.19999754980203,90.39999650776382,59.10000060550869,83.49999570511277,94.29999970428645,101.99999746531245,181.99999971836806,165.99999746531245,129.99999915510415,118.99999591633673,92.79999639511104,129.99999915510415,132.0000005632639,135.99999436736098,121.99999352246515,151.9999966204166,151.00000042244793,151.00000042244793,134.9999981693923,134.00000197142364,148.99999901428816,148.99999901428816,176.99999169185747,191.9999977469444,157.99999183267346,241.0000097163023,193.00001196935787,224.0000022530556,369.00000971630226,255.00001056119814,305.00000070407987,261.000005773455,660.9999809898434,937.9999371960752,446.0000053510071,311.0000139407815,307.9999892979859,499.00002013668444,400.0,321.0000119693579,398.00000760406266,660.9999809898434,590.999994789809,684.9999618388707,1133.9999850735067,921.9999980285763,961.9999901428818,606.0000098571182,529.0000142224135,547.0000178836289,569.0000063367189,481.00001647546907,419.9999960571527,597.0000080265106,480.0000202775004,452.0000185877087,445.0000091530384,586.0000137999656,777.9999687388536,645.999965922534,623.0000173203649,783.9999459266655,575.0000195734206,541.0000046469272,492.0000107020141,492.0000107020141,532.0000028163195,542.0000008448958,785.9999383226029,883.0000021122396,655.0000038020313,1088.9999398715786,739.9999690204855,884.999994508177,585.0000176019969,618.0000363305215,551.9999988734722,752.9999916918574,641.9999811306593,693.999999718368,736.9999804265794,603.0000212632123,576.0000157713893,620.0000287264589,561.0000007040799,531.0000066183509,689.9999428287141,684.9999618388707,590.999994789809,599.9999966204166,604.000017461181,514.9999953530728,652.9999393083148,802.9999457858496,603.0000212632123,619.0000325284902,527.0000218264761,515.9999915510415,512.0000067591668,608.0000022530556,629.9999907061457,551.0000026755035,515.9999915510415,666.9999581776555,493.0000068999828,471.00001844689274,529.0000142224135,519.0000161938372,400.0,366.0000211223963,337.0000232346359,332.0000061959029,349.0000136591496,368.0000135183336,333.99999859184027,323.00000436529524,341.00000802651056,306.9999931000172,316.9999911285936,292.0000140815975,267.00000098571184,265.0000085897745,270.00000760406266,274.0000104203822,241.0000097163023,241.0000097163023,238.99999929592013,236.0000107020141,232.0000078856946,420.99999225512136,1034.0000047877431,599.9999966204166,356.0000230938199,358.00001548975723,332.0000061959029,281.99999802857633,274.0000104203822,262.00000197142367,267.00000098571184,234.00000028163194,214.00000422447926,211.00001563057324,191.00000154897572,205.00000239387157,196.0000005632639,198.00001098364606,196.0000005632639,184.0000101387502,179.00000211223963,164.0000050693751,170.9999964796006,167.9999898612498,165.99999746531245,146.00000140815976,139.9999971836805,160.99999845102428,156.99999563470476,132.0000005632639,140.99999338164918,134.00000197142364,125.99999633878465,115.9999983102083,144.99999619796867,108.0000016897917,122.99999873265622,125.99999633878465,113.99999690204855,104.99999507144088,125.00000014081597,106.99999647960063,104.99999507144088,108.0000016897917,121.99999352246515,125.99999633878465,110.99999929592012,106.00000028163196,120.0000011265278,104.99999507144088,94.19999107226718,86.90000080265106,81.59999391674988,65.30000406958168,92.2999982961267,80.2999988593906,65.19999543756241,65.19999543756241,92.99999563470477,80.09999961979686,80.49999809898434,91.80000019714237,69.59999448001378,67.80000357672577,69.90000235162678,69.59999448001378,76.80000315427785,75.1000006055087,74.80000174611808,66.80000287264589,66.19999614164229,75.00000098571182,74.40000326693063,63.80000076040626,63.199998535513856,65.69999804265795,63.90000038020313,56.700000718161476,54.099997085109315,77.99999859184025,75.79999794408677,65.80000216856601,70.40000045061112,60.0000016897917,60.49999978877604,62.80000005632639,72.89999995775521,64.30000336550181,66.39999988734722,56.50000147856774,56.999999577552074,59.00000098571183,56.50000147856774,101.99999746531245,57.19999881714581,46.10000046469272,49.79999991551041,57.70000142224135,48.09999736674126,46.20000008448959,44.5999971555173,56.599996592253405,49.79999991551041,43.80000019714237,48.999998451024275,42.60000025346876,41.20000107020141,41.20000107020141,44.5999971555173,41.59999954938888,43.9999994367361,43.50000133775176,42.20000177428128,64.49999809898434,49.99999915510415,46.20000008448959,45.79999709919091,45.90000122509898,49.79999991551041,53.20000050693751,48.69999959163367,44.099999056532965,52.90000164754691,52.40000354856257,42.20000177428128,42.09999764837322,45.00000014081598,56.50000147856774,56.2999977328628,40.0000011265278,45.49999823980031,39.7000022671372,39.59999814122913,37.70000085897745,41.900002914890685,40.299999985918404,45.90000122509898,43.80000019714237,41.400000309795146,52.2999994226545,43.9999994367361,38.80000118285419,53.00000126734378,47.20000078856946,41.499999929592015,40.499999225512134,38.49999781735239,40.700002971217074,53.59999898612498,46.700002689585126,39.400003407746595,44.90000052101911,48.69999959163367,38.29999857775865,35.09999947898089,43.200002478361164,38.19999895796178,42.50000063367189,32.900001084283005,45.00000014081598,47.799998507350665,47.4000000281632,47.9999977469444,38.49999781735239,35.29999871857463,35.79999907061457,39.59999814122913,36.099997930005166,33.99999915510415,35.29999871857463,86.09999483205371,43.50000133775176,51.19999909877776,39.49999852143226,37.900000098571184,39.59999814122913,45.90000122509898,49.99999915510415,40.599998845309,41.499999929592015,39.799997380822866,38.49999781735239,42.90000361897056,39.299999281838524,41.79999878898261,39.799997380822866,44.2999982961267,64.40000298529867,53.39999974653124,48.200001492649335,72.80000033795834,57.90000066183508,61.40000087305904,78.69999593041832,65.30000406958168,81.19999543756241,115.9999983102083,123.9999949306249,88.19999586001033,86.40000270366671,74.40000326693063,71.6999955079704,40.599998845309,42.30000139407815,41.79999878898261,69.69999409981064,58.400003266930625,57.70000142224135,60.99999788776037,76.90000277407471,49.400001436322945,37.70000085897745,70.69999931000173,51.7000017038733,54.90000305570666,40.700002971217074,37.40000199958685,52.90000164754691,48.90000333733861,53.59999898612498,57.70000142224135,46.29999970428645,50.40000214040282,39.400003407746595,55.500000774487866,127.00000154897573,113.00000070407988,122.99999873265622,99.19999909877777,68.39999904245137,98.19999388858668,78.49999669082459,92.5999971555173,102.99999366328112,83.39999608531589,116.99999450817697,89.59999954938888,104.99999507144088,85.09999863408504,92.49999753572044,90.59999574735755,125.00000014081597,134.00000197142364,139.00000098571184,110.99999929592012,113.00000070407988,144.99999619796867,116.99999450817697,118.99999591633673,129.99999915510415,125.00000014081597,108.99999788776037,140.99999338164918,195.00000436529524,156.99999563470476,151.9999966204166,169.00000408366327,156.99999563470476,152.99999281838527,152.99999281838527,113.00000070407988,160.99999845102428,300.9999978877604,260.00000957548633,243.00000211223963,321.0000119693579,362.9999964796006,240.00001351833362,218.00000704079875,347.00002126321226,383.99998873472197,505.99999352246516,471.00001844689274,560.0000045061112,667.999954375624,666.9999581776555,568.0000101387502,489.0000221081081,753.9999878898261,1039.999981975555,467.9999938040971,370.00000591427096,388.00000957548633,513.0000029571355,465.0000052101911,576.0000157713893,511.0000105611981,523.0000009857118,729.9999349430195,646.9999621205027,812.9999798633156,582.9999891571699,549.0000102795661,770.9999953530728,710.9999350838355,1030.9999440960578,589.9999985918403,560.0000045061112,1047.9999515593047,660.9999809898434,704.9999578960235,756.9999764837322,739.9999690204855,752.9999916918574,978.9999976061284,769.0000029571355,778.9999649368222,754.9999840877948,569.0000063367189,632.9999793000517,569.0000063367189,580.9999967612325,548.0000140815976,577.0000119693578,662.9999733857807,714.9999919734894,709.9999388858669,582.9999891571699,605.0000136591495,940.0000016897917,956.9999370552591,1199.9999504327768,877.9999490246171,775.9999763429162,735.9999842286107,671.9999391674987,948.9999674715098,746.9999424062662,1012.9999404348425,993.9999405756586,1151.999988734722,1216.9999578960235,864.9999984510242,983.9999785959718,1005.9999670490619,835.9999645143743,895.9999526858323,884.999994508177,836.999960712343,795.9999724000689,724.9999539531761,661.9999771878121,641.9999811306593,663.9999695837494,788.9999990142882,764.9999460674816,894.9999564878638,744.9999500103288,827.9999949306249,853.9999681755896,811.9999836653469,807.0000026755035,782.999949728697,832.9999759204683,694.9999959163367,685.9999580368394,649.9999507144088,575.0000195734206,568.0000101387502,491.00001450404545,411.99999042451367,423.0000206999483,394.000022812188,347.00002126321226,352.0000022530556,300.0000016897917,326.9999891571699,281.99999802857633,278.00001323670165,276.99999901428816,274.0000104203822,257.00000295713545,247.00000492855912,248.0000011265278,237.00000689998276,229.00000126734378,219.9999994367361,248.0000011265278,255.00001056119814,213.00000802651059,231.00001168772593,234.00000028163194,231.00001168772593,223.0000060550869,216.0000146448614,178.00000591427096,140.99999338164918,152.99999281838527,134.00000197142364,165.99999746531245,141.99999859184024,127.00000154897573,120.0000011265278,96.40000073224307,98.69999198757102,120.99999732449648,134.9999981693923,115.9999983102083,115.00000211223963,140.99999338164918,122.99999873265622,117.99999971836804,128.9999939449131,127.00000154897573,129.99999915510415,125.00000014081597,132.99999676123258,134.00000197142364,127.9999977469444,120.0000011265278,69.59999448001378,130.99999535307282,106.99999647960063,89.69999916918574,98.99999985918403,113.00000070407988,82.19999163553108,83.90000319652263,91.50000133775177,87.9999966204166,86.30000308386985,83.39999608531589,85.59999673306937,81.69999353654674,81.59999391674988,73.69999691613015,78.89999517001206,74.30000364713375,75.59999870449303,83.9999938040971,70.59999969020485,72.0000033795834,77.60000011265278,164.0000050693751,56.599996592253405,81.80000216856601,62.29999745123085,67.4000005914271,80.09999961979686,77.19999262124291,54.90000305570666,62.40000157713892,75.79999794408677,56.2999977328628,57.70000142224135,55.299997028782926,60.20000092938543,72.80000033795834,73.99999577552074,67.09999722592529,67.90000319652263,64.30000336550181,55.900003759786536],\"yaxis\":\"y\",\"type\":\"scattergl\"},{\"hovertemplate\":\"<b>OLS trendline</b><br>y = 1.09412 * x + 6.81656<br>R<sup>2</sup>=0.891155<br><br>x=%{x}<br>y=%{y} <b>(trend)</b><extra></extra>\",\"legendgroup\":\"\",\"marker\":{\"color\":\"#636efa\",\"symbol\":\"circle\"},\"mode\":\"lines\",\"name\":\"\",\"showlegend\":false,\"x\":[25.01195598036293,25.032624385919135,25.090387098890975,25.10262006427686,25.105543403919217,25.109949254147065,25.118045609449428,25.139671563636078,25.294895829270207,25.34601653433016,25.35688414802181,25.45781540630971,25.489394233613986,25.513930009109384,25.654720074035406,25.797076012604155,25.88012702164215,25.9161781643145,25.9297325468104,25.930135843762987,26.035846959508508,26.145935762286864,26.354886391783555,26.462075512003366,26.462638775903628,26.523385661019056,26.61145422488058,26.639990300595638,26.664693928733318,26.886822680440535,27.27392354283981,27.320377043222198,27.36150657321931,27.511342093119634,27.58641784859382,27.606749422337668,27.62191023347711,27.622443081126757,27.81927227148982,28.026673925260795,28.13555959634819,28.248007348340842,28.278885475353192,28.287655494280266,28.307888496841567,28.324774022043613,28.385016222704408,28.396611010091295,28.39830080179208,28.44347118700967,28.482263171820694,28.568434099602236,28.67305417317295,28.899865900946946,29.021024529157145,29.458723950980833,29.639829066304188,29.90131194019489,30.002037043895296,31.300636333309722,31.407060541152976,31.945721637515177,32.286448983005904,32.354211319999095,32.45769866986638,32.462049320232005,32.86369027695264,32.95156676782417,32.95320755556563,33.016662050249614,33.10566168933828,33.136633881421965,33.17918846908674,33.223449746369305,33.23575142995102,33.267817480529025,33.27331268313998,33.30529199107734,33.377547484202914,33.585658850488215,33.757655988544336,33.818335281991736,33.92775661704828,33.96413219972718,33.964765308351076,34.02179127214138,34.13223042506569,34.300428911378454,34.30168104702874,34.308868857659974,34.32584732140556,34.51076517006979,34.597112399452115,34.632266825995245,34.80342301104828,34.86746780629974,34.964438192841,35.34611820346416,35.59625806893139,35.62614766779878,35.674757342391366,35.77609584047916,35.79549295941247,35.80993166623178,35.8207373208944,36.05323801406104,36.092006341788256,36.1375135588182,36.228725698507084,36.243967056384264,36.423920297031586,36.445502879897916,36.529835314309004,36.57795156972496,36.66951800240711,36.71567860556136,36.910656347484256,37.19082437473835,37.20498144960752,37.205794802679506,37.221846134045265,37.2326895273892,37.407061386048824,37.42294993414741,37.54719581179494,37.8748565613274,37.90958741341754,38.06945860622883,38.19997530087797,38.24876690971035,38.28961931386853,38.328801077298536,38.36173004817174,38.39078601646674,38.72070770729484,38.84073135874602,38.859490862944234,39.1542451721595,39.31031546017182,39.31180979929921,39.4434732992493,39.46401440716404,39.48797846980067,39.504457318466734,39.616693283232884,39.64070691309274,39.65504085282661,39.65877078637414,39.746478298075594,39.77244307408596,39.80538837961227,39.94939975078389,40.081011993719045,40.12827659411781,40.13410524895772,40.15635642607366,40.15795158943919,40.1900125706421,40.21505978975893,40.28596119646828,40.319223056306534,40.3641219483242,40.42563036623278,40.526596546882494,40.52730851245243,40.54180917830077,40.614972652833565,40.71212666340631,40.75559711817291,40.78426725069623,40.82378133982739,40.827359192121854,40.827742211574034,40.8786792926025,40.886216890115804,40.89053261811961,40.89785279576741,40.91861695618666,40.959176463116705,40.97334818284729,41.04470921289925,41.05833794622998,41.25494633714414,41.371510421719904,41.38533517088793,41.42375314846918,41.48452143761282,41.49602103340057,41.53644648352235,41.582607086676596,41.63126520196461,41.63916666795748,41.67039063900459,41.753554300822636,41.81500639234119,41.84180310913224,41.897999948461354,41.89836043735752,41.91246005930887,41.975414938913325,41.983758003804006,42.03513893678588,42.12866327478534,42.305718522665806,42.327245342406016,42.36182523977088,42.36468549385641,42.446330596199346,42.61164742439837,42.70999217485627,42.80143694253596,42.85700405282458,43.04466893953038,43.10206553096705,43.11081076628252,43.1114213443504,43.12194086095169,43.31141382477733,43.35926647268797,43.38605192420101,43.39203491334959,43.415901531331485,43.44569143248852,43.52218267014407,43.62158297715106,43.67620155103164,43.99922438560934,44.00512964433968,44.12097500417872,44.15668368239971,44.245967769757996,44.26670489351003,44.4984215233275,44.60028554663424,44.66472293682418,44.66879984093428,44.77770015688308,44.88855161898239,45.01427324804861,45.16761170614466,45.17929379943609,45.28644461771068,45.29425370842391,45.383986153846806,45.388094600735315,45.4132454604098,45.45560403223728,45.53730658749805,45.556793265391505,45.587072079613975,45.71134837351212,45.731821889758834,45.74448180918112,45.772223682796806,45.80666614377001,45.835095199344025,45.958091757660775,46.039388762913354,46.120737588444754,46.166382241866366,46.186228282128184,46.190680319995856,46.34583812048975,46.4182625927854,46.50361059200866,46.654378313663926,46.735751922806934,46.84569653002682,46.93466969571217,46.93731252993219,47.12192790588198,47.19369673899773,47.2110655446262,47.25420254716385,47.34266201617215,47.433617870786414,47.46990107818568,47.47247406768207,47.53196149471651,47.559302324435215,47.838327489235674,48.07582883930883,48.32507311517465,48.32662997659498,48.36102287034496,48.41343344973651,48.41838566594761,48.43313642096767,48.53378717383324,48.54139348954237,48.76966181776244,48.782197819126665,48.84071868530826,48.87516339933707,48.882776474213,48.89660347643663,48.92117980693285,48.96395857362993,49.042117072430244,49.11650170309881,49.120406248455424,49.302419345186,49.32293792254474,49.36319777307985,49.4139027893814,49.42276180400472,49.518897433445794,49.56771664220928,49.635477289410765,49.72220415866187,49.80808613206257,49.80833622123429,49.80887695457854,49.843357717496964,49.91544648450806,50.052580966721386,50.21669128364604,50.256146793331574,50.48400055932105,50.55336087599928,50.628993699470826,50.674117897048596,50.75710469400196,50.965523602376805,50.98547891583528,51.17066882096333,51.25028054062632,51.340238291609325,51.58120484119689,51.59690187956939,51.71868178786158,51.72851862861575,51.81400406423067,51.858601046797794,51.93774187784017,51.97688871890836,52.132230143433745,52.171070568940195,52.31259625651995,52.32111055363631,52.40131257386678,52.60066068039181,52.60806647415245,52.95609597284617,53.006843797204155,53.13184332195024,53.149205368411906,53.30803226995211,53.584022568857954,53.83818075898966,53.90615094036204,54.207749469229384,54.38850085482338,54.47176252456006,54.592862010060735,54.60845766093119,54.677732361496574,54.90411713523417,54.91134268454673,54.93161567884495,54.97782359616682,55.221446498308026,55.29292468725124,55.35965794109865,55.37665048644175,55.59530727946775,55.6421280279131,55.66072249578855,55.667774559819826,55.73330242892067,56.07481834387177,56.27194493757417,56.34071495368492,56.401394247132316,56.628901042559235,56.67518781682714,56.6789639380145,56.74213060484545,56.78660366935451,56.82587217542516,57.44120193757149,57.59979452132919,57.64853487314663,57.76547521800777,57.787426738728776,57.95815653300931,57.986349017745205,58.06297093262561,58.07147396446396,58.23522153943685,58.27975543644715,58.46144859928237,58.592272272757164,58.76413535400503,58.92662572395253,58.98214101396233,59.04054922736387,59.05621246990235,59.10293633695686,59.14726745896306,59.17871560904247,59.23883389164521,59.39857328070383,59.428493859085734,59.8207305617276,59.830326325532454,60.00114624203703,60.09047989661855,60.14179323793239,60.358622802865945,60.56286229310085,60.820008034959535,60.87306298825299,60.88581753601052,60.964163038425724,61.050941727955646,61.08603081588635,61.336201097604196,61.42320283963863,62.01268780098535,62.027479111006215,62.09784429048251,62.337411692541835,62.400051144362145,62.40935401093887,62.45664114189364,62.82220842538591,62.858989558073,63.02758570869934,63.05680108067812,63.187581946096486,63.23727984654438,63.488432460504285,63.766856059459265,63.91175231821819,63.97122622691903,64.00050243139903,64.0122746469145,64.11876081378678,64.20351851244257,64.44799757571218,64.64803061113993,65.04176108964528,65.04311968217272,65.09377963736225,65.2888356729673,65.69002151245651,65.7648747786901,66.28192400246316,66.32552738751022,66.39432669334379,66.43378220302932,66.52187893008585,66.94580035364524,66.99397744156242,67.03016376757084,67.18438992957371,67.20411317830528,67.24422432717071,67.32743417662857,67.43392034350086,67.44027396029581,67.58177937037516,67.61656654885533,67.78149021885197,67.93799422006748,68.02720846270215,68.19968662812909,68.4196727239597,68.55430180834468,68.56310224352237,68.63481700330368,68.65196726253885,68.84806871594277,68.89773056750106,68.90074966200646,69.01152789979874,69.4048393099623,69.60064336002688,69.89322966649004,69.9224202548572,69.95806359446577,70.08378860311538,70.09447709888676,70.38744642480209,70.63230400141266,70.66655945877099,70.84076571784394,70.98180699846947,71.06181750897385,71.11252477833101,71.31403356517745,71.37883144426355,71.39748223852902,71.4968329783128,71.92830213813568,71.95056683358523,72.03613337920179,72.25558550085496,72.3230284672167,72.33882689309124,72.59634664217971,73.02598181474335,73.09069407771662,73.36259282765096,73.68873614423612,73.76771475527521,74.11928155126257,74.21623954599804,74.29491174147539,74.39669578130828,74.77724137843632,74.92834029926493,75.14798167758859,75.50083271526854,75.56883443941935,75.8149176782769,75.87527253171774,76.16073918248159,76.27211222695254,76.2733108525323,76.60649271481512,76.64909799623092,76.8074697805397,76.98970592977479,77.19166983385264,77.38672586945768,78.16120472009516,78.17984650213822,78.79712515737945,78.83987012824252,79.0044918887886,79.16283213031899,79.36395789771325,79.38226172141616,79.89638647901906,80.0081695796094,80.17244436959292,80.18784625768168,80.27604887835147,81.14096988692619,81.3258736539929,81.49670934188669,81.501265020312,81.55254005968062,81.55747425144692,81.62803094064931,81.72105059419412,82.04278242791243,82.31569505286724,83.08750628567309,83.20777889976817,83.25982448415236,83.32224764263496,83.81575243537708,83.97845008643989,84.2160483179039,84.42927749998698,84.48040834379714,84.49480987519902,84.50623286709633,84.65326276950945,84.65591236289629,85.208807701282,85.2785352660232,85.81605575298738,85.99589915717415,86.14180253178674,86.27133069829092,86.33801663797072,86.81943604046882,87.26126474994533,87.44540698421889,87.66345319917701,87.86039729537573,87.918242244877,88.12915979191342,88.51491445359106,88.5567131411017,89.5916317008866,89.6344848184185,90.21825603076097,90.50126685091968,90.60203701573211,91.18575415474014,91.37349226575297,91.91142731494774,92.20234185415492,92.22355662569439,92.30736128183092,92.48347813205356,92.59768101435942,92.6518489771198,92.67542495092916,92.70484985707883,92.76173951100526,92.90929212231782,93.49725852418943,94.0455215802594,94.38773368939123,94.81837372475293,95.41778564907786,95.64408705975822,95.83980999982117,96.30067252301531,96.81205756500734,97.33368950387293,97.56455109908981,97.72072840724319,97.89050966511567,97.90095483088213,98.02745939676971,98.18353757047663,98.78513495873459,99.04825580404724,99.4947077836171,100.11464504446758,100.39615983570718,101.01751652158632,101.17333784695472,101.3519105277825,101.97494348702881,102.27196831302602,102.40543932683205,102.68309238077147,103.62053474303268,104.00703741916988,104.5354285248386,104.76532130614703,104.83489115699615,105.40559915296375,105.44496454042523,105.8522809442049,105.86123458716347,105.97243189329754,106.0005320027538,106.69710469681827,107.40205875771865,107.81521508161623,108.19955933048763,108.2455306769714,108.45725481791297,108.91122749707912,109.34176839799439,109.69290260730635,109.98133878535238,110.41534939189326,110.5353110843154,110.67085490927438,111.8372888306036,112.28653009300754,112.71113193935845,112.89496325195907,112.90346177768622,113.87589859954288,114.43170037965395,114.4468679499602,115.9804237631464,116.11911285372445,116.4663447707354,118.47168141455843,118.52949482128129,119.66633260423515,120.76149787079206,121.19796881404926,121.26241521646162,122.26499792226029,123.04087817348162,124.2433880210948,124.31156548358247,124.76488928273552,125.3077945725862,126.46791993823248,126.77532684443932,127.30005448170076,127.84866450833327,129.31686368464432,129.73232713747737,129.86051698895454,130.4135069556755,131.75111001712744,132.14972061406468,132.85106978600336,133.01737232602784,133.14245296077556,134.1100772558684,135.8706870003057,136.01710857770655,136.31794557378075,137.00639825545906,138.35401389600204,139.1017399644327,139.54888137901648,141.17325335736967,141.36167189117404,141.36732255462147,141.809173794654,144.47784605631483,144.6507365309168,144.93253070105092,144.97415815633587,146.556208738279,147.6176232319322,149.11458040993503,149.14244620160878,150.79802750614766,152.69823657562586,153.49315965278723,154.15563910949666,154.31633604718576,154.34690550558074,156.165040265624,157.99268292030365,158.0087246761831,159.81224161148674,161.4451121155671,161.96680263387833,163.91631757212983,165.33699529970357,165.49577263402054,165.59898961721572,168.14168002188845,168.70547564327202,169.16745117593308,171.56127769093342,173.77892427015433,173.90417613712773,177.76060523832612,178.41775847159468,179.61381556796644,183.36531536371288,184.1162137344298,184.28777040011593,185.53345780526755,189.252315331466,189.95537682566152,190.610186881105,195.93882559758427,195.9627620602898,196.89316587685335,198.07775041410457,198.82053778465774,201.80617892049628,203.37722557888392,203.76790542010545,204.0546563125619,204.2965263374455,208.2229894189468,209.01395613047276,209.89158437263737,212.9737644348696,213.60215065422398,214.05350077667052,216.01180263176607,219.43149042303511,222.941210316122,224.64156434156493,224.80282904926545,227.66244326700385,228.03524285897547,232.3249706011448,234.12227811521197,234.2617873180288,234.43929205050168,234.69273376895225,234.8613344256898,240.0684703597158,240.55495012509388,241.07030505105493,241.44022073185724,241.68306407676047,245.94164557830092,248.377072511919,249.13981294287504,249.96776581514777,253.97723146499166,255.30691278295035,255.6851918061437,256.7110170335228,258.3644714535743,258.77497818408506,258.8643794303346,259.46513417579774,261.66431471131244,263.7960117254646,264.57005348331546,267.21081489219057,267.76919416790923,274.78228934951045,275.90366215881875,277.8350535178154,278.57654312834234,279.01980027506994,279.17023229144064,279.3849935513324,285.9942870958916,286.460327140857,286.80854139010995,294.5667851445342,296.85365460404165,297.8388887817123,300.3485764279409,303.85543043430323,303.8805024370317,305.60672154077463,306.3408571778197,309.9800466579652,310.4697167500743,311.34817411670014,314.36818786878825,314.63594099641665,318.463828389261,320.29722084183453,325.03334198412807,326.4309213856799,328.72303595862655,333.03053580337695,336.07846942047325,336.3596147105943,336.5672563147868,336.9051786060542,337.56364762379377,341.46478636033936,342.3430815069619,346.6507435717155,348.60783778900895,352.9368047475261,364.05197517639664,366.7221164303094,367.60275475475703,368.44013441166453,369.0670966998791,369.21929511184095,371.1207658924557,375.45957419783826,379.38136894813425,379.80389798333215,379.8713454558051,384.0137954594452,391.99235200276223,392.7008929281795,395.38851789355635,401.7958114851481,405.1524317440326,408.4389729615022,409.5900861047443,412.6641551668127,414.6677164028221,418.3148546631281,422.83152818987963,423.57485629377703,424.13109066056353,426.3594888211126,431.46981546207286,432.25593359794533,433.88714585310333,434.23822598908083,436.1351906584935,436.4962202880053,438.00904798966184,445.87433892180303,449.0938652534751,450.3733124437528,452.57207841703695,453.1633162556413,456.18857512116864,456.5687827599565,458.3872329477839,459.2446557873183,461.8044513901142,461.9493318774839,462.39965460657635,462.91230586581617,463.6348337604047,464.85126749163237,468.65258685282913,470.37312825645745,477.0303848486517,477.26372931114093,481.8293932788817,485.93200925949526,486.4739682659935,487.6636537211255,487.6831922192978,487.75817390970064,488.7839090148557,489.315702234482,489.9758655500335,491.12312146208666,493.7070698209257,493.9638100127762,496.1851065420708,496.21852386274554,496.6570586049333,497.42410687819853,498.77608443438515,500.32777283904863,502.7722480439605,503.3289149974224,503.5363763571668,504.91001929601305,505.2273216224197,507.05774004159986,507.23809263635246,508.73873581331856,508.7975315522835,515.9313905141008,516.6919860361246,517.8033372541195,517.8904313714336,520.0066453874953,520.6073640840689,522.0498243531935,522.6389713562,524.1728876582824,524.6486609034444,524.9313923447085,527.8105811095088,527.914221667157,528.6314503749718,529.3322047402319,530.8448882463299,532.0581136263817,533.0893642116481,533.7060525663219,536.077420623091,536.3351341349611,537.6062540317374,538.7048439428079,539.2141066064237,541.6769667450401,541.7754883603627,545.601969846512,546.3991910403864,547.2967362940643,547.507550200543,547.9657676364616,548.6297881832021,548.8156923069557,550.7681362174886,551.5947733052903,554.2502066122394,554.446925402878,557.4521771346681,558.3232625033672,560.2811858451219,560.5614299130025,560.671523221892,562.7504266372005,562.8408733012488,566.1338672699599,566.1623819416467,567.893269376595,568.1955393160315,569.8496065672065,573.9027274223763,575.4421952534597,577.5593465406514,579.0744813712435,579.4316537695662,580.7100915909347,584.0341236536057,584.8213953539458,584.9003784710961,585.2868586166774,588.3719586389685,590.0033511385747,590.092391895928,590.5011863041819,591.0161086434676,591.4691710881709,592.9218331930572,592.963325465006,593.0292228352255,593.6670718881043,595.441181941703,595.4658033333113,597.1238720112337,598.6011555077282,599.2585430587793,602.5309891604087,605.8720002500892,606.3917170916939,607.2923265009891,608.513446587867,610.1112775712398,610.1472183141877,610.2445142672634,611.0042806648261,612.0480402147895,612.1613779237445,613.0505958839209,614.6246706490364,615.3763620953248,620.6661761576869,621.5866124562714,621.6967418140505,624.0205253365256,624.1769775174622,624.5605377029844,624.999468982958,626.5780498592756,628.1678419402639,628.3758079844629,628.4058727584033,628.8174068822681,628.9112781908301,630.114806419575,630.9139021557095,631.1279965111434,631.3505623556372,633.6428391485872,635.7925786319926,635.9762116757003,637.1377789969312,637.2571729193419,637.3010083691158,638.2573854106482,638.5364038162819,639.0141957992623,641.3838335093299,642.2063970726049,642.540498181573,644.1883650237338,646.2693953235296,647.9832316336892,648.0568434662866,648.4167555802203,649.4714018948479,649.4893542418771,649.8421286756666,650.0124236302162,652.0901374321672,652.9327441780691,654.2219245685434,656.0529918677366,665.9905892683864,666.4171197303318,671.6388734890974,672.5537222097913,672.711400052975,672.9928697831026,674.6456392742514,674.7969004150832,675.9760595944472,676.4532026974144,678.7232733743606,679.784048000223,680.6764743115754,681.3640708321252,681.4753177054826,681.5198741330488,682.1524600480436,682.4533961785643,683.6874938657041,687.9863960502809,691.415294332847,691.7160141700299,691.8258190878025,691.830865932349,697.7610524698629,700.6173501897566,702.1728597767194,702.4968671965947,704.9169012543465,705.0457399858367,706.5771689145355,707.705859648436,710.3236579146253,713.4015842078827,716.2327198028238,719.6597435431299,720.1942764783671,723.3403351730002,723.9423516295999,727.1044160312229,727.7869657072264,727.9599282796075,732.7227796735519,734.2568762200824,734.2830477139441,736.1443960804155,738.2039412419997,739.486344441226,742.5405505651156,755.331345481152,758.0616162829455,766.6886202526887,768.1775835894189,770.1522696648453,780.2828728205031,803.3832896780341,804.4150088988655,835.9240455528414,853.0364534539132,922.5555835153497],\"xaxis\":\"x\",\"y\":[34.18269234478558,34.20530610484129,34.268505567797455,34.28188992602741,34.28508841664411,34.28990895491074,34.29876735647615,34.322428791685695,34.49226309691689,34.548195391982475,34.560085888698964,34.67051701270789,34.70506810672227,34.73191324184046,34.885954768546895,35.041709552269594,35.132577499758966,35.17202185302124,35.186852002963484,35.1872932590871,35.30295413095215,35.423404727108725,35.65202223638293,35.76930022566191,35.76991650516416,35.83638101692326,35.93273878221871,35.96396073436191,35.99098952077178,36.23402550528073,36.65756112808689,36.7083869311968,36.753387660451395,36.91732601968453,36.99946806570148,37.02171329061485,37.03830106969752,37.03888407010665,37.254239244492354,37.481161985135365,37.600296208275125,37.723327782987134,37.75711222530071,37.76670769715081,37.78884507315128,37.80731990006985,37.87323222539494,37.88591833894884,37.8877671774556,37.937189095859374,37.97963226517962,38.07391378483197,38.18838092330115,38.43654065559185,38.56910299280622,39.04799961957938,39.246150735380155,39.5322449361526,39.6424505018637,41.06327673151564,41.17971781323055,41.76907884310575,42.14187617449133,42.21601644745102,42.32924424784117,42.33400439071658,42.773448652593935,42.86959626657911,42.87139148876918,42.94081845609561,43.03819493140829,43.07208229239874,43.11864220879404,43.16706945208117,43.18052899641041,43.21561317219424,43.221625595018224,43.256614863758706,43.33567119830787,43.563370451123724,43.751556327373045,43.81794688559189,43.937667190538285,43.977466520793854,43.97815921895439,44.04055258832161,44.16138651032858,44.34541619761471,44.34678618694822,44.35465052967648,44.37322704271293,44.57554975446446,44.67002416960102,44.7084874058957,44.89575317684817,44.96582600509298,45.07192345164205,45.48952800051852,45.76321156467456,45.795914436461686,45.84909935750622,45.95997605159527,45.981198868814396,45.99699657757518,46.00881928354642,46.26320343880988,46.305620724391034,46.35541117793715,46.455208399134676,46.47188430618617,46.66877513040484,46.69238911209271,46.78465909544971,46.837304155650266,46.937489016654716,46.98799435442345,47.201323818085235,47.507861858785965,47.52335142779562,47.52424133539687,47.54180345237261,47.5536674490705,47.74445155970133,47.761835571900924,47.89777573706715,48.25627661655943,48.29427641066843,48.469195021793226,48.61199622665804,48.66538020598181,48.7100777257213,48.7529473604571,48.78897567643838,48.82076645456217,49.1817410799765,49.31306161399383,49.333586802816406,49.656084017507496,49.82684397455109,49.82847896407056,49.97253491400198,49.99500939489019,50.02122900631358,50.039258879431536,50.1620587330507,50.1883325770703,50.20401565784367,50.2080966607076,50.30405939084209,50.33246802705751,50.36851421514435,50.526080244324184,50.670080112820884,50.72179335841404,50.728170618703366,50.752516124160415,50.754261427710794,50.78934005697911,50.81674477388534,50.89431957251109,50.9307121096782,50.97983698136188,51.047134703008034,51.15760403634609,51.15838301363695,51.17424851314298,51.25429829024978,51.36059664391659,51.40815863078255,51.43952725744729,51.48276049708942,51.48667510448774,51.48709417454928,51.54282556249712,51.55107261479629,51.555794548342554,51.56380371675385,51.586522244324954,51.630899298723264,51.64640489099998,51.72448257369957,51.73939407253611,51.95450766535693,52.08204301067141,52.09716897477473,52.139202934505484,52.20569086488568,52.218272827203705,52.26250320708048,52.31300854484921,52.36624646593094,52.37489163478857,52.40905447271652,52.50004567610634,52.56728176980227,52.59660065084251,52.658086856782404,52.658481275663846,52.67390798416427,52.74278831157221,52.75191664355961,52.80813365975523,52.910460708309515,53.10418077448907,53.12773374450623,53.16556837570862,53.168697843021064,53.2580275568728,53.4389043582254,53.54650552675997,53.64655727139193,53.7073544768483,53.91268278373233,53.97548166501203,53.98505002056403,53.98571806754447,53.99722770352857,54.20453426761484,54.25689090900834,54.28619746445853,54.29274358533147,54.31885658040099,54.35145037071621,54.43514112712232,54.54389720344412,54.6036565942187,54.957083028289425,54.96354410259106,55.090293075260675,55.12936273058558,55.22705042704688,55.249739373201876,55.50326566739819,55.61471735026285,55.68521972532072,55.689680356358046,55.80883060276486,55.930115641367486,56.06767045882962,56.23544146028727,56.24822309716402,56.36545917943683,56.37400327845609,56.4721815334012,56.476676676090634,56.50419478842529,56.550540239553804,56.639932813914776,56.661253619574765,56.69438234049794,56.83035578475729,56.85275631210522,56.866607810197884,56.8969608082429,56.93464506724674,56.965749926284516,57.10032318351474,57.189272036634094,57.27827758746764,57.32821841321231,57.349932405194735,57.35480347838055,57.52456506263049,57.60380628103032,57.69718741632988,57.86214571813926,57.95117838527091,58.0714712138749,58.16881872405097,58.17171030747554,58.37370207713437,58.452225946193586,58.471229540925094,58.51842669032573,58.615212153595735,58.71472896761974,58.75442722803695,58.75724239280324,58.822328903595306,58.852243110634724,59.157530720225374,59.417386204909846,59.69008988465731,59.69179328120155,59.72942330760919,59.78676688273492,59.792185212118746,59.80832433972378,59.91844855654058,59.92677079493902,60.176524226022536,60.19024014262471,60.254269117790905,60.29195584191276,60.30028547566522,60.31541390488656,60.342303412128906,60.38910860776611,60.474623551498894,60.55600942256658,60.560281472076205,60.75942603043462,60.78187586014273,60.82592505384585,60.88140253463877,60.89109537865022,60.99627949897695,61.04969367599632,61.123832100117504,61.21872188763858,61.312687255906276,61.31296088400528,61.31355251232744,61.35127867833744,61.43015259415393,61.58019446689074,61.7597511975495,61.8029203441234,62.05222019349326,62.12810885140084,62.210860397845515,62.260231781330106,62.35102947295621,62.5790652143803,62.60089876458616,62.80351913933728,62.89062408418588,62.989048850931894,63.252695687114226,63.26987016428305,63.40311225778841,63.41387496301578,63.507406470513885,63.556201016384364,63.64279075156908,63.68562217697575,63.85558466834342,63.89808083770085,64.05292722543723,64.06224290639331,64.14999371216027,64.36810488848005,64.37620773137569,64.7569945102285,64.81251882826358,64.94928357540383,64.96827977478131,65.14205580370893,65.44402289934143,65.72210300146656,65.79647068156258,66.12645630848556,66.32422040075892,66.41531883678213,66.54781646464876,66.56488001150719,66.64067499493042,66.8883675873584,66.89627322081333,66.91845435265844,66.96901145790537,67.23556466822035,67.31377053705639,67.38678486736545,67.40537678738947,67.64461402504652,67.69584164239188,67.71618626132032,67.72390208068853,67.79559757286277,68.16925769555151,68.3849382655144,68.46018106250361,68.52657162072245,68.77549184191892,68.82613522629616,68.83026676407927,68.89937881258007,68.94803777696004,68.99100231873919,69.66424823306372,69.8377678897184,69.89109578760745,70.01904280762945,70.0430604523913,70.22985969976055,70.26070572140738,70.34453945465802,70.35384281002405,70.53300265668335,70.58172817924958,70.7805226908507,70.92365976804426,71.11169896977206,71.28948328058235,71.35022378832451,71.41412950759026,71.43126700798894,71.48238862525993,71.53089228720533,71.5653004043752,71.63107714820978,71.80585154993105,71.8385883170908,72.26774317639851,72.27824211399891,72.46513996608853,72.56288189514603,72.6190249578014,72.85626298475314,73.07972593227049,73.36107478087558,73.41912337975191,73.43307841280095,73.51879796132849,73.61374444656377,73.6521361944362,73.92585303768536,74.02104356960355,74.66601211524664,74.68219561497584,74.75918371551543,75.02129971341418,75.08983492430086,75.10001339656009,75.15175129333333,75.55172655076831,75.59196960226551,75.77643438288023,75.80839956810314,75.95148980805452,76.00586538109741,76.28065701579851,76.58528643888076,76.74382064315863,76.80889236324263,76.8409241066518,76.85380434824891,76.97031322070906,77.06304849509027,77.33053845024867,77.5493990224432,77.98018825499088,77.98167472115033,78.03710289958305,78.25051802609568,78.6894643341352,78.77136294974876,79.33707795140197,79.38478538023047,79.4600602237538,79.5032293703277,79.59961794959825,80.06343976346677,80.11615138185357,80.1557436421964,80.32448590014961,80.34606554320054,80.38995203911506,80.48099377742406,80.59750264988422,80.60445428266965,80.75927848434394,80.79733990640317,80.97778654466319,81.14902103692349,81.24663231472654,81.43534449367078,81.67603615095315,81.82333681246395,81.83296556340717,81.91143026963415,81.93019474791879,82.14475368918758,82.19908982034234,82.20239307847442,82.32359800074174,82.75392872133976,82.96816226703136,83.28828742191828,83.3202254908431,83.35922365774574,83.49678217288489,83.50847669271967,83.82902091766812,84.09692501265202,84.13440466686113,84.32500759131828,84.47932397868271,84.56686524941892,84.62234519532984,84.84282041982028,84.9137172137596,84.93412346063825,85.04282530436384,85.51490526356255,85.53926555972767,85.6328858114741,85.87299323578834,85.94678407827024,85.96406948574946,86.24582754394406,86.71590089708343,86.78670401653842,87.08419445786653,87.44103508037976,87.52744732706782,87.91210434119478,88.01818822959481,88.10426522023364,88.21562939140898,88.63199275336791,88.79731342752461,89.03762792175161,89.42369005314369,89.49809224489184,89.76733736407266,89.8333729452982,90.14570832727662,90.26756404069833,90.26887548347914,90.6334171346525,90.68003251620301,90.85331059129281,91.0526991963341,91.27367237466237,91.48708750117497,92.3344619563024,92.35485834270901,93.03023658411134,93.07700480297841,93.2571211154252,93.43036467886289,93.65042083329179,93.67044745199703,94.23296273047455,94.3552670953739,94.53500377964731,94.55185532635696,94.64835976617394,95.59468898841932,95.7969962931833,95.98391140109898,95.98889586971322,96.0449970253624,96.05039563380215,96.12759326937253,96.22936813149278,96.58138205294433,96.87998179737652,97.72443755278128,97.85603048233861,97.9129747083469,97.98127326790471,98.5212277863637,98.69923888803082,98.95920037278968,99.19249914116301,99.24844252925963,99.26419956357326,99.27669771187898,99.43756638291138,99.44046536168999,100.04540039086665,100.1216908630097,100.70980392689285,100.90657457660858,101.06621068863646,101.20793032297483,101.28089288580571,101.80762451126432,102.29103908306851,102.49251317794544,102.73108236862205,102.94656326402622,103.00985270378972,103.2406222610858,103.66268497588156,103.70841784518485,104.84074515144655,104.88763169597804,105.52634870235029,105.83599710569888,105.94625197377017,106.58490981731018,106.79031824052949,107.3788848861263,107.69718092345052,107.72039247462342,107.81208500408681,108.00477834861562,108.12973025025666,108.18899661742944,108.21479161227579,108.24698605347355,108.30923028320122,108.47067086161171,109.11397791771672,109.71384466426686,110.08826650842039,110.55943930419178,111.21526915978261,111.46287054284427,111.67701534428754,112.18125523303188,112.74077292801043,113.31150197969399,113.56409276160589,113.73496981175491,113.92073124444236,113.93215953153216,114.07057097750243,114.24133956245905,114.89956058251862,115.18744692408362,115.6759199180423,116.35420699869528,116.66221856368587,117.34205866868453,117.51254623018812,117.70792655334675,118.38960070614412,118.71458214350879,118.86061573436295,119.1644020870861,120.19007852780571,120.61295966178048,121.19108406749108,121.4426148486591,121.51873276254152,122.14315701469747,122.186227556551,122.63188145069307,122.6416778296609,122.76334126387792,122.79408621568638,123.55622182029802,124.32752766390323,124.77957114392466,125.20009069484679,125.25038896270279,125.48204103224607,125.97874259011887,126.44980692069788,126.8339906321671,127.14957503968141,127.62443565199432,127.75568839526639,127.90398989468883,129.18021106937286,129.6717358794267,130.13630215893394,130.33743606752563,130.34673449265563,131.41069914629128,132.0188141776996,132.03540935213627,133.7133067156815,133.86504951984455,134.24496364692217,136.43904686108345,136.5023017891948,137.7461411737124,138.9443857355352,139.42193825671396,139.49245049224388,140.58939842484017,141.4383061833692,142.7539988276136,142.82859329856643,143.32458490245264,143.91858959837734,145.18790844263611,145.52424914378634,146.09836526761427,146.6986116423378,148.30500086267747,148.75956862354013,148.89982397778115,149.5048625419142,150.96836366197923,151.40449234013445,152.17185399492521,152.35380928540675,152.49066277679532,153.54936193836372,155.47568403438564,155.6358871235556,155.96503954059153,156.71829085989873,158.1927469643958,159.0108506082842,159.50007792835362,161.27733926860628,161.48349215746435,161.48967467343095,161.97311389641524,164.89296729431913,165.08213058985908,165.39044782948278,165.43599334981738,167.1669499133887,168.32826700743644,169.96612099404322,169.99660957357872,171.80801772849227,173.88707853635287,174.7568214722941,175.48165491119332,175.65747698806845,175.69092370921476,177.68018519824287,179.67984948526905,179.69740112549323,181.67066892887883,183.45722869426152,184.02802183901332,186.1610292893832,187.71542424067673,187.88914603700812,188.0020780232372,190.78409188254895,191.40095315265324,191.90641080969405,194.52554939191404,196.95192560630102,197.08896644665825,201.30837089608355,202.02737679600943,203.33600934227601,207.44060831578537,208.26218284583044,208.44988679150902,209.81282095727818,213.8817053010729,214.65094044555056,215.3673826227471,221.1975642025681,221.2237536162959,222.24172902835534,223.53780919372,224.35050929893262,227.61716535881703,229.3360822860323,229.7635337487958,230.07727424803934,230.34190959654333,234.63793977416086,235.5033539628783,236.46358645069452,239.8358678870293,240.52339916021606,241.01723132072638,243.1598527313314,246.90140884541685,250.74147107514264,252.6018660551314,252.77830934174477,255.90707656067684,256.31496484692076,261.0084509313681,262.97492486952086,263.1275649766392,263.3217768338615,263.5990730284598,263.7835427393105,269.4807854351413,270.0130537156482,270.5769149485586,270.981647883751,271.24734816323485,275.9067564563255,278.57141097746404,279.40594216776447,280.3118237337179,284.69866885878764,286.153502623933,286.56738607717483,287.6897641671522,289.4988452506652,289.94798975190804,290.0458056345059,290.70310470043,293.10927680761506,295.44161370019407,296.2885099224277,299.17782543843595,299.78876056484654,307.46194325198474,308.6888620664884,310.8020401075938,311.61332030483317,312.0982977614551,312.2628887606811,312.49786380930055,319.7292381863907,320.23914291631985,320.62013183484936,329.10859807087354,331.6107125709695,332.6886790948964,335.4345839056121,339.27151050523037,339.2989423384347,341.187636873167,341.99087092522495,345.9725886962209,346.5083475838285,347.46948723507205,350.77375113530206,351.0667057594936,355.25488209398065,357.26083736216583,362.4427323475036,363.9718549089686,366.4797082037896,371.192639139092,374.52745078168977,374.83505806732694,375.0622433430379,375.43197160250224,376.1524171313454,380.4207393825416,381.38170154528854,386.0948099690876,388.23611007643984,392.97252865613217,405.13388267898273,408.05534333382855,409.0188692193048,409.93506483900796,410.62103815761304,410.7875618093581,412.86800308330373,417.6151892984595,421.9061117515624,422.3684101225013,422.4422058952193,426.97455214565315,435.70406748107104,436.4792977925466,439.4198877631424,446.43024952001616,450.1028020507932,453.69867955101785,454.95813792324054,458.32154493474286,460.513685635913,464.5041003432448,469.4458928345043,470.2591845680391,470.8677729021051,473.30591265963113,478.89723416485043,479.7573434196124,481.5420888581405,481.9262134067775,484.0017244447051,484.39673495446993,486.05195323233215,494.65754215520076,498.18009718536524,499.5799686793815,501.9856872048529,502.63257361230706,505.942576307262,506.35856990151956,508.34817650706896,509.2863018165803,512.0870308518165,512.2455478002684,512.7382558669665,513.299158958266,514.0896927223416,515.4206197958817,519.5797274588065,521.462209896156,528.7460617054221,529.00136904738,533.9967630646275,538.4855260286621,539.078495375023,540.38015656756,540.4015340709342,540.4835731982744,541.6058526835312,542.1876994174355,542.9099987150214,544.1652368052128,546.9923919055055,547.273297032869,549.7036667384306,549.7402293687403,550.2200399380152,551.059284433949,552.5385130069116,554.2362496401934,556.910804075256,557.5198657119798,557.74685377825,559.2497869259873,559.5969544254332,561.5996557378464,561.7969835042322,563.4388704239017,563.503200143465,571.3085131558864,572.1406975538423,573.3566515234419,573.4519431251986,575.7673397268195,576.4245993508556,578.0028270630602,578.6474258410019,580.3257176234287,580.8462716631567,581.1556143918721,584.3057985560665,584.4191939844814,585.2039297909996,585.9706406546361,587.6257011649457,588.9531179104409,590.081432004584,590.756164385068,593.3507306709741,593.6327007293174,595.0234611471725,596.225452688369,596.782648242183,599.4773180401993,599.5851127204976,603.771750821347,604.6440081776575,605.6260323086734,605.856688470541,606.3580343107428,607.0845538903602,607.2879557075203,609.4241678113019,610.3286097483381,613.2339781128209,613.4492124964243,616.7373249434592,617.6903987285772,619.8326059993567,620.1392272377902,620.2596827641828,622.5342570115745,622.6332167089284,626.236154307131,626.2673528406531,628.1611550998999,628.4918753319897,630.3016269276012,634.7362361792136,636.4206020124145,638.7370241031273,640.3947666618308,640.7855568895642,642.1843240107124,645.8212210746071,646.6825924697897,646.7690096467138,647.1918661295085,650.567342358783,652.3522850067518,652.4497064704681,652.896977482024,653.4603654122768,653.9560710624738,655.5454608290235,655.5908584422774,655.6629582138052,656.3608429826298,658.3019360657617,658.3288748753644,660.1430045205598,661.7593330967119,662.4785953689108,666.0590510908709,669.7145252840814,670.2831589854574,671.2685356769655,672.6045901959644,674.3528124460709,674.3921360085507,674.4985896646522,675.3298668991807,676.4718673285098,676.5958726248352,677.56878567969,679.2910157255094,680.1134579770935,685.9011606433833,686.9082303733708,687.0287253416515,689.5712283352073,689.7424061297532,690.1620678196083,690.6423122496528,692.3694725314903,694.1088992405406,694.3364394932448,694.3693340279573,694.8196026230121,694.9223092997397,696.2391161773243,697.1134245118182,697.347669885507,697.5911841029097,700.0992148862274,702.4512924438226,702.6522094220294,703.9231059418139,704.0537374753478,704.1016988113312,705.1480921037986,705.4533723180352,705.9761351034994,708.5688081787746,709.4687931824504,709.8343406017715,711.6373081926221,713.9142095114142,715.7893557575691,715.8698960931597,716.2636839043921,717.4175957839406,717.4372378442365,717.8232161616163,718.0095396412099,720.2828123062928,721.2047269997769,722.6152478035921,724.618659069992,735.4916043747219,735.9582807952448,741.671517176718,742.6724734140432,742.8449922327864,743.1529544954168,744.961286183055,745.1267843457083,746.4169285069073,746.9389813383848,749.4227159186056,750.5833329191387,751.5597563020382,752.3120708765019,752.4337885433151,752.4825387170614,753.1746649702171,753.5039258524455,754.8541794511763,759.5577034961563,763.3093370126626,763.638361243562,763.7585012348494,763.7640230991897,770.252371466474,773.3775100316969,775.079427505122,775.4339311957626,778.0817440306636,778.222709338891,779.8982796310357,781.1332051488328,783.9973961820932,787.3650234756269,790.462631602925,794.2122141412478,794.797058458651,798.2392309207775,798.8979104527866,802.3575951132491,803.1043878233727,803.2936300026888,808.5047711480856,810.183260139953,810.2118949507457,812.2484374031868,814.501831356645,815.9049370854891,819.2466116166239,833.2413034841962,836.2285532084667,845.6675492278237,847.2966569757343,849.457204724501,860.5413218983554,885.8159993563063,886.9448261949952,921.4195607139253,940.1426250160085,1016.2050441618054],\"yaxis\":\"y\",\"type\":\"scattergl\"}],                        {\"template\":{\"data\":{\"barpolar\":[{\"marker\":{\"line\":{\"color\":\"rgb(17,17,17)\",\"width\":0.5},\"pattern\":{\"fillmode\":\"overlay\",\"size\":10,\"solidity\":0.2}},\"type\":\"barpolar\"}],\"bar\":[{\"error_x\":{\"color\":\"#f2f5fa\"},\"error_y\":{\"color\":\"#f2f5fa\"},\"marker\":{\"line\":{\"color\":\"rgb(17,17,17)\",\"width\":0.5},\"pattern\":{\"fillmode\":\"overlay\",\"size\":10,\"solidity\":0.2}},\"type\":\"bar\"}],\"carpet\":[{\"aaxis\":{\"endlinecolor\":\"#A2B1C6\",\"gridcolor\":\"#506784\",\"linecolor\":\"#506784\",\"minorgridcolor\":\"#506784\",\"startlinecolor\":\"#A2B1C6\"},\"baxis\":{\"endlinecolor\":\"#A2B1C6\",\"gridcolor\":\"#506784\",\"linecolor\":\"#506784\",\"minorgridcolor\":\"#506784\",\"startlinecolor\":\"#A2B1C6\"},\"type\":\"carpet\"}],\"choropleth\":[{\"colorbar\":{\"outlinewidth\":0,\"ticks\":\"\"},\"type\":\"choropleth\"}],\"contourcarpet\":[{\"colorbar\":{\"outlinewidth\":0,\"ticks\":\"\"},\"type\":\"contourcarpet\"}],\"contour\":[{\"colorbar\":{\"outlinewidth\":0,\"ticks\":\"\"},\"colorscale\":[[0.0,\"#0d0887\"],[0.1111111111111111,\"#46039f\"],[0.2222222222222222,\"#7201a8\"],[0.3333333333333333,\"#9c179e\"],[0.4444444444444444,\"#bd3786\"],[0.5555555555555556,\"#d8576b\"],[0.6666666666666666,\"#ed7953\"],[0.7777777777777778,\"#fb9f3a\"],[0.8888888888888888,\"#fdca26\"],[1.0,\"#f0f921\"]],\"type\":\"contour\"}],\"heatmapgl\":[{\"colorbar\":{\"outlinewidth\":0,\"ticks\":\"\"},\"colorscale\":[[0.0,\"#0d0887\"],[0.1111111111111111,\"#46039f\"],[0.2222222222222222,\"#7201a8\"],[0.3333333333333333,\"#9c179e\"],[0.4444444444444444,\"#bd3786\"],[0.5555555555555556,\"#d8576b\"],[0.6666666666666666,\"#ed7953\"],[0.7777777777777778,\"#fb9f3a\"],[0.8888888888888888,\"#fdca26\"],[1.0,\"#f0f921\"]],\"type\":\"heatmapgl\"}],\"heatmap\":[{\"colorbar\":{\"outlinewidth\":0,\"ticks\":\"\"},\"colorscale\":[[0.0,\"#0d0887\"],[0.1111111111111111,\"#46039f\"],[0.2222222222222222,\"#7201a8\"],[0.3333333333333333,\"#9c179e\"],[0.4444444444444444,\"#bd3786\"],[0.5555555555555556,\"#d8576b\"],[0.6666666666666666,\"#ed7953\"],[0.7777777777777778,\"#fb9f3a\"],[0.8888888888888888,\"#fdca26\"],[1.0,\"#f0f921\"]],\"type\":\"heatmap\"}],\"histogram2dcontour\":[{\"colorbar\":{\"outlinewidth\":0,\"ticks\":\"\"},\"colorscale\":[[0.0,\"#0d0887\"],[0.1111111111111111,\"#46039f\"],[0.2222222222222222,\"#7201a8\"],[0.3333333333333333,\"#9c179e\"],[0.4444444444444444,\"#bd3786\"],[0.5555555555555556,\"#d8576b\"],[0.6666666666666666,\"#ed7953\"],[0.7777777777777778,\"#fb9f3a\"],[0.8888888888888888,\"#fdca26\"],[1.0,\"#f0f921\"]],\"type\":\"histogram2dcontour\"}],\"histogram2d\":[{\"colorbar\":{\"outlinewidth\":0,\"ticks\":\"\"},\"colorscale\":[[0.0,\"#0d0887\"],[0.1111111111111111,\"#46039f\"],[0.2222222222222222,\"#7201a8\"],[0.3333333333333333,\"#9c179e\"],[0.4444444444444444,\"#bd3786\"],[0.5555555555555556,\"#d8576b\"],[0.6666666666666666,\"#ed7953\"],[0.7777777777777778,\"#fb9f3a\"],[0.8888888888888888,\"#fdca26\"],[1.0,\"#f0f921\"]],\"type\":\"histogram2d\"}],\"histogram\":[{\"marker\":{\"pattern\":{\"fillmode\":\"overlay\",\"size\":10,\"solidity\":0.2}},\"type\":\"histogram\"}],\"mesh3d\":[{\"colorbar\":{\"outlinewidth\":0,\"ticks\":\"\"},\"type\":\"mesh3d\"}],\"parcoords\":[{\"line\":{\"colorbar\":{\"outlinewidth\":0,\"ticks\":\"\"}},\"type\":\"parcoords\"}],\"pie\":[{\"automargin\":true,\"type\":\"pie\"}],\"scatter3d\":[{\"line\":{\"colorbar\":{\"outlinewidth\":0,\"ticks\":\"\"}},\"marker\":{\"colorbar\":{\"outlinewidth\":0,\"ticks\":\"\"}},\"type\":\"scatter3d\"}],\"scattercarpet\":[{\"marker\":{\"colorbar\":{\"outlinewidth\":0,\"ticks\":\"\"}},\"type\":\"scattercarpet\"}],\"scattergeo\":[{\"marker\":{\"colorbar\":{\"outlinewidth\":0,\"ticks\":\"\"}},\"type\":\"scattergeo\"}],\"scattergl\":[{\"marker\":{\"line\":{\"color\":\"#283442\"}},\"type\":\"scattergl\"}],\"scattermapbox\":[{\"marker\":{\"colorbar\":{\"outlinewidth\":0,\"ticks\":\"\"}},\"type\":\"scattermapbox\"}],\"scatterpolargl\":[{\"marker\":{\"colorbar\":{\"outlinewidth\":0,\"ticks\":\"\"}},\"type\":\"scatterpolargl\"}],\"scatterpolar\":[{\"marker\":{\"colorbar\":{\"outlinewidth\":0,\"ticks\":\"\"}},\"type\":\"scatterpolar\"}],\"scatter\":[{\"marker\":{\"line\":{\"color\":\"#283442\"}},\"type\":\"scatter\"}],\"scatterternary\":[{\"marker\":{\"colorbar\":{\"outlinewidth\":0,\"ticks\":\"\"}},\"type\":\"scatterternary\"}],\"surface\":[{\"colorbar\":{\"outlinewidth\":0,\"ticks\":\"\"},\"colorscale\":[[0.0,\"#0d0887\"],[0.1111111111111111,\"#46039f\"],[0.2222222222222222,\"#7201a8\"],[0.3333333333333333,\"#9c179e\"],[0.4444444444444444,\"#bd3786\"],[0.5555555555555556,\"#d8576b\"],[0.6666666666666666,\"#ed7953\"],[0.7777777777777778,\"#fb9f3a\"],[0.8888888888888888,\"#fdca26\"],[1.0,\"#f0f921\"]],\"type\":\"surface\"}],\"table\":[{\"cells\":{\"fill\":{\"color\":\"#506784\"},\"line\":{\"color\":\"rgb(17,17,17)\"}},\"header\":{\"fill\":{\"color\":\"#2a3f5f\"},\"line\":{\"color\":\"rgb(17,17,17)\"}},\"type\":\"table\"}]},\"layout\":{\"annotationdefaults\":{\"arrowcolor\":\"#f2f5fa\",\"arrowhead\":0,\"arrowwidth\":1},\"autotypenumbers\":\"strict\",\"coloraxis\":{\"colorbar\":{\"outlinewidth\":0,\"ticks\":\"\"}},\"colorscale\":{\"diverging\":[[0,\"#8e0152\"],[0.1,\"#c51b7d\"],[0.2,\"#de77ae\"],[0.3,\"#f1b6da\"],[0.4,\"#fde0ef\"],[0.5,\"#f7f7f7\"],[0.6,\"#e6f5d0\"],[0.7,\"#b8e186\"],[0.8,\"#7fbc41\"],[0.9,\"#4d9221\"],[1,\"#276419\"]],\"sequential\":[[0.0,\"#0d0887\"],[0.1111111111111111,\"#46039f\"],[0.2222222222222222,\"#7201a8\"],[0.3333333333333333,\"#9c179e\"],[0.4444444444444444,\"#bd3786\"],[0.5555555555555556,\"#d8576b\"],[0.6666666666666666,\"#ed7953\"],[0.7777777777777778,\"#fb9f3a\"],[0.8888888888888888,\"#fdca26\"],[1.0,\"#f0f921\"]],\"sequentialminus\":[[0.0,\"#0d0887\"],[0.1111111111111111,\"#46039f\"],[0.2222222222222222,\"#7201a8\"],[0.3333333333333333,\"#9c179e\"],[0.4444444444444444,\"#bd3786\"],[0.5555555555555556,\"#d8576b\"],[0.6666666666666666,\"#ed7953\"],[0.7777777777777778,\"#fb9f3a\"],[0.8888888888888888,\"#fdca26\"],[1.0,\"#f0f921\"]]},\"colorway\":[\"#636efa\",\"#EF553B\",\"#00cc96\",\"#ab63fa\",\"#FFA15A\",\"#19d3f3\",\"#FF6692\",\"#B6E880\",\"#FF97FF\",\"#FECB52\"],\"font\":{\"color\":\"#f2f5fa\"},\"geo\":{\"bgcolor\":\"rgb(17,17,17)\",\"lakecolor\":\"rgb(17,17,17)\",\"landcolor\":\"rgb(17,17,17)\",\"showlakes\":true,\"showland\":true,\"subunitcolor\":\"#506784\"},\"hoverlabel\":{\"align\":\"left\"},\"hovermode\":\"closest\",\"mapbox\":{\"style\":\"dark\"},\"paper_bgcolor\":\"rgb(17,17,17)\",\"plot_bgcolor\":\"rgb(17,17,17)\",\"polar\":{\"angularaxis\":{\"gridcolor\":\"#506784\",\"linecolor\":\"#506784\",\"ticks\":\"\"},\"bgcolor\":\"rgb(17,17,17)\",\"radialaxis\":{\"gridcolor\":\"#506784\",\"linecolor\":\"#506784\",\"ticks\":\"\"}},\"scene\":{\"xaxis\":{\"backgroundcolor\":\"rgb(17,17,17)\",\"gridcolor\":\"#506784\",\"gridwidth\":2,\"linecolor\":\"#506784\",\"showbackground\":true,\"ticks\":\"\",\"zerolinecolor\":\"#C8D4E3\"},\"yaxis\":{\"backgroundcolor\":\"rgb(17,17,17)\",\"gridcolor\":\"#506784\",\"gridwidth\":2,\"linecolor\":\"#506784\",\"showbackground\":true,\"ticks\":\"\",\"zerolinecolor\":\"#C8D4E3\"},\"zaxis\":{\"backgroundcolor\":\"rgb(17,17,17)\",\"gridcolor\":\"#506784\",\"gridwidth\":2,\"linecolor\":\"#506784\",\"showbackground\":true,\"ticks\":\"\",\"zerolinecolor\":\"#C8D4E3\"}},\"shapedefaults\":{\"line\":{\"color\":\"#f2f5fa\"}},\"sliderdefaults\":{\"bgcolor\":\"#C8D4E3\",\"bordercolor\":\"rgb(17,17,17)\",\"borderwidth\":1,\"tickwidth\":0},\"ternary\":{\"aaxis\":{\"gridcolor\":\"#506784\",\"linecolor\":\"#506784\",\"ticks\":\"\"},\"baxis\":{\"gridcolor\":\"#506784\",\"linecolor\":\"#506784\",\"ticks\":\"\"},\"bgcolor\":\"rgb(17,17,17)\",\"caxis\":{\"gridcolor\":\"#506784\",\"linecolor\":\"#506784\",\"ticks\":\"\"}},\"title\":{\"x\":0.05},\"updatemenudefaults\":{\"bgcolor\":\"#506784\",\"borderwidth\":0},\"xaxis\":{\"automargin\":true,\"gridcolor\":\"#283442\",\"linecolor\":\"#506784\",\"ticks\":\"\",\"title\":{\"standoff\":15},\"zerolinecolor\":\"#283442\",\"zerolinewidth\":2},\"yaxis\":{\"automargin\":true,\"gridcolor\":\"#283442\",\"linecolor\":\"#506784\",\"ticks\":\"\",\"title\":{\"standoff\":15},\"zerolinecolor\":\"#283442\",\"zerolinewidth\":2}}},\"xaxis\":{\"anchor\":\"y\",\"domain\":[0.0,1.0],\"title\":{\"text\":\"x\"}},\"yaxis\":{\"anchor\":\"x\",\"domain\":[0.0,1.0],\"title\":{\"text\":\"y\"}},\"legend\":{\"tracegroupgap\":0},\"title\":{\"text\":\"Regression Plot between Observed and Simulated River Discharge\"}},                        {\"responsive\": true}                    ).then(function(){\n",
              "                            \n",
              "var gd = document.getElementById('12553696-47b7-4d1b-b8a0-710de85d6da3');\n",
              "var x = new MutationObserver(function (mutations, observer) {{\n",
              "        var display = window.getComputedStyle(gd).display;\n",
              "        if (!display || display === 'none') {{\n",
              "            console.log([gd, 'removed!']);\n",
              "            Plotly.purge(gd);\n",
              "            observer.disconnect();\n",
              "        }}\n",
              "}});\n",
              "\n",
              "// Listen for the removal of the full notebook cells\n",
              "var notebookContainer = gd.closest('#notebook-container');\n",
              "if (notebookContainer) {{\n",
              "    x.observe(notebookContainer, {childList: true});\n",
              "}}\n",
              "\n",
              "// Listen for the clearing of the current output cell\n",
              "var outputEl = gd.closest('.output');\n",
              "if (outputEl) {{\n",
              "    x.observe(outputEl, {childList: true});\n",
              "}}\n",
              "\n",
              "                        })                };                            </script>        </div>\n",
              "</body>\n",
              "</html>"
            ]
          },
          "metadata": {}
        }
      ],
      "source": [
        "import plotly.express as px\n",
        "def reg_test_discharge_fig(inv_yhat_test,inv_y_test):\n",
        "    reg_test_discharge_fig = px.scatter( x=inv_yhat_test, y=inv_y_test,\n",
        "                                        trendline=\"ols\",\n",
        "                                        template = 'plotly_dark',\n",
        "                                        title='Regression Plot between Observed and Simulated River Discharge')\n",
        "    #reg_test_discharge_fig.update_layout(autosize=False,width=500,height=500)\n",
        "    return reg_test_discharge_fig\n",
        "reg_test_discharge_fig(inv_yhat_test,inv_y_test)"
      ]
    },
    {
      "cell_type": "code",
      "execution_count": null,
      "metadata": {
        "id": "K8cY7hpYDw2c"
      },
      "outputs": [],
      "source": []
    }
  ],
  "metadata": {
    "colab": {
      "provenance": [],
      "mount_file_id": "1sQn2TQ7zj6St6BJyOPA8o3FfBfmVECon",
      "authorship_tag": "ABX9TyNRBfP2eREFwgUJvl6nuYMA",
      "include_colab_link": true
    },
    "gpuClass": "standard",
    "kernelspec": {
      "display_name": "Python 3",
      "name": "python3"
    },
    "language_info": {
      "name": "python"
    },
    "accelerator": "GPU"
  },
  "nbformat": 4,
  "nbformat_minor": 0
}