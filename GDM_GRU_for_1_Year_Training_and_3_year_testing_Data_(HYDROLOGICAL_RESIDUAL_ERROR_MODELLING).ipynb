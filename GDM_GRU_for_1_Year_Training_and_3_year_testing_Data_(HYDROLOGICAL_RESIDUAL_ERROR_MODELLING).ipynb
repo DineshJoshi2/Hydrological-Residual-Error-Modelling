{
  "cells": [
    {
      "cell_type": "markdown",
      "metadata": {
        "id": "view-in-github",
        "colab_type": "text"
      },
      "source": [
        "<a href=\"https://colab.research.google.com/github/DineshJoshi2/Hydrological-Residual-Error-Modelling/blob/main/GDM_GRU_for_1_Year_Training_and_3_year_testing_Data_(HYDROLOGICAL_RESIDUAL_ERROR_MODELLING).ipynb\" target=\"_parent\"><img src=\"https://colab.research.google.com/assets/colab-badge.svg\" alt=\"Open In Colab\"/></a>"
      ]
    },
    {
      "cell_type": "code",
      "execution_count": null,
      "metadata": {
        "id": "7jeFx63m0udd"
      },
      "outputs": [],
      "source": [
        "#For reproducibility of the code\n",
        "import os\n",
        "os.environ[\"PYTHONHASHSEED\"] = \"0\"\n",
        "import numpy as np\n",
        "import random as rn\n",
        "import tensorflow as tf\n",
        "# setting the seed for numpy generated random numbers\n",
        "np.random.seed(73)\n",
        "# setting the seed for python random number\n",
        "rn.seed(723)\n",
        "# setting the seed for tensorflow random number\n",
        "tf.random.set_seed(1)"
      ]
    },
    {
      "cell_type": "code",
      "execution_count": null,
      "metadata": {
        "id": "Zqf4nN2tgm-S"
      },
      "outputs": [],
      "source": [
        "# importing necessary libraries\n",
        "import pandas as pd\n",
        "from keras.models import Sequential\n",
        "from keras.layers import Dense\n",
        "from keras.layers import LSTM\n",
        "from keras import optimizers\n",
        "from tensorflow.keras.layers import Dropout\n",
        "from tensorflow.keras.constraints import MaxNorm\n",
        "from sklearn.model_selection import GridSearchCV\n"
      ]
    },
    {
      "cell_type": "markdown",
      "metadata": {
        "id": "gt8EEw3mkzbL"
      },
      "source": []
    },
    {
      "cell_type": "code",
      "execution_count": null,
      "metadata": {
        "id": "KoiJ8o9Ap-C8"
      },
      "outputs": [],
      "source": [
        "# importing data sets\n",
        "df= pd.read_csv(\"/content/drive/MyDrive/Data/OneYearResidualErrorModelling.csv\")\n",
        "df=df[365:].reset_index(drop=True)"
      ]
    },
    {
      "cell_type": "code",
      "execution_count": null,
      "metadata": {
        "id": "1ui5zm0okbdD"
      },
      "outputs": [],
      "source": [
        "# Retriving the necessary columns from the datasets.\n",
        " df=df[['Temperature (Deg C)', 'Precipitation (mm)',\n",
        "       'Precipitation0816 (mm)', 'Temperature0816 (Deg C)', 'Residual Error']]"
      ]
    },
    {
      "cell_type": "markdown",
      "metadata": {
        "id": "xMrLOJN6lNvg"
      },
      "source": []
    },
    {
      "cell_type": "code",
      "execution_count": null,
      "metadata": {
        "id": "gD9i34wfhLQq"
      },
      "outputs": [],
      "source": [
        "# Importing necessary libraries\n",
        "from sklearn.preprocessing import MinMaxScaler\n",
        "from sklearn.preprocessing import LabelEncoder\n",
        "from sklearn.metrics import mean_squared_error"
      ]
    },
    {
      "cell_type": "code",
      "execution_count": null,
      "metadata": {
        "id": "2GMJoi4mhMd4"
      },
      "outputs": [],
      "source": [
        "# extrating the vaules from the data frame\n",
        "values = df.values\n",
        "values\n",
        "# change all datatype to float\n",
        "values = values.astype('float32')"
      ]
    },
    {
      "cell_type": "code",
      "execution_count": null,
      "metadata": {
        "id": "5apZQ8eFhShR"
      },
      "outputs": [],
      "source": [
        "# normalization all features\n",
        "scaler = MinMaxScaler(feature_range=(0, 1))\n",
        "scaled = scaler.fit_transform(values)"
      ]
    },
    {
      "cell_type": "code",
      "execution_count": null,
      "metadata": {
        "id": "WcCjEAWqhTwl"
      },
      "outputs": [],
      "source": [
        "#converting the data into 3D array\n",
        "l=[]\n",
        "for i in range(len(df)-365):\n",
        "    l.append(scaled[i:366+i,:])\n",
        "Data=np.array(l)"
      ]
    },
    {
      "cell_type": "code",
      "execution_count": null,
      "metadata": {
        "colab": {
          "base_uri": "https://localhost:8080/"
        },
        "id": "oRfhHZv3_BkD",
        "outputId": "4926bd6b-8ac6-4daa-e40b-199f6ba232ad"
      },
      "outputs": [
        {
          "output_type": "execute_result",
          "data": {
            "text/plain": [
              "(2192, 366, 5)"
            ]
          },
          "metadata": {},
          "execution_count": 285
        }
      ],
      "source": [
        "# checking the shape of the data\n",
        "Data.shape"
      ]
    },
    {
      "cell_type": "code",
      "execution_count": null,
      "metadata": {
        "id": "eDZtStCWg91W"
      },
      "outputs": [],
      "source": [
        "## Test and Train data\n",
        "X=Data[:,:,:-1]\n",
        "y=Data[:,-1,-1]\n",
        "from sklearn.model_selection import train_test_split\n",
        "X_train, X_test, y_train, y_test = train_test_split(X, y, test_size=0.833, shuffle =False)\n"
      ]
    },
    {
      "cell_type": "code",
      "execution_count": null,
      "metadata": {
        "colab": {
          "base_uri": "https://localhost:8080/"
        },
        "id": "uvcqf1EUxBNG",
        "outputId": "5216f781-bb82-46c7-dfcc-9f31f9838888"
      },
      "outputs": [
        {
          "output_type": "stream",
          "name": "stdout",
          "text": [
            "(366, 366, 4)\n",
            "(1826, 366, 4)\n",
            "(366,)\n",
            "(1826,)\n"
          ]
        }
      ],
      "source": [
        "# Checking Shape of test and Training Data\n",
        "print(X_train.shape)\n",
        "print(X_test.shape)\n",
        "print(y_train.shape)\n",
        "print(y_test.shape)"
      ]
    },
    {
      "cell_type": "code",
      "execution_count": null,
      "metadata": {
        "id": "fFl6fXJX2OQv"
      },
      "outputs": [],
      "source": [
        "# Useful functions to undo normalization later\n",
        "def inv_yhat(yhat):\n",
        "  yhat=[i[0] for i in yhat]\n",
        "  A=np.zeros((len(yhat),5))\n",
        "  A[:,0]=yhat\n",
        "  A[:,1]=yhat\n",
        "  A[:,2]=yhat\n",
        "  A[:,3]=yhat\n",
        "  A[:,4]=yhat\n",
        "  inv_yhat= scaler.inverse_transform(A)\n",
        "  inv_yhat = [i[-1] for i in inv_yhat]\n",
        "  return inv_yhat\n",
        "def inv_y(y):\n",
        "  A=np.zeros((len(y),5))\n",
        "  A[:,0]=y\n",
        "  A[:,1]=y\n",
        "  A[:,2]=y\n",
        "  A[:,3]=y\n",
        "  A[:,4]=y\n",
        "  inv_y= scaler.inverse_transform(A)\n",
        "  inv_y = [i[-1] for i in inv_y]\n",
        "  return inv_y"
      ]
    },
    {
      "cell_type": "code",
      "execution_count": null,
      "metadata": {
        "id": "onOtGzrYhldO"
      },
      "outputs": [],
      "source": [
        "# Import necessary libraries\n",
        "from keras.models import Sequential\n",
        "from keras.layers import Dense\n",
        "from keras.layers import LSTM\n",
        "from keras.layers import GRU\n",
        "from keras import optimizers\n",
        "from tensorflow.keras.layers import Dropout\n",
        "from tensorflow.keras.constraints import MaxNorm\n",
        "from sklearn.model_selection import GridSearchCV"
      ]
    },
    {
      "cell_type": "markdown",
      "metadata": {
        "id": "vOQF1nmHZ1fi"
      },
      "source": []
    },
    {
      "cell_type": "code",
      "execution_count": null,
      "metadata": {
        "id": "UI5kb2CsvxmQ"
      },
      "outputs": [],
      "source": [
        "# Defining model parameters\n",
        "epochs=1000\n",
        "learning_rate1 = 0.01\n",
        "decay_rate = (learning_rate1*64)/epochs"
      ]
    },
    {
      "cell_type": "code",
      "execution_count": null,
      "metadata": {
        "id": "5-sAZbvHvchk"
      },
      "outputs": [],
      "source": [
        "# For reproducibility of the code\n",
        "import os\n",
        "os.environ[\"PYTHONHASHSEED\"] = \"0\"\n",
        "#os.environ[\"CUDA_VISIBLE_DEVICES\"] = \"\"\n",
        "import numpy as np\n",
        "import random as rn\n",
        "import tensorflow as tf\n",
        "# setting the seed for numpy generated random numbers\n",
        "np.random.seed(73)\n",
        "# setting the seed for python random number\n",
        "rn.seed(723)\n",
        "# setting the seed for tensorflow random number\n",
        "tf.random.set_seed(1)"
      ]
    },
    {
      "cell_type": "code",
      "execution_count": null,
      "metadata": {
        "id": "HCuS4o7rNOeT"
      },
      "outputs": [],
      "source": [
        "# Building the Main Model\n",
        "model = Sequential()\n",
        "model.add(GRU(128,return_sequences=False,dropout=0.5,input_shape=(X_train.shape[1], X_train.shape[2]))) # main model\n",
        "model.add(Dense(1))\n",
        "Adam=tf.keras.optimizers.Adam(learning_rate = learning_rate1, beta_1 = 0.9, beta_2 = 0.999, amsgrad = False)\n",
        "model.compile(loss=\"mae\", optimizer=Adam, metrics=[tf.keras.metrics.MeanAbsoluteError()])"
      ]
    },
    {
      "cell_type": "code",
      "execution_count": null,
      "metadata": {
        "id": "3xpK7Bb2VYiK"
      },
      "outputs": [],
      "source": [
        "#Add Callbacks, e.g. ModelCheckpoints, earlystopping, csvlogger.\n",
        "from keras.callbacks import ModelCheckpoint, EarlyStopping, CSVLogger,LearningRateScheduler\n",
        "\n",
        "#ModelCheckpoint callback saves a model at some interval.\n",
        "filepath=\"saved_models/weights-improvement-{epoch:02d}-{val_acc:.2f}.hdf5\" #File name includes epoch and validation accuracy.\n",
        "#Use Mode = max for accuracy and min for loss.\n",
        "checkpoint = ModelCheckpoint(filepath, monitor='val_acc', verbose=1, save_best_only=True, mode='max')\n",
        "\n",
        "#https://www.tensorflow.org/api_docs/python/tf/keras/callbacks/EarlyStopping\n",
        "early_stop = EarlyStopping(monitor='val_loss',min_delta=0.0001, patience= 100,verbose=1,restore_best_weights=True)\n",
        "#This callback will stop the training when there is no improvement in\n",
        "# the validation loss for three consecutive epochs.\n",
        "\n",
        "#CSVLogger logs epoch, acc, loss, val_acc, val_loss\n",
        "log_csv = CSVLogger(\"/content/drive/MyDrive/Data/LSTMlogs.csv\", separator=',', append=False)\n",
        "\n",
        "#learning rate decay\n",
        "def exp_decay(epoch):\n",
        "  lrate = learning_rate1 * np.exp(-decay_rate*epoch)\n",
        "  return lrate\n",
        "\n",
        "# learning schedule callback\n",
        "lr_rate = LearningRateScheduler(exp_decay)\n",
        "\n",
        "callbacks_list = [early_stop]"
      ]
    },
    {
      "cell_type": "code",
      "execution_count": null,
      "metadata": {
        "colab": {
          "base_uri": "https://localhost:8080/"
        },
        "id": "VoQmBVag3cHx",
        "outputId": "6aa410e3-90ba-4ba4-e0dc-59c619cb3012"
      },
      "outputs": [
        {
          "output_type": "stream",
          "name": "stdout",
          "text": [
            "Epoch 1/1000\n",
            "1/1 - 2s - loss: 0.3764 - mean_absolute_error: 0.3764 - val_loss: 0.4579 - val_mean_absolute_error: 0.4579 - 2s/epoch - 2s/step\n",
            "Epoch 2/1000\n",
            "1/1 - 0s - loss: 0.4926 - mean_absolute_error: 0.4926 - val_loss: 0.1178 - val_mean_absolute_error: 0.1178 - 170ms/epoch - 170ms/step\n",
            "Epoch 3/1000\n",
            "1/1 - 0s - loss: 0.1625 - mean_absolute_error: 0.1625 - val_loss: 0.1934 - val_mean_absolute_error: 0.1934 - 137ms/epoch - 137ms/step\n",
            "Epoch 4/1000\n",
            "1/1 - 0s - loss: 0.1792 - mean_absolute_error: 0.1792 - val_loss: 0.1949 - val_mean_absolute_error: 0.1949 - 115ms/epoch - 115ms/step\n",
            "Epoch 5/1000\n",
            "1/1 - 0s - loss: 0.1771 - mean_absolute_error: 0.1771 - val_loss: 0.1108 - val_mean_absolute_error: 0.1108 - 124ms/epoch - 124ms/step\n",
            "Epoch 6/1000\n",
            "1/1 - 0s - loss: 0.1124 - mean_absolute_error: 0.1124 - val_loss: 0.0811 - val_mean_absolute_error: 0.0811 - 115ms/epoch - 115ms/step\n",
            "Epoch 7/1000\n",
            "1/1 - 0s - loss: 0.1077 - mean_absolute_error: 0.1077 - val_loss: 0.0948 - val_mean_absolute_error: 0.0948 - 123ms/epoch - 123ms/step\n",
            "Epoch 8/1000\n",
            "1/1 - 0s - loss: 0.1179 - mean_absolute_error: 0.1179 - val_loss: 0.0972 - val_mean_absolute_error: 0.0972 - 109ms/epoch - 109ms/step\n",
            "Epoch 9/1000\n",
            "1/1 - 0s - loss: 0.1216 - mean_absolute_error: 0.1216 - val_loss: 0.0811 - val_mean_absolute_error: 0.0811 - 109ms/epoch - 109ms/step\n",
            "Epoch 10/1000\n",
            "1/1 - 0s - loss: 0.1042 - mean_absolute_error: 0.1042 - val_loss: 0.0717 - val_mean_absolute_error: 0.0717 - 194ms/epoch - 194ms/step\n",
            "Epoch 11/1000\n",
            "1/1 - 0s - loss: 0.0831 - mean_absolute_error: 0.0831 - val_loss: 0.0823 - val_mean_absolute_error: 0.0823 - 110ms/epoch - 110ms/step\n",
            "Epoch 12/1000\n",
            "1/1 - 0s - loss: 0.0826 - mean_absolute_error: 0.0826 - val_loss: 0.1003 - val_mean_absolute_error: 0.1003 - 113ms/epoch - 113ms/step\n",
            "Epoch 13/1000\n",
            "1/1 - 0s - loss: 0.0853 - mean_absolute_error: 0.0853 - val_loss: 0.1006 - val_mean_absolute_error: 0.1006 - 109ms/epoch - 109ms/step\n",
            "Epoch 14/1000\n",
            "1/1 - 0s - loss: 0.0855 - mean_absolute_error: 0.0855 - val_loss: 0.0818 - val_mean_absolute_error: 0.0818 - 110ms/epoch - 110ms/step\n",
            "Epoch 15/1000\n",
            "1/1 - 0s - loss: 0.0716 - mean_absolute_error: 0.0716 - val_loss: 0.0611 - val_mean_absolute_error: 0.0611 - 117ms/epoch - 117ms/step\n",
            "Epoch 16/1000\n",
            "1/1 - 0s - loss: 0.0620 - mean_absolute_error: 0.0620 - val_loss: 0.0564 - val_mean_absolute_error: 0.0564 - 113ms/epoch - 113ms/step\n",
            "Epoch 17/1000\n",
            "1/1 - 0s - loss: 0.0649 - mean_absolute_error: 0.0649 - val_loss: 0.0624 - val_mean_absolute_error: 0.0624 - 110ms/epoch - 110ms/step\n",
            "Epoch 18/1000\n",
            "1/1 - 0s - loss: 0.0735 - mean_absolute_error: 0.0735 - val_loss: 0.0559 - val_mean_absolute_error: 0.0559 - 114ms/epoch - 114ms/step\n",
            "Epoch 19/1000\n",
            "1/1 - 0s - loss: 0.0638 - mean_absolute_error: 0.0638 - val_loss: 0.0559 - val_mean_absolute_error: 0.0559 - 112ms/epoch - 112ms/step\n",
            "Epoch 20/1000\n",
            "1/1 - 0s - loss: 0.0561 - mean_absolute_error: 0.0561 - val_loss: 0.0681 - val_mean_absolute_error: 0.0681 - 110ms/epoch - 110ms/step\n",
            "Epoch 21/1000\n",
            "1/1 - 0s - loss: 0.0614 - mean_absolute_error: 0.0614 - val_loss: 0.0751 - val_mean_absolute_error: 0.0751 - 114ms/epoch - 114ms/step\n",
            "Epoch 22/1000\n",
            "1/1 - 0s - loss: 0.0662 - mean_absolute_error: 0.0662 - val_loss: 0.0701 - val_mean_absolute_error: 0.0701 - 110ms/epoch - 110ms/step\n",
            "Epoch 23/1000\n",
            "1/1 - 0s - loss: 0.0635 - mean_absolute_error: 0.0635 - val_loss: 0.0594 - val_mean_absolute_error: 0.0594 - 114ms/epoch - 114ms/step\n",
            "Epoch 24/1000\n",
            "1/1 - 0s - loss: 0.0585 - mean_absolute_error: 0.0585 - val_loss: 0.0535 - val_mean_absolute_error: 0.0535 - 109ms/epoch - 109ms/step\n",
            "Epoch 25/1000\n",
            "1/1 - 0s - loss: 0.0597 - mean_absolute_error: 0.0597 - val_loss: 0.0561 - val_mean_absolute_error: 0.0561 - 112ms/epoch - 112ms/step\n",
            "Epoch 26/1000\n",
            "1/1 - 0s - loss: 0.0612 - mean_absolute_error: 0.0612 - val_loss: 0.0554 - val_mean_absolute_error: 0.0554 - 113ms/epoch - 113ms/step\n",
            "Epoch 27/1000\n",
            "1/1 - 0s - loss: 0.0632 - mean_absolute_error: 0.0632 - val_loss: 0.0535 - val_mean_absolute_error: 0.0535 - 111ms/epoch - 111ms/step\n",
            "Epoch 28/1000\n",
            "1/1 - 0s - loss: 0.0580 - mean_absolute_error: 0.0580 - val_loss: 0.0585 - val_mean_absolute_error: 0.0585 - 108ms/epoch - 108ms/step\n",
            "Epoch 29/1000\n",
            "1/1 - 0s - loss: 0.0578 - mean_absolute_error: 0.0578 - val_loss: 0.0655 - val_mean_absolute_error: 0.0655 - 109ms/epoch - 109ms/step\n",
            "Epoch 30/1000\n",
            "1/1 - 0s - loss: 0.0568 - mean_absolute_error: 0.0568 - val_loss: 0.0678 - val_mean_absolute_error: 0.0678 - 112ms/epoch - 112ms/step\n",
            "Epoch 31/1000\n",
            "1/1 - 0s - loss: 0.0621 - mean_absolute_error: 0.0621 - val_loss: 0.0638 - val_mean_absolute_error: 0.0638 - 109ms/epoch - 109ms/step\n",
            "Epoch 32/1000\n",
            "1/1 - 0s - loss: 0.0585 - mean_absolute_error: 0.0585 - val_loss: 0.0573 - val_mean_absolute_error: 0.0573 - 110ms/epoch - 110ms/step\n",
            "Epoch 33/1000\n",
            "1/1 - 0s - loss: 0.0568 - mean_absolute_error: 0.0568 - val_loss: 0.0537 - val_mean_absolute_error: 0.0537 - 110ms/epoch - 110ms/step\n",
            "Epoch 34/1000\n",
            "1/1 - 0s - loss: 0.0569 - mean_absolute_error: 0.0569 - val_loss: 0.0541 - val_mean_absolute_error: 0.0541 - 109ms/epoch - 109ms/step\n",
            "Epoch 35/1000\n",
            "1/1 - 0s - loss: 0.0580 - mean_absolute_error: 0.0580 - val_loss: 0.0543 - val_mean_absolute_error: 0.0543 - 112ms/epoch - 112ms/step\n",
            "Epoch 36/1000\n",
            "1/1 - 0s - loss: 0.0579 - mean_absolute_error: 0.0579 - val_loss: 0.0536 - val_mean_absolute_error: 0.0536 - 116ms/epoch - 116ms/step\n",
            "Epoch 37/1000\n",
            "1/1 - 0s - loss: 0.0567 - mean_absolute_error: 0.0567 - val_loss: 0.0552 - val_mean_absolute_error: 0.0552 - 114ms/epoch - 114ms/step\n",
            "Epoch 38/1000\n",
            "1/1 - 0s - loss: 0.0550 - mean_absolute_error: 0.0550 - val_loss: 0.0587 - val_mean_absolute_error: 0.0587 - 111ms/epoch - 111ms/step\n",
            "Epoch 39/1000\n",
            "1/1 - 0s - loss: 0.0567 - mean_absolute_error: 0.0567 - val_loss: 0.0617 - val_mean_absolute_error: 0.0617 - 112ms/epoch - 112ms/step\n",
            "Epoch 40/1000\n",
            "1/1 - 0s - loss: 0.0556 - mean_absolute_error: 0.0556 - val_loss: 0.0625 - val_mean_absolute_error: 0.0625 - 112ms/epoch - 112ms/step\n",
            "Epoch 41/1000\n",
            "1/1 - 0s - loss: 0.0561 - mean_absolute_error: 0.0561 - val_loss: 0.0602 - val_mean_absolute_error: 0.0602 - 110ms/epoch - 110ms/step\n",
            "Epoch 42/1000\n",
            "1/1 - 0s - loss: 0.0538 - mean_absolute_error: 0.0538 - val_loss: 0.0572 - val_mean_absolute_error: 0.0572 - 115ms/epoch - 115ms/step\n",
            "Epoch 43/1000\n",
            "1/1 - 0s - loss: 0.0554 - mean_absolute_error: 0.0554 - val_loss: 0.0544 - val_mean_absolute_error: 0.0544 - 112ms/epoch - 112ms/step\n",
            "Epoch 44/1000\n",
            "1/1 - 0s - loss: 0.0551 - mean_absolute_error: 0.0551 - val_loss: 0.0535 - val_mean_absolute_error: 0.0535 - 110ms/epoch - 110ms/step\n",
            "Epoch 45/1000\n",
            "1/1 - 0s - loss: 0.0552 - mean_absolute_error: 0.0552 - val_loss: 0.0534 - val_mean_absolute_error: 0.0534 - 117ms/epoch - 117ms/step\n",
            "Epoch 46/1000\n",
            "1/1 - 0s - loss: 0.0545 - mean_absolute_error: 0.0545 - val_loss: 0.0539 - val_mean_absolute_error: 0.0539 - 111ms/epoch - 111ms/step\n",
            "Epoch 47/1000\n",
            "1/1 - 0s - loss: 0.0541 - mean_absolute_error: 0.0541 - val_loss: 0.0561 - val_mean_absolute_error: 0.0561 - 113ms/epoch - 113ms/step\n",
            "Epoch 48/1000\n",
            "1/1 - 0s - loss: 0.0536 - mean_absolute_error: 0.0536 - val_loss: 0.0581 - val_mean_absolute_error: 0.0581 - 112ms/epoch - 112ms/step\n",
            "Epoch 49/1000\n",
            "1/1 - 0s - loss: 0.0549 - mean_absolute_error: 0.0549 - val_loss: 0.0584 - val_mean_absolute_error: 0.0584 - 109ms/epoch - 109ms/step\n",
            "Epoch 50/1000\n",
            "1/1 - 0s - loss: 0.0541 - mean_absolute_error: 0.0541 - val_loss: 0.0568 - val_mean_absolute_error: 0.0568 - 113ms/epoch - 113ms/step\n",
            "Epoch 51/1000\n",
            "1/1 - 0s - loss: 0.0538 - mean_absolute_error: 0.0538 - val_loss: 0.0545 - val_mean_absolute_error: 0.0545 - 111ms/epoch - 111ms/step\n",
            "Epoch 52/1000\n",
            "1/1 - 0s - loss: 0.0530 - mean_absolute_error: 0.0530 - val_loss: 0.0534 - val_mean_absolute_error: 0.0534 - 113ms/epoch - 113ms/step\n",
            "Epoch 53/1000\n",
            "1/1 - 0s - loss: 0.0535 - mean_absolute_error: 0.0535 - val_loss: 0.0533 - val_mean_absolute_error: 0.0533 - 114ms/epoch - 114ms/step\n",
            "Epoch 54/1000\n",
            "1/1 - 0s - loss: 0.0539 - mean_absolute_error: 0.0539 - val_loss: 0.0538 - val_mean_absolute_error: 0.0538 - 111ms/epoch - 111ms/step\n",
            "Epoch 55/1000\n",
            "1/1 - 0s - loss: 0.0523 - mean_absolute_error: 0.0523 - val_loss: 0.0557 - val_mean_absolute_error: 0.0557 - 115ms/epoch - 115ms/step\n",
            "Epoch 56/1000\n",
            "1/1 - 0s - loss: 0.0526 - mean_absolute_error: 0.0526 - val_loss: 0.0579 - val_mean_absolute_error: 0.0579 - 110ms/epoch - 110ms/step\n",
            "Epoch 57/1000\n",
            "1/1 - 0s - loss: 0.0524 - mean_absolute_error: 0.0524 - val_loss: 0.0581 - val_mean_absolute_error: 0.0581 - 110ms/epoch - 110ms/step\n",
            "Epoch 58/1000\n",
            "1/1 - 0s - loss: 0.0541 - mean_absolute_error: 0.0541 - val_loss: 0.0567 - val_mean_absolute_error: 0.0567 - 110ms/epoch - 110ms/step\n",
            "Epoch 59/1000\n",
            "1/1 - 0s - loss: 0.0527 - mean_absolute_error: 0.0527 - val_loss: 0.0542 - val_mean_absolute_error: 0.0542 - 113ms/epoch - 113ms/step\n",
            "Epoch 60/1000\n",
            "1/1 - 0s - loss: 0.0551 - mean_absolute_error: 0.0551 - val_loss: 0.0537 - val_mean_absolute_error: 0.0537 - 115ms/epoch - 115ms/step\n",
            "Epoch 61/1000\n",
            "1/1 - 0s - loss: 0.0545 - mean_absolute_error: 0.0545 - val_loss: 0.0537 - val_mean_absolute_error: 0.0537 - 113ms/epoch - 113ms/step\n",
            "Epoch 62/1000\n",
            "1/1 - 0s - loss: 0.0535 - mean_absolute_error: 0.0535 - val_loss: 0.0544 - val_mean_absolute_error: 0.0544 - 118ms/epoch - 118ms/step\n",
            "Epoch 63/1000\n",
            "1/1 - 0s - loss: 0.0517 - mean_absolute_error: 0.0517 - val_loss: 0.0560 - val_mean_absolute_error: 0.0560 - 110ms/epoch - 110ms/step\n",
            "Epoch 64/1000\n",
            "1/1 - 0s - loss: 0.0532 - mean_absolute_error: 0.0532 - val_loss: 0.0572 - val_mean_absolute_error: 0.0572 - 109ms/epoch - 109ms/step\n",
            "Epoch 65/1000\n",
            "1/1 - 0s - loss: 0.0529 - mean_absolute_error: 0.0529 - val_loss: 0.0568 - val_mean_absolute_error: 0.0568 - 113ms/epoch - 113ms/step\n",
            "Epoch 66/1000\n",
            "1/1 - 0s - loss: 0.0519 - mean_absolute_error: 0.0519 - val_loss: 0.0551 - val_mean_absolute_error: 0.0551 - 113ms/epoch - 113ms/step\n",
            "Epoch 67/1000\n",
            "1/1 - 0s - loss: 0.0511 - mean_absolute_error: 0.0511 - val_loss: 0.0539 - val_mean_absolute_error: 0.0539 - 110ms/epoch - 110ms/step\n",
            "Epoch 68/1000\n",
            "1/1 - 0s - loss: 0.0526 - mean_absolute_error: 0.0526 - val_loss: 0.0537 - val_mean_absolute_error: 0.0537 - 110ms/epoch - 110ms/step\n",
            "Epoch 69/1000\n",
            "1/1 - 0s - loss: 0.0541 - mean_absolute_error: 0.0541 - val_loss: 0.0542 - val_mean_absolute_error: 0.0542 - 113ms/epoch - 113ms/step\n",
            "Epoch 70/1000\n",
            "1/1 - 0s - loss: 0.0524 - mean_absolute_error: 0.0524 - val_loss: 0.0561 - val_mean_absolute_error: 0.0561 - 116ms/epoch - 116ms/step\n",
            "Epoch 71/1000\n",
            "1/1 - 0s - loss: 0.0525 - mean_absolute_error: 0.0525 - val_loss: 0.0571 - val_mean_absolute_error: 0.0571 - 118ms/epoch - 118ms/step\n",
            "Epoch 72/1000\n",
            "1/1 - 0s - loss: 0.0517 - mean_absolute_error: 0.0517 - val_loss: 0.0555 - val_mean_absolute_error: 0.0555 - 111ms/epoch - 111ms/step\n",
            "Epoch 73/1000\n",
            "1/1 - 0s - loss: 0.0527 - mean_absolute_error: 0.0527 - val_loss: 0.0542 - val_mean_absolute_error: 0.0542 - 107ms/epoch - 107ms/step\n",
            "Epoch 74/1000\n",
            "1/1 - 0s - loss: 0.0523 - mean_absolute_error: 0.0523 - val_loss: 0.0541 - val_mean_absolute_error: 0.0541 - 112ms/epoch - 112ms/step\n",
            "Epoch 75/1000\n",
            "1/1 - 0s - loss: 0.0509 - mean_absolute_error: 0.0509 - val_loss: 0.0549 - val_mean_absolute_error: 0.0549 - 110ms/epoch - 110ms/step\n",
            "Epoch 76/1000\n",
            "1/1 - 0s - loss: 0.0524 - mean_absolute_error: 0.0524 - val_loss: 0.0556 - val_mean_absolute_error: 0.0556 - 110ms/epoch - 110ms/step\n",
            "Epoch 77/1000\n",
            "1/1 - 0s - loss: 0.0525 - mean_absolute_error: 0.0525 - val_loss: 0.0547 - val_mean_absolute_error: 0.0547 - 114ms/epoch - 114ms/step\n",
            "Epoch 78/1000\n",
            "1/1 - 0s - loss: 0.0517 - mean_absolute_error: 0.0517 - val_loss: 0.0538 - val_mean_absolute_error: 0.0538 - 109ms/epoch - 109ms/step\n",
            "Epoch 79/1000\n",
            "1/1 - 0s - loss: 0.0533 - mean_absolute_error: 0.0533 - val_loss: 0.0535 - val_mean_absolute_error: 0.0535 - 108ms/epoch - 108ms/step\n",
            "Epoch 80/1000\n",
            "1/1 - 0s - loss: 0.0503 - mean_absolute_error: 0.0503 - val_loss: 0.0534 - val_mean_absolute_error: 0.0534 - 111ms/epoch - 111ms/step\n",
            "Epoch 81/1000\n",
            "1/1 - 0s - loss: 0.0517 - mean_absolute_error: 0.0517 - val_loss: 0.0539 - val_mean_absolute_error: 0.0539 - 114ms/epoch - 114ms/step\n",
            "Epoch 82/1000\n",
            "1/1 - 0s - loss: 0.0495 - mean_absolute_error: 0.0495 - val_loss: 0.0539 - val_mean_absolute_error: 0.0539 - 110ms/epoch - 110ms/step\n",
            "Epoch 83/1000\n",
            "1/1 - 0s - loss: 0.0518 - mean_absolute_error: 0.0518 - val_loss: 0.0536 - val_mean_absolute_error: 0.0536 - 110ms/epoch - 110ms/step\n",
            "Epoch 84/1000\n",
            "1/1 - 0s - loss: 0.0520 - mean_absolute_error: 0.0520 - val_loss: 0.0536 - val_mean_absolute_error: 0.0536 - 109ms/epoch - 109ms/step\n",
            "Epoch 85/1000\n",
            "1/1 - 0s - loss: 0.0506 - mean_absolute_error: 0.0506 - val_loss: 0.0538 - val_mean_absolute_error: 0.0538 - 115ms/epoch - 115ms/step\n",
            "Epoch 86/1000\n",
            "1/1 - 0s - loss: 0.0509 - mean_absolute_error: 0.0509 - val_loss: 0.0537 - val_mean_absolute_error: 0.0537 - 114ms/epoch - 114ms/step\n",
            "Epoch 87/1000\n",
            "1/1 - 0s - loss: 0.0497 - mean_absolute_error: 0.0497 - val_loss: 0.0537 - val_mean_absolute_error: 0.0537 - 109ms/epoch - 109ms/step\n",
            "Epoch 88/1000\n",
            "1/1 - 0s - loss: 0.0510 - mean_absolute_error: 0.0510 - val_loss: 0.0536 - val_mean_absolute_error: 0.0536 - 112ms/epoch - 112ms/step\n",
            "Epoch 89/1000\n",
            "1/1 - 0s - loss: 0.0518 - mean_absolute_error: 0.0518 - val_loss: 0.0535 - val_mean_absolute_error: 0.0535 - 111ms/epoch - 111ms/step\n",
            "Epoch 90/1000\n",
            "1/1 - 0s - loss: 0.0502 - mean_absolute_error: 0.0502 - val_loss: 0.0535 - val_mean_absolute_error: 0.0535 - 120ms/epoch - 120ms/step\n",
            "Epoch 91/1000\n",
            "1/1 - 0s - loss: 0.0508 - mean_absolute_error: 0.0508 - val_loss: 0.0538 - val_mean_absolute_error: 0.0538 - 114ms/epoch - 114ms/step\n",
            "Epoch 92/1000\n",
            "1/1 - 0s - loss: 0.0487 - mean_absolute_error: 0.0487 - val_loss: 0.0536 - val_mean_absolute_error: 0.0536 - 112ms/epoch - 112ms/step\n",
            "Epoch 93/1000\n",
            "1/1 - 0s - loss: 0.0500 - mean_absolute_error: 0.0500 - val_loss: 0.0536 - val_mean_absolute_error: 0.0536 - 112ms/epoch - 112ms/step\n",
            "Epoch 94/1000\n",
            "1/1 - 0s - loss: 0.0494 - mean_absolute_error: 0.0494 - val_loss: 0.0537 - val_mean_absolute_error: 0.0537 - 109ms/epoch - 109ms/step\n",
            "Epoch 95/1000\n",
            "1/1 - 0s - loss: 0.0484 - mean_absolute_error: 0.0484 - val_loss: 0.0544 - val_mean_absolute_error: 0.0544 - 120ms/epoch - 120ms/step\n",
            "Epoch 96/1000\n",
            "1/1 - 0s - loss: 0.0503 - mean_absolute_error: 0.0503 - val_loss: 0.0557 - val_mean_absolute_error: 0.0557 - 112ms/epoch - 112ms/step\n",
            "Epoch 97/1000\n",
            "1/1 - 0s - loss: 0.0491 - mean_absolute_error: 0.0491 - val_loss: 0.0543 - val_mean_absolute_error: 0.0543 - 112ms/epoch - 112ms/step\n",
            "Epoch 98/1000\n",
            "1/1 - 0s - loss: 0.0492 - mean_absolute_error: 0.0492 - val_loss: 0.0544 - val_mean_absolute_error: 0.0544 - 112ms/epoch - 112ms/step\n",
            "Epoch 99/1000\n",
            "1/1 - 0s - loss: 0.0491 - mean_absolute_error: 0.0491 - val_loss: 0.0553 - val_mean_absolute_error: 0.0553 - 111ms/epoch - 111ms/step\n",
            "Epoch 100/1000\n",
            "1/1 - 0s - loss: 0.0481 - mean_absolute_error: 0.0481 - val_loss: 0.0564 - val_mean_absolute_error: 0.0564 - 109ms/epoch - 109ms/step\n",
            "Epoch 101/1000\n",
            "1/1 - 0s - loss: 0.0473 - mean_absolute_error: 0.0473 - val_loss: 0.0564 - val_mean_absolute_error: 0.0564 - 111ms/epoch - 111ms/step\n",
            "Epoch 102/1000\n",
            "1/1 - 0s - loss: 0.0484 - mean_absolute_error: 0.0484 - val_loss: 0.0561 - val_mean_absolute_error: 0.0561 - 115ms/epoch - 115ms/step\n",
            "Epoch 103/1000\n",
            "1/1 - 0s - loss: 0.0498 - mean_absolute_error: 0.0498 - val_loss: 0.0598 - val_mean_absolute_error: 0.0598 - 112ms/epoch - 112ms/step\n",
            "Epoch 104/1000\n",
            "1/1 - 0s - loss: 0.0492 - mean_absolute_error: 0.0492 - val_loss: 0.0562 - val_mean_absolute_error: 0.0562 - 111ms/epoch - 111ms/step\n",
            "Epoch 105/1000\n",
            "1/1 - 0s - loss: 0.0474 - mean_absolute_error: 0.0474 - val_loss: 0.0551 - val_mean_absolute_error: 0.0551 - 116ms/epoch - 116ms/step\n",
            "Epoch 106/1000\n",
            "1/1 - 0s - loss: 0.0466 - mean_absolute_error: 0.0466 - val_loss: 0.0628 - val_mean_absolute_error: 0.0628 - 109ms/epoch - 109ms/step\n",
            "Epoch 107/1000\n",
            "1/1 - 0s - loss: 0.0470 - mean_absolute_error: 0.0470 - val_loss: 0.0563 - val_mean_absolute_error: 0.0563 - 116ms/epoch - 116ms/step\n",
            "Epoch 108/1000\n",
            "1/1 - 0s - loss: 0.0466 - mean_absolute_error: 0.0466 - val_loss: 0.0567 - val_mean_absolute_error: 0.0567 - 112ms/epoch - 112ms/step\n",
            "Epoch 109/1000\n",
            "1/1 - 0s - loss: 0.0474 - mean_absolute_error: 0.0474 - val_loss: 0.0597 - val_mean_absolute_error: 0.0597 - 115ms/epoch - 115ms/step\n",
            "Epoch 110/1000\n",
            "1/1 - 0s - loss: 0.0458 - mean_absolute_error: 0.0458 - val_loss: 0.0698 - val_mean_absolute_error: 0.0698 - 111ms/epoch - 111ms/step\n",
            "Epoch 111/1000\n",
            "1/1 - 0s - loss: 0.0476 - mean_absolute_error: 0.0476 - val_loss: 0.0558 - val_mean_absolute_error: 0.0558 - 109ms/epoch - 109ms/step\n",
            "Epoch 112/1000\n",
            "1/1 - 0s - loss: 0.0479 - mean_absolute_error: 0.0479 - val_loss: 0.0655 - val_mean_absolute_error: 0.0655 - 112ms/epoch - 112ms/step\n",
            "Epoch 113/1000\n",
            "1/1 - 0s - loss: 0.0424 - mean_absolute_error: 0.0424 - val_loss: 0.0680 - val_mean_absolute_error: 0.0680 - 119ms/epoch - 119ms/step\n",
            "Epoch 114/1000\n",
            "1/1 - 0s - loss: 0.0467 - mean_absolute_error: 0.0467 - val_loss: 0.0545 - val_mean_absolute_error: 0.0545 - 111ms/epoch - 111ms/step\n",
            "Epoch 115/1000\n",
            "1/1 - 0s - loss: 0.0498 - mean_absolute_error: 0.0498 - val_loss: 0.0632 - val_mean_absolute_error: 0.0632 - 113ms/epoch - 113ms/step\n",
            "Epoch 116/1000\n",
            "1/1 - 0s - loss: 0.0437 - mean_absolute_error: 0.0437 - val_loss: 0.0681 - val_mean_absolute_error: 0.0681 - 111ms/epoch - 111ms/step\n",
            "Epoch 117/1000\n",
            "1/1 - 0s - loss: 0.0458 - mean_absolute_error: 0.0458 - val_loss: 0.0549 - val_mean_absolute_error: 0.0549 - 117ms/epoch - 117ms/step\n",
            "Epoch 118/1000\n",
            "1/1 - 0s - loss: 0.0450 - mean_absolute_error: 0.0450 - val_loss: 0.0543 - val_mean_absolute_error: 0.0543 - 110ms/epoch - 110ms/step\n",
            "Epoch 119/1000\n",
            "1/1 - 0s - loss: 0.0453 - mean_absolute_error: 0.0453 - val_loss: 0.0675 - val_mean_absolute_error: 0.0675 - 111ms/epoch - 111ms/step\n",
            "Epoch 120/1000\n",
            "1/1 - 0s - loss: 0.0441 - mean_absolute_error: 0.0441 - val_loss: 0.0597 - val_mean_absolute_error: 0.0597 - 113ms/epoch - 113ms/step\n",
            "Epoch 121/1000\n",
            "1/1 - 0s - loss: 0.0401 - mean_absolute_error: 0.0401 - val_loss: 0.0548 - val_mean_absolute_error: 0.0548 - 113ms/epoch - 113ms/step\n",
            "Epoch 122/1000\n",
            "1/1 - 0s - loss: 0.0378 - mean_absolute_error: 0.0378 - val_loss: 0.0569 - val_mean_absolute_error: 0.0569 - 118ms/epoch - 118ms/step\n",
            "Epoch 123/1000\n",
            "1/1 - 0s - loss: 0.0433 - mean_absolute_error: 0.0433 - val_loss: 0.0593 - val_mean_absolute_error: 0.0593 - 111ms/epoch - 111ms/step\n",
            "Epoch 124/1000\n",
            "1/1 - 0s - loss: 0.0393 - mean_absolute_error: 0.0393 - val_loss: 0.0528 - val_mean_absolute_error: 0.0528 - 111ms/epoch - 111ms/step\n",
            "Epoch 125/1000\n",
            "1/1 - 0s - loss: 0.0398 - mean_absolute_error: 0.0398 - val_loss: 0.0533 - val_mean_absolute_error: 0.0533 - 115ms/epoch - 115ms/step\n",
            "Epoch 126/1000\n",
            "1/1 - 0s - loss: 0.0384 - mean_absolute_error: 0.0384 - val_loss: 0.0574 - val_mean_absolute_error: 0.0574 - 113ms/epoch - 113ms/step\n",
            "Epoch 127/1000\n",
            "1/1 - 0s - loss: 0.0385 - mean_absolute_error: 0.0385 - val_loss: 0.0534 - val_mean_absolute_error: 0.0534 - 114ms/epoch - 114ms/step\n",
            "Epoch 128/1000\n",
            "1/1 - 0s - loss: 0.0381 - mean_absolute_error: 0.0381 - val_loss: 0.0515 - val_mean_absolute_error: 0.0515 - 120ms/epoch - 120ms/step\n",
            "Epoch 129/1000\n",
            "1/1 - 0s - loss: 0.0373 - mean_absolute_error: 0.0373 - val_loss: 0.0574 - val_mean_absolute_error: 0.0574 - 113ms/epoch - 113ms/step\n",
            "Epoch 130/1000\n",
            "1/1 - 0s - loss: 0.0393 - mean_absolute_error: 0.0393 - val_loss: 0.0550 - val_mean_absolute_error: 0.0550 - 114ms/epoch - 114ms/step\n",
            "Epoch 131/1000\n",
            "1/1 - 0s - loss: 0.0393 - mean_absolute_error: 0.0393 - val_loss: 0.0616 - val_mean_absolute_error: 0.0616 - 117ms/epoch - 117ms/step\n",
            "Epoch 132/1000\n",
            "1/1 - 0s - loss: 0.0367 - mean_absolute_error: 0.0367 - val_loss: 0.0602 - val_mean_absolute_error: 0.0602 - 113ms/epoch - 113ms/step\n",
            "Epoch 133/1000\n",
            "1/1 - 0s - loss: 0.0346 - mean_absolute_error: 0.0346 - val_loss: 0.0523 - val_mean_absolute_error: 0.0523 - 111ms/epoch - 111ms/step\n",
            "Epoch 134/1000\n",
            "1/1 - 0s - loss: 0.0427 - mean_absolute_error: 0.0427 - val_loss: 0.0606 - val_mean_absolute_error: 0.0606 - 111ms/epoch - 111ms/step\n",
            "Epoch 135/1000\n",
            "1/1 - 0s - loss: 0.0341 - mean_absolute_error: 0.0341 - val_loss: 0.0657 - val_mean_absolute_error: 0.0657 - 113ms/epoch - 113ms/step\n",
            "Epoch 136/1000\n",
            "1/1 - 0s - loss: 0.0382 - mean_absolute_error: 0.0382 - val_loss: 0.0566 - val_mean_absolute_error: 0.0566 - 113ms/epoch - 113ms/step\n",
            "Epoch 137/1000\n",
            "1/1 - 0s - loss: 0.0461 - mean_absolute_error: 0.0461 - val_loss: 0.0560 - val_mean_absolute_error: 0.0560 - 113ms/epoch - 113ms/step\n",
            "Epoch 138/1000\n",
            "1/1 - 0s - loss: 0.0412 - mean_absolute_error: 0.0412 - val_loss: 0.0541 - val_mean_absolute_error: 0.0541 - 110ms/epoch - 110ms/step\n",
            "Epoch 139/1000\n",
            "1/1 - 0s - loss: 0.0361 - mean_absolute_error: 0.0361 - val_loss: 0.0650 - val_mean_absolute_error: 0.0650 - 114ms/epoch - 114ms/step\n",
            "Epoch 140/1000\n",
            "1/1 - 0s - loss: 0.0444 - mean_absolute_error: 0.0444 - val_loss: 0.0531 - val_mean_absolute_error: 0.0531 - 114ms/epoch - 114ms/step\n",
            "Epoch 141/1000\n",
            "1/1 - 0s - loss: 0.0400 - mean_absolute_error: 0.0400 - val_loss: 0.0496 - val_mean_absolute_error: 0.0496 - 117ms/epoch - 117ms/step\n",
            "Epoch 142/1000\n",
            "1/1 - 0s - loss: 0.0428 - mean_absolute_error: 0.0428 - val_loss: 0.0554 - val_mean_absolute_error: 0.0554 - 117ms/epoch - 117ms/step\n",
            "Epoch 143/1000\n",
            "1/1 - 0s - loss: 0.0389 - mean_absolute_error: 0.0389 - val_loss: 0.0600 - val_mean_absolute_error: 0.0600 - 115ms/epoch - 115ms/step\n",
            "Epoch 144/1000\n",
            "1/1 - 0s - loss: 0.0433 - mean_absolute_error: 0.0433 - val_loss: 0.0524 - val_mean_absolute_error: 0.0524 - 114ms/epoch - 114ms/step\n",
            "Epoch 145/1000\n",
            "1/1 - 0s - loss: 0.0354 - mean_absolute_error: 0.0354 - val_loss: 0.0510 - val_mean_absolute_error: 0.0510 - 117ms/epoch - 117ms/step\n",
            "Epoch 146/1000\n",
            "1/1 - 0s - loss: 0.0395 - mean_absolute_error: 0.0395 - val_loss: 0.0587 - val_mean_absolute_error: 0.0587 - 112ms/epoch - 112ms/step\n",
            "Epoch 147/1000\n",
            "1/1 - 0s - loss: 0.0399 - mean_absolute_error: 0.0399 - val_loss: 0.0552 - val_mean_absolute_error: 0.0552 - 114ms/epoch - 114ms/step\n",
            "Epoch 148/1000\n",
            "1/1 - 0s - loss: 0.0358 - mean_absolute_error: 0.0358 - val_loss: 0.0507 - val_mean_absolute_error: 0.0507 - 115ms/epoch - 115ms/step\n",
            "Epoch 149/1000\n",
            "1/1 - 0s - loss: 0.0365 - mean_absolute_error: 0.0365 - val_loss: 0.0509 - val_mean_absolute_error: 0.0509 - 112ms/epoch - 112ms/step\n",
            "Epoch 150/1000\n",
            "1/1 - 0s - loss: 0.0378 - mean_absolute_error: 0.0378 - val_loss: 0.0549 - val_mean_absolute_error: 0.0549 - 114ms/epoch - 114ms/step\n",
            "Epoch 151/1000\n",
            "1/1 - 0s - loss: 0.0361 - mean_absolute_error: 0.0361 - val_loss: 0.0542 - val_mean_absolute_error: 0.0542 - 116ms/epoch - 116ms/step\n",
            "Epoch 152/1000\n",
            "1/1 - 0s - loss: 0.0336 - mean_absolute_error: 0.0336 - val_loss: 0.0488 - val_mean_absolute_error: 0.0488 - 114ms/epoch - 114ms/step\n",
            "Epoch 153/1000\n",
            "1/1 - 0s - loss: 0.0346 - mean_absolute_error: 0.0346 - val_loss: 0.0493 - val_mean_absolute_error: 0.0493 - 114ms/epoch - 114ms/step\n",
            "Epoch 154/1000\n",
            "1/1 - 0s - loss: 0.0374 - mean_absolute_error: 0.0374 - val_loss: 0.0555 - val_mean_absolute_error: 0.0555 - 116ms/epoch - 116ms/step\n",
            "Epoch 155/1000\n",
            "1/1 - 0s - loss: 0.0355 - mean_absolute_error: 0.0355 - val_loss: 0.0536 - val_mean_absolute_error: 0.0536 - 113ms/epoch - 113ms/step\n",
            "Epoch 156/1000\n",
            "1/1 - 0s - loss: 0.0328 - mean_absolute_error: 0.0328 - val_loss: 0.0491 - val_mean_absolute_error: 0.0491 - 119ms/epoch - 119ms/step\n",
            "Epoch 157/1000\n",
            "1/1 - 0s - loss: 0.0356 - mean_absolute_error: 0.0356 - val_loss: 0.0479 - val_mean_absolute_error: 0.0479 - 114ms/epoch - 114ms/step\n",
            "Epoch 158/1000\n",
            "1/1 - 0s - loss: 0.0365 - mean_absolute_error: 0.0365 - val_loss: 0.0558 - val_mean_absolute_error: 0.0558 - 112ms/epoch - 112ms/step\n",
            "Epoch 159/1000\n",
            "1/1 - 0s - loss: 0.0363 - mean_absolute_error: 0.0363 - val_loss: 0.0563 - val_mean_absolute_error: 0.0563 - 117ms/epoch - 117ms/step\n",
            "Epoch 160/1000\n",
            "1/1 - 0s - loss: 0.0361 - mean_absolute_error: 0.0361 - val_loss: 0.0500 - val_mean_absolute_error: 0.0500 - 114ms/epoch - 114ms/step\n",
            "Epoch 161/1000\n",
            "1/1 - 0s - loss: 0.0337 - mean_absolute_error: 0.0337 - val_loss: 0.0513 - val_mean_absolute_error: 0.0513 - 113ms/epoch - 113ms/step\n",
            "Epoch 162/1000\n",
            "1/1 - 0s - loss: 0.0342 - mean_absolute_error: 0.0342 - val_loss: 0.0562 - val_mean_absolute_error: 0.0562 - 114ms/epoch - 114ms/step\n",
            "Epoch 163/1000\n",
            "1/1 - 0s - loss: 0.0345 - mean_absolute_error: 0.0345 - val_loss: 0.0516 - val_mean_absolute_error: 0.0516 - 112ms/epoch - 112ms/step\n",
            "Epoch 164/1000\n",
            "1/1 - 0s - loss: 0.0330 - mean_absolute_error: 0.0330 - val_loss: 0.0495 - val_mean_absolute_error: 0.0495 - 111ms/epoch - 111ms/step\n",
            "Epoch 165/1000\n",
            "1/1 - 0s - loss: 0.0342 - mean_absolute_error: 0.0342 - val_loss: 0.0522 - val_mean_absolute_error: 0.0522 - 113ms/epoch - 113ms/step\n",
            "Epoch 166/1000\n",
            "1/1 - 0s - loss: 0.0328 - mean_absolute_error: 0.0328 - val_loss: 0.0521 - val_mean_absolute_error: 0.0521 - 113ms/epoch - 113ms/step\n",
            "Epoch 167/1000\n",
            "1/1 - 0s - loss: 0.0331 - mean_absolute_error: 0.0331 - val_loss: 0.0501 - val_mean_absolute_error: 0.0501 - 114ms/epoch - 114ms/step\n",
            "Epoch 168/1000\n",
            "1/1 - 0s - loss: 0.0318 - mean_absolute_error: 0.0318 - val_loss: 0.0510 - val_mean_absolute_error: 0.0510 - 115ms/epoch - 115ms/step\n",
            "Epoch 169/1000\n",
            "1/1 - 0s - loss: 0.0324 - mean_absolute_error: 0.0324 - val_loss: 0.0532 - val_mean_absolute_error: 0.0532 - 113ms/epoch - 113ms/step\n",
            "Epoch 170/1000\n",
            "1/1 - 0s - loss: 0.0328 - mean_absolute_error: 0.0328 - val_loss: 0.0508 - val_mean_absolute_error: 0.0508 - 112ms/epoch - 112ms/step\n",
            "Epoch 171/1000\n",
            "1/1 - 0s - loss: 0.0323 - mean_absolute_error: 0.0323 - val_loss: 0.0498 - val_mean_absolute_error: 0.0498 - 110ms/epoch - 110ms/step\n",
            "Epoch 172/1000\n",
            "1/1 - 0s - loss: 0.0321 - mean_absolute_error: 0.0321 - val_loss: 0.0524 - val_mean_absolute_error: 0.0524 - 112ms/epoch - 112ms/step\n",
            "Epoch 173/1000\n",
            "1/1 - 0s - loss: 0.0326 - mean_absolute_error: 0.0326 - val_loss: 0.0527 - val_mean_absolute_error: 0.0527 - 117ms/epoch - 117ms/step\n",
            "Epoch 174/1000\n",
            "1/1 - 0s - loss: 0.0320 - mean_absolute_error: 0.0320 - val_loss: 0.0506 - val_mean_absolute_error: 0.0506 - 111ms/epoch - 111ms/step\n",
            "Epoch 175/1000\n",
            "1/1 - 0s - loss: 0.0332 - mean_absolute_error: 0.0332 - val_loss: 0.0537 - val_mean_absolute_error: 0.0537 - 114ms/epoch - 114ms/step\n",
            "Epoch 176/1000\n",
            "1/1 - 0s - loss: 0.0352 - mean_absolute_error: 0.0352 - val_loss: 0.0524 - val_mean_absolute_error: 0.0524 - 112ms/epoch - 112ms/step\n",
            "Epoch 177/1000\n",
            "1/1 - 0s - loss: 0.0304 - mean_absolute_error: 0.0304 - val_loss: 0.0508 - val_mean_absolute_error: 0.0508 - 112ms/epoch - 112ms/step\n",
            "Epoch 178/1000\n",
            "1/1 - 0s - loss: 0.0335 - mean_absolute_error: 0.0335 - val_loss: 0.0529 - val_mean_absolute_error: 0.0529 - 112ms/epoch - 112ms/step\n",
            "Epoch 179/1000\n",
            "1/1 - 0s - loss: 0.0310 - mean_absolute_error: 0.0310 - val_loss: 0.0524 - val_mean_absolute_error: 0.0524 - 114ms/epoch - 114ms/step\n",
            "Epoch 180/1000\n",
            "1/1 - 0s - loss: 0.0324 - mean_absolute_error: 0.0324 - val_loss: 0.0500 - val_mean_absolute_error: 0.0500 - 113ms/epoch - 113ms/step\n",
            "Epoch 181/1000\n",
            "1/1 - 0s - loss: 0.0340 - mean_absolute_error: 0.0340 - val_loss: 0.0534 - val_mean_absolute_error: 0.0534 - 114ms/epoch - 114ms/step\n",
            "Epoch 182/1000\n",
            "1/1 - 0s - loss: 0.0329 - mean_absolute_error: 0.0329 - val_loss: 0.0539 - val_mean_absolute_error: 0.0539 - 118ms/epoch - 118ms/step\n",
            "Epoch 183/1000\n",
            "1/1 - 0s - loss: 0.0339 - mean_absolute_error: 0.0339 - val_loss: 0.0519 - val_mean_absolute_error: 0.0519 - 114ms/epoch - 114ms/step\n",
            "Epoch 184/1000\n",
            "1/1 - 0s - loss: 0.0356 - mean_absolute_error: 0.0356 - val_loss: 0.0517 - val_mean_absolute_error: 0.0517 - 113ms/epoch - 113ms/step\n",
            "Epoch 185/1000\n",
            "1/1 - 0s - loss: 0.0318 - mean_absolute_error: 0.0318 - val_loss: 0.0555 - val_mean_absolute_error: 0.0555 - 112ms/epoch - 112ms/step\n",
            "Epoch 186/1000\n",
            "1/1 - 0s - loss: 0.0337 - mean_absolute_error: 0.0337 - val_loss: 0.0521 - val_mean_absolute_error: 0.0521 - 112ms/epoch - 112ms/step\n",
            "Epoch 187/1000\n",
            "1/1 - 0s - loss: 0.0338 - mean_absolute_error: 0.0338 - val_loss: 0.0515 - val_mean_absolute_error: 0.0515 - 112ms/epoch - 112ms/step\n",
            "Epoch 188/1000\n",
            "1/1 - 0s - loss: 0.0329 - mean_absolute_error: 0.0329 - val_loss: 0.0529 - val_mean_absolute_error: 0.0529 - 115ms/epoch - 115ms/step\n",
            "Epoch 189/1000\n",
            "1/1 - 0s - loss: 0.0331 - mean_absolute_error: 0.0331 - val_loss: 0.0514 - val_mean_absolute_error: 0.0514 - 113ms/epoch - 113ms/step\n",
            "Epoch 190/1000\n",
            "1/1 - 0s - loss: 0.0316 - mean_absolute_error: 0.0316 - val_loss: 0.0509 - val_mean_absolute_error: 0.0509 - 120ms/epoch - 120ms/step\n",
            "Epoch 191/1000\n",
            "1/1 - 0s - loss: 0.0320 - mean_absolute_error: 0.0320 - val_loss: 0.0524 - val_mean_absolute_error: 0.0524 - 114ms/epoch - 114ms/step\n",
            "Epoch 192/1000\n",
            "1/1 - 0s - loss: 0.0318 - mean_absolute_error: 0.0318 - val_loss: 0.0513 - val_mean_absolute_error: 0.0513 - 114ms/epoch - 114ms/step\n",
            "Epoch 193/1000\n",
            "1/1 - 0s - loss: 0.0313 - mean_absolute_error: 0.0313 - val_loss: 0.0512 - val_mean_absolute_error: 0.0512 - 111ms/epoch - 111ms/step\n",
            "Epoch 194/1000\n",
            "1/1 - 0s - loss: 0.0320 - mean_absolute_error: 0.0320 - val_loss: 0.0521 - val_mean_absolute_error: 0.0521 - 110ms/epoch - 110ms/step\n",
            "Epoch 195/1000\n",
            "1/1 - 0s - loss: 0.0307 - mean_absolute_error: 0.0307 - val_loss: 0.0529 - val_mean_absolute_error: 0.0529 - 111ms/epoch - 111ms/step\n",
            "Epoch 196/1000\n",
            "1/1 - 0s - loss: 0.0303 - mean_absolute_error: 0.0303 - val_loss: 0.0509 - val_mean_absolute_error: 0.0509 - 114ms/epoch - 114ms/step\n",
            "Epoch 197/1000\n",
            "1/1 - 0s - loss: 0.0300 - mean_absolute_error: 0.0300 - val_loss: 0.0525 - val_mean_absolute_error: 0.0525 - 113ms/epoch - 113ms/step\n",
            "Epoch 198/1000\n",
            "1/1 - 0s - loss: 0.0313 - mean_absolute_error: 0.0313 - val_loss: 0.0528 - val_mean_absolute_error: 0.0528 - 115ms/epoch - 115ms/step\n",
            "Epoch 199/1000\n",
            "1/1 - 0s - loss: 0.0284 - mean_absolute_error: 0.0284 - val_loss: 0.0516 - val_mean_absolute_error: 0.0516 - 190ms/epoch - 190ms/step\n",
            "Epoch 200/1000\n",
            "1/1 - 0s - loss: 0.0313 - mean_absolute_error: 0.0313 - val_loss: 0.0547 - val_mean_absolute_error: 0.0547 - 111ms/epoch - 111ms/step\n",
            "Epoch 201/1000\n",
            "1/1 - 0s - loss: 0.0313 - mean_absolute_error: 0.0313 - val_loss: 0.0532 - val_mean_absolute_error: 0.0532 - 113ms/epoch - 113ms/step\n",
            "Epoch 202/1000\n",
            "1/1 - 0s - loss: 0.0310 - mean_absolute_error: 0.0310 - val_loss: 0.0517 - val_mean_absolute_error: 0.0517 - 114ms/epoch - 114ms/step\n",
            "Epoch 203/1000\n",
            "1/1 - 0s - loss: 0.0298 - mean_absolute_error: 0.0298 - val_loss: 0.0547 - val_mean_absolute_error: 0.0547 - 114ms/epoch - 114ms/step\n",
            "Epoch 204/1000\n",
            "1/1 - 0s - loss: 0.0309 - mean_absolute_error: 0.0309 - val_loss: 0.0538 - val_mean_absolute_error: 0.0538 - 114ms/epoch - 114ms/step\n",
            "Epoch 205/1000\n",
            "1/1 - 0s - loss: 0.0338 - mean_absolute_error: 0.0338 - val_loss: 0.0509 - val_mean_absolute_error: 0.0509 - 112ms/epoch - 112ms/step\n",
            "Epoch 206/1000\n",
            "1/1 - 0s - loss: 0.0310 - mean_absolute_error: 0.0310 - val_loss: 0.0540 - val_mean_absolute_error: 0.0540 - 112ms/epoch - 112ms/step\n",
            "Epoch 207/1000\n",
            "1/1 - 0s - loss: 0.0320 - mean_absolute_error: 0.0320 - val_loss: 0.0535 - val_mean_absolute_error: 0.0535 - 116ms/epoch - 116ms/step\n",
            "Epoch 208/1000\n",
            "1/1 - 0s - loss: 0.0311 - mean_absolute_error: 0.0311 - val_loss: 0.0507 - val_mean_absolute_error: 0.0507 - 111ms/epoch - 111ms/step\n",
            "Epoch 209/1000\n",
            "1/1 - 0s - loss: 0.0310 - mean_absolute_error: 0.0310 - val_loss: 0.0516 - val_mean_absolute_error: 0.0516 - 115ms/epoch - 115ms/step\n",
            "Epoch 210/1000\n",
            "1/1 - 0s - loss: 0.0320 - mean_absolute_error: 0.0320 - val_loss: 0.0570 - val_mean_absolute_error: 0.0570 - 114ms/epoch - 114ms/step\n",
            "Epoch 211/1000\n",
            "1/1 - 0s - loss: 0.0321 - mean_absolute_error: 0.0321 - val_loss: 0.0544 - val_mean_absolute_error: 0.0544 - 114ms/epoch - 114ms/step\n",
            "Epoch 212/1000\n",
            "1/1 - 0s - loss: 0.0327 - mean_absolute_error: 0.0327 - val_loss: 0.0516 - val_mean_absolute_error: 0.0516 - 115ms/epoch - 115ms/step\n",
            "Epoch 213/1000\n",
            "1/1 - 0s - loss: 0.0324 - mean_absolute_error: 0.0324 - val_loss: 0.0536 - val_mean_absolute_error: 0.0536 - 189ms/epoch - 189ms/step\n",
            "Epoch 214/1000\n",
            "1/1 - 0s - loss: 0.0317 - mean_absolute_error: 0.0317 - val_loss: 0.0546 - val_mean_absolute_error: 0.0546 - 111ms/epoch - 111ms/step\n",
            "Epoch 215/1000\n",
            "1/1 - 0s - loss: 0.0324 - mean_absolute_error: 0.0324 - val_loss: 0.0527 - val_mean_absolute_error: 0.0527 - 117ms/epoch - 117ms/step\n",
            "Epoch 216/1000\n",
            "1/1 - 0s - loss: 0.0322 - mean_absolute_error: 0.0322 - val_loss: 0.0514 - val_mean_absolute_error: 0.0514 - 112ms/epoch - 112ms/step\n",
            "Epoch 217/1000\n",
            "1/1 - 0s - loss: 0.0292 - mean_absolute_error: 0.0292 - val_loss: 0.0533 - val_mean_absolute_error: 0.0533 - 116ms/epoch - 116ms/step\n",
            "Epoch 218/1000\n",
            "1/1 - 0s - loss: 0.0311 - mean_absolute_error: 0.0311 - val_loss: 0.0534 - val_mean_absolute_error: 0.0534 - 118ms/epoch - 118ms/step\n",
            "Epoch 219/1000\n",
            "1/1 - 0s - loss: 0.0314 - mean_absolute_error: 0.0314 - val_loss: 0.0506 - val_mean_absolute_error: 0.0506 - 123ms/epoch - 123ms/step\n",
            "Epoch 220/1000\n",
            "1/1 - 0s - loss: 0.0335 - mean_absolute_error: 0.0335 - val_loss: 0.0520 - val_mean_absolute_error: 0.0520 - 125ms/epoch - 125ms/step\n",
            "Epoch 221/1000\n",
            "1/1 - 0s - loss: 0.0297 - mean_absolute_error: 0.0297 - val_loss: 0.0559 - val_mean_absolute_error: 0.0559 - 121ms/epoch - 121ms/step\n",
            "Epoch 222/1000\n",
            "1/1 - 0s - loss: 0.0330 - mean_absolute_error: 0.0330 - val_loss: 0.0507 - val_mean_absolute_error: 0.0507 - 127ms/epoch - 127ms/step\n",
            "Epoch 223/1000\n",
            "1/1 - 0s - loss: 0.0302 - mean_absolute_error: 0.0302 - val_loss: 0.0501 - val_mean_absolute_error: 0.0501 - 120ms/epoch - 120ms/step\n",
            "Epoch 224/1000\n",
            "1/1 - 0s - loss: 0.0333 - mean_absolute_error: 0.0333 - val_loss: 0.0542 - val_mean_absolute_error: 0.0542 - 119ms/epoch - 119ms/step\n",
            "Epoch 225/1000\n",
            "1/1 - 0s - loss: 0.0312 - mean_absolute_error: 0.0312 - val_loss: 0.0546 - val_mean_absolute_error: 0.0546 - 118ms/epoch - 118ms/step\n",
            "Epoch 226/1000\n",
            "1/1 - 0s - loss: 0.0313 - mean_absolute_error: 0.0313 - val_loss: 0.0502 - val_mean_absolute_error: 0.0502 - 121ms/epoch - 121ms/step\n",
            "Epoch 227/1000\n",
            "1/1 - 0s - loss: 0.0294 - mean_absolute_error: 0.0294 - val_loss: 0.0506 - val_mean_absolute_error: 0.0506 - 127ms/epoch - 127ms/step\n",
            "Epoch 228/1000\n",
            "1/1 - 0s - loss: 0.0295 - mean_absolute_error: 0.0295 - val_loss: 0.0542 - val_mean_absolute_error: 0.0542 - 122ms/epoch - 122ms/step\n",
            "Epoch 229/1000\n",
            "1/1 - 0s - loss: 0.0318 - mean_absolute_error: 0.0318 - val_loss: 0.0505 - val_mean_absolute_error: 0.0505 - 121ms/epoch - 121ms/step\n",
            "Epoch 230/1000\n",
            "1/1 - 0s - loss: 0.0305 - mean_absolute_error: 0.0305 - val_loss: 0.0492 - val_mean_absolute_error: 0.0492 - 121ms/epoch - 121ms/step\n",
            "Epoch 231/1000\n",
            "1/1 - 0s - loss: 0.0317 - mean_absolute_error: 0.0317 - val_loss: 0.0524 - val_mean_absolute_error: 0.0524 - 133ms/epoch - 133ms/step\n",
            "Epoch 232/1000\n",
            "1/1 - 0s - loss: 0.0292 - mean_absolute_error: 0.0292 - val_loss: 0.0529 - val_mean_absolute_error: 0.0529 - 132ms/epoch - 132ms/step\n",
            "Epoch 233/1000\n",
            "1/1 - 0s - loss: 0.0300 - mean_absolute_error: 0.0300 - val_loss: 0.0502 - val_mean_absolute_error: 0.0502 - 119ms/epoch - 119ms/step\n",
            "Epoch 234/1000\n",
            "1/1 - 0s - loss: 0.0291 - mean_absolute_error: 0.0291 - val_loss: 0.0515 - val_mean_absolute_error: 0.0515 - 119ms/epoch - 119ms/step\n",
            "Epoch 235/1000\n",
            "1/1 - 0s - loss: 0.0293 - mean_absolute_error: 0.0293 - val_loss: 0.0538 - val_mean_absolute_error: 0.0538 - 125ms/epoch - 125ms/step\n",
            "Epoch 236/1000\n",
            "1/1 - 0s - loss: 0.0291 - mean_absolute_error: 0.0291 - val_loss: 0.0510 - val_mean_absolute_error: 0.0510 - 121ms/epoch - 121ms/step\n",
            "Epoch 237/1000\n",
            "1/1 - 0s - loss: 0.0312 - mean_absolute_error: 0.0312 - val_loss: 0.0512 - val_mean_absolute_error: 0.0512 - 119ms/epoch - 119ms/step\n",
            "Epoch 238/1000\n",
            "1/1 - 0s - loss: 0.0323 - mean_absolute_error: 0.0323 - val_loss: 0.0542 - val_mean_absolute_error: 0.0542 - 130ms/epoch - 130ms/step\n",
            "Epoch 239/1000\n",
            "1/1 - 0s - loss: 0.0320 - mean_absolute_error: 0.0320 - val_loss: 0.0499 - val_mean_absolute_error: 0.0499 - 125ms/epoch - 125ms/step\n",
            "Epoch 240/1000\n",
            "1/1 - 0s - loss: 0.0281 - mean_absolute_error: 0.0281 - val_loss: 0.0490 - val_mean_absolute_error: 0.0490 - 121ms/epoch - 121ms/step\n",
            "Epoch 241/1000\n",
            "1/1 - 0s - loss: 0.0307 - mean_absolute_error: 0.0307 - val_loss: 0.0507 - val_mean_absolute_error: 0.0507 - 122ms/epoch - 122ms/step\n",
            "Epoch 242/1000\n",
            "1/1 - 0s - loss: 0.0310 - mean_absolute_error: 0.0310 - val_loss: 0.0514 - val_mean_absolute_error: 0.0514 - 125ms/epoch - 125ms/step\n",
            "Epoch 243/1000\n",
            "1/1 - 0s - loss: 0.0310 - mean_absolute_error: 0.0310 - val_loss: 0.0502 - val_mean_absolute_error: 0.0502 - 131ms/epoch - 131ms/step\n",
            "Epoch 244/1000\n",
            "1/1 - 0s - loss: 0.0308 - mean_absolute_error: 0.0308 - val_loss: 0.0508 - val_mean_absolute_error: 0.0508 - 119ms/epoch - 119ms/step\n",
            "Epoch 245/1000\n",
            "1/1 - 0s - loss: 0.0292 - mean_absolute_error: 0.0292 - val_loss: 0.0527 - val_mean_absolute_error: 0.0527 - 129ms/epoch - 129ms/step\n",
            "Epoch 246/1000\n",
            "1/1 - 0s - loss: 0.0303 - mean_absolute_error: 0.0303 - val_loss: 0.0509 - val_mean_absolute_error: 0.0509 - 126ms/epoch - 126ms/step\n",
            "Epoch 247/1000\n",
            "1/1 - 0s - loss: 0.0285 - mean_absolute_error: 0.0285 - val_loss: 0.0514 - val_mean_absolute_error: 0.0514 - 116ms/epoch - 116ms/step\n",
            "Epoch 248/1000\n",
            "1/1 - 0s - loss: 0.0318 - mean_absolute_error: 0.0318 - val_loss: 0.0539 - val_mean_absolute_error: 0.0539 - 117ms/epoch - 117ms/step\n",
            "Epoch 249/1000\n",
            "1/1 - 0s - loss: 0.0305 - mean_absolute_error: 0.0305 - val_loss: 0.0528 - val_mean_absolute_error: 0.0528 - 118ms/epoch - 118ms/step\n",
            "Epoch 250/1000\n",
            "1/1 - 0s - loss: 0.0264 - mean_absolute_error: 0.0264 - val_loss: 0.0517 - val_mean_absolute_error: 0.0517 - 110ms/epoch - 110ms/step\n",
            "Epoch 251/1000\n",
            "1/1 - 0s - loss: 0.0322 - mean_absolute_error: 0.0322 - val_loss: 0.0521 - val_mean_absolute_error: 0.0521 - 111ms/epoch - 111ms/step\n",
            "Epoch 252/1000\n",
            "1/1 - 0s - loss: 0.0321 - mean_absolute_error: 0.0321 - val_loss: 0.0565 - val_mean_absolute_error: 0.0565 - 116ms/epoch - 116ms/step\n",
            "Epoch 253/1000\n",
            "1/1 - 0s - loss: 0.0337 - mean_absolute_error: 0.0337 - val_loss: 0.0521 - val_mean_absolute_error: 0.0521 - 116ms/epoch - 116ms/step\n",
            "Epoch 254/1000\n",
            "1/1 - 0s - loss: 0.0314 - mean_absolute_error: 0.0314 - val_loss: 0.0497 - val_mean_absolute_error: 0.0497 - 117ms/epoch - 117ms/step\n",
            "Epoch 255/1000\n",
            "1/1 - 0s - loss: 0.0329 - mean_absolute_error: 0.0329 - val_loss: 0.0496 - val_mean_absolute_error: 0.0496 - 119ms/epoch - 119ms/step\n",
            "Epoch 256/1000\n",
            "1/1 - 0s - loss: 0.0319 - mean_absolute_error: 0.0319 - val_loss: 0.0565 - val_mean_absolute_error: 0.0565 - 115ms/epoch - 115ms/step\n",
            "Epoch 257/1000\n",
            "Restoring model weights from the end of the best epoch: 157.\n",
            "1/1 - 0s - loss: 0.0324 - mean_absolute_error: 0.0324 - val_loss: 0.0537 - val_mean_absolute_error: 0.0537 - 118ms/epoch - 118ms/step\n",
            "Epoch 257: early stopping\n"
          ]
        }
      ],
      "source": [
        "# Training the Main Model\n",
        "history = model.fit(X_train, y_train, validation_data=(X_test, y_test), epochs =epochs ,callbacks=callbacks_list, batch_size=len(X_train), verbose = 2, shuffle = True)"
      ]
    },
    {
      "cell_type": "code",
      "execution_count": null,
      "metadata": {
        "colab": {
          "base_uri": "https://localhost:8080/",
          "height": 265
        },
        "id": "WE5GRJL2hwPS",
        "outputId": "06f33fe2-f1f9-4771-9881-1987b3e9f29f"
      },
      "outputs": [
        {
          "output_type": "display_data",
          "data": {
            "text/plain": [
              "<Figure size 432x288 with 1 Axes>"
            ],
            "image/png": "[encoded data removed]"
          },
          "metadata": {
            "needs_background": "light"
          }
        }
      ],
      "source": [
        "# Loss Curve\n",
        "import matplotlib.pyplot as plt\n",
        "from matplotlib import pyplot\n",
        "pyplot.plot(history.history['loss'][:], label='train')\n",
        "pyplot.plot(history.history['val_loss'][:], label='test')\n",
        "pyplot.legend()\n",
        "pyplot.show()"
      ]
    },
    {
      "cell_type": "code",
      "execution_count": null,
      "metadata": {
        "colab": {
          "base_uri": "https://localhost:8080/"
        },
        "id": "1spiBSH7hxFf",
        "outputId": "41fd7025-ab5c-417b-ddfb-3814cf4c18ba"
      },
      "outputs": [
        {
          "output_type": "stream",
          "name": "stdout",
          "text": [
            "58/58 [==============================] - 1s 6ms/step\n",
            "12/12 [==============================] - 0s 6ms/step\n"
          ]
        }
      ],
      "source": [
        "# prediction\n",
        "yhat_test = model.predict(X_test)\n",
        "yhat_train = model.predict(X_train)"
      ]
    },
    {
      "cell_type": "code",
      "execution_count": null,
      "metadata": {
        "id": "XrqgMWFTnMY3"
      },
      "outputs": [],
      "source": [
        "# Defining The Nash-Sutcliffe Function\n",
        "def nse(predictions, targets):\n",
        "    return (1-(np.sum((predictions-targets)**2)/np.sum((targets-np.mean(targets))**2)))"
      ]
    },
    {
      "cell_type": "code",
      "execution_count": null,
      "metadata": {
        "colab": {
          "base_uri": "https://localhost:8080/"
        },
        "id": "DCbYI4U92Rn4",
        "outputId": "1a2ba862-5412-46c8-e30e-41b9dc6d7782"
      },
      "outputs": [
        {
          "output_type": "stream",
          "name": "stdout",
          "text": [
            "train 0.5106970160606346\n",
            "test 0.22574213989595815\n"
          ]
        }
      ],
      "source": [
        "# Evaluating the residual error using Nash-Sutcliffe and denormalization\n",
        "inv_yhat_train = inv_yhat(yhat_train)\n",
        "inv_yhat_test = inv_yhat(yhat_test)\n",
        "inv_y_train = inv_y(y_train)\n",
        "inv_y_test = inv_y(y_test)\n",
        "print(\"train\",nse(np.array(inv_yhat_train),np.array(inv_y_train)))\n",
        "print(\"test\",nse(np.array(inv_yhat_test),np.array(inv_y_test)))"
      ]
    },
    {
      "cell_type": "code",
      "execution_count": null,
      "metadata": {
        "id": "IcnocrJT3XnT"
      },
      "outputs": [],
      "source": [
        "# Adding Simulated residual error in the data frame\n",
        "df= pd.read_csv(\"/content/drive/MyDrive/Data/OneYearResidualErrorModelling.csv\",index_col=0)\n",
        "df=df[365:].reset_index(drop=True)\n",
        "df.loc[:,\"SimulatedResidualError\"]=df.loc[:,\"Residual Error\"]\n",
        "df.loc[365:,\"SimulatedResidualError\"]=inv_yhat_train+inv_yhat_test"
      ]
    },
    {
      "cell_type": "code",
      "execution_count": null,
      "metadata": {
        "colab": {
          "base_uri": "https://localhost:8080/",
          "height": 283
        },
        "id": "fPeJUGPTK_ZG",
        "outputId": "dc0e7648-3beb-4613-ff20-06abaa521e02"
      },
      "outputs": [
        {
          "output_type": "execute_result",
          "data": {
            "text/plain": [
              "[<matplotlib.lines.Line2D at 0x7f600c34ca30>]"
            ]
          },
          "metadata": {},
          "execution_count": 309
        },
        {
          "output_type": "display_data",
          "data": {
            "text/plain": [
              "<Figure size 432x288 with 1 Axes>"
            ],
            "image/png": "[encoded data removed]"
          },
          "metadata": {
            "needs_background": "light"
          }
        }
      ],
      "source": [
        "# Training PLot\n",
        "import matplotlib.pyplot as plt\n",
        "plt.plot(inv_y_train[:])\n",
        "plt.plot(inv_yhat_train[:])"
      ]
    },
    {
      "cell_type": "code",
      "execution_count": null,
      "metadata": {
        "colab": {
          "base_uri": "https://localhost:8080/",
          "height": 283
        },
        "id": "bjDRZrgkNFF5",
        "outputId": "fc59a2cd-307c-43f9-8eb1-6ec25f3a45ec"
      },
      "outputs": [
        {
          "output_type": "execute_result",
          "data": {
            "text/plain": [
              "[<matplotlib.lines.Line2D at 0x7f600c3097c0>]"
            ]
          },
          "metadata": {},
          "execution_count": 310
        },
        {
          "output_type": "display_data",
          "data": {
            "text/plain": [
              "<Figure size 432x288 with 1 Axes>"
            ],
            "image/png": "[encoded data removed]"
          },
          "metadata": {
            "needs_background": "light"
          }
        }
      ],
      "source": [
        "# Testing PLot\n",
        "import matplotlib.pyplot as plt\n",
        "plt.plot(inv_y_test[:])\n",
        "plt.plot(inv_yhat_test[:])"
      ]
    },
    {
      "cell_type": "code",
      "execution_count": null,
      "metadata": {
        "id": "K8cY7hpYDw2c"
      },
      "outputs": [],
      "source": []
    }
  ],
  "metadata": {
    "accelerator": "GPU",
    "colab": {
      "provenance": [],
      "mount_file_id": "15uk_9I-D7ZhalTpMTX6HQS85hlmBgqiX",
      "authorship_tag": "ABX9TyPZdCEgyuoBRXbKdCQ+j6Fm",
      "include_colab_link": true
    },
    "gpuClass": "standard",
    "kernelspec": {
      "display_name": "Python 3",
      "name": "python3"
    },
    "language_info": {
      "name": "python"
    }
  },
  "nbformat": 4,
  "nbformat_minor": 0
}